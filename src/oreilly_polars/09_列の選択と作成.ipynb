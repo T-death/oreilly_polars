{
 "cells": [
  {
   "cell_type": "markdown",
   "id": "61eda723-f06f-482c-810a-e68de523160d",
   "metadata": {},
   "source": [
    "# 列の選択と作成"
   ]
  },
  {
   "cell_type": "code",
   "execution_count": 1,
   "id": "40802c66-f74c-4c53-bc9f-5477dffdd33f",
   "metadata": {},
   "outputs": [],
   "source": [
    "from datetime import datetime\n",
    "import os\n",
    "\n",
    "import polars as pl\n",
    "import polars.selectors as cs"
   ]
  },
  {
   "cell_type": "markdown",
   "id": "eec0363c-51ea-4d64-b81d-c41c00a5abc7",
   "metadata": {},
   "source": [
    "## 定数定義"
   ]
  },
  {
   "cell_type": "code",
   "execution_count": 2,
   "id": "7011aaaa-42ea-4754-b7dd-dafb195fe65a",
   "metadata": {},
   "outputs": [],
   "source": [
    "DATA_PAR_PATH = os.path.join('..','..','data')\n",
    "INPUT_CSV_PATH_STARWARS = os.path.join(DATA_PAR_PATH,'starwars.parquet')"
   ]
  },
  {
   "cell_type": "markdown",
   "id": "37bfd588-86cb-4b74-9e28-49b4a1d9e771",
   "metadata": {},
   "source": [
    "## 手始め"
   ]
  },
  {
   "cell_type": "code",
   "execution_count": 3,
   "id": "95dae136-7acd-476c-a358-1fae26975f97",
   "metadata": {},
   "outputs": [],
   "source": [
    "starwars = pl.read_parquet(INPUT_CSV_PATH_STARWARS)"
   ]
  },
  {
   "cell_type": "code",
   "execution_count": 4,
   "id": "880feb3c-eaaf-4dd7-9477-97eada3ded4e",
   "metadata": {},
   "outputs": [
    {
     "name": "stdout",
     "output_type": "stream",
     "text": [
      "shape: (2, 6)\n",
      "┌────────────────┬────────┬──────┬────────────┬────────────┬───────────┐\n",
      "│ name           ┆ height ┆ mass ┆ hair_color ┆ skin_color ┆ eye_color │\n",
      "│ ---            ┆ ---    ┆ ---  ┆ ---        ┆ ---        ┆ ---       │\n",
      "│ str            ┆ u16    ┆ f64  ┆ str        ┆ str        ┆ str       │\n",
      "╞════════════════╪════════╪══════╪════════════╪════════════╪═══════════╡\n",
      "│ Han Solo       ┆ 180    ┆ 80.0 ┆ brown      ┆ fair       ┆ brown     │\n",
      "│ Luke Skywalker ┆ 172    ┆ 77.0 ┆ blond      ┆ fair       ┆ blue      │\n",
      "└────────────────┴────────┴──────┴────────────┴────────────┴───────────┘\n",
      "shape: (2, 5)\n",
      "┌────────────┬──────┬───────────┬───────────┬─────────┐\n",
      "│ birth_year ┆ sex  ┆ gender    ┆ homeworld ┆ species │\n",
      "│ ---        ┆ ---  ┆ ---       ┆ ---       ┆ ---     │\n",
      "│ f64        ┆ cat  ┆ cat       ┆ str       ┆ str     │\n",
      "╞════════════╪══════╪═══════════╪═══════════╪═════════╡\n",
      "│ 29.0       ┆ male ┆ masculine ┆ Corellia  ┆ Human   │\n",
      "│ 19.0       ┆ male ┆ masculine ┆ Tatooine  ┆ Human   │\n",
      "└────────────┴──────┴───────────┴───────────┴─────────┘\n",
      "shape: (2, 4)\n",
      "┌─────────────────────────────────┬─────────────────────────────────┬────────────┬──────────────┐\n",
      "│ vehicles                        ┆ starships                       ┆ birth_date ┆ screen_time  │\n",
      "│ ---                             ┆ ---                             ┆ ---        ┆ ---          │\n",
      "│ list[str]                       ┆ list[str]                       ┆ date       ┆ duration[μs] │\n",
      "╞═════════════════════════════════╪═════════════════════════════════╪════════════╪══════════════╡\n",
      "│ null                            ┆ [\"Millennium Falcon\", \"Imperia… ┆ 1948-06-01 ┆ 1h 12m 37s   │\n",
      "│ [\"Snowspeeder\", \"Imperial Spee… ┆ [\"X-wing\", \"Imperial shuttle\"]  ┆ 1958-05-30 ┆ 1h 58m 44s   │\n",
      "└─────────────────────────────────┴─────────────────────────────────┴────────────┴──────────────┘\n"
     ]
    }
   ],
   "source": [
    "rebels = (\n",
    "    starwars\n",
    "    .drop('films')\n",
    "    .filter(pl.col('name').is_in(['Luke Skywalker', 'Leia Orange', 'Han Solo']))\n",
    ")\n",
    "\n",
    "print(rebels[:, :6])\n",
    "print(rebels[:, 6:11])\n",
    "print(rebels[:, 11:])"
   ]
  },
  {
   "cell_type": "markdown",
   "id": "dac9f6ec-477d-415b-86c1-146615393167",
   "metadata": {
    "jp-MarkdownHeadingCollapsed": true
   },
   "source": [
    "## 列の選択"
   ]
  },
  {
   "cell_type": "markdown",
   "id": "d27da66a-4895-4568-9e2b-adba0cd4abd8",
   "metadata": {
    "jp-MarkdownHeadingCollapsed": true
   },
   "source": [
    "### 文字列型に基づいた選択手法"
   ]
  },
  {
   "cell_type": "code",
   "execution_count": 5,
   "id": "03ec973b-8320-410e-a98d-f5cdb305693e",
   "metadata": {},
   "outputs": [
    {
     "data": {
      "text/html": [
       "<div><style>\n",
       ".dataframe > thead > tr,\n",
       ".dataframe > tbody > tr {\n",
       "  text-align: right;\n",
       "  white-space: pre-wrap;\n",
       "}\n",
       "</style>\n",
       "<small>shape: (2, 6)</small><table border=\"1\" class=\"dataframe\"><thead><tr><th>name</th><th>homeworld</th><th>hair_color</th><th>skin_color</th><th>eye_color</th><th>height_m</th></tr><tr><td>str</td><td>str</td><td>str</td><td>str</td><td>str</td><td>f64</td></tr></thead><tbody><tr><td>&quot;Han Solo&quot;</td><td>&quot;Corellia&quot;</td><td>&quot;brown&quot;</td><td>&quot;fair&quot;</td><td>&quot;brown&quot;</td><td>1.8</td></tr><tr><td>&quot;Luke Skywalker&quot;</td><td>&quot;Tatooine&quot;</td><td>&quot;blond&quot;</td><td>&quot;fair&quot;</td><td>&quot;blue&quot;</td><td>1.72</td></tr></tbody></table></div>"
      ],
      "text/plain": [
       "shape: (2, 6)\n",
       "┌────────────────┬───────────┬────────────┬────────────┬───────────┬──────────┐\n",
       "│ name           ┆ homeworld ┆ hair_color ┆ skin_color ┆ eye_color ┆ height_m │\n",
       "│ ---            ┆ ---       ┆ ---        ┆ ---        ┆ ---       ┆ ---      │\n",
       "│ str            ┆ str       ┆ str        ┆ str        ┆ str       ┆ f64      │\n",
       "╞════════════════╪═══════════╪════════════╪════════════╪═══════════╪══════════╡\n",
       "│ Han Solo       ┆ Corellia  ┆ brown      ┆ fair       ┆ brown     ┆ 1.8      │\n",
       "│ Luke Skywalker ┆ Tatooine  ┆ blond      ┆ fair       ┆ blue      ┆ 1.72     │\n",
       "└────────────────┴───────────┴────────────┴────────────┴───────────┴──────────┘"
      ]
     },
     "execution_count": 5,
     "metadata": {},
     "output_type": "execute_result"
    }
   ],
   "source": [
    "rebels.select(\n",
    "    'name',\n",
    "    pl.col('homeworld'),\n",
    "    pl.col('^.*_color$'),\n",
    "    (pl.col('height') / 100).alias('height_m')\n",
    ")"
   ]
  },
  {
   "cell_type": "code",
   "execution_count": 6,
   "id": "3782c0e3-4e0a-4264-8028-3b58eb900b2e",
   "metadata": {},
   "outputs": [
    {
     "data": {
      "text/html": [
       "<div><style>\n",
       ".dataframe > thead > tr,\n",
       ".dataframe > tbody > tr {\n",
       "  text-align: right;\n",
       "  white-space: pre-wrap;\n",
       "}\n",
       "</style>\n",
       "<small>shape: (2, 6)</small><table border=\"1\" class=\"dataframe\"><thead><tr><th>name</th><th>homeworld</th><th>hair_color</th><th>skin_color</th><th>eye_color</th><th>height_m</th></tr><tr><td>str</td><td>str</td><td>str</td><td>str</td><td>str</td><td>f64</td></tr></thead><tbody><tr><td>&quot;Han Solo&quot;</td><td>&quot;Corellia&quot;</td><td>&quot;brown&quot;</td><td>&quot;fair&quot;</td><td>&quot;brown&quot;</td><td>1.8</td></tr><tr><td>&quot;Luke Skywalker&quot;</td><td>&quot;Tatooine&quot;</td><td>&quot;blond&quot;</td><td>&quot;fair&quot;</td><td>&quot;blue&quot;</td><td>1.72</td></tr></tbody></table></div>"
      ],
      "text/plain": [
       "shape: (2, 6)\n",
       "┌────────────────┬───────────┬────────────┬────────────┬───────────┬──────────┐\n",
       "│ name           ┆ homeworld ┆ hair_color ┆ skin_color ┆ eye_color ┆ height_m │\n",
       "│ ---            ┆ ---       ┆ ---        ┆ ---        ┆ ---       ┆ ---      │\n",
       "│ str            ┆ str       ┆ str        ┆ str        ┆ str       ┆ f64      │\n",
       "╞════════════════╪═══════════╪════════════╪════════════╪═══════════╪══════════╡\n",
       "│ Han Solo       ┆ Corellia  ┆ brown      ┆ fair       ┆ brown     ┆ 1.8      │\n",
       "│ Luke Skywalker ┆ Tatooine  ┆ blond      ┆ fair       ┆ blue      ┆ 1.72     │\n",
       "└────────────────┴───────────┴────────────┴────────────┴───────────┴──────────┘"
      ]
     },
     "execution_count": 6,
     "metadata": {},
     "output_type": "execute_result"
    }
   ],
   "source": [
    "rebels.select(\n",
    "    'name',\n",
    "    cs.by_name('homeworld'),\n",
    "    cs.by_name('^.*_color$'),\n",
    "    (cs.by_name('height') / 100).alias('height_m')\n",
    ")"
   ]
  },
  {
   "cell_type": "markdown",
   "id": "d592ac10-8b88-4e87-b450-b072aa8d8d50",
   "metadata": {},
   "source": [
    "上のセルでセレクター（=`cs`）を使っているけれど、従来の`pl.col()`と同じように利用できる。  \n",
    "以降で、セレクターの特徴を列挙する"
   ]
  },
  {
   "cell_type": "code",
   "execution_count": 7,
   "id": "bf61b417-65a0-473c-ac3f-ece10204dd9f",
   "metadata": {},
   "outputs": [
    {
     "data": {
      "text/html": [
       "<div><style>\n",
       ".dataframe > thead > tr,\n",
       ".dataframe > tbody > tr {\n",
       "  text-align: right;\n",
       "  white-space: pre-wrap;\n",
       "}\n",
       "</style>\n",
       "<small>shape: (2, 2)</small><table border=\"1\" class=\"dataframe\"><thead><tr><th>birth_year</th><th>birth_date</th></tr><tr><td>f64</td><td>date</td></tr></thead><tbody><tr><td>29.0</td><td>1948-06-01</td></tr><tr><td>19.0</td><td>1958-05-30</td></tr></tbody></table></div>"
      ],
      "text/plain": [
       "shape: (2, 2)\n",
       "┌────────────┬────────────┐\n",
       "│ birth_year ┆ birth_date │\n",
       "│ ---        ┆ ---        │\n",
       "│ f64        ┆ date       │\n",
       "╞════════════╪════════════╡\n",
       "│ 29.0       ┆ 1948-06-01 │\n",
       "│ 19.0       ┆ 1958-05-30 │\n",
       "└────────────┴────────────┘"
      ]
     },
     "execution_count": 7,
     "metadata": {},
     "output_type": "execute_result"
    }
   ],
   "source": [
    "rebels.select(cs.starts_with('birth_'))"
   ]
  },
  {
   "cell_type": "code",
   "execution_count": 8,
   "id": "0698f8de-8935-40d7-9189-92e0c0d29553",
   "metadata": {},
   "outputs": [
    {
     "data": {
      "text/html": [
       "<div><style>\n",
       ".dataframe > thead > tr,\n",
       ".dataframe > tbody > tr {\n",
       "  text-align: right;\n",
       "  white-space: pre-wrap;\n",
       "}\n",
       "</style>\n",
       "<small>shape: (2, 3)</small><table border=\"1\" class=\"dataframe\"><thead><tr><th>hair_color</th><th>skin_color</th><th>eye_color</th></tr><tr><td>str</td><td>str</td><td>str</td></tr></thead><tbody><tr><td>&quot;brown&quot;</td><td>&quot;fair&quot;</td><td>&quot;brown&quot;</td></tr><tr><td>&quot;blond&quot;</td><td>&quot;fair&quot;</td><td>&quot;blue&quot;</td></tr></tbody></table></div>"
      ],
      "text/plain": [
       "shape: (2, 3)\n",
       "┌────────────┬────────────┬───────────┐\n",
       "│ hair_color ┆ skin_color ┆ eye_color │\n",
       "│ ---        ┆ ---        ┆ ---       │\n",
       "│ str        ┆ str        ┆ str       │\n",
       "╞════════════╪════════════╪═══════════╡\n",
       "│ brown      ┆ fair       ┆ brown     │\n",
       "│ blond      ┆ fair       ┆ blue      │\n",
       "└────────────┴────────────┴───────────┘"
      ]
     },
     "execution_count": 8,
     "metadata": {},
     "output_type": "execute_result"
    }
   ],
   "source": [
    "rebels.select(cs.ends_with('_color'))"
   ]
  },
  {
   "cell_type": "code",
   "execution_count": 9,
   "id": "bef8cf0b-c220-4ed3-a10b-682d0ff9fadb",
   "metadata": {},
   "outputs": [
    {
     "data": {
      "text/html": [
       "<div><style>\n",
       ".dataframe > thead > tr,\n",
       ".dataframe > tbody > tr {\n",
       "  text-align: right;\n",
       "  white-space: pre-wrap;\n",
       "}\n",
       "</style>\n",
       "<small>shape: (2, 6)</small><table border=\"1\" class=\"dataframe\"><thead><tr><th>hair_color</th><th>skin_color</th><th>eye_color</th><th>birth_year</th><th>birth_date</th><th>screen_time</th></tr><tr><td>str</td><td>str</td><td>str</td><td>f64</td><td>date</td><td>duration[μs]</td></tr></thead><tbody><tr><td>&quot;brown&quot;</td><td>&quot;fair&quot;</td><td>&quot;brown&quot;</td><td>29.0</td><td>1948-06-01</td><td>1h 12m 37s</td></tr><tr><td>&quot;blond&quot;</td><td>&quot;fair&quot;</td><td>&quot;blue&quot;</td><td>19.0</td><td>1958-05-30</td><td>1h 58m 44s</td></tr></tbody></table></div>"
      ],
      "text/plain": [
       "shape: (2, 6)\n",
       "┌────────────┬────────────┬───────────┬────────────┬────────────┬──────────────┐\n",
       "│ hair_color ┆ skin_color ┆ eye_color ┆ birth_year ┆ birth_date ┆ screen_time  │\n",
       "│ ---        ┆ ---        ┆ ---       ┆ ---        ┆ ---        ┆ ---          │\n",
       "│ str        ┆ str        ┆ str       ┆ f64        ┆ date       ┆ duration[μs] │\n",
       "╞════════════╪════════════╪═══════════╪════════════╪════════════╪══════════════╡\n",
       "│ brown      ┆ fair       ┆ brown     ┆ 29.0       ┆ 1948-06-01 ┆ 1h 12m 37s   │\n",
       "│ blond      ┆ fair       ┆ blue      ┆ 19.0       ┆ 1958-05-30 ┆ 1h 58m 44s   │\n",
       "└────────────┴────────────┴───────────┴────────────┴────────────┴──────────────┘"
      ]
     },
     "execution_count": 9,
     "metadata": {},
     "output_type": "execute_result"
    }
   ],
   "source": [
    "rebels.select(cs.contains('_'))"
   ]
  },
  {
   "cell_type": "markdown",
   "id": "09ec1534-7590-4d6f-8a1d-7611a0d4491f",
   "metadata": {},
   "source": [
    "セレクターを使うと、一致する単語に関する列を抽出する操作が一気に楽になるのか"
   ]
  },
  {
   "cell_type": "code",
   "execution_count": 10,
   "id": "863018d9-99df-4955-a1af-0639a2e6f74d",
   "metadata": {},
   "outputs": [
    {
     "data": {
      "text/html": [
       "<div><style>\n",
       ".dataframe > thead > tr,\n",
       ".dataframe > tbody > tr {\n",
       "  text-align: right;\n",
       "  white-space: pre-wrap;\n",
       "}\n",
       "</style>\n",
       "<small>shape: (2, 2)</small><table border=\"1\" class=\"dataframe\"><thead><tr><th>name</th><th>mass</th></tr><tr><td>str</td><td>f64</td></tr></thead><tbody><tr><td>&quot;Han Solo&quot;</td><td>80.0</td></tr><tr><td>&quot;Luke Skywalker&quot;</td><td>77.0</td></tr></tbody></table></div>"
      ],
      "text/plain": [
       "shape: (2, 2)\n",
       "┌────────────────┬──────┐\n",
       "│ name           ┆ mass │\n",
       "│ ---            ┆ ---  │\n",
       "│ str            ┆ f64  │\n",
       "╞════════════════╪══════╡\n",
       "│ Han Solo       ┆ 80.0 │\n",
       "│ Luke Skywalker ┆ 77.0 │\n",
       "└────────────────┴──────┘"
      ]
     },
     "execution_count": 10,
     "metadata": {},
     "output_type": "execute_result"
    }
   ],
   "source": [
    "rebels.select(cs.matches('^[a-z]{4}$'))"
   ]
  },
  {
   "cell_type": "markdown",
   "id": "3af34de7-5f5a-45d8-a602-3eca8ffe2ca8",
   "metadata": {},
   "source": [
    "### データ型に基づいた選択手法"
   ]
  },
  {
   "cell_type": "code",
   "execution_count": 11,
   "id": "30255cd6-f26b-4496-a6e9-a5628eff2b14",
   "metadata": {},
   "outputs": [
    {
     "data": {
      "text/html": [
       "<div><style>\n",
       ".dataframe > thead > tr,\n",
       ".dataframe > tbody > tr {\n",
       "  text-align: right;\n",
       "  white-space: pre-wrap;\n",
       "}\n",
       "</style>\n",
       "<small>shape: (2, 4)</small><table border=\"1\" class=\"dataframe\"><thead><tr><th>hair_color</th><th>height</th><th>mass</th><th>birth_year</th></tr><tr><td>str</td><td>f64</td><td>f64</td><td>f64</td></tr></thead><tbody><tr><td>&quot;blond&quot;</td><td>172.0</td><td>77.0</td><td>19.0</td></tr><tr><td>&quot;brown&quot;</td><td>180.0</td><td>80.0</td><td>29.0</td></tr></tbody></table></div>"
      ],
      "text/plain": [
       "shape: (2, 4)\n",
       "┌────────────┬────────┬──────┬────────────┐\n",
       "│ hair_color ┆ height ┆ mass ┆ birth_year │\n",
       "│ ---        ┆ ---    ┆ ---  ┆ ---        │\n",
       "│ str        ┆ f64    ┆ f64  ┆ f64        │\n",
       "╞════════════╪════════╪══════╪════════════╡\n",
       "│ blond      ┆ 172.0  ┆ 77.0 ┆ 19.0       │\n",
       "│ brown      ┆ 180.0  ┆ 80.0 ┆ 29.0       │\n",
       "└────────────┴────────┴──────┴────────────┘"
      ]
     },
     "execution_count": 11,
     "metadata": {},
     "output_type": "execute_result"
    }
   ],
   "source": [
    "rebels.group_by('hair_color').agg(cs.numeric().mean())"
   ]
  },
  {
   "cell_type": "code",
   "execution_count": 12,
   "id": "34f3a199-f9f6-4cf8-a47d-a0d146334457",
   "metadata": {},
   "outputs": [
    {
     "data": {
      "text/html": [
       "<div><style>\n",
       ".dataframe > thead > tr,\n",
       ".dataframe > tbody > tr {\n",
       "  text-align: right;\n",
       "  white-space: pre-wrap;\n",
       "}\n",
       "</style>\n",
       "<small>shape: (2, 6)</small><table border=\"1\" class=\"dataframe\"><thead><tr><th>name</th><th>hair_color</th><th>skin_color</th><th>eye_color</th><th>homeworld</th><th>species</th></tr><tr><td>str</td><td>str</td><td>str</td><td>str</td><td>str</td><td>str</td></tr></thead><tbody><tr><td>&quot;Han Solo&quot;</td><td>&quot;brown&quot;</td><td>&quot;fair&quot;</td><td>&quot;brown&quot;</td><td>&quot;Corellia&quot;</td><td>&quot;Human&quot;</td></tr><tr><td>&quot;Luke Skywalker&quot;</td><td>&quot;blond&quot;</td><td>&quot;fair&quot;</td><td>&quot;blue&quot;</td><td>&quot;Tatooine&quot;</td><td>&quot;Human&quot;</td></tr></tbody></table></div>"
      ],
      "text/plain": [
       "shape: (2, 6)\n",
       "┌────────────────┬────────────┬────────────┬───────────┬───────────┬─────────┐\n",
       "│ name           ┆ hair_color ┆ skin_color ┆ eye_color ┆ homeworld ┆ species │\n",
       "│ ---            ┆ ---        ┆ ---        ┆ ---       ┆ ---       ┆ ---     │\n",
       "│ str            ┆ str        ┆ str        ┆ str       ┆ str       ┆ str     │\n",
       "╞════════════════╪════════════╪════════════╪═══════════╪═══════════╪═════════╡\n",
       "│ Han Solo       ┆ brown      ┆ fair       ┆ brown     ┆ Corellia  ┆ Human   │\n",
       "│ Luke Skywalker ┆ blond      ┆ fair       ┆ blue      ┆ Tatooine  ┆ Human   │\n",
       "└────────────────┴────────────┴────────────┴───────────┴───────────┴─────────┘"
      ]
     },
     "execution_count": 12,
     "metadata": {},
     "output_type": "execute_result"
    }
   ],
   "source": [
    "rebels.select(cs.string())"
   ]
  },
  {
   "cell_type": "code",
   "execution_count": 13,
   "id": "db9ab4a8-7067-46ad-ac66-67817b949b2a",
   "metadata": {},
   "outputs": [
    {
     "data": {
      "text/html": [
       "<div><style>\n",
       ".dataframe > thead > tr,\n",
       ".dataframe > tbody > tr {\n",
       "  text-align: right;\n",
       "  white-space: pre-wrap;\n",
       "}\n",
       "</style>\n",
       "<small>shape: (2, 2)</small><table border=\"1\" class=\"dataframe\"><thead><tr><th>birth_date</th><th>screen_time</th></tr><tr><td>date</td><td>duration[μs]</td></tr></thead><tbody><tr><td>1948-06-01</td><td>1h 12m 37s</td></tr><tr><td>1958-05-30</td><td>1h 58m 44s</td></tr></tbody></table></div>"
      ],
      "text/plain": [
       "shape: (2, 2)\n",
       "┌────────────┬──────────────┐\n",
       "│ birth_date ┆ screen_time  │\n",
       "│ ---        ┆ ---          │\n",
       "│ date       ┆ duration[μs] │\n",
       "╞════════════╪══════════════╡\n",
       "│ 1948-06-01 ┆ 1h 12m 37s   │\n",
       "│ 1958-05-30 ┆ 1h 58m 44s   │\n",
       "└────────────┴──────────────┘"
      ]
     },
     "execution_count": 13,
     "metadata": {},
     "output_type": "execute_result"
    }
   ],
   "source": [
    "rebels.select(cs.temporal())"
   ]
  },
  {
   "cell_type": "markdown",
   "id": "3feb6862-77a4-4161-9a6f-bb1f2b9f46b2",
   "metadata": {},
   "source": [
    "`cs.temporal()`はdatetimeやdateといった時間系のデータ型を対象に抽出する"
   ]
  },
  {
   "cell_type": "code",
   "execution_count": 14,
   "id": "f336cdaa-093a-4c62-918f-35d8198488c6",
   "metadata": {},
   "outputs": [
    {
     "data": {
      "text/html": [
       "<div><style>\n",
       ".dataframe > thead > tr,\n",
       ".dataframe > tbody > tr {\n",
       "  text-align: right;\n",
       "  white-space: pre-wrap;\n",
       "}\n",
       "</style>\n",
       "<small>shape: (2, 2)</small><table border=\"1\" class=\"dataframe\"><thead><tr><th>vehicles</th><th>starships</th></tr><tr><td>list[str]</td><td>list[str]</td></tr></thead><tbody><tr><td>null</td><td>[&quot;Millennium Falcon&quot;, &quot;Imperial shuttle&quot;]</td></tr><tr><td>[&quot;Snowspeeder&quot;, &quot;Imperial Speeder Bike&quot;]</td><td>[&quot;X-wing&quot;, &quot;Imperial shuttle&quot;]</td></tr></tbody></table></div>"
      ],
      "text/plain": [
       "shape: (2, 2)\n",
       "┌─────────────────────────────────┬─────────────────────────────────┐\n",
       "│ vehicles                        ┆ starships                       │\n",
       "│ ---                             ┆ ---                             │\n",
       "│ list[str]                       ┆ list[str]                       │\n",
       "╞═════════════════════════════════╪═════════════════════════════════╡\n",
       "│ null                            ┆ [\"Millennium Falcon\", \"Imperia… │\n",
       "│ [\"Snowspeeder\", \"Imperial Spee… ┆ [\"X-wing\", \"Imperial shuttle\"]  │\n",
       "└─────────────────────────────────┴─────────────────────────────────┘"
      ]
     },
     "execution_count": 14,
     "metadata": {},
     "output_type": "execute_result"
    }
   ],
   "source": [
    "rebels.select(cs.by_dtype(pl.List(pl.String)))"
   ]
  },
  {
   "cell_type": "markdown",
   "id": "ac847ca4-6a19-4c0b-a14f-fe58ba03c2b4",
   "metadata": {},
   "source": [
    "ネストされたデータに対しては、ネストされたデータの要素の型も指定してあげないといけない"
   ]
  },
  {
   "cell_type": "markdown",
   "id": "448cb13c-f3e9-479e-ac39-fbfa053c1097",
   "metadata": {},
   "source": [
    "### ポジションに基づいた選択手法"
   ]
  },
  {
   "cell_type": "code",
   "execution_count": 15,
   "id": "78ebf4cb-8382-41c0-a8b7-4296977342cf",
   "metadata": {},
   "outputs": [
    {
     "data": {
      "text/html": [
       "<div><style>\n",
       ".dataframe > thead > tr,\n",
       ".dataframe > tbody > tr {\n",
       "  text-align: right;\n",
       "  white-space: pre-wrap;\n",
       "}\n",
       "</style>\n",
       "<small>shape: (2, 5)</small><table border=\"1\" class=\"dataframe\"><thead><tr><th>name</th><th>hair_color</th><th>birth_year</th><th>homeworld</th><th>starships</th></tr><tr><td>str</td><td>str</td><td>f64</td><td>str</td><td>list[str]</td></tr></thead><tbody><tr><td>&quot;Han Solo&quot;</td><td>&quot;brown&quot;</td><td>29.0</td><td>&quot;Corellia&quot;</td><td>[&quot;Millennium Falcon&quot;, &quot;Imperial shuttle&quot;]</td></tr><tr><td>&quot;Luke Skywalker&quot;</td><td>&quot;blond&quot;</td><td>19.0</td><td>&quot;Tatooine&quot;</td><td>[&quot;X-wing&quot;, &quot;Imperial shuttle&quot;]</td></tr></tbody></table></div>"
      ],
      "text/plain": [
       "shape: (2, 5)\n",
       "┌────────────────┬────────────┬────────────┬───────────┬─────────────────────────────────┐\n",
       "│ name           ┆ hair_color ┆ birth_year ┆ homeworld ┆ starships                       │\n",
       "│ ---            ┆ ---        ┆ ---        ┆ ---       ┆ ---                             │\n",
       "│ str            ┆ str        ┆ f64        ┆ str       ┆ list[str]                       │\n",
       "╞════════════════╪════════════╪════════════╪═══════════╪═════════════════════════════════╡\n",
       "│ Han Solo       ┆ brown      ┆ 29.0       ┆ Corellia  ┆ [\"Millennium Falcon\", \"Imperia… │\n",
       "│ Luke Skywalker ┆ blond      ┆ 19.0       ┆ Tatooine  ┆ [\"X-wing\", \"Imperial shuttle\"]  │\n",
       "└────────────────┴────────────┴────────────┴───────────┴─────────────────────────────────┘"
      ]
     },
     "execution_count": 15,
     "metadata": {},
     "output_type": "execute_result"
    }
   ],
   "source": [
    "rebels.select(cs.by_index(range(0, 999, 3)))"
   ]
  },
  {
   "cell_type": "code",
   "execution_count": 16,
   "id": "d68b8929-1c28-447c-aeaf-b80780b824aa",
   "metadata": {},
   "outputs": [
    {
     "data": {
      "text/html": [
       "<div><style>\n",
       ".dataframe > thead > tr,\n",
       ".dataframe > tbody > tr {\n",
       "  text-align: right;\n",
       "  white-space: pre-wrap;\n",
       "}\n",
       "</style>\n",
       "<small>shape: (2, 3)</small><table border=\"1\" class=\"dataframe\"><thead><tr><th>name</th><th>birth_date</th><th>screen_time</th></tr><tr><td>str</td><td>date</td><td>duration[μs]</td></tr></thead><tbody><tr><td>&quot;Han Solo&quot;</td><td>1948-06-01</td><td>1h 12m 37s</td></tr><tr><td>&quot;Luke Skywalker&quot;</td><td>1958-05-30</td><td>1h 58m 44s</td></tr></tbody></table></div>"
      ],
      "text/plain": [
       "shape: (2, 3)\n",
       "┌────────────────┬────────────┬──────────────┐\n",
       "│ name           ┆ birth_date ┆ screen_time  │\n",
       "│ ---            ┆ ---        ┆ ---          │\n",
       "│ str            ┆ date       ┆ duration[μs] │\n",
       "╞════════════════╪════════════╪══════════════╡\n",
       "│ Han Solo       ┆ 1948-06-01 ┆ 1h 12m 37s   │\n",
       "│ Luke Skywalker ┆ 1958-05-30 ┆ 1h 58m 44s   │\n",
       "└────────────────┴────────────┴──────────────┘"
      ]
     },
     "execution_count": 16,
     "metadata": {},
     "output_type": "execute_result"
    }
   ],
   "source": [
    "rebels.select('name', cs.by_index(range(-2, 0)))"
   ]
  },
  {
   "cell_type": "markdown",
   "id": "3a4f4957-e54a-4198-bb8b-aaa1a792be19",
   "metadata": {},
   "source": [
    "### セレクターの組み合わせ"
   ]
  },
  {
   "cell_type": "code",
   "execution_count": 17,
   "id": "2daff0c2-30fe-4988-8c52-397436ed74af",
   "metadata": {},
   "outputs": [
    {
     "data": {
      "text/html": [
       "<div><style>\n",
       ".dataframe > thead > tr,\n",
       ".dataframe > tbody > tr {\n",
       "  text-align: right;\n",
       "  white-space: pre-wrap;\n",
       "}\n",
       "</style>\n",
       "<small>shape: (2, 4)</small><table border=\"1\" class=\"dataframe\"><thead><tr><th>height</th><th>mass</th><th>hair_color</th><th>birth_year</th></tr><tr><td>u16</td><td>f64</td><td>str</td><td>f64</td></tr></thead><tbody><tr><td>180</td><td>80.0</td><td>&quot;brown&quot;</td><td>29.0</td></tr><tr><td>172</td><td>77.0</td><td>&quot;blond&quot;</td><td>19.0</td></tr></tbody></table></div>"
      ],
      "text/plain": [
       "shape: (2, 4)\n",
       "┌────────┬──────┬────────────┬────────────┐\n",
       "│ height ┆ mass ┆ hair_color ┆ birth_year │\n",
       "│ ---    ┆ ---  ┆ ---        ┆ ---        │\n",
       "│ u16    ┆ f64  ┆ str        ┆ f64        │\n",
       "╞════════╪══════╪════════════╪════════════╡\n",
       "│ 180    ┆ 80.0 ┆ brown      ┆ 29.0       │\n",
       "│ 172    ┆ 77.0 ┆ blond      ┆ 19.0       │\n",
       "└────────┴──────┴────────────┴────────────┘"
      ]
     },
     "execution_count": 17,
     "metadata": {},
     "output_type": "execute_result"
    }
   ],
   "source": [
    "rebels.select(cs.by_name('hair_color') | cs.numeric())"
   ]
  },
  {
   "cell_type": "markdown",
   "id": "e72c3813-e914-463b-9562-5eecb549c2b9",
   "metadata": {},
   "source": [
    "通常のpolarsだと、列名を指定するときは、文字列 or データ型のいずれかのみにする必要があって、両方で指定しようとするとエラーになっていた。  \n",
    "でも、セレクターを使うとそれが実現できる。その代わり（？）、セレクターの`cs.by_name()`を使った文字列の指定が条件（`pl.col()`による指定はだめ）"
   ]
  },
  {
   "cell_type": "code",
   "execution_count": 18,
   "id": "2ccf05eb-f337-4d21-86df-ff966a419aa2",
   "metadata": {},
   "outputs": [
    {
     "name": "stdout",
     "output_type": "stream",
     "text": [
      "shape: (1, 5)\n",
      "┌─────┬──────┬──────┬──────┬─────┐\n",
      "│ d   ┆ i    ┆ s    ┆ c    ┆ o   │\n",
      "│ --- ┆ ---  ┆ ---  ┆ ---  ┆ --- │\n",
      "│ i64 ┆ bool ┆ bool ┆ bool ┆ f64 │\n",
      "╞═════╪══════╪══════╪══════╪═════╡\n",
      "│ 1   ┆ true ┆ true ┆ true ┆ 1.0 │\n",
      "└─────┴──────┴──────┴──────┴─────┘\n",
      "\n",
      "selector => columns\n",
      "x        => ('d', 'i', 's')\n",
      "y        => ('i', 's', 'c')\n",
      "x | y    => ('d', 'i', 's', 'c')\n",
      "x & y    => ('i', 's')\n",
      "x - y    => ('d',)\n",
      "x ^ y    => ('d', 'c')\n",
      "~x       => ('c', 'o')\n",
      "x - x    => ()\n"
     ]
    }
   ],
   "source": [
    "df = pl.DataFrame({'d': 1, 'i': True, 's': True, 'c': True, 'o': 1.0})\n",
    "\n",
    "print(df)\n",
    "\n",
    "x = cs.by_name('d', 'i', 's')\n",
    "y = cs.boolean()\n",
    "\n",
    "print('\\nselector => columns')\n",
    "\n",
    "for s in ['x', 'y', 'x | y', 'x & y', 'x - y', 'x ^ y', '~x', 'x - x']:\n",
    "    print(f\"{s:8} => {cs.expand_selector(df, eval(s))}\")"
   ]
  },
  {
   "cell_type": "code",
   "execution_count": 19,
   "id": "d5cc7b2c-8a8e-4f12-b7cc-b255b8873b3e",
   "metadata": {},
   "outputs": [
    {
     "name": "stdout",
     "output_type": "stream",
     "text": [
      "shape: (1, 5)\n",
      "┌──────┬──────┬─────┬──────┬─────┐\n",
      "│ c    ┆ i    ┆ d   ┆ s    ┆ o   │\n",
      "│ ---  ┆ ---  ┆ --- ┆ ---  ┆ --- │\n",
      "│ bool ┆ bool ┆ i64 ┆ bool ┆ f64 │\n",
      "╞══════╪══════╪═════╪══════╪═════╡\n",
      "│ true ┆ true ┆ 1   ┆ true ┆ 1.0 │\n",
      "└──────┴──────┴─────┴──────┴─────┘\n",
      "shape: (1, 5)\n",
      "┌─────┬─────┬──────┬──────┬──────┐\n",
      "│ o   ┆ d   ┆ i    ┆ s    ┆ c    │\n",
      "│ --- ┆ --- ┆ ---  ┆ ---  ┆ ---  │\n",
      "│ f64 ┆ i64 ┆ bool ┆ bool ┆ bool │\n",
      "╞═════╪═════╪══════╪══════╪══════╡\n",
      "│ 1.0 ┆ 1   ┆ true ┆ true ┆ true │\n",
      "└─────┴─────┴──────┴──────┴──────┘\n"
     ]
    }
   ],
   "source": [
    "print(df.select(first := cs.by_name('c', 'i'), ~first))\n",
    "print(df.select(first := cs.last(), ~first))"
   ]
  },
  {
   "cell_type": "markdown",
   "id": "c4bfe9a3-7d14-410c-9c1b-687b8bcc022b",
   "metadata": {
    "jp-MarkdownHeadingCollapsed": true
   },
   "source": [
    "## 列の作成"
   ]
  },
  {
   "cell_type": "code",
   "execution_count": 20,
   "id": "80fb1798-c4a0-433b-98f6-b22922aee0e4",
   "metadata": {},
   "outputs": [
    {
     "data": {
      "text/html": [
       "<div><style>\n",
       ".dataframe > thead > tr,\n",
       ".dataframe > tbody > tr {\n",
       "  text-align: right;\n",
       "  white-space: pre-wrap;\n",
       "}\n",
       "</style>\n",
       "<small>shape: (2, 16)</small><table border=\"1\" class=\"dataframe\"><thead><tr><th>name</th><th>height</th><th>mass</th><th>hair_color</th><th>skin_color</th><th>eye_color</th><th>birth_year</th><th>sex</th><th>gender</th><th>homeworld</th><th>species</th><th>vehicles</th><th>starships</th><th>birth_date</th><th>screen_time</th><th>bmi</th></tr><tr><td>str</td><td>u16</td><td>f64</td><td>str</td><td>str</td><td>str</td><td>f64</td><td>cat</td><td>cat</td><td>str</td><td>str</td><td>list[str]</td><td>list[str]</td><td>date</td><td>duration[μs]</td><td>f64</td></tr></thead><tbody><tr><td>&quot;Han Solo&quot;</td><td>180</td><td>80.0</td><td>&quot;brown&quot;</td><td>&quot;fair&quot;</td><td>&quot;brown&quot;</td><td>29.0</td><td>&quot;male&quot;</td><td>&quot;masculine&quot;</td><td>&quot;Corellia&quot;</td><td>&quot;Human&quot;</td><td>null</td><td>[&quot;Millennium Falcon&quot;, &quot;Imperial shuttle&quot;]</td><td>1948-06-01</td><td>1h 12m 37s</td><td>80.0</td></tr><tr><td>&quot;Luke Skywalker&quot;</td><td>172</td><td>77.0</td><td>&quot;blond&quot;</td><td>&quot;fair&quot;</td><td>&quot;blue&quot;</td><td>19.0</td><td>&quot;male&quot;</td><td>&quot;masculine&quot;</td><td>&quot;Tatooine&quot;</td><td>&quot;Human&quot;</td><td>[&quot;Snowspeeder&quot;, &quot;Imperial Speeder Bike&quot;]</td><td>[&quot;X-wing&quot;, &quot;Imperial shuttle&quot;]</td><td>1958-05-30</td><td>1h 58m 44s</td><td>77.0</td></tr></tbody></table></div>"
      ],
      "text/plain": [
       "shape: (2, 16)\n",
       "┌───────────┬────────┬──────┬────────────┬───┬──────────────┬────────────┬──────────────┬──────┐\n",
       "│ name      ┆ height ┆ mass ┆ hair_color ┆ … ┆ starships    ┆ birth_date ┆ screen_time  ┆ bmi  │\n",
       "│ ---       ┆ ---    ┆ ---  ┆ ---        ┆   ┆ ---          ┆ ---        ┆ ---          ┆ ---  │\n",
       "│ str       ┆ u16    ┆ f64  ┆ str        ┆   ┆ list[str]    ┆ date       ┆ duration[μs] ┆ f64  │\n",
       "╞═══════════╪════════╪══════╪════════════╪═══╪══════════════╪════════════╪══════════════╪══════╡\n",
       "│ Han Solo  ┆ 180    ┆ 80.0 ┆ brown      ┆ … ┆ [\"Millennium ┆ 1948-06-01 ┆ 1h 12m 37s   ┆ 80.0 │\n",
       "│           ┆        ┆      ┆            ┆   ┆ Falcon\",     ┆            ┆              ┆      │\n",
       "│           ┆        ┆      ┆            ┆   ┆ \"Imperia…    ┆            ┆              ┆      │\n",
       "│ Luke      ┆ 172    ┆ 77.0 ┆ blond      ┆ … ┆ [\"X-wing\",   ┆ 1958-05-30 ┆ 1h 58m 44s   ┆ 77.0 │\n",
       "│ Skywalker ┆        ┆      ┆            ┆   ┆ \"Imperial    ┆            ┆              ┆      │\n",
       "│           ┆        ┆      ┆            ┆   ┆ shuttle\"]    ┆            ┆              ┆      │\n",
       "└───────────┴────────┴──────┴────────────┴───┴──────────────┴────────────┴──────────────┴──────┘"
      ]
     },
     "execution_count": 20,
     "metadata": {},
     "output_type": "execute_result"
    }
   ],
   "source": [
    "rebels.with_columns(bmi=pl.col('mass') / ((pl.col('height') // 100) ** 2))"
   ]
  },
  {
   "cell_type": "code",
   "execution_count": 21,
   "id": "cf2d5859-30f1-44da-9791-e3fea354ad10",
   "metadata": {},
   "outputs": [
    {
     "data": {
      "text/html": [
       "<div><style>\n",
       ".dataframe > thead > tr,\n",
       ".dataframe > tbody > tr {\n",
       "  text-align: right;\n",
       "  white-space: pre-wrap;\n",
       "}\n",
       "</style>\n",
       "<small>shape: (2, 17)</small><table border=\"1\" class=\"dataframe\"><thead><tr><th>name</th><th>height</th><th>mass</th><th>hair_color</th><th>skin_color</th><th>eye_color</th><th>birth_year</th><th>sex</th><th>gender</th><th>homeworld</th><th>species</th><th>vehicles</th><th>starships</th><th>birth_date</th><th>screen_time</th><th>bmi</th><th>age_destroy</th></tr><tr><td>str</td><td>u16</td><td>f64</td><td>str</td><td>str</td><td>str</td><td>f64</td><td>cat</td><td>cat</td><td>str</td><td>str</td><td>list[str]</td><td>list[str]</td><td>date</td><td>duration[μs]</td><td>f64</td><td>u8</td></tr></thead><tbody><tr><td>&quot;Han Solo&quot;</td><td>180</td><td>80.0</td><td>&quot;brown&quot;</td><td>&quot;fair&quot;</td><td>&quot;brown&quot;</td><td>29.0</td><td>&quot;male&quot;</td><td>&quot;masculine&quot;</td><td>&quot;Corellia&quot;</td><td>&quot;Human&quot;</td><td>null</td><td>[&quot;Millennium Falcon&quot;, &quot;Imperial shuttle&quot;]</td><td>1948-06-01</td><td>1h 12m 37s</td><td>24.691358</td><td>35</td></tr><tr><td>&quot;Luke Skywalker&quot;</td><td>172</td><td>77.0</td><td>&quot;blond&quot;</td><td>&quot;fair&quot;</td><td>&quot;blue&quot;</td><td>19.0</td><td>&quot;male&quot;</td><td>&quot;masculine&quot;</td><td>&quot;Tatooine&quot;</td><td>&quot;Human&quot;</td><td>[&quot;Snowspeeder&quot;, &quot;Imperial Speeder Bike&quot;]</td><td>[&quot;X-wing&quot;, &quot;Imperial shuttle&quot;]</td><td>1958-05-30</td><td>1h 58m 44s</td><td>26.027582</td><td>25</td></tr></tbody></table></div>"
      ],
      "text/plain": [
       "shape: (2, 17)\n",
       "┌─────────────┬────────┬──────┬────────────┬───┬────────────┬─────────────┬───────────┬────────────┐\n",
       "│ name        ┆ height ┆ mass ┆ hair_color ┆ … ┆ birth_date ┆ screen_time ┆ bmi       ┆ age_destro │\n",
       "│ ---         ┆ ---    ┆ ---  ┆ ---        ┆   ┆ ---        ┆ ---         ┆ ---       ┆ y          │\n",
       "│ str         ┆ u16    ┆ f64  ┆ str        ┆   ┆ date       ┆ duration[μs ┆ f64       ┆ ---        │\n",
       "│             ┆        ┆      ┆            ┆   ┆            ┆ ]           ┆           ┆ u8         │\n",
       "╞═════════════╪════════╪══════╪════════════╪═══╪════════════╪═════════════╪═══════════╪════════════╡\n",
       "│ Han Solo    ┆ 180    ┆ 80.0 ┆ brown      ┆ … ┆ 1948-06-01 ┆ 1h 12m 37s  ┆ 24.691358 ┆ 35         │\n",
       "│ Luke        ┆ 172    ┆ 77.0 ┆ blond      ┆ … ┆ 1958-05-30 ┆ 1h 58m 44s  ┆ 26.027582 ┆ 25         │\n",
       "│ Skywalker   ┆        ┆      ┆            ┆   ┆            ┆             ┆           ┆            │\n",
       "└─────────────┴────────┴──────┴────────────┴───┴────────────┴─────────────┴───────────┴────────────┘"
      ]
     },
     "execution_count": 21,
     "metadata": {},
     "output_type": "execute_result"
    }
   ],
   "source": [
    "rebels.with_columns(\n",
    "    bmi=pl.col('mass') / ((pl.col('height') / 100) ** 2),\n",
    "    age_destroy=((datetime(1983, 5, 25) - pl.col('birth_date'))\n",
    "                 .dt.total_days() / 356).cast(pl.UInt8)\n",
    ")"
   ]
  },
  {
   "cell_type": "code",
   "execution_count": 22,
   "id": "8a6ebb82-d092-4f6c-aefd-8b97f44a4409",
   "metadata": {},
   "outputs": [
    {
     "data": {
      "text/html": [
       "<div><style>\n",
       ".dataframe > thead > tr,\n",
       ".dataframe > tbody > tr {\n",
       "  text-align: right;\n",
       "  white-space: pre-wrap;\n",
       "}\n",
       "</style>\n",
       "<small>shape: (5, 3)</small><table border=\"1\" class=\"dataframe\"><thead><tr><th>name</th><th>bmi</th><th>species</th></tr><tr><td>str</td><td>f64</td><td>str</td></tr></thead><tbody><tr><td>&quot;Jabba Desilijic Tiure&quot;</td><td>443.428571</td><td>&quot;Hutt&quot;</td></tr><tr><td>&quot;Dud Bolt&quot;</td><td>50.928022</td><td>&quot;Vulptereen&quot;</td></tr><tr><td>&quot;Yoda&quot;</td><td>39.02663</td><td>&quot;Yoda&#x27;s species&quot;</td></tr><tr><td>&quot;Owen Lars&quot;</td><td>37.874006</td><td>&quot;Human&quot;</td></tr><tr><td>&quot;IG-88&quot;</td><td>35.0</td><td>&quot;Droid&quot;</td></tr></tbody></table></div>"
      ],
      "text/plain": [
       "shape: (5, 3)\n",
       "┌───────────────────────┬────────────┬────────────────┐\n",
       "│ name                  ┆ bmi        ┆ species        │\n",
       "│ ---                   ┆ ---        ┆ ---            │\n",
       "│ str                   ┆ f64        ┆ str            │\n",
       "╞═══════════════════════╪════════════╪════════════════╡\n",
       "│ Jabba Desilijic Tiure ┆ 443.428571 ┆ Hutt           │\n",
       "│ Dud Bolt              ┆ 50.928022  ┆ Vulptereen     │\n",
       "│ Yoda                  ┆ 39.02663   ┆ Yoda's species │\n",
       "│ Owen Lars             ┆ 37.874006  ┆ Human          │\n",
       "│ IG-88                 ┆ 35.0       ┆ Droid          │\n",
       "└───────────────────────┴────────────┴────────────────┘"
      ]
     },
     "execution_count": 22,
     "metadata": {},
     "output_type": "execute_result"
    }
   ],
   "source": [
    "(\n",
    "    starwars\n",
    "    .select(\n",
    "        'name',\n",
    "        (pl.col('mass') / ((pl.col('height') / 100) ** 2)).alias('bmi'),\n",
    "        'species'\n",
    "    )\n",
    "    .drop_nulls().top_k(5, by='bmi')\n",
    ")"
   ]
  },
  {
   "cell_type": "markdown",
   "id": "b9a60ba4-3aff-45a3-bc0e-354bb2f74052",
   "metadata": {},
   "source": [
    "## 列の操作"
   ]
  },
  {
   "cell_type": "code",
   "execution_count": 23,
   "id": "67067b5c-df53-4093-a772-8537c7ec8948",
   "metadata": {},
   "outputs": [
    {
     "data": {
      "text/html": [
       "<div><style>\n",
       ".dataframe > thead > tr,\n",
       ".dataframe > tbody > tr {\n",
       "  text-align: right;\n",
       "  white-space: pre-wrap;\n",
       "}\n",
       "</style>\n",
       "<small>shape: (2, 13)</small><table border=\"1\" class=\"dataframe\"><thead><tr><th>height</th><th>mass</th><th>hair_color</th><th>skin_color</th><th>eye_color</th><th>birth_year</th><th>sex</th><th>gender</th><th>homeworld</th><th>species</th><th>vehicles</th><th>starships</th><th>birth_date</th></tr><tr><td>u16</td><td>f64</td><td>str</td><td>str</td><td>str</td><td>f64</td><td>cat</td><td>cat</td><td>str</td><td>str</td><td>list[str]</td><td>list[str]</td><td>date</td></tr></thead><tbody><tr><td>180</td><td>80.0</td><td>&quot;brown&quot;</td><td>&quot;fair&quot;</td><td>&quot;brown&quot;</td><td>29.0</td><td>&quot;male&quot;</td><td>&quot;masculine&quot;</td><td>&quot;Corellia&quot;</td><td>&quot;Human&quot;</td><td>null</td><td>[&quot;Millennium Falcon&quot;, &quot;Imperial shuttle&quot;]</td><td>1948-06-01</td></tr><tr><td>172</td><td>77.0</td><td>&quot;blond&quot;</td><td>&quot;fair&quot;</td><td>&quot;blue&quot;</td><td>19.0</td><td>&quot;male&quot;</td><td>&quot;masculine&quot;</td><td>&quot;Tatooine&quot;</td><td>&quot;Human&quot;</td><td>[&quot;Snowspeeder&quot;, &quot;Imperial Speeder Bike&quot;]</td><td>[&quot;X-wing&quot;, &quot;Imperial shuttle&quot;]</td><td>1958-05-30</td></tr></tbody></table></div>"
      ],
      "text/plain": [
       "shape: (2, 13)\n",
       "┌────────┬──────┬────────────┬────────────┬───┬─────────┬──────────────┬──────────────┬────────────┐\n",
       "│ height ┆ mass ┆ hair_color ┆ skin_color ┆ … ┆ species ┆ vehicles     ┆ starships    ┆ birth_date │\n",
       "│ ---    ┆ ---  ┆ ---        ┆ ---        ┆   ┆ ---     ┆ ---          ┆ ---          ┆ ---        │\n",
       "│ u16    ┆ f64  ┆ str        ┆ str        ┆   ┆ str     ┆ list[str]    ┆ list[str]    ┆ date       │\n",
       "╞════════╪══════╪════════════╪════════════╪═══╪═════════╪══════════════╪══════════════╪════════════╡\n",
       "│ 180    ┆ 80.0 ┆ brown      ┆ fair       ┆ … ┆ Human   ┆ null         ┆ [\"Millennium ┆ 1948-06-01 │\n",
       "│        ┆      ┆            ┆            ┆   ┆         ┆              ┆ Falcon\",     ┆            │\n",
       "│        ┆      ┆            ┆            ┆   ┆         ┆              ┆ \"Imperia…    ┆            │\n",
       "│ 172    ┆ 77.0 ┆ blond      ┆ fair       ┆ … ┆ Human   ┆ [\"Snowspeede ┆ [\"X-wing\",   ┆ 1958-05-30 │\n",
       "│        ┆      ┆            ┆            ┆   ┆         ┆ r\",          ┆ \"Imperial    ┆            │\n",
       "│        ┆      ┆            ┆            ┆   ┆         ┆ \"Imperial    ┆ shuttle\"]    ┆            │\n",
       "│        ┆      ┆            ┆            ┆   ┆         ┆ Spee…        ┆              ┆            │\n",
       "└────────┴──────┴────────────┴────────────┴───┴─────────┴──────────────┴──────────────┴────────────┘"
      ]
     },
     "execution_count": 23,
     "metadata": {},
     "output_type": "execute_result"
    }
   ],
   "source": [
    "rebels.drop('name', 'films', 'screen_time', strict=False)"
   ]
  },
  {
   "cell_type": "markdown",
   "id": "08b7b66e-4235-4a3d-a37c-52a045bcceaf",
   "metadata": {},
   "source": [
    "`strict=False`を指定することによって、存在しない列名を指定したとしてもエラーにならない。  \n",
    "便利かもしれないけれど、意識して存在する列名を指定した方がミスが少ないはずなので、これに頼りすぎないようにしよう"
   ]
  },
  {
   "cell_type": "code",
   "execution_count": 24,
   "id": "2c7177e6-1b6a-4fce-b0c0-6e7cdabc183d",
   "metadata": {},
   "outputs": [
    {
     "data": {
      "text/html": [
       "<div><style>\n",
       ".dataframe > thead > tr,\n",
       ".dataframe > tbody > tr {\n",
       "  text-align: right;\n",
       "  white-space: pre-wrap;\n",
       "}\n",
       "</style>\n",
       "<small>shape: (2, 6)</small><table border=\"1\" class=\"dataframe\"><thead><tr><th>name</th><th>planet</th><th>weight</th><th>hair</th><th>skin</th><th>eye</th></tr><tr><td>str</td><td>str</td><td>f64</td><td>str</td><td>str</td><td>str</td></tr></thead><tbody><tr><td>&quot;Han Solo&quot;</td><td>&quot;Corellia&quot;</td><td>80.0</td><td>&quot;brown&quot;</td><td>&quot;fair&quot;</td><td>&quot;brown&quot;</td></tr><tr><td>&quot;Luke Skywalker&quot;</td><td>&quot;Tatooine&quot;</td><td>77.0</td><td>&quot;blond&quot;</td><td>&quot;fair&quot;</td><td>&quot;blue&quot;</td></tr></tbody></table></div>"
      ],
      "text/plain": [
       "shape: (2, 6)\n",
       "┌────────────────┬──────────┬────────┬───────┬──────┬───────┐\n",
       "│ name           ┆ planet   ┆ weight ┆ hair  ┆ skin ┆ eye   │\n",
       "│ ---            ┆ ---      ┆ ---    ┆ ---   ┆ ---  ┆ ---   │\n",
       "│ str            ┆ str      ┆ f64    ┆ str   ┆ str  ┆ str   │\n",
       "╞════════════════╪══════════╪════════╪═══════╪══════╪═══════╡\n",
       "│ Han Solo       ┆ Corellia ┆ 80.0   ┆ brown ┆ fair ┆ brown │\n",
       "│ Luke Skywalker ┆ Tatooine ┆ 77.0   ┆ blond ┆ fair ┆ blue  │\n",
       "└────────────────┴──────────┴────────┴───────┴──────┴───────┘"
      ]
     },
     "execution_count": 24,
     "metadata": {},
     "output_type": "execute_result"
    }
   ],
   "source": [
    "(\n",
    "    rebels\n",
    "    .rename({'homeworld': 'planet', 'mass': 'weight'})\n",
    "    .rename(lambda s: s.removesuffix('_color'))\n",
    "    .select('name', 'planet', 'weight', 'hair', 'skin', 'eye')\n",
    ")"
   ]
  },
  {
   "cell_type": "code",
   "execution_count": 25,
   "id": "56fe1a75-a1ff-4345-afbf-193f9e7f7b18",
   "metadata": {},
   "outputs": [
    {
     "data": {
      "text/html": [
       "<div><style>\n",
       ".dataframe > thead > tr,\n",
       ".dataframe > tbody > tr {\n",
       "  text-align: right;\n",
       "  white-space: pre-wrap;\n",
       "}\n",
       "</style>\n",
       "<small>shape: (2, 5)</small><table border=\"1\" class=\"dataframe\"><thead><tr><th>name</th><th>hair_color</th><th>skin_color</th><th>eye_color</th><th>quote</th></tr><tr><td>str</td><td>str</td><td>str</td><td>str</td><td>str</td></tr></thead><tbody><tr><td>&quot;Han Solo&quot;</td><td>&quot;brown&quot;</td><td>&quot;fair&quot;</td><td>&quot;brown&quot;</td><td>&quot;You know, sometimes I amaze my…</td></tr><tr><td>&quot;Luke Skywalker&quot;</td><td>&quot;blond&quot;</td><td>&quot;fair&quot;</td><td>&quot;blue&quot;</td><td>&quot;I have a bad feeling about thi…</td></tr></tbody></table></div>"
      ],
      "text/plain": [
       "shape: (2, 5)\n",
       "┌────────────────┬────────────┬────────────┬───────────┬─────────────────────────────────┐\n",
       "│ name           ┆ hair_color ┆ skin_color ┆ eye_color ┆ quote                           │\n",
       "│ ---            ┆ ---        ┆ ---        ┆ ---       ┆ ---                             │\n",
       "│ str            ┆ str        ┆ str        ┆ str       ┆ str                             │\n",
       "╞════════════════╪════════════╪════════════╪═══════════╪═════════════════════════════════╡\n",
       "│ Han Solo       ┆ brown      ┆ fair       ┆ brown     ┆ You know, sometimes I amaze my… │\n",
       "│ Luke Skywalker ┆ blond      ┆ fair       ┆ blue      ┆ I have a bad feeling about thi… │\n",
       "└────────────────┴────────────┴────────────┴───────────┴─────────────────────────────────┘"
      ]
     },
     "execution_count": 25,
     "metadata": {},
     "output_type": "execute_result"
    }
   ],
   "source": [
    "rebel_names = rebels.select('name')\n",
    "rebel_colors = rebels.select(cs.ends_with('_color'))\n",
    "rebel_quotes = pl.Series('quote', ['You know, sometimes I amaze myself.',\n",
    "                                   'I have a bad feeling about this.'])\n",
    "\n",
    "(\n",
    "    rebel_names\n",
    "    .hstack(rebel_colors)\n",
    "    .hstack([rebel_quotes])\n",
    ")"
   ]
  },
  {
   "cell_type": "markdown",
   "id": "5caa56a3-1440-4361-8487-f8e51ea4795c",
   "metadata": {},
   "source": [
    "`.with_columns()`を使って同時に式を作っても良いが、別々のDataFrame(or Series)型をスタックして結合することができる"
   ]
  },
  {
   "cell_type": "code",
   "execution_count": 26,
   "id": "44ce41ab-39e6-4f32-8ab5-aeb6b2e34c7b",
   "metadata": {},
   "outputs": [
    {
     "data": {
      "text/html": [
       "<div><style>\n",
       ".dataframe > thead > tr,\n",
       ".dataframe > tbody > tr {\n",
       "  text-align: right;\n",
       "  white-space: pre-wrap;\n",
       "}\n",
       "</style>\n",
       "<small>shape: (2, 16)</small><table border=\"1\" class=\"dataframe\"><thead><tr><th>rebel_id</th><th>name</th><th>height</th><th>mass</th><th>hair_color</th><th>skin_color</th><th>eye_color</th><th>birth_year</th><th>sex</th><th>gender</th><th>homeworld</th><th>species</th><th>vehicles</th><th>starships</th><th>birth_date</th><th>screen_time</th></tr><tr><td>u32</td><td>str</td><td>u16</td><td>f64</td><td>str</td><td>str</td><td>str</td><td>f64</td><td>cat</td><td>cat</td><td>str</td><td>str</td><td>list[str]</td><td>list[str]</td><td>date</td><td>duration[μs]</td></tr></thead><tbody><tr><td>1</td><td>&quot;Han Solo&quot;</td><td>180</td><td>80.0</td><td>&quot;brown&quot;</td><td>&quot;fair&quot;</td><td>&quot;brown&quot;</td><td>29.0</td><td>&quot;male&quot;</td><td>&quot;masculine&quot;</td><td>&quot;Corellia&quot;</td><td>&quot;Human&quot;</td><td>null</td><td>[&quot;Millennium Falcon&quot;, &quot;Imperial shuttle&quot;]</td><td>1948-06-01</td><td>1h 12m 37s</td></tr><tr><td>2</td><td>&quot;Luke Skywalker&quot;</td><td>172</td><td>77.0</td><td>&quot;blond&quot;</td><td>&quot;fair&quot;</td><td>&quot;blue&quot;</td><td>19.0</td><td>&quot;male&quot;</td><td>&quot;masculine&quot;</td><td>&quot;Tatooine&quot;</td><td>&quot;Human&quot;</td><td>[&quot;Snowspeeder&quot;, &quot;Imperial Speeder Bike&quot;]</td><td>[&quot;X-wing&quot;, &quot;Imperial shuttle&quot;]</td><td>1958-05-30</td><td>1h 58m 44s</td></tr></tbody></table></div>"
      ],
      "text/plain": [
       "shape: (2, 16)\n",
       "┌──────────┬─────────────┬────────┬──────┬───┬─────────────┬─────────────┬────────────┬────────────┐\n",
       "│ rebel_id ┆ name        ┆ height ┆ mass ┆ … ┆ vehicles    ┆ starships   ┆ birth_date ┆ screen_tim │\n",
       "│ ---      ┆ ---         ┆ ---    ┆ ---  ┆   ┆ ---         ┆ ---         ┆ ---        ┆ e          │\n",
       "│ u32      ┆ str         ┆ u16    ┆ f64  ┆   ┆ list[str]   ┆ list[str]   ┆ date       ┆ ---        │\n",
       "│          ┆             ┆        ┆      ┆   ┆             ┆             ┆            ┆ duration[μ │\n",
       "│          ┆             ┆        ┆      ┆   ┆             ┆             ┆            ┆ s]         │\n",
       "╞══════════╪═════════════╪════════╪══════╪═══╪═════════════╪═════════════╪════════════╪════════════╡\n",
       "│ 1        ┆ Han Solo    ┆ 180    ┆ 80.0 ┆ … ┆ null        ┆ [\"Millenniu ┆ 1948-06-01 ┆ 1h 12m 37s │\n",
       "│          ┆             ┆        ┆      ┆   ┆             ┆ m Falcon\",  ┆            ┆            │\n",
       "│          ┆             ┆        ┆      ┆   ┆             ┆ \"Imperia…   ┆            ┆            │\n",
       "│ 2        ┆ Luke        ┆ 172    ┆ 77.0 ┆ … ┆ [\"Snowspeed ┆ [\"X-wing\",  ┆ 1958-05-30 ┆ 1h 58m 44s │\n",
       "│          ┆ Skywalker   ┆        ┆      ┆   ┆ er\",        ┆ \"Imperial   ┆            ┆            │\n",
       "│          ┆             ┆        ┆      ┆   ┆ \"Imperial   ┆ shuttle\"]   ┆            ┆            │\n",
       "│          ┆             ┆        ┆      ┆   ┆ Spee…       ┆             ┆            ┆            │\n",
       "└──────────┴─────────────┴────────┴──────┴───┴─────────────┴─────────────┴────────────┴────────────┘"
      ]
     },
     "execution_count": 26,
     "metadata": {},
     "output_type": "execute_result"
    }
   ],
   "source": [
    "rebels.with_row_index(name='rebel_id', offset=1)"
   ]
  },
  {
   "cell_type": "markdown",
   "id": "fb236f84-bafc-482d-8961-5b11fdcf2cd8",
   "metadata": {},
   "source": [
    "（余談 / 気付き）  \n",
    "polarsのメソッドで、`.with_~~`みたいな感じでwithから始まる系のメソッドは追加する操作なのかもしれない"
   ]
  },
  {
   "cell_type": "code",
   "execution_count": null,
   "id": "393e2375-a187-4eb7-9ea8-22bf44d0a7ae",
   "metadata": {},
   "outputs": [],
   "source": []
  }
 ],
 "metadata": {
  "kernelspec": {
   "display_name": "Python 3 (ipykernel)",
   "language": "python",
   "name": "python3"
  },
  "language_info": {
   "codemirror_mode": {
    "name": "ipython",
    "version": 3
   },
   "file_extension": ".py",
   "mimetype": "text/x-python",
   "name": "python",
   "nbconvert_exporter": "python",
   "pygments_lexer": "ipython3",
   "version": "3.12.3"
  }
 },
 "nbformat": 4,
 "nbformat_minor": 5
}
