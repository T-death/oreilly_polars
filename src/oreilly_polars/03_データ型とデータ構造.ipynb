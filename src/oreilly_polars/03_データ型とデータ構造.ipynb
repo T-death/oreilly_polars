{
 "cells": [
  {
   "cell_type": "markdown",
   "id": "02621efd-5fe2-4383-a745-b01570e008b3",
   "metadata": {},
   "source": [
    "# データ型とデータ構造"
   ]
  },
  {
   "cell_type": "code",
   "execution_count": 1,
   "id": "c31f7df3-8a4d-43b7-aae9-49e4cb1f2838",
   "metadata": {},
   "outputs": [],
   "source": [
    "import os\n",
    "\n",
    "import polars as pl"
   ]
  },
  {
   "cell_type": "markdown",
   "id": "ad991702-6a6b-4e61-8861-9720a87c7baa",
   "metadata": {
    "jp-MarkdownHeadingCollapsed": true
   },
   "source": [
    "## ネストされたデータ型\n",
    "polarsでは、ネストされたデータ型は特別なクラスとして扱われる。  \n",
    "ネストされたデータ型の要素にはプリミティブ型が使用でき、ネストされたデータ型には`Array / List / Struct`の3つがある。"
   ]
  },
  {
   "cell_type": "markdown",
   "id": "27a045d6-902b-40fd-b7a3-0d3a8204340d",
   "metadata": {},
   "source": [
    "array型"
   ]
  },
  {
   "cell_type": "code",
   "execution_count": 2,
   "id": "244f1d9c-e416-41f4-9b05-a30ec74bb0f9",
   "metadata": {},
   "outputs": [
    {
     "data": {
      "text/html": [
       "<div><style>\n",
       ".dataframe > thead > tr,\n",
       ".dataframe > tbody > tr {\n",
       "  text-align: right;\n",
       "  white-space: pre-wrap;\n",
       "}\n",
       "</style>\n",
       "<small>shape: (2, 2)</small><table border=\"1\" class=\"dataframe\"><thead><tr><th>array_1</th><th>array_2</th></tr><tr><td>array[i64, 2]</td><td>array[i64, 3]</td></tr></thead><tbody><tr><td>[1, 3]</td><td>[1, 7, 3]</td></tr><tr><td>[2, 5]</td><td>[8, 1, 0]</td></tr></tbody></table></div>"
      ],
      "text/plain": [
       "shape: (2, 2)\n",
       "┌───────────────┬───────────────┐\n",
       "│ array_1       ┆ array_2       │\n",
       "│ ---           ┆ ---           │\n",
       "│ array[i64, 2] ┆ array[i64, 3] │\n",
       "╞═══════════════╪═══════════════╡\n",
       "│ [1, 3]        ┆ [1, 7, 3]     │\n",
       "│ [2, 5]        ┆ [8, 1, 0]     │\n",
       "└───────────────┴───────────────┘"
      ]
     },
     "execution_count": 2,
     "metadata": {},
     "output_type": "execute_result"
    }
   ],
   "source": [
    "array_df = pl.DataFrame(\n",
    "    [\n",
    "        pl.Series('array_1', [[1, 3], [2, 5]]),\n",
    "        pl.Series('array_2', [[1, 7, 3], [8, 1, 0]]),\n",
    "    ],\n",
    "    schema={\n",
    "        'array_1': pl.Array(shape=2, inner=pl.Int64),\n",
    "        'array_2': pl.Array(shape=3, inner=pl.Int64)\n",
    "    }\n",
    ")\n",
    "\n",
    "array_df"
   ]
  },
  {
   "cell_type": "markdown",
   "id": "41f7f568-f0ca-4cac-8f74-fca681bef38d",
   "metadata": {},
   "source": [
    "Array型では、pythonのarray型と同様に要素の型が統一されている必要がある。  \n",
    "しかし、DataFrameの全ての行で、ネストされたデータの長さが一致している必要はない（上記のように、各行/列でArray型の長さが異なっていてもOK）"
   ]
  },
  {
   "cell_type": "markdown",
   "id": "ec95a6b7-2420-4891-8817-1242db235366",
   "metadata": {},
   "source": [
    "（余談）  \n",
    "numpyだと型を指定する際に`int64`みたいな扱い方をしたけれど、polarsでは`pl.Int64`というように大文字から始めるのか。Golangみたい"
   ]
  },
  {
   "cell_type": "markdown",
   "id": "b329d55e-0a43-40b2-8396-b9bd45c3576d",
   "metadata": {},
   "source": [
    "list型"
   ]
  },
  {
   "cell_type": "code",
   "execution_count": 3,
   "id": "a5e93890-2b77-40c2-bcfe-5fe1fd5ef6a7",
   "metadata": {},
   "outputs": [
    {
     "data": {
      "text/html": [
       "<div><style>\n",
       ".dataframe > thead > tr,\n",
       ".dataframe > tbody > tr {\n",
       "  text-align: right;\n",
       "  white-space: pre-wrap;\n",
       "}\n",
       "</style>\n",
       "<small>shape: (2, 2)</small><table border=\"1\" class=\"dataframe\"><thead><tr><th>intege_lists</th><th>float_lists</th></tr><tr><td>list[i64]</td><td>list[f64]</td></tr></thead><tbody><tr><td>[1, 2]</td><td>[1.0, 2.0]</td></tr><tr><td>[3, 4]</td><td>[3.0, 4.0]</td></tr></tbody></table></div>"
      ],
      "text/plain": [
       "shape: (2, 2)\n",
       "┌──────────────┬─────────────┐\n",
       "│ intege_lists ┆ float_lists │\n",
       "│ ---          ┆ ---         │\n",
       "│ list[i64]    ┆ list[f64]   │\n",
       "╞══════════════╪═════════════╡\n",
       "│ [1, 2]       ┆ [1.0, 2.0]  │\n",
       "│ [3, 4]       ┆ [3.0, 4.0]  │\n",
       "└──────────────┴─────────────┘"
      ]
     },
     "execution_count": 3,
     "metadata": {},
     "output_type": "execute_result"
    }
   ],
   "source": [
    "list_df = pl.DataFrame(\n",
    "    {\n",
    "        'intege_lists': [[1, 2], [3, 4]],\n",
    "        'float_lists': [[1.0, 2.0], [3.0, 4.0]],\n",
    "    }\n",
    ")\n",
    "\n",
    "list_df"
   ]
  },
  {
   "cell_type": "markdown",
   "id": "40ad9fdf-cc89-4834-8bd2-67c08c99ff3e",
   "metadata": {},
   "source": [
    "Struct型"
   ]
  },
  {
   "cell_type": "code",
   "execution_count": 4,
   "id": "4f2ec3e0-2eb9-4e68-979b-3de28bb292ab",
   "metadata": {},
   "outputs": [
    {
     "data": {
      "text/html": [
       "<div><style>\n",
       ".dataframe > thead > tr,\n",
       ".dataframe > tbody > tr {\n",
       "  text-align: right;\n",
       "  white-space: pre-wrap;\n",
       "}\n",
       "</style>\n",
       "<small>shape: (2,)</small><table border=\"1\" class=\"dataframe\"><thead><tr><th>ratings</th></tr><tr><td>struct[3]</td></tr></thead><tbody><tr><td>{&quot;Cars&quot;,&quot;NE&quot;,4.5}</td></tr><tr><td>{&quot;Toy Story&quot;,&quot;ME&quot;,null}</td></tr></tbody></table></div>"
      ],
      "text/plain": [
       "shape: (2,)\n",
       "Series: 'ratings' [struct[3]]\n",
       "[\n",
       "\t{\"Cars\",\"NE\",4.5}\n",
       "\t{\"Toy Story\",\"ME\",null}\n",
       "]"
      ]
     },
     "execution_count": 4,
     "metadata": {},
     "output_type": "execute_result"
    }
   ],
   "source": [
    "rating_series = pl.Series(\n",
    "    'ratings',\n",
    "    [\n",
    "        {'Movie': 'Cars', 'Theatre': 'NE', 'Avg_Raging': 4.5},\n",
    "        {'Movie': 'Toy Story', 'Theatre': 'ME', 'Avg_Rating': 4.9}\n",
    "    ],\n",
    ")\n",
    "\n",
    "rating_series"
   ]
  },
  {
   "cell_type": "markdown",
   "id": "16e1330b-3704-4470-9f06-4a5aa8363139",
   "metadata": {},
   "source": [
    "Struct型は複数の列を操作する時に使用する型。DataFrameの要素に複数の情報を含めたい場合に使用される。  \n",
    "DataFrame in Series(or DataFrame)的なことが実現したいときに使われるのかな？つまり、3次元以上のDataFrameを扱うことができるイメージ？"
   ]
  },
  {
   "cell_type": "markdown",
   "id": "494f0d2c-2fd6-4a91-9d0b-404245549128",
   "metadata": {
    "jp-MarkdownHeadingCollapsed": true
   },
   "source": [
    "## 欠損値"
   ]
  },
  {
   "cell_type": "code",
   "execution_count": 5,
   "id": "4e6449e7-3969-4b77-8f4c-a14213356ce6",
   "metadata": {},
   "outputs": [
    {
     "name": "stdout",
     "output_type": "stream",
     "text": [
      "shape: (10, 1)\n",
      "┌───────┐\n",
      "│ value │\n",
      "│ ---   │\n",
      "│ i64   │\n",
      "╞═══════╡\n",
      "│ null  │\n",
      "│ 2     │\n",
      "│ 3     │\n",
      "│ 4     │\n",
      "│ null  │\n",
      "│ null  │\n",
      "│ 7     │\n",
      "│ 8     │\n",
      "│ 9     │\n",
      "│ null  │\n",
      "└───────┘\n"
     ]
    }
   ],
   "source": [
    "df = pl.DataFrame(\n",
    "    {\n",
    "        'value': [None, 2, 3, 4, None, None, 7, 8, 9, None],\n",
    "    },\n",
    ")\n",
    "\n",
    "print(df)"
   ]
  },
  {
   "cell_type": "markdown",
   "id": "745739f9-abcb-4fe6-bd6e-404be96caffc",
   "metadata": {},
   "source": [
    "### `null`を指定した数値で置換"
   ]
  },
  {
   "cell_type": "code",
   "execution_count": 6,
   "id": "f4848a4f-40b2-4ace-99df-06faf06449b1",
   "metadata": {},
   "outputs": [
    {
     "name": "stdout",
     "output_type": "stream",
     "text": [
      "shape: (10, 2)\n",
      "┌───────┬─────────────────┐\n",
      "│ value ┆ filled_with_lit │\n",
      "│ ---   ┆ ---             │\n",
      "│ i64   ┆ i64             │\n",
      "╞═══════╪═════════════════╡\n",
      "│ null  ┆ -1              │\n",
      "│ 2     ┆ 2               │\n",
      "│ 3     ┆ 3               │\n",
      "│ 4     ┆ 4               │\n",
      "│ null  ┆ -1              │\n",
      "│ null  ┆ -1              │\n",
      "│ 7     ┆ 7               │\n",
      "│ 8     ┆ 8               │\n",
      "│ 9     ┆ 9               │\n",
      "│ null  ┆ -1              │\n",
      "└───────┴─────────────────┘\n"
     ]
    }
   ],
   "source": [
    "print(\n",
    "    df\n",
    "    .with_columns(\n",
    "        pl.col('value')\n",
    "        .fill_null(-1)\n",
    "        .alias('filled_with_lit')\n",
    "    )\n",
    ")"
   ]
  },
  {
   "cell_type": "markdown",
   "id": "1690971c-6e9b-4b78-9431-399533053df8",
   "metadata": {},
   "source": [
    "こうしてみると、確かにpandasみたいに`[`,`]`を乱用することなく記述できるのか。なるほど"
   ]
  },
  {
   "cell_type": "markdown",
   "id": "2c27c1a9-5e80-4508-b92a-3836011b29b0",
   "metadata": {},
   "source": [
    "(余談)  \n",
    "polarsに限った話かは不明だが、改行のタイミングは`.~~()`のときなのか。筆者のクセかもしれないから断定するつもりはないけれど"
   ]
  },
  {
   "cell_type": "markdown",
   "id": "23467092-c269-4faf-8438-a51072f3df94",
   "metadata": {},
   "source": [
    "### モジュールで用意されてる手法を使用する"
   ]
  },
  {
   "cell_type": "code",
   "execution_count": 7,
   "id": "89e7abfa-c39b-4a55-8144-925e1b888971",
   "metadata": {},
   "outputs": [
    {
     "name": "stdout",
     "output_type": "stream",
     "text": [
      "shape: (10, 8)\n",
      "┌───────┬─────────┬──────────┬─────┬─────┬──────┬──────┬─────┐\n",
      "│ value ┆ forward ┆ backward ┆ min ┆ max ┆ mean ┆ zero ┆ one │\n",
      "│ ---   ┆ ---     ┆ ---      ┆ --- ┆ --- ┆ ---  ┆ ---  ┆ --- │\n",
      "│ i64   ┆ i64     ┆ i64      ┆ i64 ┆ i64 ┆ i64  ┆ i64  ┆ i64 │\n",
      "╞═══════╪═════════╪══════════╪═════╪═════╪══════╪══════╪═════╡\n",
      "│ null  ┆ null    ┆ 2        ┆ 2   ┆ 9   ┆ 5    ┆ 0    ┆ 1   │\n",
      "│ 2     ┆ 2       ┆ 2        ┆ 2   ┆ 2   ┆ 2    ┆ 2    ┆ 2   │\n",
      "│ 3     ┆ 3       ┆ 3        ┆ 3   ┆ 3   ┆ 3    ┆ 3    ┆ 3   │\n",
      "│ 4     ┆ 4       ┆ 4        ┆ 4   ┆ 4   ┆ 4    ┆ 4    ┆ 4   │\n",
      "│ null  ┆ 4       ┆ 7        ┆ 2   ┆ 9   ┆ 5    ┆ 0    ┆ 1   │\n",
      "│ null  ┆ 4       ┆ 7        ┆ 2   ┆ 9   ┆ 5    ┆ 0    ┆ 1   │\n",
      "│ 7     ┆ 7       ┆ 7        ┆ 7   ┆ 7   ┆ 7    ┆ 7    ┆ 7   │\n",
      "│ 8     ┆ 8       ┆ 8        ┆ 8   ┆ 8   ┆ 8    ┆ 8    ┆ 8   │\n",
      "│ 9     ┆ 9       ┆ 9        ┆ 9   ┆ 9   ┆ 9    ┆ 9    ┆ 9   │\n",
      "│ null  ┆ 9       ┆ null     ┆ 2   ┆ 9   ┆ 5    ┆ 0    ┆ 1   │\n",
      "└───────┴─────────┴──────────┴─────┴─────┴──────┴──────┴─────┘\n"
     ]
    }
   ],
   "source": [
    "print(\n",
    "    df\n",
    "    .with_columns(\n",
    "        pl.col(\"value\")\n",
    "        .fill_null(strategy=\"forward\")\n",
    "        .alias(\"forward\"),\n",
    "        pl.col(\"value\")\n",
    "        .fill_null(strategy=\"backward\")\n",
    "        .alias(\"backward\"),\n",
    "        pl.col(\"value\")\n",
    "        .fill_null(strategy=\"min\")\n",
    "        .alias(\"min\"),\n",
    "        pl.col(\"value\")\n",
    "        .fill_null(strategy=\"max\")\n",
    "        .alias(\"max\"),\n",
    "        pl.col(\"value\")\n",
    "        .fill_null(strategy=\"mean\")\n",
    "        .alias(\"mean\"),\n",
    "        pl.col(\"value\")\n",
    "        .fill_null(strategy=\"zero\")\n",
    "        .alias(\"zero\"),\n",
    "        pl.col(\"value\")\n",
    "        .fill_null(strategy=\"one\")\n",
    "        .alias(\"one\"),\n",
    "    )\n",
    ")"
   ]
  },
  {
   "cell_type": "markdown",
   "id": "c745d38f-62e7-4135-b9e1-d44e28b06567",
   "metadata": {},
   "source": [
    "`forward`は直前の行の数値を使用して、`backward`は直後の行の数値を使用する。  \n",
    "気を付ける必要がある点は、`strategy`によって指定した手法で扱うデータ型がint型の場合は、計算結果がint型になるように収められてしまう。  \n",
    "float型で扱いたい場合は、以下のように実行する"
   ]
  },
  {
   "cell_type": "markdown",
   "id": "a30cc3f2-8358-479b-b29e-126f3f17d180",
   "metadata": {},
   "source": [
    "### 型の扱いを変えたいver  \n",
    "pandasに近いやり方な気がする"
   ]
  },
  {
   "cell_type": "code",
   "execution_count": 8,
   "id": "4e3df4c4-d3a7-4030-bca7-26f29be63148",
   "metadata": {},
   "outputs": [
    {
     "name": "stdout",
     "output_type": "stream",
     "text": [
      "shape: (10, 2)\n",
      "┌───────┬─────────────────┐\n",
      "│ value ┆ expression_mean │\n",
      "│ ---   ┆ ---             │\n",
      "│ i64   ┆ f64             │\n",
      "╞═══════╪═════════════════╡\n",
      "│ null  ┆ 5.5             │\n",
      "│ 2     ┆ 2.0             │\n",
      "│ 3     ┆ 3.0             │\n",
      "│ 4     ┆ 4.0             │\n",
      "│ null  ┆ 5.5             │\n",
      "│ null  ┆ 5.5             │\n",
      "│ 7     ┆ 7.0             │\n",
      "│ 8     ┆ 8.0             │\n",
      "│ 9     ┆ 9.0             │\n",
      "│ null  ┆ 5.5             │\n",
      "└───────┴─────────────────┘\n"
     ]
    }
   ],
   "source": [
    "print(\n",
    "    df\n",
    "    .with_columns(\n",
    "        pl.col(\"value\")\n",
    "        .fill_null(pl.col(\"value\").mean())\n",
    "        .alias(\"expression_mean\")\n",
    "    )\n",
    ")"
   ]
  },
  {
   "cell_type": "markdown",
   "id": "028fc7d8-c57b-4b09-afee-419dc8756abe",
   "metadata": {},
   "source": [
    "### 線形補完\n",
    "線形補完では前後に情報が必要であるため、DataFrameの先頭と末端がnullの場合はnullのままになってしまう"
   ]
  },
  {
   "cell_type": "code",
   "execution_count": 9,
   "id": "8d8acb6d-d133-47a9-b61a-aa5a35f9f0aa",
   "metadata": {},
   "outputs": [
    {
     "name": "stdout",
     "output_type": "stream",
     "text": [
      "shape: (10, 1)\n",
      "┌───────┐\n",
      "│ value │\n",
      "│ ---   │\n",
      "│ f64   │\n",
      "╞═══════╡\n",
      "│ null  │\n",
      "│ 2.0   │\n",
      "│ 3.0   │\n",
      "│ 4.0   │\n",
      "│ 5.0   │\n",
      "│ 6.0   │\n",
      "│ 7.0   │\n",
      "│ 8.0   │\n",
      "│ 9.0   │\n",
      "│ null  │\n",
      "└───────┘\n"
     ]
    }
   ],
   "source": [
    "print(\n",
    "    df.interpolate()\n",
    ")"
   ]
  },
  {
   "cell_type": "markdown",
   "id": "00b1fd8d-35da-47fc-9b9c-5e28a8ff4af7",
   "metadata": {
    "jp-MarkdownHeadingCollapsed": true
   },
   "source": [
    "## Series / DataFrame / LazyFrame"
   ]
  },
  {
   "cell_type": "code",
   "execution_count": 10,
   "id": "644d1a1d-2b36-443f-ab54-2fd7aeab7f8f",
   "metadata": {},
   "outputs": [
    {
     "name": "stdout",
     "output_type": "stream",
     "text": [
      "shape: (3, 1)\n",
      "┌───────┐\n",
      "│ id    │\n",
      "│ ---   │\n",
      "│ str   │\n",
      "╞═══════╡\n",
      "│ 10000 │\n",
      "│ 20000 │\n",
      "│ 30000 │\n",
      "└───────┘\n",
      "Estimated size: 15 bytes\n"
     ]
    }
   ],
   "source": [
    "string_df = pl.DataFrame({'id': ['10000', '20000', '30000']})\n",
    "print(string_df)\n",
    "print(f\"Estimated size: {string_df.estimated_size('b')} bytes\")"
   ]
  },
  {
   "cell_type": "markdown",
   "id": "34006e35-a40f-4bc2-b4ce-56cadb808eb6",
   "metadata": {},
   "source": [
    "上記の結果を踏まえて、メモリを節約する"
   ]
  },
  {
   "cell_type": "code",
   "execution_count": 11,
   "id": "f4022bdb-7fb7-408f-8cd2-cdc3fddb0dc2",
   "metadata": {},
   "outputs": [
    {
     "name": "stdout",
     "output_type": "stream",
     "text": [
      "shape: (3, 1)\n",
      "┌───────┐\n",
      "│ id    │\n",
      "│ ---   │\n",
      "│ u16   │\n",
      "╞═══════╡\n",
      "│ 10000 │\n",
      "│ 20000 │\n",
      "│ 30000 │\n",
      "└───────┘\n",
      "Estimated size: 6 bytes\n"
     ]
    }
   ],
   "source": [
    "int_df = string_df.select(pl.col('id').cast(pl.UInt16))\n",
    "print(int_df)\n",
    "print(f\"Estimated size: {int_df.estimated_size('b')} bytes\")"
   ]
  },
  {
   "cell_type": "markdown",
   "id": "13361545-ed8a-423c-910b-b27ea4197ede",
   "metadata": {},
   "source": [
    "string型のときは1文字あたり1バイト使用していたが、16ビットの符号なし整数型を使うことで、1つの数字あたり2バイトで収まっている。  \n",
    "こう考えてみると、適切な型を指定するだけでメリットって莫大だなぁ"
   ]
  },
  {
   "cell_type": "code",
   "execution_count": 12,
   "id": "95ad1da7-435f-4153-ba2f-c92ef3a21558",
   "metadata": {},
   "outputs": [
    {
     "data": {
      "text/html": [
       "<div><style>\n",
       ".dataframe > thead > tr,\n",
       ".dataframe > tbody > tr {\n",
       "  text-align: right;\n",
       "  white-space: pre-wrap;\n",
       "}\n",
       "</style>\n",
       "<small>shape: (3, 3)</small><table border=\"1\" class=\"dataframe\"><thead><tr><th>id</th><th>value</th><th>value2</th></tr><tr><td>u16</td><td>u16</td><td>u16</td></tr></thead><tbody><tr><td>10000</td><td>1</td><td>1</td></tr><tr><td>20000</td><td>2</td><td>2</td></tr><tr><td>30000</td><td>3</td><td>3</td></tr></tbody></table></div>"
      ],
      "text/plain": [
       "shape: (3, 3)\n",
       "┌───────┬───────┬────────┐\n",
       "│ id    ┆ value ┆ value2 │\n",
       "│ ---   ┆ ---   ┆ ---    │\n",
       "│ u16   ┆ u16   ┆ u16    │\n",
       "╞═══════╪═══════╪════════╡\n",
       "│ 10000 ┆ 1     ┆ 1      │\n",
       "│ 20000 ┆ 2     ┆ 2      │\n",
       "│ 30000 ┆ 3     ┆ 3      │\n",
       "└───────┴───────┴────────┘"
      ]
     },
     "execution_count": 12,
     "metadata": {},
     "output_type": "execute_result"
    }
   ],
   "source": [
    "df = pl.DataFrame(\n",
    "    {\n",
    "        'id': [10000, 20000, 30000],\n",
    "        'value': [1.0, 2.0, 3.0],\n",
    "        'value2': ['1', '2', '3'],\n",
    "    }\n",
    ")\n",
    "\n",
    "df.cast(pl.UInt16)"
   ]
  },
  {
   "cell_type": "markdown",
   "id": "427612c4-7d85-4a75-9a21-0a47664583e0",
   "metadata": {},
   "source": [
    "列を指定しなくても、DataFrame全体に対してcastすることが可能"
   ]
  },
  {
   "cell_type": "code",
   "execution_count": 13,
   "id": "54a190ad-7cbf-40da-89ad-05280d858ac7",
   "metadata": {},
   "outputs": [
    {
     "data": {
      "text/html": [
       "<div><style>\n",
       ".dataframe > thead > tr,\n",
       ".dataframe > tbody > tr {\n",
       "  text-align: right;\n",
       "  white-space: pre-wrap;\n",
       "}\n",
       "</style>\n",
       "<small>shape: (3, 3)</small><table border=\"1\" class=\"dataframe\"><thead><tr><th>id</th><th>value</th><th>value2</th></tr><tr><td>u16</td><td>f32</td><td>u8</td></tr></thead><tbody><tr><td>10000</td><td>1.0</td><td>1</td></tr><tr><td>20000</td><td>2.0</td><td>2</td></tr><tr><td>30000</td><td>3.0</td><td>3</td></tr></tbody></table></div>"
      ],
      "text/plain": [
       "shape: (3, 3)\n",
       "┌───────┬───────┬────────┐\n",
       "│ id    ┆ value ┆ value2 │\n",
       "│ ---   ┆ ---   ┆ ---    │\n",
       "│ u16   ┆ f32   ┆ u8     │\n",
       "╞═══════╪═══════╪════════╡\n",
       "│ 10000 ┆ 1.0   ┆ 1      │\n",
       "│ 20000 ┆ 2.0   ┆ 2      │\n",
       "│ 30000 ┆ 3.0   ┆ 3      │\n",
       "└───────┴───────┴────────┘"
      ]
     },
     "execution_count": 13,
     "metadata": {},
     "output_type": "execute_result"
    }
   ],
   "source": [
    "df.cast({'id': pl.UInt16, 'value': pl.Float32, 'value2': pl.UInt8})"
   ]
  },
  {
   "cell_type": "markdown",
   "id": "10ac6439-7799-422d-a3e8-f167752c5d6c",
   "metadata": {},
   "source": [
    "一括で、別々のカラムの型をcastすることも可能。  \n",
    "例えばデータの前処理で、フラグに相当するカラムとかは`UInt8/Int8`とかを使うことでメモリの節約ができるのか"
   ]
  },
  {
   "cell_type": "code",
   "execution_count": 14,
   "id": "2246457d-213f-40bd-be9e-32a401f0fc31",
   "metadata": {},
   "outputs": [
    {
     "data": {
      "text/html": [
       "<div><style>\n",
       ".dataframe > thead > tr,\n",
       ".dataframe > tbody > tr {\n",
       "  text-align: right;\n",
       "  white-space: pre-wrap;\n",
       "}\n",
       "</style>\n",
       "<small>shape: (3, 3)</small><table border=\"1\" class=\"dataframe\"><thead><tr><th>id</th><th>value</th><th>value2</th></tr><tr><td>i64</td><td>f32</td><td>u8</td></tr></thead><tbody><tr><td>10000</td><td>1.0</td><td>1</td></tr><tr><td>20000</td><td>2.0</td><td>2</td></tr><tr><td>30000</td><td>3.0</td><td>3</td></tr></tbody></table></div>"
      ],
      "text/plain": [
       "shape: (3, 3)\n",
       "┌───────┬───────┬────────┐\n",
       "│ id    ┆ value ┆ value2 │\n",
       "│ ---   ┆ ---   ┆ ---    │\n",
       "│ i64   ┆ f32   ┆ u8     │\n",
       "╞═══════╪═══════╪════════╡\n",
       "│ 10000 ┆ 1.0   ┆ 1      │\n",
       "│ 20000 ┆ 2.0   ┆ 2      │\n",
       "│ 30000 ┆ 3.0   ┆ 3      │\n",
       "└───────┴───────┴────────┘"
      ]
     },
     "execution_count": 14,
     "metadata": {},
     "output_type": "execute_result"
    }
   ],
   "source": [
    "df.cast({pl.Float64: pl.Float32, pl.String: pl.UInt8})"
   ]
  },
  {
   "cell_type": "markdown",
   "id": "ae567255-f268-4762-a080-b14ebf6197df",
   "metadata": {},
   "source": [
    "この使い方は場合によってはめちゃくちゃ便利だけれど、やらかす可能性もありそう.."
   ]
  },
  {
   "cell_type": "code",
   "execution_count": null,
   "id": "5a603248-7355-4017-9868-63e0eecd7c91",
   "metadata": {},
   "outputs": [],
   "source": []
  }
 ],
 "metadata": {
  "kernelspec": {
   "display_name": "Python 3 (ipykernel)",
   "language": "python",
   "name": "python3"
  },
  "language_info": {
   "codemirror_mode": {
    "name": "ipython",
    "version": 3
   },
   "file_extension": ".py",
   "mimetype": "text/x-python",
   "name": "python",
   "nbconvert_exporter": "python",
   "pygments_lexer": "ipython3",
   "version": "3.12.3"
  }
 },
 "nbformat": 4,
 "nbformat_minor": 5
}
