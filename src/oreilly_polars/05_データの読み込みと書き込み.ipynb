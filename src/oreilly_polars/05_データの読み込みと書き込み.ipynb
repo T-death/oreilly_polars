{
 "cells": [
  {
   "cell_type": "markdown",
   "id": "3e197050-d195-4561-9555-41a1170b43f9",
   "metadata": {},
   "source": [
    "# データの読み込みと書き込み"
   ]
  },
  {
   "cell_type": "code",
   "execution_count": 1,
   "id": "9ba7b6bf-3319-4d79-9d63-762198d43862",
   "metadata": {},
   "outputs": [],
   "source": [
    "import os\n",
    "\n",
    "import polars as pl"
   ]
  },
  {
   "cell_type": "markdown",
   "id": "e0d832be-346a-4711-8967-e76e19cf934d",
   "metadata": {},
   "source": [
    "## 定数定義"
   ]
  },
  {
   "cell_type": "code",
   "execution_count": 2,
   "id": "1605a8da-ffb4-4a3f-92e4-4e7e6d88cdf2",
   "metadata": {},
   "outputs": [],
   "source": [
    "DATA_PAR_PATH = os.path.join('..','..','data')\n",
    "INPUT_CSV_PATH_PENGUINS = os.path.join(DATA_PAR_PATH,'penguins.csv')\n",
    "INPUT_CSV_PATH_DIRECTORS = os.path.join(DATA_PAR_PATH,'directors.csv')\n",
    "INPUT_EXCEL_PATH_SONGS = os.path.join(DATA_PAR_PATH,'top2000-2023.xlsx')\n",
    "INPUT_CSVS_PATH_NVIDIA = os.path.join(DATA_PAR_PATH,'nvda','202[0-9].csv')\n",
    "INPUT_CSVS_PATH_ASML = os.path.join(DATA_PAR_PATH,'asml','*.csv')\n",
    "INPUT_PARQUETS_PATH_TAXI = os.path.join(DATA_PAR_PATH,'taxi','yellow_tripdata_*.parquet')\n",
    "INPUT_JSON_PATH_POKEDEX = os.path.join(DATA_PAR_PATH,'pokedex.json')\n",
    "INPUT_NDJSON_PATH_WIKIMEDIA = os.path.join(DATA_PAR_PATH,'wikimedia.ndjson')"
   ]
  },
  {
   "cell_type": "markdown",
   "id": "de16755e-aa72-4af2-b61e-34b78efeda0d",
   "metadata": {
    "jp-MarkdownHeadingCollapsed": true
   },
   "source": [
    "## csvファイルの読み込み"
   ]
  },
  {
   "cell_type": "code",
   "execution_count": 3,
   "id": "408eb7a8-1e90-4c1a-80b1-e7509e7d89fc",
   "metadata": {},
   "outputs": [
    {
     "data": {
      "text/html": [
       "<div><style>\n",
       ".dataframe > thead > tr,\n",
       ".dataframe > tbody > tr {\n",
       "  text-align: right;\n",
       "  white-space: pre-wrap;\n",
       "}\n",
       "</style>\n",
       "<small>shape: (344, 9)</small><table border=\"1\" class=\"dataframe\"><thead><tr><th>rowid</th><th>species</th><th>island</th><th>bill_length_mm</th><th>bill_depth_mm</th><th>flipper_length_mm</th><th>body_mass_g</th><th>sex</th><th>year</th></tr><tr><td>i64</td><td>str</td><td>str</td><td>str</td><td>str</td><td>str</td><td>str</td><td>str</td><td>i64</td></tr></thead><tbody><tr><td>1</td><td>&quot;Adelie&quot;</td><td>&quot;Torgersen&quot;</td><td>&quot;39.1&quot;</td><td>&quot;18.7&quot;</td><td>&quot;181&quot;</td><td>&quot;3750&quot;</td><td>&quot;male&quot;</td><td>2007</td></tr><tr><td>2</td><td>&quot;Adelie&quot;</td><td>&quot;Torgersen&quot;</td><td>&quot;39.5&quot;</td><td>&quot;17.4&quot;</td><td>&quot;186&quot;</td><td>&quot;3800&quot;</td><td>&quot;female&quot;</td><td>2007</td></tr><tr><td>3</td><td>&quot;Adelie&quot;</td><td>&quot;Torgersen&quot;</td><td>&quot;40.3&quot;</td><td>&quot;18&quot;</td><td>&quot;195&quot;</td><td>&quot;3250&quot;</td><td>&quot;female&quot;</td><td>2007</td></tr><tr><td>4</td><td>&quot;Adelie&quot;</td><td>&quot;Torgersen&quot;</td><td>&quot;NA&quot;</td><td>&quot;NA&quot;</td><td>&quot;NA&quot;</td><td>&quot;NA&quot;</td><td>&quot;NA&quot;</td><td>2007</td></tr><tr><td>5</td><td>&quot;Adelie&quot;</td><td>&quot;Torgersen&quot;</td><td>&quot;36.7&quot;</td><td>&quot;19.3&quot;</td><td>&quot;193&quot;</td><td>&quot;3450&quot;</td><td>&quot;female&quot;</td><td>2007</td></tr><tr><td>&hellip;</td><td>&hellip;</td><td>&hellip;</td><td>&hellip;</td><td>&hellip;</td><td>&hellip;</td><td>&hellip;</td><td>&hellip;</td><td>&hellip;</td></tr><tr><td>340</td><td>&quot;Chinstrap&quot;</td><td>&quot;Dream&quot;</td><td>&quot;55.8&quot;</td><td>&quot;19.8&quot;</td><td>&quot;207&quot;</td><td>&quot;4000&quot;</td><td>&quot;male&quot;</td><td>2009</td></tr><tr><td>341</td><td>&quot;Chinstrap&quot;</td><td>&quot;Dream&quot;</td><td>&quot;43.5&quot;</td><td>&quot;18.1&quot;</td><td>&quot;202&quot;</td><td>&quot;3400&quot;</td><td>&quot;female&quot;</td><td>2009</td></tr><tr><td>342</td><td>&quot;Chinstrap&quot;</td><td>&quot;Dream&quot;</td><td>&quot;49.6&quot;</td><td>&quot;18.2&quot;</td><td>&quot;193&quot;</td><td>&quot;3775&quot;</td><td>&quot;male&quot;</td><td>2009</td></tr><tr><td>343</td><td>&quot;Chinstrap&quot;</td><td>&quot;Dream&quot;</td><td>&quot;50.8&quot;</td><td>&quot;19&quot;</td><td>&quot;210&quot;</td><td>&quot;4100&quot;</td><td>&quot;male&quot;</td><td>2009</td></tr><tr><td>344</td><td>&quot;Chinstrap&quot;</td><td>&quot;Dream&quot;</td><td>&quot;50.2&quot;</td><td>&quot;18.7&quot;</td><td>&quot;198&quot;</td><td>&quot;3775&quot;</td><td>&quot;female&quot;</td><td>2009</td></tr></tbody></table></div>"
      ],
      "text/plain": [
       "shape: (344, 9)\n",
       "┌───────┬───────────┬───────────┬────────────────┬───┬───────────────┬─────────────┬────────┬──────┐\n",
       "│ rowid ┆ species   ┆ island    ┆ bill_length_mm ┆ … ┆ flipper_lengt ┆ body_mass_g ┆ sex    ┆ year │\n",
       "│ ---   ┆ ---       ┆ ---       ┆ ---            ┆   ┆ h_mm          ┆ ---         ┆ ---    ┆ ---  │\n",
       "│ i64   ┆ str       ┆ str       ┆ str            ┆   ┆ ---           ┆ str         ┆ str    ┆ i64  │\n",
       "│       ┆           ┆           ┆                ┆   ┆ str           ┆             ┆        ┆      │\n",
       "╞═══════╪═══════════╪═══════════╪════════════════╪═══╪═══════════════╪═════════════╪════════╪══════╡\n",
       "│ 1     ┆ Adelie    ┆ Torgersen ┆ 39.1           ┆ … ┆ 181           ┆ 3750        ┆ male   ┆ 2007 │\n",
       "│ 2     ┆ Adelie    ┆ Torgersen ┆ 39.5           ┆ … ┆ 186           ┆ 3800        ┆ female ┆ 2007 │\n",
       "│ 3     ┆ Adelie    ┆ Torgersen ┆ 40.3           ┆ … ┆ 195           ┆ 3250        ┆ female ┆ 2007 │\n",
       "│ 4     ┆ Adelie    ┆ Torgersen ┆ NA             ┆ … ┆ NA            ┆ NA          ┆ NA     ┆ 2007 │\n",
       "│ 5     ┆ Adelie    ┆ Torgersen ┆ 36.7           ┆ … ┆ 193           ┆ 3450        ┆ female ┆ 2007 │\n",
       "│ …     ┆ …         ┆ …         ┆ …              ┆ … ┆ …             ┆ …           ┆ …      ┆ …    │\n",
       "│ 340   ┆ Chinstrap ┆ Dream     ┆ 55.8           ┆ … ┆ 207           ┆ 4000        ┆ male   ┆ 2009 │\n",
       "│ 341   ┆ Chinstrap ┆ Dream     ┆ 43.5           ┆ … ┆ 202           ┆ 3400        ┆ female ┆ 2009 │\n",
       "│ 342   ┆ Chinstrap ┆ Dream     ┆ 49.6           ┆ … ┆ 193           ┆ 3775        ┆ male   ┆ 2009 │\n",
       "│ 343   ┆ Chinstrap ┆ Dream     ┆ 50.8           ┆ … ┆ 210           ┆ 4100        ┆ male   ┆ 2009 │\n",
       "│ 344   ┆ Chinstrap ┆ Dream     ┆ 50.2           ┆ … ┆ 198           ┆ 3775        ┆ female ┆ 2009 │\n",
       "└───────┴───────────┴───────────┴────────────────┴───┴───────────────┴─────────────┴────────┴──────┘"
      ]
     },
     "execution_count": 3,
     "metadata": {},
     "output_type": "execute_result"
    }
   ],
   "source": [
    "penguins = pl.read_csv(INPUT_CSV_PATH_PENGUINS)\n",
    "penguins"
   ]
  },
  {
   "cell_type": "markdown",
   "id": "4f140a69-8af4-48ad-830c-660f0724a340",
   "metadata": {},
   "source": [
    "4行目の値が`\"NA\"`になっている。確かこれまでの記憶だと、string型は`\"\"`で、integer型は`null`になってた記憶。  \n",
    "csvファイルを確認してみると、csvファイルに直接`NA`と記述されているため、このような読み取り結果になっていることが確認できた"
   ]
  },
  {
   "cell_type": "markdown",
   "id": "54f9199a-2123-4053-b000-69f4d9c4974c",
   "metadata": {},
   "source": [
    "欠損値を補完する"
   ]
  },
  {
   "cell_type": "code",
   "execution_count": 4,
   "id": "fcef434b-3d4f-4a22-a43a-0c3c28c9652c",
   "metadata": {},
   "outputs": [
    {
     "data": {
      "text/html": [
       "<div><style>\n",
       ".dataframe > thead > tr,\n",
       ".dataframe > tbody > tr {\n",
       "  text-align: right;\n",
       "  white-space: pre-wrap;\n",
       "}\n",
       "</style>\n",
       "<small>shape: (344, 9)</small><table border=\"1\" class=\"dataframe\"><thead><tr><th>rowid</th><th>species</th><th>island</th><th>bill_length_mm</th><th>bill_depth_mm</th><th>flipper_length_mm</th><th>body_mass_g</th><th>sex</th><th>year</th></tr><tr><td>i64</td><td>str</td><td>str</td><td>f64</td><td>f64</td><td>i64</td><td>i64</td><td>str</td><td>i64</td></tr></thead><tbody><tr><td>1</td><td>&quot;Adelie&quot;</td><td>&quot;Torgersen&quot;</td><td>39.1</td><td>18.7</td><td>181</td><td>3750</td><td>&quot;male&quot;</td><td>2007</td></tr><tr><td>2</td><td>&quot;Adelie&quot;</td><td>&quot;Torgersen&quot;</td><td>39.5</td><td>17.4</td><td>186</td><td>3800</td><td>&quot;female&quot;</td><td>2007</td></tr><tr><td>3</td><td>&quot;Adelie&quot;</td><td>&quot;Torgersen&quot;</td><td>40.3</td><td>18.0</td><td>195</td><td>3250</td><td>&quot;female&quot;</td><td>2007</td></tr><tr><td>4</td><td>&quot;Adelie&quot;</td><td>&quot;Torgersen&quot;</td><td>null</td><td>null</td><td>null</td><td>null</td><td>null</td><td>2007</td></tr><tr><td>5</td><td>&quot;Adelie&quot;</td><td>&quot;Torgersen&quot;</td><td>36.7</td><td>19.3</td><td>193</td><td>3450</td><td>&quot;female&quot;</td><td>2007</td></tr><tr><td>&hellip;</td><td>&hellip;</td><td>&hellip;</td><td>&hellip;</td><td>&hellip;</td><td>&hellip;</td><td>&hellip;</td><td>&hellip;</td><td>&hellip;</td></tr><tr><td>340</td><td>&quot;Chinstrap&quot;</td><td>&quot;Dream&quot;</td><td>55.8</td><td>19.8</td><td>207</td><td>4000</td><td>&quot;male&quot;</td><td>2009</td></tr><tr><td>341</td><td>&quot;Chinstrap&quot;</td><td>&quot;Dream&quot;</td><td>43.5</td><td>18.1</td><td>202</td><td>3400</td><td>&quot;female&quot;</td><td>2009</td></tr><tr><td>342</td><td>&quot;Chinstrap&quot;</td><td>&quot;Dream&quot;</td><td>49.6</td><td>18.2</td><td>193</td><td>3775</td><td>&quot;male&quot;</td><td>2009</td></tr><tr><td>343</td><td>&quot;Chinstrap&quot;</td><td>&quot;Dream&quot;</td><td>50.8</td><td>19.0</td><td>210</td><td>4100</td><td>&quot;male&quot;</td><td>2009</td></tr><tr><td>344</td><td>&quot;Chinstrap&quot;</td><td>&quot;Dream&quot;</td><td>50.2</td><td>18.7</td><td>198</td><td>3775</td><td>&quot;female&quot;</td><td>2009</td></tr></tbody></table></div>"
      ],
      "text/plain": [
       "shape: (344, 9)\n",
       "┌───────┬───────────┬───────────┬────────────────┬───┬───────────────┬─────────────┬────────┬──────┐\n",
       "│ rowid ┆ species   ┆ island    ┆ bill_length_mm ┆ … ┆ flipper_lengt ┆ body_mass_g ┆ sex    ┆ year │\n",
       "│ ---   ┆ ---       ┆ ---       ┆ ---            ┆   ┆ h_mm          ┆ ---         ┆ ---    ┆ ---  │\n",
       "│ i64   ┆ str       ┆ str       ┆ f64            ┆   ┆ ---           ┆ i64         ┆ str    ┆ i64  │\n",
       "│       ┆           ┆           ┆                ┆   ┆ i64           ┆             ┆        ┆      │\n",
       "╞═══════╪═══════════╪═══════════╪════════════════╪═══╪═══════════════╪═════════════╪════════╪══════╡\n",
       "│ 1     ┆ Adelie    ┆ Torgersen ┆ 39.1           ┆ … ┆ 181           ┆ 3750        ┆ male   ┆ 2007 │\n",
       "│ 2     ┆ Adelie    ┆ Torgersen ┆ 39.5           ┆ … ┆ 186           ┆ 3800        ┆ female ┆ 2007 │\n",
       "│ 3     ┆ Adelie    ┆ Torgersen ┆ 40.3           ┆ … ┆ 195           ┆ 3250        ┆ female ┆ 2007 │\n",
       "│ 4     ┆ Adelie    ┆ Torgersen ┆ null           ┆ … ┆ null          ┆ null        ┆ null   ┆ 2007 │\n",
       "│ 5     ┆ Adelie    ┆ Torgersen ┆ 36.7           ┆ … ┆ 193           ┆ 3450        ┆ female ┆ 2007 │\n",
       "│ …     ┆ …         ┆ …         ┆ …              ┆ … ┆ …             ┆ …           ┆ …      ┆ …    │\n",
       "│ 340   ┆ Chinstrap ┆ Dream     ┆ 55.8           ┆ … ┆ 207           ┆ 4000        ┆ male   ┆ 2009 │\n",
       "│ 341   ┆ Chinstrap ┆ Dream     ┆ 43.5           ┆ … ┆ 202           ┆ 3400        ┆ female ┆ 2009 │\n",
       "│ 342   ┆ Chinstrap ┆ Dream     ┆ 49.6           ┆ … ┆ 193           ┆ 3775        ┆ male   ┆ 2009 │\n",
       "│ 343   ┆ Chinstrap ┆ Dream     ┆ 50.8           ┆ … ┆ 210           ┆ 4100        ┆ male   ┆ 2009 │\n",
       "│ 344   ┆ Chinstrap ┆ Dream     ┆ 50.2           ┆ … ┆ 198           ┆ 3775        ┆ female ┆ 2009 │\n",
       "└───────┴───────────┴───────────┴────────────────┴───┴───────────────┴─────────────┴────────┴──────┘"
      ]
     },
     "execution_count": 4,
     "metadata": {},
     "output_type": "execute_result"
    }
   ],
   "source": [
    "penguins = pl.read_csv(INPUT_CSV_PATH_PENGUINS, null_values='NA')\n",
    "penguins"
   ]
  },
  {
   "cell_type": "markdown",
   "id": "85b199fd-c743-4b83-9db6-3e6377f522b3",
   "metadata": {},
   "source": [
    "指定した欠損値データを`null`にするためには、パラメータで指定してあげる。  \n",
    "このとき、置換する列の型に関わらず`null`になる（string型でもnullになる）"
   ]
  },
  {
   "cell_type": "markdown",
   "id": "8c70e8ed-26c0-48f9-b3cb-e7f21cdc46be",
   "metadata": {},
   "source": [
    "`null`の個数をカウント"
   ]
  },
  {
   "cell_type": "code",
   "execution_count": 5,
   "id": "034af141-33bc-4e54-abac-481e5905f6dd",
   "metadata": {},
   "outputs": [
    {
     "data": {
      "text/html": [
       "<div><style>\n",
       ".dataframe > thead > tr,\n",
       ".dataframe > tbody > tr {\n",
       "  text-align: right;\n",
       "  white-space: pre-wrap;\n",
       "}\n",
       "</style>\n",
       "<small>shape: (9, 2)</small><table border=\"1\" class=\"dataframe\"><thead><tr><th>column</th><th>null_count</th></tr><tr><td>str</td><td>u32</td></tr></thead><tbody><tr><td>&quot;rowid&quot;</td><td>0</td></tr><tr><td>&quot;species&quot;</td><td>0</td></tr><tr><td>&quot;island&quot;</td><td>0</td></tr><tr><td>&quot;bill_length_mm&quot;</td><td>2</td></tr><tr><td>&quot;bill_depth_mm&quot;</td><td>2</td></tr><tr><td>&quot;flipper_length_mm&quot;</td><td>2</td></tr><tr><td>&quot;body_mass_g&quot;</td><td>2</td></tr><tr><td>&quot;sex&quot;</td><td>11</td></tr><tr><td>&quot;year&quot;</td><td>0</td></tr></tbody></table></div>"
      ],
      "text/plain": [
       "shape: (9, 2)\n",
       "┌───────────────────┬────────────┐\n",
       "│ column            ┆ null_count │\n",
       "│ ---               ┆ ---        │\n",
       "│ str               ┆ u32        │\n",
       "╞═══════════════════╪════════════╡\n",
       "│ rowid             ┆ 0          │\n",
       "│ species           ┆ 0          │\n",
       "│ island            ┆ 0          │\n",
       "│ bill_length_mm    ┆ 2          │\n",
       "│ bill_depth_mm     ┆ 2          │\n",
       "│ flipper_length_mm ┆ 2          │\n",
       "│ body_mass_g       ┆ 2          │\n",
       "│ sex               ┆ 11         │\n",
       "│ year              ┆ 0          │\n",
       "└───────────────────┴────────────┘"
      ]
     },
     "execution_count": 5,
     "metadata": {},
     "output_type": "execute_result"
    }
   ],
   "source": [
    "(\n",
    "    penguins\n",
    "    .null_count()\n",
    "    .transpose(include_header=True, column_names=['null_count'])\n",
    ")"
   ]
  },
  {
   "cell_type": "markdown",
   "id": "54f10538-e692-402a-82c2-f02f03b1fd39",
   "metadata": {},
   "source": [
    "utf-8以外のファイルのとき（デフォルトはutf-8）"
   ]
  },
  {
   "cell_type": "code",
   "execution_count": 6,
   "id": "4c00a89f-dc9d-45a1-a1e7-6cc5522376c9",
   "metadata": {},
   "outputs": [
    {
     "data": {
      "text/html": [
       "<div><style>\n",
       ".dataframe > thead > tr,\n",
       ".dataframe > tbody > tr {\n",
       "  text-align: right;\n",
       "  white-space: pre-wrap;\n",
       "}\n",
       "</style>\n",
       "<small>shape: (4, 3)</small><table border=\"1\" class=\"dataframe\"><thead><tr><th>name</th><th>born</th><th>country</th></tr><tr><td>str</td><td>i64</td><td>str</td></tr></thead><tbody><tr><td>&quot;考侯&quot;</td><td>1930</td><td>&quot;泣塑&quot;</td></tr><tr><td>&quot;Verhoeven&quot;</td><td>1938</td><td>&quot;オランダ&quot;</td></tr><tr><td>&quot;弟宏&quot;</td><td>1942</td><td>&quot;泣塑&quot;</td></tr><tr><td>&quot;Tarantino&quot;</td><td>1963</td><td>&quot;势柜&quot;</td></tr></tbody></table></div>"
      ],
      "text/plain": [
       "shape: (4, 3)\n",
       "┌───────────┬──────┬──────────┐\n",
       "│ name      ┆ born ┆ country  │\n",
       "│ ---       ┆ ---  ┆ ---      │\n",
       "│ str       ┆ i64  ┆ str      │\n",
       "╞═══════════╪══════╪══════════╡\n",
       "│ 考侯      ┆ 1930 ┆ 泣塑     │\n",
       "│ Verhoeven ┆ 1938 ┆ オランダ │\n",
       "│ 弟宏      ┆ 1942 ┆ 泣塑     │\n",
       "│ Tarantino ┆ 1963 ┆ 势柜     │\n",
       "└───────────┴──────┴──────────┘"
      ]
     },
     "execution_count": 6,
     "metadata": {},
     "output_type": "execute_result"
    }
   ],
   "source": [
    "pl.read_csv(INPUT_CSV_PATH_DIRECTORS, encoding='EUC-CN')"
   ]
  },
  {
   "cell_type": "markdown",
   "id": "74ee1409-801b-47f7-af41-d7337c252403",
   "metadata": {
    "jp-MarkdownHeadingCollapsed": true
   },
   "source": [
    "## excelファイルの良いコミ"
   ]
  },
  {
   "cell_type": "code",
   "execution_count": 7,
   "id": "c3a85ff1-e0b5-41b4-9eeb-ee68661f9543",
   "metadata": {},
   "outputs": [
    {
     "data": {
      "text/html": [
       "<div><style>\n",
       ".dataframe > thead > tr,\n",
       ".dataframe > tbody > tr {\n",
       "  text-align: right;\n",
       "  white-space: pre-wrap;\n",
       "}\n",
       "</style>\n",
       "<small>shape: (2_000, 4)</small><table border=\"1\" class=\"dataframe\"><thead><tr><th>positie</th><th>titel</th><th>artiest</th><th>jaar</th></tr><tr><td>i64</td><td>str</td><td>str</td><td>i64</td></tr></thead><tbody><tr><td>1</td><td>&quot;Bohemian Rhapsody&quot;</td><td>&quot;Queen&quot;</td><td>1975</td></tr><tr><td>2</td><td>&quot;Roller Coaster&quot;</td><td>&quot;Danny Vera&quot;</td><td>2019</td></tr><tr><td>3</td><td>&quot;Hotel California&quot;</td><td>&quot;Eagles&quot;</td><td>1977</td></tr><tr><td>4</td><td>&quot;Piano Man&quot;</td><td>&quot;Billy Joel&quot;</td><td>1974</td></tr><tr><td>5</td><td>&quot;Fix You&quot;</td><td>&quot;Coldplay&quot;</td><td>2005</td></tr><tr><td>&hellip;</td><td>&hellip;</td><td>&hellip;</td><td>&hellip;</td></tr><tr><td>1996</td><td>&quot;Charlie Brown&quot;</td><td>&quot;Coldplay&quot;</td><td>2011</td></tr><tr><td>1997</td><td>&quot;Beast Of Burden&quot;</td><td>&quot;Bette Midler&quot;</td><td>1984</td></tr><tr><td>1998</td><td>&quot;It Was A Very Good Year&quot;</td><td>&quot;Frank Sinatra&quot;</td><td>1968</td></tr><tr><td>1999</td><td>&quot;Hou Van Mij&quot;</td><td>&quot;3JS&quot;</td><td>2008</td></tr><tr><td>2000</td><td>&quot;Drivers License&quot;</td><td>&quot;Olivia Rodrigo&quot;</td><td>2021</td></tr></tbody></table></div>"
      ],
      "text/plain": [
       "shape: (2_000, 4)\n",
       "┌─────────┬─────────────────────────┬────────────────┬──────┐\n",
       "│ positie ┆ titel                   ┆ artiest        ┆ jaar │\n",
       "│ ---     ┆ ---                     ┆ ---            ┆ ---  │\n",
       "│ i64     ┆ str                     ┆ str            ┆ i64  │\n",
       "╞═════════╪═════════════════════════╪════════════════╪══════╡\n",
       "│ 1       ┆ Bohemian Rhapsody       ┆ Queen          ┆ 1975 │\n",
       "│ 2       ┆ Roller Coaster          ┆ Danny Vera     ┆ 2019 │\n",
       "│ 3       ┆ Hotel California        ┆ Eagles         ┆ 1977 │\n",
       "│ 4       ┆ Piano Man               ┆ Billy Joel     ┆ 1974 │\n",
       "│ 5       ┆ Fix You                 ┆ Coldplay       ┆ 2005 │\n",
       "│ …       ┆ …                       ┆ …              ┆ …    │\n",
       "│ 1996    ┆ Charlie Brown           ┆ Coldplay       ┆ 2011 │\n",
       "│ 1997    ┆ Beast Of Burden         ┆ Bette Midler   ┆ 1984 │\n",
       "│ 1998    ┆ It Was A Very Good Year ┆ Frank Sinatra  ┆ 1968 │\n",
       "│ 1999    ┆ Hou Van Mij             ┆ 3JS            ┆ 2008 │\n",
       "│ 2000    ┆ Drivers License         ┆ Olivia Rodrigo ┆ 2021 │\n",
       "└─────────┴─────────────────────────┴────────────────┴──────┘"
      ]
     },
     "execution_count": 7,
     "metadata": {},
     "output_type": "execute_result"
    }
   ],
   "source": [
    "songs = pl.read_excel(INPUT_EXCEL_PATH_SONGS)\n",
    "songs"
   ]
  },
  {
   "cell_type": "markdown",
   "id": "19e059d1-bbe2-4ac1-8a89-23cbfac728f6",
   "metadata": {
    "jp-MarkdownHeadingCollapsed": true
   },
   "source": [
    "## 複数のファイルの読み込み\n",
    "データが複数のファイルにあるものの、同じ構造をしている場合は一気に読み込むことができる"
   ]
  },
  {
   "cell_type": "code",
   "execution_count": 8,
   "id": "e3b0fd2f-fe3e-49ab-81d7-6865d3f43f51",
   "metadata": {},
   "outputs": [
    {
     "data": {
      "text/html": [
       "<div><style>\n",
       ".dataframe > thead > tr,\n",
       ".dataframe > tbody > tr {\n",
       "  text-align: right;\n",
       "  white-space: pre-wrap;\n",
       "}\n",
       "</style>\n",
       "<small>shape: (880, 8)</small><table border=\"1\" class=\"dataframe\"><thead><tr><th>symbol</th><th>date</th><th>open</th><th>high</th><th>low</th><th>close</th><th>adj close</th><th>volume</th></tr><tr><td>str</td><td>str</td><td>f64</td><td>f64</td><td>f64</td><td>f64</td><td>f64</td><td>i64</td></tr></thead><tbody><tr><td>&quot;NVDA&quot;</td><td>&quot;2020-01-02&quot;</td><td>59.6875</td><td>59.977501</td><td>59.18</td><td>59.977501</td><td>59.744038</td><td>23753600</td></tr><tr><td>&quot;NVDA&quot;</td><td>&quot;2020-01-03&quot;</td><td>58.775002</td><td>59.4575</td><td>58.525002</td><td>59.017502</td><td>58.787781</td><td>20538400</td></tr><tr><td>&quot;NVDA&quot;</td><td>&quot;2020-01-06&quot;</td><td>58.080002</td><td>59.317501</td><td>57.817501</td><td>59.264999</td><td>59.034313</td><td>26263600</td></tr><tr><td>&quot;NVDA&quot;</td><td>&quot;2020-01-07&quot;</td><td>59.549999</td><td>60.442501</td><td>59.0975</td><td>59.982498</td><td>59.749023</td><td>31485600</td></tr><tr><td>&quot;NVDA&quot;</td><td>&quot;2020-01-08&quot;</td><td>59.939999</td><td>60.509998</td><td>59.537498</td><td>60.095001</td><td>59.861084</td><td>27710800</td></tr><tr><td>&hellip;</td><td>&hellip;</td><td>&hellip;</td><td>&hellip;</td><td>&hellip;</td><td>&hellip;</td><td>&hellip;</td><td>&hellip;</td></tr><tr><td>&quot;NVDA&quot;</td><td>&quot;2023-06-26&quot;</td><td>424.609985</td><td>427.640015</td><td>401.0</td><td>406.320007</td><td>406.250824</td><td>59432200</td></tr><tr><td>&quot;NVDA&quot;</td><td>&quot;2023-06-27&quot;</td><td>407.98999</td><td>419.399994</td><td>404.480011</td><td>418.76001</td><td>418.688721</td><td>46217500</td></tr><tr><td>&quot;NVDA&quot;</td><td>&quot;2023-06-28&quot;</td><td>406.600006</td><td>418.450012</td><td>405.179993</td><td>411.170013</td><td>411.100006</td><td>58263900</td></tr><tr><td>&quot;NVDA&quot;</td><td>&quot;2023-06-29&quot;</td><td>415.579987</td><td>416.0</td><td>406.0</td><td>408.220001</td><td>408.150482</td><td>38051400</td></tr><tr><td>&quot;NVDA&quot;</td><td>&quot;2023-06-30&quot;</td><td>416.799988</td><td>425.5</td><td>415.01001</td><td>423.019989</td><td>422.947937</td><td>50053400</td></tr></tbody></table></div>"
      ],
      "text/plain": [
       "shape: (880, 8)\n",
       "┌────────┬────────────┬────────────┬────────────┬────────────┬────────────┬────────────┬──────────┐\n",
       "│ symbol ┆ date       ┆ open       ┆ high       ┆ low        ┆ close      ┆ adj close  ┆ volume   │\n",
       "│ ---    ┆ ---        ┆ ---        ┆ ---        ┆ ---        ┆ ---        ┆ ---        ┆ ---      │\n",
       "│ str    ┆ str        ┆ f64        ┆ f64        ┆ f64        ┆ f64        ┆ f64        ┆ i64      │\n",
       "╞════════╪════════════╪════════════╪════════════╪════════════╪════════════╪════════════╪══════════╡\n",
       "│ NVDA   ┆ 2020-01-02 ┆ 59.6875    ┆ 59.977501  ┆ 59.18      ┆ 59.977501  ┆ 59.744038  ┆ 23753600 │\n",
       "│ NVDA   ┆ 2020-01-03 ┆ 58.775002  ┆ 59.4575    ┆ 58.525002  ┆ 59.017502  ┆ 58.787781  ┆ 20538400 │\n",
       "│ NVDA   ┆ 2020-01-06 ┆ 58.080002  ┆ 59.317501  ┆ 57.817501  ┆ 59.264999  ┆ 59.034313  ┆ 26263600 │\n",
       "│ NVDA   ┆ 2020-01-07 ┆ 59.549999  ┆ 60.442501  ┆ 59.0975    ┆ 59.982498  ┆ 59.749023  ┆ 31485600 │\n",
       "│ NVDA   ┆ 2020-01-08 ┆ 59.939999  ┆ 60.509998  ┆ 59.537498  ┆ 60.095001  ┆ 59.861084  ┆ 27710800 │\n",
       "│ …      ┆ …          ┆ …          ┆ …          ┆ …          ┆ …          ┆ …          ┆ …        │\n",
       "│ NVDA   ┆ 2023-06-26 ┆ 424.609985 ┆ 427.640015 ┆ 401.0      ┆ 406.320007 ┆ 406.250824 ┆ 59432200 │\n",
       "│ NVDA   ┆ 2023-06-27 ┆ 407.98999  ┆ 419.399994 ┆ 404.480011 ┆ 418.76001  ┆ 418.688721 ┆ 46217500 │\n",
       "│ NVDA   ┆ 2023-06-28 ┆ 406.600006 ┆ 418.450012 ┆ 405.179993 ┆ 411.170013 ┆ 411.100006 ┆ 58263900 │\n",
       "│ NVDA   ┆ 2023-06-29 ┆ 415.579987 ┆ 416.0      ┆ 406.0      ┆ 408.220001 ┆ 408.150482 ┆ 38051400 │\n",
       "│ NVDA   ┆ 2023-06-30 ┆ 416.799988 ┆ 425.5      ┆ 415.01001  ┆ 423.019989 ┆ 422.947937 ┆ 50053400 │\n",
       "└────────┴────────────┴────────────┴────────────┴────────────┴────────────┴────────────┴──────────┘"
      ]
     },
     "execution_count": 8,
     "metadata": {},
     "output_type": "execute_result"
    }
   ],
   "source": [
    "all_stocks = pl.read_csv(INPUT_CSVS_PATH_NVIDIA)\n",
    "all_stocks"
   ]
  },
  {
   "cell_type": "markdown",
   "id": "ec9beccf-e257-4112-b98f-c1915ea13e08",
   "metadata": {},
   "source": [
    "ディレクトリが別々にある場合でも、glob形式に従って記述することでいける。concatせずに一括で束ねてくれるのはすごいなぁ。  \n",
    "にしても、正規表現でもいけるのか"
   ]
  },
  {
   "cell_type": "code",
   "execution_count": 9,
   "id": "6ff93e77-0e73-421e-80cc-de61591fdcf0",
   "metadata": {},
   "outputs": [
    {
     "name": "stdout",
     "output_type": "stream",
     "text": [
      "CPU times: user 4.13 s, sys: 798 ms, total: 4.93 s\n",
      "Wall time: 1.21 s\n"
     ]
    },
    {
     "data": {
      "text/html": [
       "<div><style>\n",
       ".dataframe > thead > tr,\n",
       ".dataframe > tbody > tr {\n",
       "  text-align: right;\n",
       "  white-space: pre-wrap;\n",
       "}\n",
       "</style>\n",
       "<small>shape: (39_656_098, 19)</small><table border=\"1\" class=\"dataframe\"><thead><tr><th>VendorID</th><th>tpep_pickup_datetime</th><th>tpep_dropoff_datetime</th><th>passenger_count</th><th>trip_distance</th><th>RatecodeID</th><th>store_and_fwd_flag</th><th>PULocationID</th><th>DOLocationID</th><th>payment_type</th><th>fare_amount</th><th>extra</th><th>mta_tax</th><th>tip_amount</th><th>tolls_amount</th><th>improvement_surcharge</th><th>total_amount</th><th>congestion_surcharge</th><th>airport_fee</th></tr><tr><td>i64</td><td>datetime[ns]</td><td>datetime[ns]</td><td>f64</td><td>f64</td><td>f64</td><td>str</td><td>i64</td><td>i64</td><td>i64</td><td>f64</td><td>f64</td><td>f64</td><td>f64</td><td>f64</td><td>f64</td><td>f64</td><td>f64</td><td>f64</td></tr></thead><tbody><tr><td>1</td><td>2022-01-01 00:35:40</td><td>2022-01-01 00:53:29</td><td>2.0</td><td>3.8</td><td>1.0</td><td>&quot;N&quot;</td><td>142</td><td>236</td><td>1</td><td>14.5</td><td>3.0</td><td>0.5</td><td>3.65</td><td>0.0</td><td>0.3</td><td>21.95</td><td>2.5</td><td>0.0</td></tr><tr><td>1</td><td>2022-01-01 00:33:43</td><td>2022-01-01 00:42:07</td><td>1.0</td><td>2.1</td><td>1.0</td><td>&quot;N&quot;</td><td>236</td><td>42</td><td>1</td><td>8.0</td><td>0.5</td><td>0.5</td><td>4.0</td><td>0.0</td><td>0.3</td><td>13.3</td><td>0.0</td><td>0.0</td></tr><tr><td>2</td><td>2022-01-01 00:53:21</td><td>2022-01-01 01:02:19</td><td>1.0</td><td>0.97</td><td>1.0</td><td>&quot;N&quot;</td><td>166</td><td>166</td><td>1</td><td>7.5</td><td>0.5</td><td>0.5</td><td>1.76</td><td>0.0</td><td>0.3</td><td>10.56</td><td>0.0</td><td>0.0</td></tr><tr><td>2</td><td>2022-01-01 00:25:21</td><td>2022-01-01 00:35:23</td><td>1.0</td><td>1.09</td><td>1.0</td><td>&quot;N&quot;</td><td>114</td><td>68</td><td>2</td><td>8.0</td><td>0.5</td><td>0.5</td><td>0.0</td><td>0.0</td><td>0.3</td><td>11.8</td><td>2.5</td><td>0.0</td></tr><tr><td>2</td><td>2022-01-01 00:36:48</td><td>2022-01-01 01:14:20</td><td>1.0</td><td>4.3</td><td>1.0</td><td>&quot;N&quot;</td><td>68</td><td>163</td><td>1</td><td>23.5</td><td>0.5</td><td>0.5</td><td>3.0</td><td>0.0</td><td>0.3</td><td>30.3</td><td>2.5</td><td>0.0</td></tr><tr><td>&hellip;</td><td>&hellip;</td><td>&hellip;</td><td>&hellip;</td><td>&hellip;</td><td>&hellip;</td><td>&hellip;</td><td>&hellip;</td><td>&hellip;</td><td>&hellip;</td><td>&hellip;</td><td>&hellip;</td><td>&hellip;</td><td>&hellip;</td><td>&hellip;</td><td>&hellip;</td><td>&hellip;</td><td>&hellip;</td><td>&hellip;</td></tr><tr><td>2</td><td>2022-12-31 23:46:00</td><td>2023-01-01 00:11:00</td><td>null</td><td>11.56</td><td>null</td><td>null</td><td>16</td><td>36</td><td>0</td><td>39.55</td><td>0.0</td><td>0.5</td><td>8.21</td><td>0.0</td><td>1.0</td><td>49.26</td><td>null</td><td>null</td></tr><tr><td>2</td><td>2022-12-31 23:13:24</td><td>2022-12-31 23:29:08</td><td>null</td><td>5.06</td><td>null</td><td>null</td><td>75</td><td>50</td><td>0</td><td>26.23</td><td>0.0</td><td>0.5</td><td>0.0</td><td>0.0</td><td>1.0</td><td>30.23</td><td>null</td><td>null</td></tr><tr><td>2</td><td>2022-12-31 23:00:49</td><td>2022-12-31 23:26:57</td><td>null</td><td>13.35</td><td>null</td><td>null</td><td>168</td><td>197</td><td>0</td><td>47.73</td><td>0.0</td><td>0.5</td><td>9.85</td><td>0.0</td><td>1.0</td><td>59.08</td><td>null</td><td>null</td></tr><tr><td>1</td><td>2022-12-31 23:02:50</td><td>2022-12-31 23:16:05</td><td>null</td><td>0.0</td><td>null</td><td>null</td><td>238</td><td>116</td><td>0</td><td>12.74</td><td>0.0</td><td>0.5</td><td>0.0</td><td>0.0</td><td>1.0</td><td>16.74</td><td>null</td><td>null</td></tr><tr><td>2</td><td>2022-12-31 23:00:15</td><td>2022-12-31 23:22:56</td><td>null</td><td>4.24</td><td>null</td><td>null</td><td>85</td><td>37</td><td>0</td><td>19.6</td><td>0.0</td><td>0.5</td><td>4.0</td><td>0.0</td><td>1.0</td><td>25.1</td><td>null</td><td>null</td></tr></tbody></table></div>"
      ],
      "text/plain": [
       "shape: (39_656_098, 19)\n",
       "┌──────────┬───────────┬───────────┬───────────┬───┬───────────┬───────────┬───────────┬───────────┐\n",
       "│ VendorID ┆ tpep_pick ┆ tpep_drop ┆ passenger ┆ … ┆ improveme ┆ total_amo ┆ congestio ┆ airport_f │\n",
       "│ ---      ┆ up_dateti ┆ off_datet ┆ _count    ┆   ┆ nt_surcha ┆ unt       ┆ n_surchar ┆ ee        │\n",
       "│ i64      ┆ me        ┆ ime       ┆ ---       ┆   ┆ rge       ┆ ---       ┆ ge        ┆ ---       │\n",
       "│          ┆ ---       ┆ ---       ┆ f64       ┆   ┆ ---       ┆ f64       ┆ ---       ┆ f64       │\n",
       "│          ┆ datetime[ ┆ datetime[ ┆           ┆   ┆ f64       ┆           ┆ f64       ┆           │\n",
       "│          ┆ ns]       ┆ ns]       ┆           ┆   ┆           ┆           ┆           ┆           │\n",
       "╞══════════╪═══════════╪═══════════╪═══════════╪═══╪═══════════╪═══════════╪═══════════╪═══════════╡\n",
       "│ 1        ┆ 2022-01-0 ┆ 2022-01-0 ┆ 2.0       ┆ … ┆ 0.3       ┆ 21.95     ┆ 2.5       ┆ 0.0       │\n",
       "│          ┆ 1         ┆ 1         ┆           ┆   ┆           ┆           ┆           ┆           │\n",
       "│          ┆ 00:35:40  ┆ 00:53:29  ┆           ┆   ┆           ┆           ┆           ┆           │\n",
       "│ 1        ┆ 2022-01-0 ┆ 2022-01-0 ┆ 1.0       ┆ … ┆ 0.3       ┆ 13.3      ┆ 0.0       ┆ 0.0       │\n",
       "│          ┆ 1         ┆ 1         ┆           ┆   ┆           ┆           ┆           ┆           │\n",
       "│          ┆ 00:33:43  ┆ 00:42:07  ┆           ┆   ┆           ┆           ┆           ┆           │\n",
       "│ 2        ┆ 2022-01-0 ┆ 2022-01-0 ┆ 1.0       ┆ … ┆ 0.3       ┆ 10.56     ┆ 0.0       ┆ 0.0       │\n",
       "│          ┆ 1         ┆ 1         ┆           ┆   ┆           ┆           ┆           ┆           │\n",
       "│          ┆ 00:53:21  ┆ 01:02:19  ┆           ┆   ┆           ┆           ┆           ┆           │\n",
       "│ 2        ┆ 2022-01-0 ┆ 2022-01-0 ┆ 1.0       ┆ … ┆ 0.3       ┆ 11.8      ┆ 2.5       ┆ 0.0       │\n",
       "│          ┆ 1         ┆ 1         ┆           ┆   ┆           ┆           ┆           ┆           │\n",
       "│          ┆ 00:25:21  ┆ 00:35:23  ┆           ┆   ┆           ┆           ┆           ┆           │\n",
       "│ 2        ┆ 2022-01-0 ┆ 2022-01-0 ┆ 1.0       ┆ … ┆ 0.3       ┆ 30.3      ┆ 2.5       ┆ 0.0       │\n",
       "│          ┆ 1         ┆ 1         ┆           ┆   ┆           ┆           ┆           ┆           │\n",
       "│          ┆ 00:36:48  ┆ 01:14:20  ┆           ┆   ┆           ┆           ┆           ┆           │\n",
       "│ …        ┆ …         ┆ …         ┆ …         ┆ … ┆ …         ┆ …         ┆ …         ┆ …         │\n",
       "│ 2        ┆ 2022-12-3 ┆ 2023-01-0 ┆ null      ┆ … ┆ 1.0       ┆ 49.26     ┆ null      ┆ null      │\n",
       "│          ┆ 1         ┆ 1         ┆           ┆   ┆           ┆           ┆           ┆           │\n",
       "│          ┆ 23:46:00  ┆ 00:11:00  ┆           ┆   ┆           ┆           ┆           ┆           │\n",
       "│ 2        ┆ 2022-12-3 ┆ 2022-12-3 ┆ null      ┆ … ┆ 1.0       ┆ 30.23     ┆ null      ┆ null      │\n",
       "│          ┆ 1         ┆ 1         ┆           ┆   ┆           ┆           ┆           ┆           │\n",
       "│          ┆ 23:13:24  ┆ 23:29:08  ┆           ┆   ┆           ┆           ┆           ┆           │\n",
       "│ 2        ┆ 2022-12-3 ┆ 2022-12-3 ┆ null      ┆ … ┆ 1.0       ┆ 59.08     ┆ null      ┆ null      │\n",
       "│          ┆ 1         ┆ 1         ┆           ┆   ┆           ┆           ┆           ┆           │\n",
       "│          ┆ 23:00:49  ┆ 23:26:57  ┆           ┆   ┆           ┆           ┆           ┆           │\n",
       "│ 1        ┆ 2022-12-3 ┆ 2022-12-3 ┆ null      ┆ … ┆ 1.0       ┆ 16.74     ┆ null      ┆ null      │\n",
       "│          ┆ 1         ┆ 1         ┆           ┆   ┆           ┆           ┆           ┆           │\n",
       "│          ┆ 23:02:50  ┆ 23:16:05  ┆           ┆   ┆           ┆           ┆           ┆           │\n",
       "│ 2        ┆ 2022-12-3 ┆ 2022-12-3 ┆ null      ┆ … ┆ 1.0       ┆ 25.1      ┆ null      ┆ null      │\n",
       "│          ┆ 1         ┆ 1         ┆           ┆   ┆           ┆           ┆           ┆           │\n",
       "│          ┆ 23:00:15  ┆ 23:22:56  ┆           ┆   ┆           ┆           ┆           ┆           │\n",
       "└──────────┴───────────┴───────────┴───────────┴───┴───────────┴───────────┴───────────┴───────────┘"
      ]
     },
     "execution_count": 9,
     "metadata": {},
     "output_type": "execute_result"
    }
   ],
   "source": [
    "%%time\n",
    "\n",
    "trips= pl.read_parquet(INPUT_PARQUETS_PATH_TAXI)\n",
    "trips"
   ]
  },
  {
   "cell_type": "markdown",
   "id": "7c38a532-4fdc-4cff-a891-279226add3ab",
   "metadata": {},
   "source": [
    "（余談 / 気付き）  \n",
    "polarsでテーブルを出力する時に、一緒にテーブルの行列数を出力するにあたって、大きな数字をアンスコ区切りで対応してくれるのか。  \n",
    "大きなデータを処理するpolarsならではの工夫だぁ"
   ]
  },
  {
   "cell_type": "markdown",
   "id": "c88c7b37-23fb-4abc-9ae6-2f6b29c3600d",
   "metadata": {
    "jp-MarkdownHeadingCollapsed": true
   },
   "source": [
    "## jsonファイルの読み込み"
   ]
  },
  {
   "cell_type": "code",
   "execution_count": 10,
   "id": "26502f93-a61d-41c4-9070-009c0fbde206",
   "metadata": {},
   "outputs": [
    {
     "data": {
      "text/html": [
       "<div><style>\n",
       ".dataframe > thead > tr,\n",
       ".dataframe > tbody > tr {\n",
       "  text-align: right;\n",
       "  white-space: pre-wrap;\n",
       "}\n",
       "</style>\n",
       "<small>shape: (1, 1)</small><table border=\"1\" class=\"dataframe\"><thead><tr><th>pokemon</th></tr><tr><td>list[struct[17]]</td></tr></thead><tbody><tr><td>[{1,&quot;001&quot;,&quot;Bulbasaur&quot;,&quot;http://www.serebii.net/pokemongo/pokemon/001.png&quot;,[&quot;Grass&quot;, &quot;Poison&quot;],&quot;0.71 m&quot;,&quot;6.9 kg&quot;,&quot;Bulbasaur Candy&quot;,&quot;2 km&quot;,0.69,69.0,&quot;20:00&quot;,[1.58],[&quot;Fire&quot;, &quot;Ice&quot;, … &quot;Psychic&quot;],null,25,[{&quot;002&quot;,&quot;Ivysaur&quot;}, {&quot;003&quot;,&quot;Venusaur&quot;}]}, {2,&quot;002&quot;,&quot;Ivysaur&quot;,&quot;http://www.serebii.net/pokemongo/pokemon/002.png&quot;,[&quot;Grass&quot;, &quot;Poison&quot;],&quot;0.99 m&quot;,&quot;13.0 kg&quot;,&quot;Bulbasaur Candy&quot;,&quot;Not in Eggs&quot;,0.042,4.2,&quot;07:00&quot;,[1.2, 1.6],[&quot;Fire&quot;, &quot;Ice&quot;, … &quot;Psychic&quot;],[{&quot;001&quot;,&quot;Bulbasaur&quot;}],100,[{&quot;003&quot;,&quot;Venusaur&quot;}]}, … {151,&quot;151&quot;,&quot;Mew&quot;,&quot;http://www.serebii.net/pokemongo/pokemon/151.png&quot;,[&quot;Psychic&quot;],&quot;0.41 m&quot;,&quot;4.0 kg&quot;,&quot;None&quot;,&quot;Not in Eggs&quot;,0.0,0.0,&quot;N/A&quot;,null,[&quot;Bug&quot;, &quot;Ghost&quot;, &quot;Dark&quot;],null,null,null}]</td></tr></tbody></table></div>"
      ],
      "text/plain": [
       "shape: (1, 1)\n",
       "┌─────────────────────────────────┐\n",
       "│ pokemon                         │\n",
       "│ ---                             │\n",
       "│ list[struct[17]]                │\n",
       "╞═════════════════════════════════╡\n",
       "│ [{1,\"001\",\"Bulbasaur\",\"http://… │\n",
       "└─────────────────────────────────┘"
      ]
     },
     "execution_count": 10,
     "metadata": {},
     "output_type": "execute_result"
    }
   ],
   "source": [
    "pokedex = pl.read_json(INPUT_JSON_PATH_POKEDEX)\n",
    "pokedex"
   ]
  },
  {
   "cell_type": "markdown",
   "id": "6a3ea878-bd6b-4010-93a4-1339040bf0dd",
   "metadata": {},
   "source": [
    "今回のjsonファイルはトップにあるkeyが1つしかないため、表形式のようにならず、ひとまとめのデータとして認識されている"
   ]
  },
  {
   "cell_type": "code",
   "execution_count": 11,
   "id": "18042a96-d1f1-44cd-84ce-ed67dac3e304",
   "metadata": {},
   "outputs": [
    {
     "data": {
      "text/html": [
       "<div><style>\n",
       ".dataframe > thead > tr,\n",
       ".dataframe > tbody > tr {\n",
       "  text-align: right;\n",
       "  white-space: pre-wrap;\n",
       "}\n",
       "</style>\n",
       "<small>shape: (151, 5)</small><table border=\"1\" class=\"dataframe\"><thead><tr><th>id</th><th>name</th><th>type</th><th>height</th><th>weight</th></tr><tr><td>i64</td><td>str</td><td>list[str]</td><td>str</td><td>str</td></tr></thead><tbody><tr><td>1</td><td>&quot;Bulbasaur&quot;</td><td>[&quot;Grass&quot;, &quot;Poison&quot;]</td><td>&quot;0.71 m&quot;</td><td>&quot;6.9 kg&quot;</td></tr><tr><td>2</td><td>&quot;Ivysaur&quot;</td><td>[&quot;Grass&quot;, &quot;Poison&quot;]</td><td>&quot;0.99 m&quot;</td><td>&quot;13.0 kg&quot;</td></tr><tr><td>3</td><td>&quot;Venusaur&quot;</td><td>[&quot;Grass&quot;, &quot;Poison&quot;]</td><td>&quot;2.01 m&quot;</td><td>&quot;100.0 kg&quot;</td></tr><tr><td>4</td><td>&quot;Charmander&quot;</td><td>[&quot;Fire&quot;]</td><td>&quot;0.61 m&quot;</td><td>&quot;8.5 kg&quot;</td></tr><tr><td>5</td><td>&quot;Charmeleon&quot;</td><td>[&quot;Fire&quot;]</td><td>&quot;1.09 m&quot;</td><td>&quot;19.0 kg&quot;</td></tr><tr><td>&hellip;</td><td>&hellip;</td><td>&hellip;</td><td>&hellip;</td><td>&hellip;</td></tr><tr><td>147</td><td>&quot;Dratini&quot;</td><td>[&quot;Dragon&quot;]</td><td>&quot;1.80 m&quot;</td><td>&quot;3.3 kg&quot;</td></tr><tr><td>148</td><td>&quot;Dragonair&quot;</td><td>[&quot;Dragon&quot;]</td><td>&quot;3.99 m&quot;</td><td>&quot;16.5 kg&quot;</td></tr><tr><td>149</td><td>&quot;Dragonite&quot;</td><td>[&quot;Dragon&quot;, &quot;Flying&quot;]</td><td>&quot;2.21 m&quot;</td><td>&quot;210.0 kg&quot;</td></tr><tr><td>150</td><td>&quot;Mewtwo&quot;</td><td>[&quot;Psychic&quot;]</td><td>&quot;2.01 m&quot;</td><td>&quot;122.0 kg&quot;</td></tr><tr><td>151</td><td>&quot;Mew&quot;</td><td>[&quot;Psychic&quot;]</td><td>&quot;0.41 m&quot;</td><td>&quot;4.0 kg&quot;</td></tr></tbody></table></div>"
      ],
      "text/plain": [
       "shape: (151, 5)\n",
       "┌─────┬────────────┬──────────────────────┬────────┬──────────┐\n",
       "│ id  ┆ name       ┆ type                 ┆ height ┆ weight   │\n",
       "│ --- ┆ ---        ┆ ---                  ┆ ---    ┆ ---      │\n",
       "│ i64 ┆ str        ┆ list[str]            ┆ str    ┆ str      │\n",
       "╞═════╪════════════╪══════════════════════╪════════╪══════════╡\n",
       "│ 1   ┆ Bulbasaur  ┆ [\"Grass\", \"Poison\"]  ┆ 0.71 m ┆ 6.9 kg   │\n",
       "│ 2   ┆ Ivysaur    ┆ [\"Grass\", \"Poison\"]  ┆ 0.99 m ┆ 13.0 kg  │\n",
       "│ 3   ┆ Venusaur   ┆ [\"Grass\", \"Poison\"]  ┆ 2.01 m ┆ 100.0 kg │\n",
       "│ 4   ┆ Charmander ┆ [\"Fire\"]             ┆ 0.61 m ┆ 8.5 kg   │\n",
       "│ 5   ┆ Charmeleon ┆ [\"Fire\"]             ┆ 1.09 m ┆ 19.0 kg  │\n",
       "│ …   ┆ …          ┆ …                    ┆ …      ┆ …        │\n",
       "│ 147 ┆ Dratini    ┆ [\"Dragon\"]           ┆ 1.80 m ┆ 3.3 kg   │\n",
       "│ 148 ┆ Dragonair  ┆ [\"Dragon\"]           ┆ 3.99 m ┆ 16.5 kg  │\n",
       "│ 149 ┆ Dragonite  ┆ [\"Dragon\", \"Flying\"] ┆ 2.21 m ┆ 210.0 kg │\n",
       "│ 150 ┆ Mewtwo     ┆ [\"Psychic\"]          ┆ 2.01 m ┆ 122.0 kg │\n",
       "│ 151 ┆ Mew        ┆ [\"Psychic\"]          ┆ 0.41 m ┆ 4.0 kg   │\n",
       "└─────┴────────────┴──────────────────────┴────────┴──────────┘"
      ]
     },
     "execution_count": 11,
     "metadata": {},
     "output_type": "execute_result"
    }
   ],
   "source": [
    "(\n",
    "    pokedex.explode('pokemon')\n",
    "    .unnest('pokemon')\n",
    "    .select('id', 'name', 'type', 'height', 'weight')\n",
    ")"
   ]
  },
  {
   "cell_type": "markdown",
   "id": "0e5af416-86cc-4e7d-997b-d86083900390",
   "metadata": {},
   "source": [
    "`.explode()`によってjsonのリストで表現されている中身が全て行として変換されて、`.unnest()`を使うことで、辞書型->DataFrame型に変換できる"
   ]
  },
  {
   "cell_type": "markdown",
   "id": "a9bf03c8-0f0e-4e3f-9916-2e47798dab2e",
   "metadata": {
    "jp-MarkdownHeadingCollapsed": true
   },
   "source": [
    "## ndjsonの読み込み"
   ]
  },
  {
   "cell_type": "code",
   "execution_count": 12,
   "id": "143f8b82-80f2-4bba-9b7f-b8d39413b672",
   "metadata": {},
   "outputs": [
    {
     "data": {
      "text/html": [
       "<div><style>\n",
       ".dataframe > thead > tr,\n",
       ".dataframe > tbody > tr {\n",
       "  text-align: right;\n",
       "  white-space: pre-wrap;\n",
       "}\n",
       "</style>\n",
       "<small>shape: (100, 20)</small><table border=\"1\" class=\"dataframe\"><thead><tr><th>$schema</th><th>meta</th><th>id</th><th>type</th><th>namespace</th><th>title</th><th>title_url</th><th>comment</th><th>timestamp</th><th>user</th><th>bot</th><th>notify_url</th><th>minor</th><th>length</th><th>revision</th><th>server_url</th><th>server_name</th><th>server_script_path</th><th>wiki</th><th>parsedcomment</th></tr><tr><td>str</td><td>struct[9]</td><td>i64</td><td>str</td><td>i64</td><td>str</td><td>str</td><td>str</td><td>i64</td><td>str</td><td>bool</td><td>str</td><td>bool</td><td>struct[2]</td><td>struct[2]</td><td>str</td><td>str</td><td>str</td><td>str</td><td>str</td></tr></thead><tbody><tr><td>&quot;/mediawiki/recentchange/1.0.0&quot;</td><td>{&quot;https://en.wikipedia.org/wiki/EFL_Championship&quot;,&quot;ea0541fb-4e72-4fc3-82f0-6c26651b2043&quot;,&quot;0416300b-980c-45bb-b0a2-c9d7a9e2b7eb&quot;,&quot;2023-07-29T07:51:39Z&quot;,&quot;en.wikipedia.org&quot;,&quot;mediawiki.recentchange&quot;,&quot;eqiad.mediawiki.recentchange&quot;,0,4820784717}</td><td>1659529639</td><td>&quot;edit&quot;</td><td>0</td><td>&quot;EFL Championship&quot;</td><td>&quot;https://en.wikipedia.org/wiki/…</td><td>&quot;/* League champions, runners-u…</td><td>1690617099</td><td>&quot;87.12.215.232&quot;</td><td>false</td><td>&quot;https://en.wikipedia.org/w/ind…</td><td>false</td><td>{91108,91166}</td><td>{1166824248,1167689309}</td><td>&quot;https://en.wikipedia.org&quot;</td><td>&quot;en.wikipedia.org&quot;</td><td>&quot;/w&quot;</td><td>&quot;enwiki&quot;</td><td>&quot;&lt;span dir=&quot;auto&quot;&gt;&lt;span class=&quot;…</td></tr><tr><td>&quot;/mediawiki/recentchange/1.0.0&quot;</td><td>{&quot;https://en.wikipedia.org/wiki/Lim_Sang-choon&quot;,&quot;01a0f468-7553-48db-b553-7ac392b2187c&quot;,&quot;97e4dc39-fb32-4774-9c9a-b2caea391c9e&quot;,&quot;2023-07-29T07:51:42Z&quot;,&quot;en.wikipedia.org&quot;,&quot;mediawiki.recentchange&quot;,&quot;eqiad.mediawiki.recentchange&quot;,0,4820784731}</td><td>1659529640</td><td>&quot;edit&quot;</td><td>0</td><td>&quot;Lim Sang-choon&quot;</td><td>&quot;https://en.wikipedia.org/wiki/…</td><td>&quot;&quot;</td><td>1690617102</td><td>&quot;Preferwiki&quot;</td><td>false</td><td>&quot;https://en.wikipedia.org/w/ind…</td><td>false</td><td>{9807,10480}</td><td>{1167689034,1167689310}</td><td>&quot;https://en.wikipedia.org&quot;</td><td>&quot;en.wikipedia.org&quot;</td><td>&quot;/w&quot;</td><td>&quot;enwiki&quot;</td><td>&quot;&quot;</td></tr><tr><td>&quot;/mediawiki/recentchange/1.0.0&quot;</td><td>{&quot;https://en.wikipedia.org/wiki/Higher&quot;,&quot;5f053899-a2ab-4dec-8e98-1d01cd86093d&quot;,&quot;0da41aa2-ceb6-443f-8a0a-0633f83de6ec&quot;,&quot;2023-07-29T07:51:44Z&quot;,&quot;en.wikipedia.org&quot;,&quot;mediawiki.recentchange&quot;,&quot;eqiad.mediawiki.recentchange&quot;,0,4820784748}</td><td>1659529642</td><td>&quot;edit&quot;</td><td>0</td><td>&quot;Higher&quot;</td><td>&quot;https://en.wikipedia.org/wiki/…</td><td>&quot;/* Albums */ add&quot;</td><td>1690617104</td><td>&quot;Ss112&quot;</td><td>false</td><td>&quot;https://en.wikipedia.org/w/ind…</td><td>false</td><td>{5452,5548}</td><td>{1162509981,1167689312}</td><td>&quot;https://en.wikipedia.org&quot;</td><td>&quot;en.wikipedia.org&quot;</td><td>&quot;/w&quot;</td><td>&quot;enwiki&quot;</td><td>&quot;&lt;span dir=&quot;auto&quot;&gt;&lt;span class=&quot;…</td></tr><tr><td>&quot;/mediawiki/recentchange/1.0.0&quot;</td><td>{&quot;https://en.wikipedia.org/wiki/International_Poker_Rules&quot;,&quot;10c4886c-95f5-4cd2-8db9-333cb45f041b&quot;,&quot;af9cc405-26b2-485d-b20c-edd21b2a2a4c&quot;,&quot;2023-07-29T07:51:44Z&quot;,&quot;en.wikipedia.org&quot;,&quot;mediawiki.recentchange&quot;,&quot;eqiad.mediawiki.recentchange&quot;,0,4820784763}</td><td>1659529643</td><td>&quot;edit&quot;</td><td>0</td><td>&quot;International Poker Rules&quot;</td><td>&quot;https://en.wikipedia.org/wiki/…</td><td>&quot;Nominated for deletion; see [[…</td><td>1690617104</td><td>&quot;Piotrus&quot;</td><td>false</td><td>&quot;https://en.wikipedia.org/w/ind…</td><td>false</td><td>{2452,2896}</td><td>{1055827921,1167689313}</td><td>&quot;https://en.wikipedia.org&quot;</td><td>&quot;en.wikipedia.org&quot;</td><td>&quot;/w&quot;</td><td>&quot;enwiki&quot;</td><td>&quot;Nominated for deletion; see &lt;a…</td></tr><tr><td>&quot;/mediawiki/recentchange/1.0.0&quot;</td><td>{&quot;https://en.wikipedia.org/wiki/Abdul_Hamid_Khan_Bhashani&quot;,&quot;198e47ae-fa33-4059-970a-550536e7bc7c&quot;,&quot;2012e36f-9fa1-49dc-ba68-5946de740cd4&quot;,&quot;2023-07-29T07:51:45Z&quot;,&quot;en.wikipedia.org&quot;,&quot;mediawiki.recentchange&quot;,&quot;eqiad.mediawiki.recentchange&quot;,0,4820784800}</td><td>1659529653</td><td>&quot;edit&quot;</td><td>0</td><td>&quot;Abdul Hamid Khan Bhashani&quot;</td><td>&quot;https://en.wikipedia.org/wiki/…</td><td>&quot;Rescuing 1 sources and tagging…</td><td>1690617105</td><td>&quot;InternetArchiveBot&quot;</td><td>true</td><td>&quot;https://en.wikipedia.org/w/ind…</td><td>false</td><td>{31503,31687}</td><td>{1163358967,1167689318}</td><td>&quot;https://en.wikipedia.org&quot;</td><td>&quot;en.wikipedia.org&quot;</td><td>&quot;/w&quot;</td><td>&quot;enwiki&quot;</td><td>&quot;Rescuing 1 sources and tagging…</td></tr><tr><td>&hellip;</td><td>&hellip;</td><td>&hellip;</td><td>&hellip;</td><td>&hellip;</td><td>&hellip;</td><td>&hellip;</td><td>&hellip;</td><td>&hellip;</td><td>&hellip;</td><td>&hellip;</td><td>&hellip;</td><td>&hellip;</td><td>&hellip;</td><td>&hellip;</td><td>&hellip;</td><td>&hellip;</td><td>&hellip;</td><td>&hellip;</td><td>&hellip;</td></tr><tr><td>&quot;/mediawiki/recentchange/1.0.0&quot;</td><td>{&quot;https://en.wikipedia.org/wiki/Havering_Residents_Association&quot;,&quot;d563edd1-2a19-491b-9604-aea1b7c57a67&quot;,&quot;f5b5b53d-8024-4c4d-810b-e3c04b8f2392&quot;,&quot;2023-07-29T07:53:58Z&quot;,&quot;en.wikipedia.org&quot;,&quot;mediawiki.recentchange&quot;,&quot;eqiad.mediawiki.recentchange&quot;,0,4820788373}</td><td>1659529961</td><td>&quot;edit&quot;</td><td>0</td><td>&quot;Havering Residents Association&quot;</td><td>&quot;https://en.wikipedia.org/wiki/…</td><td>&quot;/* 2018 election */ +map&quot;</td><td>1690617238</td><td>&quot;MRSC&quot;</td><td>false</td><td>&quot;https://en.wikipedia.org/w/ind…</td><td>false</td><td>{7590,7707}</td><td>{1167689281,1167689476}</td><td>&quot;https://en.wikipedia.org&quot;</td><td>&quot;en.wikipedia.org&quot;</td><td>&quot;/w&quot;</td><td>&quot;enwiki&quot;</td><td>&quot;&lt;span dir=&quot;auto&quot;&gt;&lt;span class=&quot;…</td></tr><tr><td>&quot;/mediawiki/recentchange/1.0.0&quot;</td><td>{&quot;https://en.wikipedia.org/wiki/Olha_Kharlan&quot;,&quot;7caa4fe3-2ddf-4a57-b6d4-6eee505f5e49&quot;,&quot;b7b84f63-69f7-4317-82b2-df4a3e853723&quot;,&quot;2023-07-29T07:53:55Z&quot;,&quot;en.wikipedia.org&quot;,&quot;mediawiki.recentchange&quot;,&quot;eqiad.mediawiki.recentchange&quot;,0,4820788404}</td><td>1659529963</td><td>&quot;edit&quot;</td><td>0</td><td>&quot;Olha Kharlan&quot;</td><td>&quot;https://en.wikipedia.org/wiki/…</td><td>&quot;Ce&quot;</td><td>1690617235</td><td>&quot;2603:7000:2101:AA00:2C88:EF86:…</td><td>false</td><td>&quot;https://en.wikipedia.org/w/ind…</td><td>false</td><td>{65119,65323}</td><td>{1167666634,1167689477}</td><td>&quot;https://en.wikipedia.org&quot;</td><td>&quot;en.wikipedia.org&quot;</td><td>&quot;/w&quot;</td><td>&quot;enwiki&quot;</td><td>&quot;Ce&quot;</td></tr><tr><td>&quot;/mediawiki/recentchange/1.0.0&quot;</td><td>{&quot;https://en.wikipedia.org/wiki/Mukim_Kota_Batu&quot;,&quot;1032a354-1171-47a2-bdb3-cbcb78a070bf&quot;,&quot;a2b2601e-5adc-4ed2-b8fc-292d128009d7&quot;,&quot;2023-07-29T07:53:58Z&quot;,&quot;en.wikipedia.org&quot;,&quot;mediawiki.recentchange&quot;,&quot;eqiad.mediawiki.recentchange&quot;,0,4820788418}</td><td>1659529964</td><td>&quot;edit&quot;</td><td>0</td><td>&quot;Mukim Kota Batu&quot;</td><td>&quot;https://en.wikipedia.org/wiki/…</td><td>&quot;&quot;</td><td>1690617238</td><td>&quot;Pangalau&quot;</td><td>false</td><td>&quot;https://en.wikipedia.org/w/ind…</td><td>false</td><td>{7178,7189}</td><td>{1150066841,1167689474}</td><td>&quot;https://en.wikipedia.org&quot;</td><td>&quot;en.wikipedia.org&quot;</td><td>&quot;/w&quot;</td><td>&quot;enwiki&quot;</td><td>&quot;&quot;</td></tr><tr><td>&quot;/mediawiki/recentchange/1.0.0&quot;</td><td>{&quot;https://en.wikipedia.org/wiki/User:IDK1213safasx/sandbox&quot;,&quot;0f29a0a7-de5a-4197-a8dd-98b6a4eb5f6f&quot;,&quot;5c2219b5-7b3e-4720-944b-94afb5764b76&quot;,&quot;2023-07-29T07:53:59Z&quot;,&quot;en.wikipedia.org&quot;,&quot;mediawiki.recentchange&quot;,&quot;eqiad.mediawiki.recentchange&quot;,0,4820788422}</td><td>1659529965</td><td>&quot;edit&quot;</td><td>2</td><td>&quot;User:IDK1213safasx/sandbox&quot;</td><td>&quot;https://en.wikipedia.org/wiki/…</td><td>&quot;&quot;</td><td>1690617239</td><td>&quot;94.101.29.27&quot;</td><td>false</td><td>&quot;https://en.wikipedia.org/w/ind…</td><td>false</td><td>{2122,2122}</td><td>{1167356449,1167689478}</td><td>&quot;https://en.wikipedia.org&quot;</td><td>&quot;en.wikipedia.org&quot;</td><td>&quot;/w&quot;</td><td>&quot;enwiki&quot;</td><td>&quot;&quot;</td></tr><tr><td>&quot;/mediawiki/recentchange/1.0.0&quot;</td><td>{&quot;https://en.wikipedia.org/wiki/List_of_bus_routes_in_London&quot;,&quot;04c7fd52-5689-4905-a208-9a92900e8efe&quot;,&quot;2eea26f7-4a02-454e-b597-82d3cb78f2ea&quot;,&quot;2023-07-29T07:53:54Z&quot;,&quot;en.wikipedia.org&quot;,&quot;mediawiki.recentchange&quot;,&quot;eqiad.mediawiki.recentchange&quot;,0,4820788423}</td><td>1659529966</td><td>&quot;edit&quot;</td><td>0</td><td>&quot;List of bus routes in London&quot;</td><td>&quot;https://en.wikipedia.org/wiki/…</td><td>&quot;/* Non-TfL bus routes in Great…</td><td>1690617234</td><td>&quot;Pedroperezhumberto&quot;</td><td>false</td><td>&quot;https://en.wikipedia.org/w/ind…</td><td>false</td><td>{155160,155098}</td><td>{1167688737,1167689472}</td><td>&quot;https://en.wikipedia.org&quot;</td><td>&quot;en.wikipedia.org&quot;</td><td>&quot;/w&quot;</td><td>&quot;enwiki&quot;</td><td>&quot;&lt;span dir=&quot;auto&quot;&gt;&lt;span class=&quot;…</td></tr></tbody></table></div>"
      ],
      "text/plain": [
       "shape: (100, 20)\n",
       "┌─────────────┬────────────┬────────────┬──────┬───┬────────────┬────────────┬────────┬────────────┐\n",
       "│ $schema     ┆ meta       ┆ id         ┆ type ┆ … ┆ server_nam ┆ server_scr ┆ wiki   ┆ parsedcomm │\n",
       "│ ---         ┆ ---        ┆ ---        ┆ ---  ┆   ┆ e          ┆ ipt_path   ┆ ---    ┆ ent        │\n",
       "│ str         ┆ struct[9]  ┆ i64        ┆ str  ┆   ┆ ---        ┆ ---        ┆ str    ┆ ---        │\n",
       "│             ┆            ┆            ┆      ┆   ┆ str        ┆ str        ┆        ┆ str        │\n",
       "╞═════════════╪════════════╪════════════╪══════╪═══╪════════════╪════════════╪════════╪════════════╡\n",
       "│ /mediawiki/ ┆ {\"https:// ┆ 1659529639 ┆ edit ┆ … ┆ en.wikiped ┆ /w         ┆ enwiki ┆ <span dir= │\n",
       "│ recentchang ┆ en.wikiped ┆            ┆      ┆   ┆ ia.org     ┆            ┆        ┆ \"auto\"><sp │\n",
       "│ e/1.0.0     ┆ ia.org/wik ┆            ┆      ┆   ┆            ┆            ┆        ┆ an         │\n",
       "│             ┆ …          ┆            ┆      ┆   ┆            ┆            ┆        ┆ class=\"…   │\n",
       "│ /mediawiki/ ┆ {\"https:// ┆ 1659529640 ┆ edit ┆ … ┆ en.wikiped ┆ /w         ┆ enwiki ┆            │\n",
       "│ recentchang ┆ en.wikiped ┆            ┆      ┆   ┆ ia.org     ┆            ┆        ┆            │\n",
       "│ e/1.0.0     ┆ ia.org/wik ┆            ┆      ┆   ┆            ┆            ┆        ┆            │\n",
       "│             ┆ …          ┆            ┆      ┆   ┆            ┆            ┆        ┆            │\n",
       "│ /mediawiki/ ┆ {\"https:// ┆ 1659529642 ┆ edit ┆ … ┆ en.wikiped ┆ /w         ┆ enwiki ┆ <span dir= │\n",
       "│ recentchang ┆ en.wikiped ┆            ┆      ┆   ┆ ia.org     ┆            ┆        ┆ \"auto\"><sp │\n",
       "│ e/1.0.0     ┆ ia.org/wik ┆            ┆      ┆   ┆            ┆            ┆        ┆ an         │\n",
       "│             ┆ …          ┆            ┆      ┆   ┆            ┆            ┆        ┆ class=\"…   │\n",
       "│ /mediawiki/ ┆ {\"https:// ┆ 1659529643 ┆ edit ┆ … ┆ en.wikiped ┆ /w         ┆ enwiki ┆ Nominated  │\n",
       "│ recentchang ┆ en.wikiped ┆            ┆      ┆   ┆ ia.org     ┆            ┆        ┆ for        │\n",
       "│ e/1.0.0     ┆ ia.org/wik ┆            ┆      ┆   ┆            ┆            ┆        ┆ deletion;  │\n",
       "│             ┆ …          ┆            ┆      ┆   ┆            ┆            ┆        ┆ see <a…    │\n",
       "│ /mediawiki/ ┆ {\"https:// ┆ 1659529653 ┆ edit ┆ … ┆ en.wikiped ┆ /w         ┆ enwiki ┆ Rescuing 1 │\n",
       "│ recentchang ┆ en.wikiped ┆            ┆      ┆   ┆ ia.org     ┆            ┆        ┆ sources    │\n",
       "│ e/1.0.0     ┆ ia.org/wik ┆            ┆      ┆   ┆            ┆            ┆        ┆ and        │\n",
       "│             ┆ …          ┆            ┆      ┆   ┆            ┆            ┆        ┆ tagging…   │\n",
       "│ …           ┆ …          ┆ …          ┆ …    ┆ … ┆ …          ┆ …          ┆ …      ┆ …          │\n",
       "│ /mediawiki/ ┆ {\"https:// ┆ 1659529961 ┆ edit ┆ … ┆ en.wikiped ┆ /w         ┆ enwiki ┆ <span dir= │\n",
       "│ recentchang ┆ en.wikiped ┆            ┆      ┆   ┆ ia.org     ┆            ┆        ┆ \"auto\"><sp │\n",
       "│ e/1.0.0     ┆ ia.org/wik ┆            ┆      ┆   ┆            ┆            ┆        ┆ an         │\n",
       "│             ┆ …          ┆            ┆      ┆   ┆            ┆            ┆        ┆ class=\"…   │\n",
       "│ /mediawiki/ ┆ {\"https:// ┆ 1659529963 ┆ edit ┆ … ┆ en.wikiped ┆ /w         ┆ enwiki ┆ Ce         │\n",
       "│ recentchang ┆ en.wikiped ┆            ┆      ┆   ┆ ia.org     ┆            ┆        ┆            │\n",
       "│ e/1.0.0     ┆ ia.org/wik ┆            ┆      ┆   ┆            ┆            ┆        ┆            │\n",
       "│             ┆ …          ┆            ┆      ┆   ┆            ┆            ┆        ┆            │\n",
       "│ /mediawiki/ ┆ {\"https:// ┆ 1659529964 ┆ edit ┆ … ┆ en.wikiped ┆ /w         ┆ enwiki ┆            │\n",
       "│ recentchang ┆ en.wikiped ┆            ┆      ┆   ┆ ia.org     ┆            ┆        ┆            │\n",
       "│ e/1.0.0     ┆ ia.org/wik ┆            ┆      ┆   ┆            ┆            ┆        ┆            │\n",
       "│             ┆ …          ┆            ┆      ┆   ┆            ┆            ┆        ┆            │\n",
       "│ /mediawiki/ ┆ {\"https:// ┆ 1659529965 ┆ edit ┆ … ┆ en.wikiped ┆ /w         ┆ enwiki ┆            │\n",
       "│ recentchang ┆ en.wikiped ┆            ┆      ┆   ┆ ia.org     ┆            ┆        ┆            │\n",
       "│ e/1.0.0     ┆ ia.org/wik ┆            ┆      ┆   ┆            ┆            ┆        ┆            │\n",
       "│             ┆ …          ┆            ┆      ┆   ┆            ┆            ┆        ┆            │\n",
       "│ /mediawiki/ ┆ {\"https:// ┆ 1659529966 ┆ edit ┆ … ┆ en.wikiped ┆ /w         ┆ enwiki ┆ <span dir= │\n",
       "│ recentchang ┆ en.wikiped ┆            ┆      ┆   ┆ ia.org     ┆            ┆        ┆ \"auto\"><sp │\n",
       "│ e/1.0.0     ┆ ia.org/wik ┆            ┆      ┆   ┆            ┆            ┆        ┆ an         │\n",
       "│             ┆ …          ┆            ┆      ┆   ┆            ┆            ┆        ┆ class=\"…   │\n",
       "└─────────────┴────────────┴────────────┴──────┴───┴────────────┴────────────┴────────┴────────────┘"
      ]
     },
     "execution_count": 12,
     "metadata": {},
     "output_type": "execute_result"
    }
   ],
   "source": [
    "wikimedia = pl.read_ndjson(INPUT_NDJSON_PATH_WIKIMEDIA)\n",
    "wikimedia"
   ]
  },
  {
   "cell_type": "code",
   "execution_count": 13,
   "id": "e76a7c87-5ca9-4cbf-8885-5d12e6620615",
   "metadata": {},
   "outputs": [
    {
     "data": {
      "text/html": [
       "<div><style>\n",
       ".dataframe > thead > tr,\n",
       ".dataframe > tbody > tr {\n",
       "  text-align: right;\n",
       "  white-space: pre-wrap;\n",
       "}\n",
       "</style>\n",
       "<small>shape: (100, 4)</small><table border=\"1\" class=\"dataframe\"><thead><tr><th>timestamp</th><th>title</th><th>user</th><th>comment</th></tr><tr><td>i64</td><td>str</td><td>str</td><td>str</td></tr></thead><tbody><tr><td>1690617099</td><td>&quot;EFL Championship&quot;</td><td>&quot;87.12.215.232&quot;</td><td>&quot;/* League champions, runners-u…</td></tr><tr><td>1690617102</td><td>&quot;Lim Sang-choon&quot;</td><td>&quot;Preferwiki&quot;</td><td>&quot;&quot;</td></tr><tr><td>1690617104</td><td>&quot;Higher&quot;</td><td>&quot;Ss112&quot;</td><td>&quot;/* Albums */ add&quot;</td></tr><tr><td>1690617104</td><td>&quot;International Poker Rules&quot;</td><td>&quot;Piotrus&quot;</td><td>&quot;Nominated for deletion; see [[…</td></tr><tr><td>1690617105</td><td>&quot;Abdul Hamid Khan Bhashani&quot;</td><td>&quot;InternetArchiveBot&quot;</td><td>&quot;Rescuing 1 sources and tagging…</td></tr><tr><td>&hellip;</td><td>&hellip;</td><td>&hellip;</td><td>&hellip;</td></tr><tr><td>1690617238</td><td>&quot;Havering Residents Association&quot;</td><td>&quot;MRSC&quot;</td><td>&quot;/* 2018 election */ +map&quot;</td></tr><tr><td>1690617235</td><td>&quot;Olha Kharlan&quot;</td><td>&quot;2603:7000:2101:AA00:2C88:EF86:…</td><td>&quot;Ce&quot;</td></tr><tr><td>1690617238</td><td>&quot;Mukim Kota Batu&quot;</td><td>&quot;Pangalau&quot;</td><td>&quot;&quot;</td></tr><tr><td>1690617239</td><td>&quot;User:IDK1213safasx/sandbox&quot;</td><td>&quot;94.101.29.27&quot;</td><td>&quot;&quot;</td></tr><tr><td>1690617234</td><td>&quot;List of bus routes in London&quot;</td><td>&quot;Pedroperezhumberto&quot;</td><td>&quot;/* Non-TfL bus routes in Great…</td></tr></tbody></table></div>"
      ],
      "text/plain": [
       "shape: (100, 4)\n",
       "┌────────────┬────────────────────────────┬────────────────────────────┬───────────────────────────┐\n",
       "│ timestamp  ┆ title                      ┆ user                       ┆ comment                   │\n",
       "│ ---        ┆ ---                        ┆ ---                        ┆ ---                       │\n",
       "│ i64        ┆ str                        ┆ str                        ┆ str                       │\n",
       "╞════════════╪════════════════════════════╪════════════════════════════╪═══════════════════════════╡\n",
       "│ 1690617099 ┆ EFL Championship           ┆ 87.12.215.232              ┆ /* League champions,      │\n",
       "│            ┆                            ┆                            ┆ runners-u…                │\n",
       "│ 1690617102 ┆ Lim Sang-choon             ┆ Preferwiki                 ┆                           │\n",
       "│ 1690617104 ┆ Higher                     ┆ Ss112                      ┆ /* Albums */ add          │\n",
       "│ 1690617104 ┆ International Poker Rules  ┆ Piotrus                    ┆ Nominated for deletion;   │\n",
       "│            ┆                            ┆                            ┆ see [[…                   │\n",
       "│ 1690617105 ┆ Abdul Hamid Khan Bhashani  ┆ InternetArchiveBot         ┆ Rescuing 1 sources and    │\n",
       "│            ┆                            ┆                            ┆ tagging…                  │\n",
       "│ …          ┆ …                          ┆ …                          ┆ …                         │\n",
       "│ 1690617238 ┆ Havering Residents         ┆ MRSC                       ┆ /* 2018 election */ +map  │\n",
       "│            ┆ Association                ┆                            ┆                           │\n",
       "│ 1690617235 ┆ Olha Kharlan               ┆ 2603:7000:2101:AA00:2C88:E ┆ Ce                        │\n",
       "│            ┆                            ┆ F86:…                      ┆                           │\n",
       "│ 1690617238 ┆ Mukim Kota Batu            ┆ Pangalau                   ┆                           │\n",
       "│ 1690617239 ┆ User:IDK1213safasx/sandbox ┆ 94.101.29.27               ┆                           │\n",
       "│ 1690617234 ┆ List of bus routes in      ┆ Pedroperezhumberto         ┆ /* Non-TfL bus routes in  │\n",
       "│            ┆ London                     ┆                            ┆ Great…                    │\n",
       "└────────────┴────────────────────────────┴────────────────────────────┴───────────────────────────┘"
      ]
     },
     "execution_count": 13,
     "metadata": {},
     "output_type": "execute_result"
    }
   ],
   "source": [
    "(\n",
    "    wikimedia.rename({'id': 'edit_id'})\n",
    "    .unnest('meta')\n",
    "    .select('timestamp', 'title', 'user', 'comment')\n",
    ")"
   ]
  },
  {
   "cell_type": "markdown",
   "id": "4e36bb0c-9e78-4807-8fd4-b349221ecad7",
   "metadata": {},
   "source": [
    "renameしないと、既存のカラム名との重複によりエラーが生じる"
   ]
  },
  {
   "cell_type": "markdown",
   "id": "4d6e2fa0-9c2a-44ac-b240-52aa901c7160",
   "metadata": {},
   "source": [
    "## その他のファイル"
   ]
  },
  {
   "cell_type": "markdown",
   "id": "d3df91cc-63ff-49e2-abc2-1240368cae25",
   "metadata": {},
   "source": [
    "Polarsで対応していないファイル形式があったとしても、`pl.from_pandas()`を使うことで、pandasのDataFrameをpolarsのDataFrameに変換することができる。  \n",
    "そのため、pandasのDataFrameとして読み込んで、それをあとからpolarsのDataFrameとすれば、以降はpolarsが使える"
   ]
  },
  {
   "cell_type": "markdown",
   "id": "dff6190d-53db-4960-9da7-17fd5724d187",
   "metadata": {
    "jp-MarkdownHeadingCollapsed": true
   },
   "source": [
    "## データベースのクエリの読み込み & 操作"
   ]
  },
  {
   "cell_type": "code",
   "execution_count": 14,
   "id": "bd890ac6-5cd1-4454-8356-eff6d9f65fb2",
   "metadata": {},
   "outputs": [
    {
     "data": {
      "text/html": [
       "<div><style>\n",
       ".dataframe > thead > tr,\n",
       ".dataframe > tbody > tr {\n",
       "  text-align: right;\n",
       "  white-space: pre-wrap;\n",
       "}\n",
       "</style>\n",
       "<small>shape: (10, 5)</small><table border=\"1\" class=\"dataframe\"><thead><tr><th>film_id</th><th>title</th><th>category</th><th>rating</th><th>length</th></tr><tr><td>i64</td><td>str</td><td>str</td><td>str</td><td>f64</td></tr></thead><tbody><tr><td>1</td><td>&quot;ACADEMY DINOSAUR&quot;</td><td>&quot;Documentary&quot;</td><td>&quot;PG&quot;</td><td>1.433333</td></tr><tr><td>2</td><td>&quot;ACE GOLDFINGER&quot;</td><td>&quot;Horror&quot;</td><td>&quot;G&quot;</td><td>0.8</td></tr><tr><td>3</td><td>&quot;ADAPTATION HOLES&quot;</td><td>&quot;Documentary&quot;</td><td>&quot;NC-17&quot;</td><td>0.833333</td></tr><tr><td>4</td><td>&quot;AFFAIR PREJUDICE&quot;</td><td>&quot;Horror&quot;</td><td>&quot;G&quot;</td><td>1.95</td></tr><tr><td>5</td><td>&quot;AFRICAN EGG&quot;</td><td>&quot;Family&quot;</td><td>&quot;G&quot;</td><td>2.166667</td></tr><tr><td>6</td><td>&quot;AGENT TRUMAN&quot;</td><td>&quot;Foreign&quot;</td><td>&quot;PG&quot;</td><td>2.816667</td></tr><tr><td>7</td><td>&quot;AIRPLANE SIERRA&quot;</td><td>&quot;Comedy&quot;</td><td>&quot;PG-13&quot;</td><td>1.033333</td></tr><tr><td>8</td><td>&quot;AIRPORT POLLOCK&quot;</td><td>&quot;Horror&quot;</td><td>&quot;R&quot;</td><td>0.9</td></tr><tr><td>9</td><td>&quot;ALABAMA DEVIL&quot;</td><td>&quot;Horror&quot;</td><td>&quot;PG-13&quot;</td><td>1.9</td></tr><tr><td>10</td><td>&quot;ALADDIN CALENDAR&quot;</td><td>&quot;Sports&quot;</td><td>&quot;NC-17&quot;</td><td>1.05</td></tr></tbody></table></div>"
      ],
      "text/plain": [
       "shape: (10, 5)\n",
       "┌─────────┬──────────────────┬─────────────┬────────┬──────────┐\n",
       "│ film_id ┆ title            ┆ category    ┆ rating ┆ length   │\n",
       "│ ---     ┆ ---              ┆ ---         ┆ ---    ┆ ---      │\n",
       "│ i64     ┆ str              ┆ str         ┆ str    ┆ f64      │\n",
       "╞═════════╪══════════════════╪═════════════╪════════╪══════════╡\n",
       "│ 1       ┆ ACADEMY DINOSAUR ┆ Documentary ┆ PG     ┆ 1.433333 │\n",
       "│ 2       ┆ ACE GOLDFINGER   ┆ Horror      ┆ G      ┆ 0.8      │\n",
       "│ 3       ┆ ADAPTATION HOLES ┆ Documentary ┆ NC-17  ┆ 0.833333 │\n",
       "│ 4       ┆ AFFAIR PREJUDICE ┆ Horror      ┆ G      ┆ 1.95     │\n",
       "│ 5       ┆ AFRICAN EGG      ┆ Family      ┆ G      ┆ 2.166667 │\n",
       "│ 6       ┆ AGENT TRUMAN     ┆ Foreign     ┆ PG     ┆ 2.816667 │\n",
       "│ 7       ┆ AIRPLANE SIERRA  ┆ Comedy      ┆ PG-13  ┆ 1.033333 │\n",
       "│ 8       ┆ AIRPORT POLLOCK  ┆ Horror      ┆ R      ┆ 0.9      │\n",
       "│ 9       ┆ ALABAMA DEVIL    ┆ Horror      ┆ PG-13  ┆ 1.9      │\n",
       "│ 10      ┆ ALADDIN CALENDAR ┆ Sports      ┆ NC-17  ┆ 1.05     │\n",
       "└─────────┴──────────────────┴─────────────┴────────┴──────────┘"
      ]
     },
     "execution_count": 14,
     "metadata": {},
     "output_type": "execute_result"
    }
   ],
   "source": [
    "db = 'sqlite:::../../data/sakila.db'\n",
    "films = pl.read_database_uri('SELECT * FROM film', db)\n",
    "film_categories = pl.read_database_uri('SELECT * FROM film_category', db)\n",
    "categories = pl.read_database_uri('SELECT * FROM category', db)\n",
    "\n",
    "(\n",
    "    films.join(film_categories, on='film_id', suffix='_fc')\n",
    "    .join(categories, on='category_id', suffix='_c')\n",
    "    .select(\n",
    "        'film_id',\n",
    "        'title',\n",
    "        pl.col('name').alias('category'),\n",
    "        'rating',\n",
    "        pl.col('length') / 60,\n",
    "    )\n",
    "    .limit(10)\n",
    ")"
   ]
  },
  {
   "cell_type": "markdown",
   "id": "be4ec0d5-f322-488a-bd89-a9e1e109f72d",
   "metadata": {},
   "source": [
    "`pl.read_database_uri()`を使って、第一引数にクエリ、第二引数にデータベースのURIを入れることで、DataFrame形式でデータベース情報を取得することができる。  \n",
    "また、直接sql文によるクエリを記述せずとも、polarsのモジュールのみで同様の処理が実行できる（=上記のやりかた）"
   ]
  },
  {
   "cell_type": "markdown",
   "id": "226b47d0-42d9-49f5-9c4a-2e9f21897700",
   "metadata": {},
   "source": [
    "## ファイルの出力"
   ]
  },
  {
   "cell_type": "code",
   "execution_count": 15,
   "id": "8e314d4a-98d6-4709-bfb7-95c13b6257fb",
   "metadata": {},
   "outputs": [],
   "source": [
    "all_stocks.write_csv(os.path.join(DATA_PAR_PATH,'all_stocks.csv'))"
   ]
  },
  {
   "cell_type": "markdown",
   "id": "0b86daf6-9dc4-433a-b8ec-d1f3e4d532fd",
   "metadata": {},
   "source": [
    "pandasだと`to_csv()`であるのに対して、polarsだと`write_csv()`なのか。  \n",
    "直感的にはreadの反対がwriteな感覚なので、`write_csv()`の方が好み。`write_excel()`などももちろんある。  \n",
    "また、`write_parquet()`もあり、parquet形式のファイルは高効率であるため、扱えるライブラリに限りがあるがおすすめとのこと"
   ]
  },
  {
   "cell_type": "code",
   "execution_count": null,
   "id": "caccdb61-d87d-400c-8628-faf6f31b563b",
   "metadata": {},
   "outputs": [],
   "source": []
  }
 ],
 "metadata": {
  "kernelspec": {
   "display_name": "Python 3 (ipykernel)",
   "language": "python",
   "name": "python3"
  },
  "language_info": {
   "codemirror_mode": {
    "name": "ipython",
    "version": 3
   },
   "file_extension": ".py",
   "mimetype": "text/x-python",
   "name": "python",
   "nbconvert_exporter": "python",
   "pygments_lexer": "ipython3",
   "version": "3.12.3"
  }
 },
 "nbformat": 4,
 "nbformat_minor": 5
}
