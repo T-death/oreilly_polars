{
 "cells": [
  {
   "cell_type": "markdown",
   "id": "8b98dab5-5434-4ab2-9cfb-51c4474182dd",
   "metadata": {},
   "source": [
    "# Polarsの表現手法"
   ]
  },
  {
   "cell_type": "code",
   "execution_count": 1,
   "id": "2a67c096-17fc-4cf7-9ed7-4088996dd067",
   "metadata": {},
   "outputs": [],
   "source": [
    "from datetime import date\n",
    "import os\n",
    "\n",
    "import polars as pl"
   ]
  },
  {
   "cell_type": "markdown",
   "id": "5bd7f2f2-db65-4f00-a07a-e69777ec324d",
   "metadata": {},
   "source": [
    "## 定数定義"
   ]
  },
  {
   "cell_type": "code",
   "execution_count": 2,
   "id": "bd19423d-294e-479c-89ee-e28a67bf5660",
   "metadata": {},
   "outputs": [],
   "source": [
    "DATA_PAR_PATH = os.path.join('..','..','data')\n",
    "INPUT_CSV_PATH_FRUIT = os.path.join(DATA_PAR_PATH,'fruit.csv')"
   ]
  },
  {
   "cell_type": "markdown",
   "id": "4e0d45ee-5ba3-4cfd-b049-136fb190b7da",
   "metadata": {},
   "source": [
    "## 表現手法のあれこれ"
   ]
  },
  {
   "cell_type": "markdown",
   "id": "46e61bea-b1eb-4707-80bd-c186fc2d0ef3",
   "metadata": {
    "jp-MarkdownHeadingCollapsed": true
   },
   "source": [
    "### 表現手法"
   ]
  },
  {
   "cell_type": "code",
   "execution_count": 3,
   "id": "31b9be62-07a7-4b5d-b50f-c3a9648b3a4b",
   "metadata": {},
   "outputs": [
    {
     "data": {
      "text/html": [
       "<div><style>\n",
       ".dataframe > thead > tr,\n",
       ".dataframe > tbody > tr {\n",
       "  text-align: right;\n",
       "  white-space: pre-wrap;\n",
       "}\n",
       "</style>\n",
       "<small>shape: (10, 5)</small><table border=\"1\" class=\"dataframe\"><thead><tr><th>name</th><th>weight</th><th>color</th><th>is_round</th><th>origin</th></tr><tr><td>str</td><td>i64</td><td>str</td><td>bool</td><td>str</td></tr></thead><tbody><tr><td>&quot;Avocado&quot;</td><td>200</td><td>&quot;green&quot;</td><td>false</td><td>&quot;South America&quot;</td></tr><tr><td>&quot;Banana&quot;</td><td>120</td><td>&quot;yellow&quot;</td><td>false</td><td>&quot;Asia&quot;</td></tr><tr><td>&quot;Blueberry&quot;</td><td>1</td><td>&quot;blue&quot;</td><td>false</td><td>&quot;North America&quot;</td></tr><tr><td>&quot;Cantaloupe&quot;</td><td>2500</td><td>&quot;orange&quot;</td><td>true</td><td>&quot;Africa&quot;</td></tr><tr><td>&quot;Cranberry&quot;</td><td>2</td><td>&quot;red&quot;</td><td>false</td><td>&quot;North America&quot;</td></tr><tr><td>&quot;Elderberry&quot;</td><td>1</td><td>&quot;black&quot;</td><td>false</td><td>&quot;Europe&quot;</td></tr><tr><td>&quot;Orange&quot;</td><td>130</td><td>&quot;orange&quot;</td><td>true</td><td>&quot;Asia&quot;</td></tr><tr><td>&quot;Papaya&quot;</td><td>1000</td><td>&quot;orange&quot;</td><td>false</td><td>&quot;South America&quot;</td></tr><tr><td>&quot;Peach&quot;</td><td>150</td><td>&quot;orange&quot;</td><td>true</td><td>&quot;Asia&quot;</td></tr><tr><td>&quot;Watermelon&quot;</td><td>5000</td><td>&quot;green&quot;</td><td>true</td><td>&quot;Africa&quot;</td></tr></tbody></table></div>"
      ],
      "text/plain": [
       "shape: (10, 5)\n",
       "┌────────────┬────────┬────────┬──────────┬───────────────┐\n",
       "│ name       ┆ weight ┆ color  ┆ is_round ┆ origin        │\n",
       "│ ---        ┆ ---    ┆ ---    ┆ ---      ┆ ---           │\n",
       "│ str        ┆ i64    ┆ str    ┆ bool     ┆ str           │\n",
       "╞════════════╪════════╪════════╪══════════╪═══════════════╡\n",
       "│ Avocado    ┆ 200    ┆ green  ┆ false    ┆ South America │\n",
       "│ Banana     ┆ 120    ┆ yellow ┆ false    ┆ Asia          │\n",
       "│ Blueberry  ┆ 1      ┆ blue   ┆ false    ┆ North America │\n",
       "│ Cantaloupe ┆ 2500   ┆ orange ┆ true     ┆ Africa        │\n",
       "│ Cranberry  ┆ 2      ┆ red    ┆ false    ┆ North America │\n",
       "│ Elderberry ┆ 1      ┆ black  ┆ false    ┆ Europe        │\n",
       "│ Orange     ┆ 130    ┆ orange ┆ true     ┆ Asia          │\n",
       "│ Papaya     ┆ 1000   ┆ orange ┆ false    ┆ South America │\n",
       "│ Peach      ┆ 150    ┆ orange ┆ true     ┆ Asia          │\n",
       "│ Watermelon ┆ 5000   ┆ green  ┆ true     ┆ Africa        │\n",
       "└────────────┴────────┴────────┴──────────┴───────────────┘"
      ]
     },
     "execution_count": 3,
     "metadata": {},
     "output_type": "execute_result"
    }
   ],
   "source": [
    "fruit = pl.read_csv(INPUT_CSV_PATH_FRUIT)\n",
    "fruit"
   ]
  },
  {
   "cell_type": "code",
   "execution_count": 4,
   "id": "4dec5294-1ba6-48c6-8eaf-ec335388097d",
   "metadata": {},
   "outputs": [
    {
     "data": {
      "text/html": [
       "<div><style>\n",
       ".dataframe > thead > tr,\n",
       ".dataframe > tbody > tr {\n",
       "  text-align: right;\n",
       "  white-space: pre-wrap;\n",
       "}\n",
       "</style>\n",
       "<small>shape: (10, 5)</small><table border=\"1\" class=\"dataframe\"><thead><tr><th>name</th><th>color</th><th>origin</th><th>weight</th><th>is_round</th></tr><tr><td>str</td><td>str</td><td>str</td><td>f64</td><td>bool</td></tr></thead><tbody><tr><td>&quot;Avocado&quot;</td><td>&quot;green&quot;</td><td>&quot;South America&quot;</td><td>0.2</td><td>false</td></tr><tr><td>&quot;Banana&quot;</td><td>&quot;yellow&quot;</td><td>&quot;Asia&quot;</td><td>0.12</td><td>false</td></tr><tr><td>&quot;Blueberry&quot;</td><td>&quot;blue&quot;</td><td>&quot;North America&quot;</td><td>0.001</td><td>false</td></tr><tr><td>&quot;Cantaloupe&quot;</td><td>&quot;orange&quot;</td><td>&quot;Africa&quot;</td><td>2.5</td><td>true</td></tr><tr><td>&quot;Cranberry&quot;</td><td>&quot;red&quot;</td><td>&quot;North America&quot;</td><td>0.002</td><td>false</td></tr><tr><td>&quot;Elderberry&quot;</td><td>&quot;black&quot;</td><td>&quot;Europe&quot;</td><td>0.001</td><td>false</td></tr><tr><td>&quot;Orange&quot;</td><td>&quot;orange&quot;</td><td>&quot;Asia&quot;</td><td>0.13</td><td>true</td></tr><tr><td>&quot;Papaya&quot;</td><td>&quot;orange&quot;</td><td>&quot;South America&quot;</td><td>1.0</td><td>false</td></tr><tr><td>&quot;Peach&quot;</td><td>&quot;orange&quot;</td><td>&quot;Asia&quot;</td><td>0.15</td><td>true</td></tr><tr><td>&quot;Watermelon&quot;</td><td>&quot;green&quot;</td><td>&quot;Africa&quot;</td><td>5.0</td><td>true</td></tr></tbody></table></div>"
      ],
      "text/plain": [
       "shape: (10, 5)\n",
       "┌────────────┬────────┬───────────────┬────────┬──────────┐\n",
       "│ name       ┆ color  ┆ origin        ┆ weight ┆ is_round │\n",
       "│ ---        ┆ ---    ┆ ---           ┆ ---    ┆ ---      │\n",
       "│ str        ┆ str    ┆ str           ┆ f64    ┆ bool     │\n",
       "╞════════════╪════════╪═══════════════╪════════╪══════════╡\n",
       "│ Avocado    ┆ green  ┆ South America ┆ 0.2    ┆ false    │\n",
       "│ Banana     ┆ yellow ┆ Asia          ┆ 0.12   ┆ false    │\n",
       "│ Blueberry  ┆ blue   ┆ North America ┆ 0.001  ┆ false    │\n",
       "│ Cantaloupe ┆ orange ┆ Africa        ┆ 2.5    ┆ true     │\n",
       "│ Cranberry  ┆ red    ┆ North America ┆ 0.002  ┆ false    │\n",
       "│ Elderberry ┆ black  ┆ Europe        ┆ 0.001  ┆ false    │\n",
       "│ Orange     ┆ orange ┆ Asia          ┆ 0.13   ┆ true     │\n",
       "│ Papaya     ┆ orange ┆ South America ┆ 1.0    ┆ false    │\n",
       "│ Peach      ┆ orange ┆ Asia          ┆ 0.15   ┆ true     │\n",
       "│ Watermelon ┆ green  ┆ Africa        ┆ 5.0    ┆ true     │\n",
       "└────────────┴────────┴───────────────┴────────┴──────────┘"
      ]
     },
     "execution_count": 4,
     "metadata": {},
     "output_type": "execute_result"
    }
   ],
   "source": [
    "fruit.select(\n",
    "    pl.col('name'),  # 既存のカラム名を指定\n",
    "    pl.col('^.*or.*$'),  # 正規表現によってカラム名を指定\n",
    "    pl.col('weight') / 1000,  # 計算処理も一括で\n",
    "    'is_round'  # 既存のカラム名を指定（ただし、計算式は適用できない）\n",
    ")"
   ]
  },
  {
   "cell_type": "markdown",
   "id": "f97b747d-0b20-42da-a9aa-c06348ce41f1",
   "metadata": {},
   "source": [
    "カラム名を指定するときは、直接文字列で指定しても構わないが、計算処理をしたい時には`pl.col(カラム名)`という具合にしていする必要がある点に注意。  \n",
    "迷ったら、一旦`pl.col(カラム名)`で指定するようにクセをつけておこう"
   ]
  },
  {
   "cell_type": "code",
   "execution_count": 5,
   "id": "c52c0d8b-63b9-4044-84a7-abaf5ea98f82",
   "metadata": {},
   "outputs": [
    {
     "data": {
      "text/html": [
       "<div><style>\n",
       ".dataframe > thead > tr,\n",
       ".dataframe > tbody > tr {\n",
       "  text-align: right;\n",
       "  white-space: pre-wrap;\n",
       "}\n",
       "</style>\n",
       "<small>shape: (10, 7)</small><table border=\"1\" class=\"dataframe\"><thead><tr><th>name</th><th>weight</th><th>color</th><th>is_round</th><th>origin</th><th>is_fruit</th><th>is_berry</th></tr><tr><td>str</td><td>i64</td><td>str</td><td>bool</td><td>str</td><td>bool</td><td>bool</td></tr></thead><tbody><tr><td>&quot;Avocado&quot;</td><td>200</td><td>&quot;green&quot;</td><td>false</td><td>&quot;South America&quot;</td><td>true</td><td>false</td></tr><tr><td>&quot;Banana&quot;</td><td>120</td><td>&quot;yellow&quot;</td><td>false</td><td>&quot;Asia&quot;</td><td>true</td><td>false</td></tr><tr><td>&quot;Blueberry&quot;</td><td>1</td><td>&quot;blue&quot;</td><td>false</td><td>&quot;North America&quot;</td><td>true</td><td>true</td></tr><tr><td>&quot;Cantaloupe&quot;</td><td>2500</td><td>&quot;orange&quot;</td><td>true</td><td>&quot;Africa&quot;</td><td>true</td><td>false</td></tr><tr><td>&quot;Cranberry&quot;</td><td>2</td><td>&quot;red&quot;</td><td>false</td><td>&quot;North America&quot;</td><td>true</td><td>true</td></tr><tr><td>&quot;Elderberry&quot;</td><td>1</td><td>&quot;black&quot;</td><td>false</td><td>&quot;Europe&quot;</td><td>true</td><td>true</td></tr><tr><td>&quot;Orange&quot;</td><td>130</td><td>&quot;orange&quot;</td><td>true</td><td>&quot;Asia&quot;</td><td>true</td><td>false</td></tr><tr><td>&quot;Papaya&quot;</td><td>1000</td><td>&quot;orange&quot;</td><td>false</td><td>&quot;South America&quot;</td><td>true</td><td>false</td></tr><tr><td>&quot;Peach&quot;</td><td>150</td><td>&quot;orange&quot;</td><td>true</td><td>&quot;Asia&quot;</td><td>true</td><td>false</td></tr><tr><td>&quot;Watermelon&quot;</td><td>5000</td><td>&quot;green&quot;</td><td>true</td><td>&quot;Africa&quot;</td><td>true</td><td>false</td></tr></tbody></table></div>"
      ],
      "text/plain": [
       "shape: (10, 7)\n",
       "┌────────────┬────────┬────────┬──────────┬───────────────┬──────────┬──────────┐\n",
       "│ name       ┆ weight ┆ color  ┆ is_round ┆ origin        ┆ is_fruit ┆ is_berry │\n",
       "│ ---        ┆ ---    ┆ ---    ┆ ---      ┆ ---           ┆ ---      ┆ ---      │\n",
       "│ str        ┆ i64    ┆ str    ┆ bool     ┆ str           ┆ bool     ┆ bool     │\n",
       "╞════════════╪════════╪════════╪══════════╪═══════════════╪══════════╪══════════╡\n",
       "│ Avocado    ┆ 200    ┆ green  ┆ false    ┆ South America ┆ true     ┆ false    │\n",
       "│ Banana     ┆ 120    ┆ yellow ┆ false    ┆ Asia          ┆ true     ┆ false    │\n",
       "│ Blueberry  ┆ 1      ┆ blue   ┆ false    ┆ North America ┆ true     ┆ true     │\n",
       "│ Cantaloupe ┆ 2500   ┆ orange ┆ true     ┆ Africa        ┆ true     ┆ false    │\n",
       "│ Cranberry  ┆ 2      ┆ red    ┆ false    ┆ North America ┆ true     ┆ true     │\n",
       "│ Elderberry ┆ 1      ┆ black  ┆ false    ┆ Europe        ┆ true     ┆ true     │\n",
       "│ Orange     ┆ 130    ┆ orange ┆ true     ┆ Asia          ┆ true     ┆ false    │\n",
       "│ Papaya     ┆ 1000   ┆ orange ┆ false    ┆ South America ┆ true     ┆ false    │\n",
       "│ Peach      ┆ 150    ┆ orange ┆ true     ┆ Asia          ┆ true     ┆ false    │\n",
       "│ Watermelon ┆ 5000   ┆ green  ┆ true     ┆ Africa        ┆ true     ┆ false    │\n",
       "└────────────┴────────┴────────┴──────────┴───────────────┴──────────┴──────────┘"
      ]
     },
     "execution_count": 5,
     "metadata": {},
     "output_type": "execute_result"
    }
   ],
   "source": [
    "fruit.with_columns(\n",
    "    pl.lit(True).alias('is_fruit'),  # `is_fruit`列を全てTrueで追加\n",
    "    pl.col('name').str.ends_with('berry').alias('is_berry')  # `name`列の末尾がberryの文字列があるか\n",
    ")"
   ]
  },
  {
   "cell_type": "code",
   "execution_count": 6,
   "id": "347e167d-5a9d-417e-a05a-c5f48303892e",
   "metadata": {},
   "outputs": [
    {
     "data": {
      "text/html": [
       "<div><style>\n",
       ".dataframe > thead > tr,\n",
       ".dataframe > tbody > tr {\n",
       "  text-align: right;\n",
       "  white-space: pre-wrap;\n",
       "}\n",
       "</style>\n",
       "<small>shape: (2, 5)</small><table border=\"1\" class=\"dataframe\"><thead><tr><th>name</th><th>weight</th><th>color</th><th>is_round</th><th>origin</th></tr><tr><td>str</td><td>i64</td><td>str</td><td>bool</td><td>str</td></tr></thead><tbody><tr><td>&quot;Cantaloupe&quot;</td><td>2500</td><td>&quot;orange&quot;</td><td>true</td><td>&quot;Africa&quot;</td></tr><tr><td>&quot;Watermelon&quot;</td><td>5000</td><td>&quot;green&quot;</td><td>true</td><td>&quot;Africa&quot;</td></tr></tbody></table></div>"
      ],
      "text/plain": [
       "shape: (2, 5)\n",
       "┌────────────┬────────┬────────┬──────────┬────────┐\n",
       "│ name       ┆ weight ┆ color  ┆ is_round ┆ origin │\n",
       "│ ---        ┆ ---    ┆ ---    ┆ ---      ┆ ---    │\n",
       "│ str        ┆ i64    ┆ str    ┆ bool     ┆ str    │\n",
       "╞════════════╪════════╪════════╪══════════╪════════╡\n",
       "│ Cantaloupe ┆ 2500   ┆ orange ┆ true     ┆ Africa │\n",
       "│ Watermelon ┆ 5000   ┆ green  ┆ true     ┆ Africa │\n",
       "└────────────┴────────┴────────┴──────────┴────────┘"
      ]
     },
     "execution_count": 6,
     "metadata": {},
     "output_type": "execute_result"
    }
   ],
   "source": [
    "fruit.filter(\n",
    "    pl.col('is_round') &\n",
    "    (pl.col('weight') > 1000)\n",
    ")"
   ]
  },
  {
   "cell_type": "markdown",
   "id": "2e1752d2-a80b-4503-be84-098c68bec9d2",
   "metadata": {},
   "source": [
    "pythonの論理演算だと`and`を使うのが普通だし、多言語だとしても`&&`のイメージがあるので、単に`&`なのはちょっと紛らわしいな"
   ]
  },
  {
   "cell_type": "code",
   "execution_count": 7,
   "id": "64e7bc03-03e1-46ef-9e69-14505f3c21fb",
   "metadata": {},
   "outputs": [
    {
     "data": {
      "text/html": [
       "<div><style>\n",
       ".dataframe > thead > tr,\n",
       ".dataframe > tbody > tr {\n",
       "  text-align: right;\n",
       "  white-space: pre-wrap;\n",
       "}\n",
       "</style>\n",
       "<small>shape: (4, 3)</small><table border=\"1\" class=\"dataframe\"><thead><tr><th>origin</th><th>len</th><th>averate_weight</th></tr><tr><td>str</td><td>u32</td><td>f64</td></tr></thead><tbody><tr><td>&quot;Europe&quot;</td><td>1</td><td>1.0</td></tr><tr><td>&quot;Asia&quot;</td><td>3</td><td>133.333333</td></tr><tr><td>&quot;America&quot;</td><td>4</td><td>300.75</td></tr><tr><td>&quot;Africa&quot;</td><td>2</td><td>3750.0</td></tr></tbody></table></div>"
      ],
      "text/plain": [
       "shape: (4, 3)\n",
       "┌─────────┬─────┬────────────────┐\n",
       "│ origin  ┆ len ┆ averate_weight │\n",
       "│ ---     ┆ --- ┆ ---            │\n",
       "│ str     ┆ u32 ┆ f64            │\n",
       "╞═════════╪═════╪════════════════╡\n",
       "│ Europe  ┆ 1   ┆ 1.0            │\n",
       "│ Asia    ┆ 3   ┆ 133.333333     │\n",
       "│ America ┆ 4   ┆ 300.75         │\n",
       "│ Africa  ┆ 2   ┆ 3750.0         │\n",
       "└─────────┴─────┴────────────────┘"
      ]
     },
     "execution_count": 7,
     "metadata": {},
     "output_type": "execute_result"
    }
   ],
   "source": [
    "fruit.group_by(\n",
    "    pl.col('origin').str.split(' ').list.last()\n",
    ").agg(\n",
    "    pl.len(),\n",
    "    pl.col('weight').mean().alias('averate_weight')\n",
    ")"
   ]
  },
  {
   "cell_type": "markdown",
   "id": "384448b7-c78a-4b31-9fec-9ef1a07abdf9",
   "metadata": {},
   "source": [
    "polarsでは、選択と集計がひとまとめで実行することができる利点がある"
   ]
  },
  {
   "cell_type": "code",
   "execution_count": 8,
   "id": "159f404a-2780-44bb-a9fc-1b71bd80f30f",
   "metadata": {},
   "outputs": [
    {
     "data": {
      "text/html": [
       "<div><style>\n",
       ".dataframe > thead > tr,\n",
       ".dataframe > tbody > tr {\n",
       "  text-align: right;\n",
       "  white-space: pre-wrap;\n",
       "}\n",
       "</style>\n",
       "<small>shape: (10, 5)</small><table border=\"1\" class=\"dataframe\"><thead><tr><th>name</th><th>weight</th><th>color</th><th>is_round</th><th>origin</th></tr><tr><td>str</td><td>i64</td><td>str</td><td>bool</td><td>str</td></tr></thead><tbody><tr><td>&quot;Cantaloupe&quot;</td><td>2500</td><td>&quot;orange&quot;</td><td>true</td><td>&quot;Africa&quot;</td></tr><tr><td>&quot;Elderberry&quot;</td><td>1</td><td>&quot;black&quot;</td><td>false</td><td>&quot;Europe&quot;</td></tr><tr><td>&quot;Watermelon&quot;</td><td>5000</td><td>&quot;green&quot;</td><td>true</td><td>&quot;Africa&quot;</td></tr><tr><td>&quot;Blueberry&quot;</td><td>1</td><td>&quot;blue&quot;</td><td>false</td><td>&quot;North America&quot;</td></tr><tr><td>&quot;Cranberry&quot;</td><td>2</td><td>&quot;red&quot;</td><td>false</td><td>&quot;North America&quot;</td></tr><tr><td>&quot;Avocado&quot;</td><td>200</td><td>&quot;green&quot;</td><td>false</td><td>&quot;South America&quot;</td></tr><tr><td>&quot;Banana&quot;</td><td>120</td><td>&quot;yellow&quot;</td><td>false</td><td>&quot;Asia&quot;</td></tr><tr><td>&quot;Orange&quot;</td><td>130</td><td>&quot;orange&quot;</td><td>true</td><td>&quot;Asia&quot;</td></tr><tr><td>&quot;Papaya&quot;</td><td>1000</td><td>&quot;orange&quot;</td><td>false</td><td>&quot;South America&quot;</td></tr><tr><td>&quot;Peach&quot;</td><td>150</td><td>&quot;orange&quot;</td><td>true</td><td>&quot;Asia&quot;</td></tr></tbody></table></div>"
      ],
      "text/plain": [
       "shape: (10, 5)\n",
       "┌────────────┬────────┬────────┬──────────┬───────────────┐\n",
       "│ name       ┆ weight ┆ color  ┆ is_round ┆ origin        │\n",
       "│ ---        ┆ ---    ┆ ---    ┆ ---      ┆ ---           │\n",
       "│ str        ┆ i64    ┆ str    ┆ bool     ┆ str           │\n",
       "╞════════════╪════════╪════════╪══════════╪═══════════════╡\n",
       "│ Cantaloupe ┆ 2500   ┆ orange ┆ true     ┆ Africa        │\n",
       "│ Elderberry ┆ 1      ┆ black  ┆ false    ┆ Europe        │\n",
       "│ Watermelon ┆ 5000   ┆ green  ┆ true     ┆ Africa        │\n",
       "│ Blueberry  ┆ 1      ┆ blue   ┆ false    ┆ North America │\n",
       "│ Cranberry  ┆ 2      ┆ red    ┆ false    ┆ North America │\n",
       "│ Avocado    ┆ 200    ┆ green  ┆ false    ┆ South America │\n",
       "│ Banana     ┆ 120    ┆ yellow ┆ false    ┆ Asia          │\n",
       "│ Orange     ┆ 130    ┆ orange ┆ true     ┆ Asia          │\n",
       "│ Papaya     ┆ 1000   ┆ orange ┆ false    ┆ South America │\n",
       "│ Peach      ┆ 150    ┆ orange ┆ true     ┆ Asia          │\n",
       "└────────────┴────────┴────────┴──────────┴───────────────┘"
      ]
     },
     "execution_count": 8,
     "metadata": {},
     "output_type": "execute_result"
    }
   ],
   "source": [
    "fruit.sort(\n",
    "    pl.col('name').str.len_bytes(),\n",
    "    descending=True\n",
    ")"
   ]
  },
  {
   "cell_type": "code",
   "execution_count": 9,
   "id": "a8651b00-6b4d-42f3-a5cd-3ab1c5fd6181",
   "metadata": {},
   "outputs": [
    {
     "data": {
      "text/html": [
       "<div><style>\n",
       ".dataframe > thead > tr,\n",
       ".dataframe > tbody > tr {\n",
       "  text-align: right;\n",
       "  white-space: pre-wrap;\n",
       "}\n",
       "</style>\n",
       "<small>shape: (3, 4)</small><table border=\"1\" class=\"dataframe\"><thead><tr><th>a</th><th>b</th><th>a_times_10</th><th>b_times_10</th></tr><tr><td>i64</td><td>f64</td><td>i64</td><td>f64</td></tr></thead><tbody><tr><td>1</td><td>0.4</td><td>10</td><td>4.0</td></tr><tr><td>2</td><td>0.5</td><td>20</td><td>5.0</td></tr><tr><td>3</td><td>0.6</td><td>30</td><td>6.0</td></tr></tbody></table></div>"
      ],
      "text/plain": [
       "shape: (3, 4)\n",
       "┌─────┬─────┬────────────┬────────────┐\n",
       "│ a   ┆ b   ┆ a_times_10 ┆ b_times_10 │\n",
       "│ --- ┆ --- ┆ ---        ┆ ---        │\n",
       "│ i64 ┆ f64 ┆ i64        ┆ f64        │\n",
       "╞═════╪═════╪════════════╪════════════╡\n",
       "│ 1   ┆ 0.4 ┆ 10         ┆ 4.0        │\n",
       "│ 2   ┆ 0.5 ┆ 20         ┆ 5.0        │\n",
       "│ 3   ┆ 0.6 ┆ 30         ┆ 6.0        │\n",
       "└─────┴─────┴────────────┴────────────┘"
      ]
     },
     "execution_count": 9,
     "metadata": {},
     "output_type": "execute_result"
    }
   ],
   "source": [
    "(\n",
    "    pl.DataFrame({'a': [1, 2, 3], 'b': [0.4, 0.5, 0.6]})\n",
    "    .with_columns(pl.all().mul(10).name.suffix('_times_10'))\n",
    ")"
   ]
  },
  {
   "cell_type": "markdown",
   "id": "bffa1b6a-7607-4736-a481-cae69ad6f970",
   "metadata": {},
   "source": [
    "`.suffix(末尾文字列)`で、まとめてカラム名の末尾を付与できるのありがたい"
   ]
  },
  {
   "cell_type": "code",
   "execution_count": 10,
   "id": "cda8503a-065b-4948-8c3b-7de103b308de",
   "metadata": {},
   "outputs": [
    {
     "data": {
      "text/plain": [
       "True"
      ]
     },
     "execution_count": 10,
     "metadata": {},
     "output_type": "execute_result"
    }
   ],
   "source": [
    "pl.all().mul(10).name.suffix('_times_10').meta.has_multiple_outputs()"
   ]
  },
  {
   "cell_type": "markdown",
   "id": "8d7df4a4-3204-4c1f-9fb2-72fcc34efd43",
   "metadata": {},
   "source": [
    "`.meta.has_multiple_outputs()`は、複数のSeriesによって構築されているか否かを判定してくれる"
   ]
  },
  {
   "cell_type": "markdown",
   "id": "ccec5419-eb6a-480e-a1e2-3e4834cf52eb",
   "metadata": {
    "jp-MarkdownHeadingCollapsed": true
   },
   "source": [
    "### 表現特性"
   ]
  },
  {
   "cell_type": "code",
   "execution_count": 11,
   "id": "9e9361db-f384-458e-a23d-50ee730b32ad",
   "metadata": {},
   "outputs": [
    {
     "data": {
      "text/html": [
       "<div><style>\n",
       ".dataframe > thead > tr,\n",
       ".dataframe > tbody > tr {\n",
       "  text-align: right;\n",
       "  white-space: pre-wrap;\n",
       "}\n",
       "</style>\n",
       "<small>shape: (10, 6)</small><table border=\"1\" class=\"dataframe\"><thead><tr><th>name</th><th>weight</th><th>color</th><th>is_round</th><th>origin</th><th>is_orange</th></tr><tr><td>str</td><td>i64</td><td>str</td><td>bool</td><td>str</td><td>bool</td></tr></thead><tbody><tr><td>&quot;Avocado&quot;</td><td>200</td><td>&quot;green&quot;</td><td>false</td><td>&quot;South America&quot;</td><td>false</td></tr><tr><td>&quot;Banana&quot;</td><td>120</td><td>&quot;yellow&quot;</td><td>false</td><td>&quot;Asia&quot;</td><td>false</td></tr><tr><td>&quot;Blueberry&quot;</td><td>1</td><td>&quot;blue&quot;</td><td>false</td><td>&quot;North America&quot;</td><td>false</td></tr><tr><td>&quot;Cantaloupe&quot;</td><td>2500</td><td>&quot;orange&quot;</td><td>true</td><td>&quot;Africa&quot;</td><td>true</td></tr><tr><td>&quot;Cranberry&quot;</td><td>2</td><td>&quot;red&quot;</td><td>false</td><td>&quot;North America&quot;</td><td>false</td></tr><tr><td>&quot;Elderberry&quot;</td><td>1</td><td>&quot;black&quot;</td><td>false</td><td>&quot;Europe&quot;</td><td>false</td></tr><tr><td>&quot;Orange&quot;</td><td>130</td><td>&quot;orange&quot;</td><td>true</td><td>&quot;Asia&quot;</td><td>true</td></tr><tr><td>&quot;Papaya&quot;</td><td>1000</td><td>&quot;orange&quot;</td><td>false</td><td>&quot;South America&quot;</td><td>true</td></tr><tr><td>&quot;Peach&quot;</td><td>150</td><td>&quot;orange&quot;</td><td>true</td><td>&quot;Asia&quot;</td><td>true</td></tr><tr><td>&quot;Watermelon&quot;</td><td>5000</td><td>&quot;green&quot;</td><td>true</td><td>&quot;Africa&quot;</td><td>false</td></tr></tbody></table></div>"
      ],
      "text/plain": [
       "shape: (10, 6)\n",
       "┌────────────┬────────┬────────┬──────────┬───────────────┬───────────┐\n",
       "│ name       ┆ weight ┆ color  ┆ is_round ┆ origin        ┆ is_orange │\n",
       "│ ---        ┆ ---    ┆ ---    ┆ ---      ┆ ---           ┆ ---       │\n",
       "│ str        ┆ i64    ┆ str    ┆ bool     ┆ str           ┆ bool      │\n",
       "╞════════════╪════════╪════════╪══════════╪═══════════════╪═══════════╡\n",
       "│ Avocado    ┆ 200    ┆ green  ┆ false    ┆ South America ┆ false     │\n",
       "│ Banana     ┆ 120    ┆ yellow ┆ false    ┆ Asia          ┆ false     │\n",
       "│ Blueberry  ┆ 1      ┆ blue   ┆ false    ┆ North America ┆ false     │\n",
       "│ Cantaloupe ┆ 2500   ┆ orange ┆ true     ┆ Africa        ┆ true      │\n",
       "│ Cranberry  ┆ 2      ┆ red    ┆ false    ┆ North America ┆ false     │\n",
       "│ Elderberry ┆ 1      ┆ black  ┆ false    ┆ Europe        ┆ false     │\n",
       "│ Orange     ┆ 130    ┆ orange ┆ true     ┆ Asia          ┆ true      │\n",
       "│ Papaya     ┆ 1000   ┆ orange ┆ false    ┆ South America ┆ true      │\n",
       "│ Peach      ┆ 150    ┆ orange ┆ true     ┆ Asia          ┆ true      │\n",
       "│ Watermelon ┆ 5000   ┆ green  ┆ true     ┆ Africa        ┆ false     │\n",
       "└────────────┴────────┴────────┴──────────┴───────────────┴───────────┘"
      ]
     },
     "execution_count": 11,
     "metadata": {},
     "output_type": "execute_result"
    }
   ],
   "source": [
    "is_orange = (pl.col('color') == 'orange').alias('is_orange')\n",
    "\n",
    "fruit.with_columns(is_orange)"
   ]
  },
  {
   "cell_type": "markdown",
   "id": "737e5161-e682-43d2-afd7-95f16a90ec03",
   "metadata": {},
   "source": [
    "`.alias(列名)`で新規カラムの列名を命名できるの、めちゃくちゃ楽だなぁ、といまさら感じ始めてきた"
   ]
  },
  {
   "cell_type": "code",
   "execution_count": 12,
   "id": "882daa9a-7371-4044-a4aa-8900a99bb576",
   "metadata": {},
   "outputs": [
    {
     "data": {
      "text/html": [
       "<div><style>\n",
       ".dataframe > thead > tr,\n",
       ".dataframe > tbody > tr {\n",
       "  text-align: right;\n",
       "  white-space: pre-wrap;\n",
       "}\n",
       "</style>\n",
       "<small>shape: (4, 5)</small><table border=\"1\" class=\"dataframe\"><thead><tr><th>name</th><th>weight</th><th>color</th><th>is_round</th><th>origin</th></tr><tr><td>str</td><td>i64</td><td>str</td><td>bool</td><td>str</td></tr></thead><tbody><tr><td>&quot;Cantaloupe&quot;</td><td>2500</td><td>&quot;orange&quot;</td><td>true</td><td>&quot;Africa&quot;</td></tr><tr><td>&quot;Orange&quot;</td><td>130</td><td>&quot;orange&quot;</td><td>true</td><td>&quot;Asia&quot;</td></tr><tr><td>&quot;Papaya&quot;</td><td>1000</td><td>&quot;orange&quot;</td><td>false</td><td>&quot;South America&quot;</td></tr><tr><td>&quot;Peach&quot;</td><td>150</td><td>&quot;orange&quot;</td><td>true</td><td>&quot;Asia&quot;</td></tr></tbody></table></div>"
      ],
      "text/plain": [
       "shape: (4, 5)\n",
       "┌────────────┬────────┬────────┬──────────┬───────────────┐\n",
       "│ name       ┆ weight ┆ color  ┆ is_round ┆ origin        │\n",
       "│ ---        ┆ ---    ┆ ---    ┆ ---      ┆ ---           │\n",
       "│ str        ┆ i64    ┆ str    ┆ bool     ┆ str           │\n",
       "╞════════════╪════════╪════════╪══════════╪═══════════════╡\n",
       "│ Cantaloupe ┆ 2500   ┆ orange ┆ true     ┆ Africa        │\n",
       "│ Orange     ┆ 130    ┆ orange ┆ true     ┆ Asia          │\n",
       "│ Papaya     ┆ 1000   ┆ orange ┆ false    ┆ South America │\n",
       "│ Peach      ┆ 150    ┆ orange ┆ true     ┆ Asia          │\n",
       "└────────────┴────────┴────────┴──────────┴───────────────┘"
      ]
     },
     "execution_count": 12,
     "metadata": {},
     "output_type": "execute_result"
    }
   ],
   "source": [
    "fruit.filter(is_orange)"
   ]
  },
  {
   "cell_type": "code",
   "execution_count": 13,
   "id": "998b6a79-9885-4c17-b4b2-8a169c2c29b2",
   "metadata": {},
   "outputs": [
    {
     "data": {
      "text/html": [
       "<div><style>\n",
       ".dataframe > thead > tr,\n",
       ".dataframe > tbody > tr {\n",
       "  text-align: right;\n",
       "  white-space: pre-wrap;\n",
       "}\n",
       "</style>\n",
       "<small>shape: (2, 2)</small><table border=\"1\" class=\"dataframe\"><thead><tr><th>is_orange</th><th>len</th></tr><tr><td>bool</td><td>u32</td></tr></thead><tbody><tr><td>false</td><td>6</td></tr><tr><td>true</td><td>4</td></tr></tbody></table></div>"
      ],
      "text/plain": [
       "shape: (2, 2)\n",
       "┌───────────┬─────┐\n",
       "│ is_orange ┆ len │\n",
       "│ ---       ┆ --- │\n",
       "│ bool      ┆ u32 │\n",
       "╞═══════════╪═════╡\n",
       "│ false     ┆ 6   │\n",
       "│ true      ┆ 4   │\n",
       "└───────────┴─────┘"
      ]
     },
     "execution_count": 13,
     "metadata": {},
     "output_type": "execute_result"
    }
   ],
   "source": [
    "fruit.group_by(is_orange).len()"
   ]
  },
  {
   "cell_type": "markdown",
   "id": "940856d9-a0dd-4dbf-9a88-a6b5b8c3125d",
   "metadata": {},
   "source": [
    "新しいpolarsだと`.count()`じゃなくて`.len()`が推奨されているわけだが、`.count()`のままでよかった気がする.."
   ]
  },
  {
   "cell_type": "code",
   "execution_count": 14,
   "id": "0a7cbca0-43d1-4447-a611-523582e0e09f",
   "metadata": {},
   "outputs": [
    {
     "data": {
      "text/html": [
       "<div><style>\n",
       ".dataframe > thead > tr,\n",
       ".dataframe > tbody > tr {\n",
       "  text-align: right;\n",
       "  white-space: pre-wrap;\n",
       "}\n",
       "</style>\n",
       "<small>shape: (2, 3)</small><table border=\"1\" class=\"dataframe\"><thead><tr><th>name</th><th>latin</th><th>color</th></tr><tr><td>str</td><td>str</td><td>str</td></tr></thead><tbody><tr><td>&quot;Tiger lily&quot;</td><td>&quot;Lilium columbianum&quot;</td><td>&quot;orange&quot;</td></tr><tr><td>&quot;African marigold&quot;</td><td>&quot;Tagetes erecta&quot;</td><td>&quot;orange&quot;</td></tr></tbody></table></div>"
      ],
      "text/plain": [
       "shape: (2, 3)\n",
       "┌──────────────────┬────────────────────┬────────┐\n",
       "│ name             ┆ latin              ┆ color  │\n",
       "│ ---              ┆ ---                ┆ ---    │\n",
       "│ str              ┆ str                ┆ str    │\n",
       "╞══════════════════╪════════════════════╪════════╡\n",
       "│ Tiger lily       ┆ Lilium columbianum ┆ orange │\n",
       "│ African marigold ┆ Tagetes erecta     ┆ orange │\n",
       "└──────────────────┴────────────────────┴────────┘"
      ]
     },
     "execution_count": 14,
     "metadata": {},
     "output_type": "execute_result"
    }
   ],
   "source": [
    "flowers = pl.DataFrame({\n",
    "    'name': ['Tiger lily', 'Blue flag', 'African marigold'],\n",
    "    'latin': ['Lilium columbianum', 'Iris vesicolor', 'Tagetes erecta'],\n",
    "    'color': ['orange', 'purple', 'orange']\n",
    "})\n",
    "\n",
    "flowers.filter(is_orange)"
   ]
  },
  {
   "cell_type": "markdown",
   "id": "ac54c22d-c042-4f5e-8587-2e95e4d0b83b",
   "metadata": {},
   "source": [
    "なるほどなぁ。  \n",
    "以前のセルで`is_orange`を定義したけれど、条件式の定義は遅延実行されるのか。なので、別のDataFrameに対して適用した際に、そのDataFrameに合わせた形で適用できるのか。  \n",
    "pandasだと、1つのDataFrameに対して都度定義する必要があるので、メモリ効率も良くなりそう"
   ]
  },
  {
   "cell_type": "markdown",
   "id": "25c6bfcd-c3d7-43d3-851b-733d454e1b44",
   "metadata": {
    "jp-MarkdownHeadingCollapsed": true
   },
   "source": [
    "### 表現作成"
   ]
  },
  {
   "cell_type": "code",
   "execution_count": 15,
   "id": "a851a5b4-5f51-4c7f-8dce-11cd0a094b15",
   "metadata": {},
   "outputs": [
    {
     "data": {
      "text/plain": [
       "['color']"
      ]
     },
     "execution_count": 15,
     "metadata": {},
     "output_type": "execute_result"
    }
   ],
   "source": [
    "fruit.select(pl.col('color')).columns"
   ]
  },
  {
   "cell_type": "code",
   "execution_count": 16,
   "id": "3a3297ad-b34a-4e93-9d58-4357d15f0ef6",
   "metadata": {},
   "outputs": [
    {
     "data": {
      "text/plain": [
       "['color', 'origin']"
      ]
     },
     "execution_count": 16,
     "metadata": {},
     "output_type": "execute_result"
    }
   ],
   "source": [
    "fruit.select(pl.col('^.*or.*$')).columns"
   ]
  },
  {
   "cell_type": "code",
   "execution_count": 17,
   "id": "883b3333-7d65-40f1-baa4-5a1532adc011",
   "metadata": {},
   "outputs": [
    {
     "data": {
      "text/plain": [
       "['name', 'weight', 'color', 'is_round', 'origin']"
      ]
     },
     "execution_count": 17,
     "metadata": {},
     "output_type": "execute_result"
    }
   ],
   "source": [
    "fruit.select(pl.all()).columns"
   ]
  },
  {
   "cell_type": "code",
   "execution_count": 18,
   "id": "443e815d-e167-4dd3-a726-fe436451472e",
   "metadata": {},
   "outputs": [
    {
     "data": {
      "text/plain": [
       "['weight', 'is_round']"
      ]
     },
     "execution_count": 18,
     "metadata": {},
     "output_type": "execute_result"
    }
   ],
   "source": [
    "fruit.select(pl.col(pl.Boolean, pl.Int64)).columns"
   ]
  },
  {
   "cell_type": "markdown",
   "id": "d7262681-e389-4e2e-b218-6dbd0a520291",
   "metadata": {},
   "source": [
    "プリミティブ型でのカラム選択ができるのいいね"
   ]
  },
  {
   "cell_type": "code",
   "execution_count": 19,
   "id": "0924adec-44db-4a04-91ca-6687f6a6672e",
   "metadata": {},
   "outputs": [
    {
     "ename": "TypeError",
     "evalue": "argument 'dtypes': 'str' is not a Polars data type",
     "output_type": "error",
     "traceback": [
      "\u001b[0;31m---------------------------------------------------------------------------\u001b[0m",
      "\u001b[0;31mTypeError\u001b[0m                                 Traceback (most recent call last)",
      "Cell \u001b[0;32mIn[19], line 1\u001b[0m\n\u001b[0;32m----> 1\u001b[0m fruit\u001b[38;5;241m.\u001b[39mselect(\u001b[43mpl\u001b[49m\u001b[38;5;241;43m.\u001b[39;49m\u001b[43mcol\u001b[49m\u001b[43m(\u001b[49m\u001b[43m[\u001b[49m\u001b[43mpl\u001b[49m\u001b[38;5;241;43m.\u001b[39;49m\u001b[43mString\u001b[49m\u001b[43m,\u001b[49m\u001b[43m \u001b[49m\u001b[38;5;124;43m'\u001b[39;49m\u001b[38;5;124;43mis_round\u001b[39;49m\u001b[38;5;124;43m'\u001b[39;49m\u001b[43m]\u001b[49m\u001b[43m)\u001b[49m)\u001b[38;5;241m.\u001b[39mcolumns\n",
      "File \u001b[0;32m~/programing/python/oreilly/oreilly_polars/.venv/lib/python3.12/site-packages/polars/functions/col.py:274\u001b[0m, in \u001b[0;36mCol.__call__\u001b[0;34m(self, name, *more_names)\u001b[0m\n\u001b[1;32m    127\u001b[0m \u001b[38;5;28;01mdef\u001b[39;00m \u001b[38;5;21m__call__\u001b[39m(\n\u001b[1;32m    128\u001b[0m     \u001b[38;5;28mself\u001b[39m,\n\u001b[1;32m    129\u001b[0m     name: \u001b[38;5;28mstr\u001b[39m \u001b[38;5;241m|\u001b[39m PolarsDataType \u001b[38;5;241m|\u001b[39m Iterable[\u001b[38;5;28mstr\u001b[39m] \u001b[38;5;241m|\u001b[39m Iterable[PolarsDataType],\n\u001b[1;32m    130\u001b[0m     \u001b[38;5;241m*\u001b[39mmore_names: \u001b[38;5;28mstr\u001b[39m \u001b[38;5;241m|\u001b[39m PolarsDataType,\n\u001b[1;32m    131\u001b[0m ) \u001b[38;5;241m-\u001b[39m\u001b[38;5;241m>\u001b[39m Expr:\n\u001b[1;32m    132\u001b[0m \u001b[38;5;250m    \u001b[39m\u001b[38;5;124;03m\"\"\"\u001b[39;00m\n\u001b[1;32m    133\u001b[0m \u001b[38;5;124;03m    Create one or more column expressions representing column(s) in a DataFrame.\u001b[39;00m\n\u001b[1;32m    134\u001b[0m \n\u001b[0;32m   (...)\u001b[0m\n\u001b[1;32m    272\u001b[0m \u001b[38;5;124;03m    └─────┴───────────┴─────┘\u001b[39;00m\n\u001b[1;32m    273\u001b[0m \u001b[38;5;124;03m    \"\"\"\u001b[39;00m\n\u001b[0;32m--> 274\u001b[0m     \u001b[38;5;28;01mreturn\u001b[39;00m \u001b[43m_create_col\u001b[49m\u001b[43m(\u001b[49m\u001b[43mname\u001b[49m\u001b[43m,\u001b[49m\u001b[43m \u001b[49m\u001b[38;5;241;43m*\u001b[39;49m\u001b[43mmore_names\u001b[49m\u001b[43m)\u001b[49m\n",
      "File \u001b[0;32m~/programing/python/oreilly/oreilly_polars/.venv/lib/python3.12/site-packages/polars/functions/col.py:54\u001b[0m, in \u001b[0;36m_create_col\u001b[0;34m(name, *more_names)\u001b[0m\n\u001b[1;32m     52\u001b[0m     \u001b[38;5;28;01mreturn\u001b[39;00m wrap_expr(plr\u001b[38;5;241m.\u001b[39mcols(names))\n\u001b[1;32m     53\u001b[0m \u001b[38;5;28;01melif\u001b[39;00m is_polars_dtype(item):\n\u001b[0;32m---> 54\u001b[0m     \u001b[38;5;28;01mreturn\u001b[39;00m wrap_expr(\u001b[43mplr\u001b[49m\u001b[38;5;241;43m.\u001b[39;49m\u001b[43mdtype_cols\u001b[49m\u001b[43m(\u001b[49m\u001b[43mnames\u001b[49m\u001b[43m)\u001b[49m)\n\u001b[1;32m     55\u001b[0m \u001b[38;5;28;01melse\u001b[39;00m:\n\u001b[1;32m     56\u001b[0m     msg \u001b[38;5;241m=\u001b[39m (\n\u001b[1;32m     57\u001b[0m         \u001b[38;5;124m\"\u001b[39m\u001b[38;5;124minvalid input for `col`\u001b[39m\u001b[38;5;124m\"\u001b[39m\n\u001b[1;32m     58\u001b[0m         \u001b[38;5;124m\"\u001b[39m\u001b[38;5;130;01m\\n\u001b[39;00m\u001b[38;5;130;01m\\n\u001b[39;00m\u001b[38;5;124mExpected iterable of type `str` or `DataType`,\u001b[39m\u001b[38;5;124m\"\u001b[39m\n\u001b[1;32m     59\u001b[0m         \u001b[38;5;124mf\u001b[39m\u001b[38;5;124m\"\u001b[39m\u001b[38;5;124m got iterable of type \u001b[39m\u001b[38;5;132;01m{\u001b[39;00m\u001b[38;5;28mtype\u001b[39m(item)\u001b[38;5;241m.\u001b[39m\u001b[38;5;18m__name__\u001b[39m\u001b[38;5;132;01m!r}\u001b[39;00m\u001b[38;5;124m.\u001b[39m\u001b[38;5;124m\"\u001b[39m\n\u001b[1;32m     60\u001b[0m     )\n",
      "\u001b[0;31mTypeError\u001b[0m: argument 'dtypes': 'str' is not a Polars data type"
     ]
    }
   ],
   "source": [
    "fruit.select(pl.col([pl.String, 'is_round'])).columns"
   ]
  },
  {
   "cell_type": "markdown",
   "id": "f422ae99-d581-42ca-a152-03fc6f7cd9d7",
   "metadata": {},
   "source": [
    "上記エラーの通りで、カラム名選択時に文字列型とデータ型を同時に指定することはできない"
   ]
  },
  {
   "cell_type": "markdown",
   "id": "2d5e2d68-9e70-49c9-bcd5-673d28284c6c",
   "metadata": {},
   "source": [
    "既存のDataFrameではなく、新規でselectすることも可能"
   ]
  },
  {
   "cell_type": "code",
   "execution_count": 20,
   "id": "92757df5-c01e-4a5a-824c-7984fa3c45c9",
   "metadata": {},
   "outputs": [
    {
     "data": {
      "text/html": [
       "<div><style>\n",
       ".dataframe > thead > tr,\n",
       ".dataframe > tbody > tr {\n",
       "  text-align: right;\n",
       "  white-space: pre-wrap;\n",
       "}\n",
       "</style>\n",
       "<small>shape: (1, 1)</small><table border=\"1\" class=\"dataframe\"><thead><tr><th>literal</th></tr><tr><td>i32</td></tr></thead><tbody><tr><td>42</td></tr></tbody></table></div>"
      ],
      "text/plain": [
       "shape: (1, 1)\n",
       "┌─────────┐\n",
       "│ literal │\n",
       "│ ---     │\n",
       "│ i32     │\n",
       "╞═════════╡\n",
       "│ 42      │\n",
       "└─────────┘"
      ]
     },
     "execution_count": 20,
     "metadata": {},
     "output_type": "execute_result"
    }
   ],
   "source": [
    "pl.select(pl.lit(42))"
   ]
  },
  {
   "cell_type": "code",
   "execution_count": 21,
   "id": "275eb715-4875-4b9a-a050-5521488dfba5",
   "metadata": {},
   "outputs": [
    {
     "data": {
      "text/html": [
       "<div><style>\n",
       ".dataframe > thead > tr,\n",
       ".dataframe > tbody > tr {\n",
       "  text-align: right;\n",
       "  white-space: pre-wrap;\n",
       "}\n",
       "</style>\n",
       "<small>shape: (1, 1)</small><table border=\"1\" class=\"dataframe\"><thead><tr><th>answer</th></tr><tr><td>i32</td></tr></thead><tbody><tr><td>42</td></tr></tbody></table></div>"
      ],
      "text/plain": [
       "shape: (1, 1)\n",
       "┌────────┐\n",
       "│ answer │\n",
       "│ ---    │\n",
       "│ i32    │\n",
       "╞════════╡\n",
       "│ 42     │\n",
       "└────────┘"
      ]
     },
     "execution_count": 21,
     "metadata": {},
     "output_type": "execute_result"
    }
   ],
   "source": [
    "pl.select(pl.lit(42).alias('answer'))"
   ]
  },
  {
   "cell_type": "code",
   "execution_count": 22,
   "id": "43c7087d-c1c5-4076-9210-6e4e7d5d859d",
   "metadata": {},
   "outputs": [
    {
     "data": {
      "text/html": [
       "<div><style>\n",
       ".dataframe > thead > tr,\n",
       ".dataframe > tbody > tr {\n",
       "  text-align: right;\n",
       "  white-space: pre-wrap;\n",
       "}\n",
       "</style>\n",
       "<small>shape: (10, 6)</small><table border=\"1\" class=\"dataframe\"><thead><tr><th>name</th><th>weight</th><th>color</th><th>is_round</th><th>origin</th><th>planet</th></tr><tr><td>str</td><td>i64</td><td>str</td><td>bool</td><td>str</td><td>str</td></tr></thead><tbody><tr><td>&quot;Avocado&quot;</td><td>200</td><td>&quot;green&quot;</td><td>false</td><td>&quot;South America&quot;</td><td>&quot;Earth&quot;</td></tr><tr><td>&quot;Banana&quot;</td><td>120</td><td>&quot;yellow&quot;</td><td>false</td><td>&quot;Asia&quot;</td><td>&quot;Earth&quot;</td></tr><tr><td>&quot;Blueberry&quot;</td><td>1</td><td>&quot;blue&quot;</td><td>false</td><td>&quot;North America&quot;</td><td>&quot;Earth&quot;</td></tr><tr><td>&quot;Cantaloupe&quot;</td><td>2500</td><td>&quot;orange&quot;</td><td>true</td><td>&quot;Africa&quot;</td><td>&quot;Earth&quot;</td></tr><tr><td>&quot;Cranberry&quot;</td><td>2</td><td>&quot;red&quot;</td><td>false</td><td>&quot;North America&quot;</td><td>&quot;Earth&quot;</td></tr><tr><td>&quot;Elderberry&quot;</td><td>1</td><td>&quot;black&quot;</td><td>false</td><td>&quot;Europe&quot;</td><td>&quot;Earth&quot;</td></tr><tr><td>&quot;Orange&quot;</td><td>130</td><td>&quot;orange&quot;</td><td>true</td><td>&quot;Asia&quot;</td><td>&quot;Earth&quot;</td></tr><tr><td>&quot;Papaya&quot;</td><td>1000</td><td>&quot;orange&quot;</td><td>false</td><td>&quot;South America&quot;</td><td>&quot;Earth&quot;</td></tr><tr><td>&quot;Peach&quot;</td><td>150</td><td>&quot;orange&quot;</td><td>true</td><td>&quot;Asia&quot;</td><td>&quot;Earth&quot;</td></tr><tr><td>&quot;Watermelon&quot;</td><td>5000</td><td>&quot;green&quot;</td><td>true</td><td>&quot;Africa&quot;</td><td>&quot;Earth&quot;</td></tr></tbody></table></div>"
      ],
      "text/plain": [
       "shape: (10, 6)\n",
       "┌────────────┬────────┬────────┬──────────┬───────────────┬────────┐\n",
       "│ name       ┆ weight ┆ color  ┆ is_round ┆ origin        ┆ planet │\n",
       "│ ---        ┆ ---    ┆ ---    ┆ ---      ┆ ---           ┆ ---    │\n",
       "│ str        ┆ i64    ┆ str    ┆ bool     ┆ str           ┆ str    │\n",
       "╞════════════╪════════╪════════╪══════════╪═══════════════╪════════╡\n",
       "│ Avocado    ┆ 200    ┆ green  ┆ false    ┆ South America ┆ Earth  │\n",
       "│ Banana     ┆ 120    ┆ yellow ┆ false    ┆ Asia          ┆ Earth  │\n",
       "│ Blueberry  ┆ 1      ┆ blue   ┆ false    ┆ North America ┆ Earth  │\n",
       "│ Cantaloupe ┆ 2500   ┆ orange ┆ true     ┆ Africa        ┆ Earth  │\n",
       "│ Cranberry  ┆ 2      ┆ red    ┆ false    ┆ North America ┆ Earth  │\n",
       "│ Elderberry ┆ 1      ┆ black  ┆ false    ┆ Europe        ┆ Earth  │\n",
       "│ Orange     ┆ 130    ┆ orange ┆ true     ┆ Asia          ┆ Earth  │\n",
       "│ Papaya     ┆ 1000   ┆ orange ┆ false    ┆ South America ┆ Earth  │\n",
       "│ Peach      ┆ 150    ┆ orange ┆ true     ┆ Asia          ┆ Earth  │\n",
       "│ Watermelon ┆ 5000   ┆ green  ┆ true     ┆ Africa        ┆ Earth  │\n",
       "└────────────┴────────┴────────┴──────────┴───────────────┴────────┘"
      ]
     },
     "execution_count": 22,
     "metadata": {},
     "output_type": "execute_result"
    }
   ],
   "source": [
    "fruit.with_columns(pl.lit('Earth').alias('planet'))"
   ]
  },
  {
   "cell_type": "code",
   "execution_count": 23,
   "id": "c87766f1-4232-4b6f-9ad5-ad0757a4c337",
   "metadata": {},
   "outputs": [
    {
     "data": {
      "text/html": [
       "<div><style>\n",
       ".dataframe > thead > tr,\n",
       ".dataframe > tbody > tr {\n",
       "  text-align: right;\n",
       "  white-space: pre-wrap;\n",
       "}\n",
       "</style>\n",
       "<small>shape: (10, 6)</small><table border=\"1\" class=\"dataframe\"><thead><tr><th>name</th><th>weight</th><th>color</th><th>is_round</th><th>origin</th><th>row_is_even</th></tr><tr><td>str</td><td>i64</td><td>str</td><td>bool</td><td>str</td><td>list[bool]</td></tr></thead><tbody><tr><td>&quot;Avocado&quot;</td><td>200</td><td>&quot;green&quot;</td><td>false</td><td>&quot;South America&quot;</td><td>[false, true]</td></tr><tr><td>&quot;Banana&quot;</td><td>120</td><td>&quot;yellow&quot;</td><td>false</td><td>&quot;Asia&quot;</td><td>[false, true]</td></tr><tr><td>&quot;Blueberry&quot;</td><td>1</td><td>&quot;blue&quot;</td><td>false</td><td>&quot;North America&quot;</td><td>[false, true]</td></tr><tr><td>&quot;Cantaloupe&quot;</td><td>2500</td><td>&quot;orange&quot;</td><td>true</td><td>&quot;Africa&quot;</td><td>[false, true]</td></tr><tr><td>&quot;Cranberry&quot;</td><td>2</td><td>&quot;red&quot;</td><td>false</td><td>&quot;North America&quot;</td><td>[false, true]</td></tr><tr><td>&quot;Elderberry&quot;</td><td>1</td><td>&quot;black&quot;</td><td>false</td><td>&quot;Europe&quot;</td><td>[false, true]</td></tr><tr><td>&quot;Orange&quot;</td><td>130</td><td>&quot;orange&quot;</td><td>true</td><td>&quot;Asia&quot;</td><td>[false, true]</td></tr><tr><td>&quot;Papaya&quot;</td><td>1000</td><td>&quot;orange&quot;</td><td>false</td><td>&quot;South America&quot;</td><td>[false, true]</td></tr><tr><td>&quot;Peach&quot;</td><td>150</td><td>&quot;orange&quot;</td><td>true</td><td>&quot;Asia&quot;</td><td>[false, true]</td></tr><tr><td>&quot;Watermelon&quot;</td><td>5000</td><td>&quot;green&quot;</td><td>true</td><td>&quot;Africa&quot;</td><td>[false, true]</td></tr></tbody></table></div>"
      ],
      "text/plain": [
       "shape: (10, 6)\n",
       "┌────────────┬────────┬────────┬──────────┬───────────────┬───────────────┐\n",
       "│ name       ┆ weight ┆ color  ┆ is_round ┆ origin        ┆ row_is_even   │\n",
       "│ ---        ┆ ---    ┆ ---    ┆ ---      ┆ ---           ┆ ---           │\n",
       "│ str        ┆ i64    ┆ str    ┆ bool     ┆ str           ┆ list[bool]    │\n",
       "╞════════════╪════════╪════════╪══════════╪═══════════════╪═══════════════╡\n",
       "│ Avocado    ┆ 200    ┆ green  ┆ false    ┆ South America ┆ [false, true] │\n",
       "│ Banana     ┆ 120    ┆ yellow ┆ false    ┆ Asia          ┆ [false, true] │\n",
       "│ Blueberry  ┆ 1      ┆ blue   ┆ false    ┆ North America ┆ [false, true] │\n",
       "│ Cantaloupe ┆ 2500   ┆ orange ┆ true     ┆ Africa        ┆ [false, true] │\n",
       "│ Cranberry  ┆ 2      ┆ red    ┆ false    ┆ North America ┆ [false, true] │\n",
       "│ Elderberry ┆ 1      ┆ black  ┆ false    ┆ Europe        ┆ [false, true] │\n",
       "│ Orange     ┆ 130    ┆ orange ┆ true     ┆ Asia          ┆ [false, true] │\n",
       "│ Papaya     ┆ 1000   ┆ orange ┆ false    ┆ South America ┆ [false, true] │\n",
       "│ Peach      ┆ 150    ┆ orange ┆ true     ┆ Asia          ┆ [false, true] │\n",
       "│ Watermelon ┆ 5000   ┆ green  ┆ true     ┆ Africa        ┆ [false, true] │\n",
       "└────────────┴────────┴────────┴──────────┴───────────────┴───────────────┘"
      ]
     },
     "execution_count": 23,
     "metadata": {},
     "output_type": "execute_result"
    }
   ],
   "source": [
    "fruit.with_columns(pl.lit([False, True]).alias('row_is_even'))"
   ]
  },
  {
   "cell_type": "code",
   "execution_count": 24,
   "id": "7d0c68e4-c04a-43e3-b458-480d99fb0df0",
   "metadata": {},
   "outputs": [
    {
     "data": {
      "text/html": [
       "<div><style>\n",
       ".dataframe > thead > tr,\n",
       ".dataframe > tbody > tr {\n",
       "  text-align: right;\n",
       "  white-space: pre-wrap;\n",
       "}\n",
       "</style>\n",
       "<small>shape: (3, 3)</small><table border=\"1\" class=\"dataframe\"><thead><tr><th>hello</th><th>zeros</th><th>ones</th></tr><tr><td>str</td><td>f64</td><td>f64</td></tr></thead><tbody><tr><td>&quot;Ello&quot;</td><td>0.0</td><td>1.0</td></tr><tr><td>&quot;Ello&quot;</td><td>0.0</td><td>1.0</td></tr><tr><td>&quot;Ello&quot;</td><td>0.0</td><td>1.0</td></tr></tbody></table></div>"
      ],
      "text/plain": [
       "shape: (3, 3)\n",
       "┌───────┬───────┬──────┐\n",
       "│ hello ┆ zeros ┆ ones │\n",
       "│ ---   ┆ ---   ┆ ---  │\n",
       "│ str   ┆ f64   ┆ f64  │\n",
       "╞═══════╪═══════╪══════╡\n",
       "│ Ello  ┆ 0.0   ┆ 1.0  │\n",
       "│ Ello  ┆ 0.0   ┆ 1.0  │\n",
       "│ Ello  ┆ 0.0   ┆ 1.0  │\n",
       "└───────┴───────┴──────┘"
      ]
     },
     "execution_count": 24,
     "metadata": {},
     "output_type": "execute_result"
    }
   ],
   "source": [
    "pl.select(\n",
    "    pl.repeat('Ello', 3).alias('hello'),\n",
    "    pl.zeros(3),\n",
    "    pl.ones(3)\n",
    ")"
   ]
  },
  {
   "cell_type": "code",
   "execution_count": 25,
   "id": "595f131d-8770-40b8-83cb-44f25414cd05",
   "metadata": {},
   "outputs": [
    {
     "data": {
      "text/html": [
       "<div><style>\n",
       ".dataframe > thead > tr,\n",
       ".dataframe > tbody > tr {\n",
       "  text-align: right;\n",
       "  white-space: pre-wrap;\n",
       "}\n",
       "</style>\n",
       "<small>shape: (5, 4)</small><table border=\"1\" class=\"dataframe\"><thead><tr><th>start</th><th>end</th><th>int_range</th><th>range_length</th></tr><tr><td>i64</td><td>i64</td><td>list[i64]</td><td>u32</td></tr></thead><tbody><tr><td>0</td><td>0</td><td>[]</td><td>0</td></tr><tr><td>1</td><td>4</td><td>[1, 2, 3]</td><td>3</td></tr><tr><td>2</td><td>16</td><td>[2, 3, … 15]</td><td>14</td></tr><tr><td>3</td><td>36</td><td>[3, 4, … 35]</td><td>33</td></tr><tr><td>4</td><td>64</td><td>[4, 5, … 63]</td><td>60</td></tr></tbody></table></div>"
      ],
      "text/plain": [
       "shape: (5, 4)\n",
       "┌───────┬─────┬──────────────┬──────────────┐\n",
       "│ start ┆ end ┆ int_range    ┆ range_length │\n",
       "│ ---   ┆ --- ┆ ---          ┆ ---          │\n",
       "│ i64   ┆ i64 ┆ list[i64]    ┆ u32          │\n",
       "╞═══════╪═════╪══════════════╪══════════════╡\n",
       "│ 0     ┆ 0   ┆ []           ┆ 0            │\n",
       "│ 1     ┆ 4   ┆ [1, 2, 3]    ┆ 3            │\n",
       "│ 2     ┆ 16  ┆ [2, 3, … 15] ┆ 14           │\n",
       "│ 3     ┆ 36  ┆ [3, 4, … 35] ┆ 33           │\n",
       "│ 4     ┆ 64  ┆ [4, 5, … 63] ┆ 60           │\n",
       "└───────┴─────┴──────────────┴──────────────┘"
      ]
     },
     "execution_count": 25,
     "metadata": {},
     "output_type": "execute_result"
    }
   ],
   "source": [
    "pl.select(\n",
    "    pl.int_range(0, 5).alias('start'),\n",
    "    pl.arange(0, 10, 2).pow(2).alias('end')\n",
    ").with_columns(\n",
    "    pl.int_ranges('start', 'end').alias('int_range')\n",
    ").with_columns(\n",
    "    pl.col('int_range').list.len().alias('range_length')\n",
    ")"
   ]
  },
  {
   "cell_type": "markdown",
   "id": "f2e5b75d-a28a-4186-8a68-140e35b22be2",
   "metadata": {},
   "source": [
    "他のカラムのデータを使って、同時に計算処理だけでなくlistの作成とかもできるのか。  \n",
    "polarsに慣れると便利だろうけれど、できることが多すぎて覚えることも多いので、pandasから移行しないと少し大変かも？"
   ]
  },
  {
   "cell_type": "code",
   "execution_count": 26,
   "id": "910945ff-accc-404c-8126-d4f4f7ba41ec",
   "metadata": {},
   "outputs": [
    {
     "data": {
      "text/html": [
       "<div><style>\n",
       ".dataframe > thead > tr,\n",
       ".dataframe > tbody > tr {\n",
       "  text-align: right;\n",
       "  white-space: pre-wrap;\n",
       "}\n",
       "</style>\n",
       "<small>shape: (6, 3)</small><table border=\"1\" class=\"dataframe\"><thead><tr><th>start</th><th>end</th><th>range</th></tr><tr><td>date</td><td>date</td><td>list[datetime[μs]]</td></tr></thead><tbody><tr><td>1985-10-21</td><td>2021-10-21</td><td>[1985-10-21 00:00:00, 1985-10-21 01:00:00, … 2021-10-21 00:00:00]</td></tr><tr><td>1985-10-22</td><td>2021-10-21</td><td>[1985-10-22 00:00:00, 1985-10-22 01:00:00, … 2021-10-21 00:00:00]</td></tr><tr><td>1985-10-23</td><td>2021-10-21</td><td>[1985-10-23 00:00:00, 1985-10-23 01:00:00, … 2021-10-21 00:00:00]</td></tr><tr><td>1985-10-24</td><td>2021-10-21</td><td>[1985-10-24 00:00:00, 1985-10-24 01:00:00, … 2021-10-21 00:00:00]</td></tr><tr><td>1985-10-25</td><td>2021-10-21</td><td>[1985-10-25 00:00:00, 1985-10-25 01:00:00, … 2021-10-21 00:00:00]</td></tr><tr><td>1985-10-26</td><td>2021-10-21</td><td>[1985-10-26 00:00:00, 1985-10-26 01:00:00, … 2021-10-21 00:00:00]</td></tr></tbody></table></div>"
      ],
      "text/plain": [
       "shape: (6, 3)\n",
       "┌────────────┬────────────┬─────────────────────────────────┐\n",
       "│ start      ┆ end        ┆ range                           │\n",
       "│ ---        ┆ ---        ┆ ---                             │\n",
       "│ date       ┆ date       ┆ list[datetime[μs]]              │\n",
       "╞════════════╪════════════╪═════════════════════════════════╡\n",
       "│ 1985-10-21 ┆ 2021-10-21 ┆ [1985-10-21 00:00:00, 1985-10-… │\n",
       "│ 1985-10-22 ┆ 2021-10-21 ┆ [1985-10-22 00:00:00, 1985-10-… │\n",
       "│ 1985-10-23 ┆ 2021-10-21 ┆ [1985-10-23 00:00:00, 1985-10-… │\n",
       "│ 1985-10-24 ┆ 2021-10-21 ┆ [1985-10-24 00:00:00, 1985-10-… │\n",
       "│ 1985-10-25 ┆ 2021-10-21 ┆ [1985-10-25 00:00:00, 1985-10-… │\n",
       "│ 1985-10-26 ┆ 2021-10-21 ┆ [1985-10-26 00:00:00, 1985-10-… │\n",
       "└────────────┴────────────┴─────────────────────────────────┘"
      ]
     },
     "execution_count": 26,
     "metadata": {},
     "output_type": "execute_result"
    }
   ],
   "source": [
    "pl.select(\n",
    "    pl.date_range(date(1985, 10, 21), date(1985, 10, 26)).alias('start'),\n",
    "    pl.repeat(date(2021, 10, 21), 6).alias('end')\n",
    ").with_columns(\n",
    "    pl.datetime_ranges('start', 'end', interval='1h').alias('range')\n",
    ")"
   ]
  },
  {
   "cell_type": "markdown",
   "id": "63ec5613-038b-4771-9bab-4f45af0b4a07",
   "metadata": {},
   "source": [
    "integer型だけじゃなくて、datetime系の型でもrangeが使えるのか。  \n",
    "便利な気がするけれど、出番がパッと思いつかないな..。"
   ]
  },
  {
   "cell_type": "markdown",
   "id": "e97de262-1d8a-4a05-b408-8ac179630b06",
   "metadata": {},
   "source": [
    "### 名称変更"
   ]
  },
  {
   "cell_type": "code",
   "execution_count": 27,
   "id": "845e9069-1bb6-422a-81af-76d75c4e5577",
   "metadata": {},
   "outputs": [
    {
     "data": {
      "text/html": [
       "<div><style>\n",
       ".dataframe > thead > tr,\n",
       ".dataframe > tbody > tr {\n",
       "  text-align: right;\n",
       "  white-space: pre-wrap;\n",
       "}\n",
       "</style>\n",
       "<small>shape: (1, 3)</small><table border=\"1\" class=\"dataframe\"><thead><tr><th>text</th><th>An integer</th><th>BOOLEAN</th></tr><tr><td>str</td><td>i64</td><td>bool</td></tr></thead><tbody><tr><td>&quot;value&quot;</td><td>5040</td><td>true</td></tr></tbody></table></div>"
      ],
      "text/plain": [
       "shape: (1, 3)\n",
       "┌───────┬────────────┬─────────┐\n",
       "│ text  ┆ An integer ┆ BOOLEAN │\n",
       "│ ---   ┆ ---        ┆ ---     │\n",
       "│ str   ┆ i64        ┆ bool    │\n",
       "╞═══════╪════════════╪═════════╡\n",
       "│ value ┆ 5040       ┆ true    │\n",
       "└───────┴────────────┴─────────┘"
      ]
     },
     "execution_count": 27,
     "metadata": {},
     "output_type": "execute_result"
    }
   ],
   "source": [
    "df = pl.DataFrame({'text': 'value', 'An integer': 5040, 'BOOLEAN': True})\n",
    "df"
   ]
  },
  {
   "cell_type": "code",
   "execution_count": 28,
   "id": "e7404b95-3df9-464d-9703-d960d19b86fe",
   "metadata": {},
   "outputs": [
    {
     "data": {
      "text/html": [
       "<div><style>\n",
       ".dataframe > thead > tr,\n",
       ".dataframe > tbody > tr {\n",
       "  text-align: right;\n",
       "  white-space: pre-wrap;\n",
       "}\n",
       "</style>\n",
       "<small>shape: (1, 3)</small><table border=\"1\" class=\"dataframe\"><thead><tr><th>TEXT</th><th>int</th><th>boolean</th></tr><tr><td>str</td><td>i64</td><td>bool</td></tr></thead><tbody><tr><td>&quot;value&quot;</td><td>5040</td><td>true</td></tr></tbody></table></div>"
      ],
      "text/plain": [
       "shape: (1, 3)\n",
       "┌───────┬──────┬─────────┐\n",
       "│ TEXT  ┆ int  ┆ boolean │\n",
       "│ ---   ┆ ---  ┆ ---     │\n",
       "│ str   ┆ i64  ┆ bool    │\n",
       "╞═══════╪══════╪═════════╡\n",
       "│ value ┆ 5040 ┆ true    │\n",
       "└───────┴──────┴─────────┘"
      ]
     },
     "execution_count": 28,
     "metadata": {},
     "output_type": "execute_result"
    }
   ],
   "source": [
    "df.select(\n",
    "    pl.col('text').name.to_uppercase(),\n",
    "    pl.col('An integer').alias('int'),\n",
    "    pl.col('BOOLEAN').name.to_lowercase()\n",
    ")"
   ]
  },
  {
   "cell_type": "markdown",
   "id": "a11145f2-ca52-46e9-8ca1-3c0925bb09b1",
   "metadata": {},
   "source": [
    "今のpolarsだと、命名操作は1つの式の中で、1つのカラムに対して1回しか許可されてない。  \n",
    "まぁ、何回もカラム名を変えるって操作そんなに出番なさそう"
   ]
  },
  {
   "cell_type": "code",
   "execution_count": 29,
   "id": "193956c6-2732-40e1-b846-0575e4aeb28e",
   "metadata": {},
   "outputs": [
    {
     "data": {
      "text/html": [
       "<div><style>\n",
       ".dataframe > thead > tr,\n",
       ".dataframe > tbody > tr {\n",
       "  text-align: right;\n",
       "  white-space: pre-wrap;\n",
       "}\n",
       "</style>\n",
       "<small>shape: (1, 3)</small><table border=\"1\" class=\"dataframe\"><thead><tr><th>text</th><th>aninteger</th><th>boolean</th></tr><tr><td>str</td><td>i64</td><td>bool</td></tr></thead><tbody><tr><td>&quot;value&quot;</td><td>5040</td><td>true</td></tr></tbody></table></div>"
      ],
      "text/plain": [
       "shape: (1, 3)\n",
       "┌───────┬───────────┬─────────┐\n",
       "│ text  ┆ aninteger ┆ boolean │\n",
       "│ ---   ┆ ---       ┆ ---     │\n",
       "│ str   ┆ i64       ┆ bool    │\n",
       "╞═══════╪═══════════╪═════════╡\n",
       "│ value ┆ 5040      ┆ true    │\n",
       "└───────┴───────────┴─────────┘"
      ]
     },
     "execution_count": 29,
     "metadata": {},
     "output_type": "execute_result"
    }
   ],
   "source": [
    "df.select(\n",
    "    pl.all()\n",
    "    .name.map(lambda s: s.lower().replace(' ', ''))\n",
    ")"
   ]
  },
  {
   "cell_type": "code",
   "execution_count": 30,
   "id": "2213c098-a663-400a-a9bc-b53da8404df4",
   "metadata": {},
   "outputs": [
    {
     "data": {
      "text/html": [
       "<div><style>\n",
       ".dataframe > thead > tr,\n",
       ".dataframe > tbody > tr {\n",
       "  text-align: right;\n",
       "  white-space: pre-wrap;\n",
       "}\n",
       "</style>\n",
       "<small>shape: (2, 5)</small><table border=\"1\" class=\"dataframe\"><thead><tr><th>name</th><th>weight</th><th>color</th><th>is_round</th><th>origin</th></tr><tr><td>str</td><td>i64</td><td>str</td><td>bool</td><td>str</td></tr></thead><tbody><tr><td>&quot;Cantaloupe&quot;</td><td>2500</td><td>&quot;orange&quot;</td><td>true</td><td>&quot;Africa&quot;</td></tr><tr><td>&quot;Watermelon&quot;</td><td>5000</td><td>&quot;green&quot;</td><td>true</td><td>&quot;Africa&quot;</td></tr></tbody></table></div>"
      ],
      "text/plain": [
       "shape: (2, 5)\n",
       "┌────────────┬────────┬────────┬──────────┬────────┐\n",
       "│ name       ┆ weight ┆ color  ┆ is_round ┆ origin │\n",
       "│ ---        ┆ ---    ┆ ---    ┆ ---      ┆ ---    │\n",
       "│ str        ┆ i64    ┆ str    ┆ bool     ┆ str    │\n",
       "╞════════════╪════════╪════════╪══════════╪════════╡\n",
       "│ Cantaloupe ┆ 2500   ┆ orange ┆ true     ┆ Africa │\n",
       "│ Watermelon ┆ 5000   ┆ green  ┆ true     ┆ Africa │\n",
       "└────────────┴────────┴────────┴──────────┴────────┘"
      ]
     },
     "execution_count": 30,
     "metadata": {},
     "output_type": "execute_result"
    }
   ],
   "source": [
    "fruit.filter(\n",
    "    (fruit['weight'] > 1000) & fruit['is_round']\n",
    ")"
   ]
  },
  {
   "cell_type": "markdown",
   "id": "b832286c-d383-41dc-bd27-da97b7179fa7",
   "metadata": {},
   "source": [
    "`pl.col('weight')`みたいなpolarsっぽい記法でももちろん実行できるけれど、pandasみたいに`fruit['weight']`っていう`[`、`]`もサポートしているのね。  \n",
    "その代わり、polars特有の最適化が適用できない"
   ]
  },
  {
   "cell_type": "code",
   "execution_count": 31,
   "id": "e4869005-ed42-4c9c-9276-cd29f34ec3e4",
   "metadata": {},
   "outputs": [
    {
     "data": {
      "text/html": [
       "<div><style>\n",
       ".dataframe > thead > tr,\n",
       ".dataframe > tbody > tr {\n",
       "  text-align: right;\n",
       "  white-space: pre-wrap;\n",
       "}\n",
       "</style>\n",
       "<small>shape: (2, 6)</small><table border=\"1\" class=\"dataframe\"><thead><tr><th>name</th><th>weight</th><th>color</th><th>is_round</th><th>origin</th><th>is_berry</th></tr><tr><td>str</td><td>i64</td><td>str</td><td>bool</td><td>str</td><td>bool</td></tr></thead><tbody><tr><td>&quot;Cantaloupe&quot;</td><td>2500</td><td>&quot;orange&quot;</td><td>true</td><td>&quot;Africa&quot;</td><td>false</td></tr><tr><td>&quot;Watermelon&quot;</td><td>5000</td><td>&quot;green&quot;</td><td>true</td><td>&quot;Africa&quot;</td><td>false</td></tr></tbody></table></div>"
      ],
      "text/plain": [
       "shape: (2, 6)\n",
       "┌────────────┬────────┬────────┬──────────┬────────┬──────────┐\n",
       "│ name       ┆ weight ┆ color  ┆ is_round ┆ origin ┆ is_berry │\n",
       "│ ---        ┆ ---    ┆ ---    ┆ ---      ┆ ---    ┆ ---      │\n",
       "│ str        ┆ i64    ┆ str    ┆ bool     ┆ str    ┆ bool     │\n",
       "╞════════════╪════════╪════════╪══════════╪════════╪══════════╡\n",
       "│ Cantaloupe ┆ 2500   ┆ orange ┆ true     ┆ Africa ┆ false    │\n",
       "│ Watermelon ┆ 5000   ┆ green  ┆ true     ┆ Africa ┆ false    │\n",
       "└────────────┴────────┴────────┴──────────┴────────┴──────────┘"
      ]
     },
     "execution_count": 31,
     "metadata": {},
     "output_type": "execute_result"
    }
   ],
   "source": [
    "(\n",
    "    fruit\n",
    "    .lazy()\n",
    "    .filter((pl.col('weight') > 1000) & pl.col('is_round'))\n",
    "    .with_columns(pl.col('name').str.ends_with('berry').alias('is_berry'))\n",
    "    .collect()\n",
    ")"
   ]
  },
  {
   "cell_type": "code",
   "execution_count": 32,
   "id": "5248fba8-dd9a-4f37-a1e4-2cf27a729187",
   "metadata": {},
   "outputs": [
    {
     "ename": "ShapeError",
     "evalue": "unable to add a column of length 10 to a DataFrame of height 2",
     "output_type": "error",
     "traceback": [
      "\u001b[0;31m---------------------------------------------------------------------------\u001b[0m",
      "\u001b[0;31mShapeError\u001b[0m                                Traceback (most recent call last)",
      "Cell \u001b[0;32mIn[32], line 6\u001b[0m\n\u001b[1;32m      1\u001b[0m (\n\u001b[1;32m      2\u001b[0m     \u001b[43mfruit\u001b[49m\n\u001b[1;32m      3\u001b[0m \u001b[43m    \u001b[49m\u001b[38;5;241;43m.\u001b[39;49m\u001b[43mlazy\u001b[49m\u001b[43m(\u001b[49m\u001b[43m)\u001b[49m\n\u001b[1;32m      4\u001b[0m \u001b[43m    \u001b[49m\u001b[38;5;241;43m.\u001b[39;49m\u001b[43mfilter\u001b[49m\u001b[43m(\u001b[49m\u001b[43m(\u001b[49m\u001b[43mfruit\u001b[49m\u001b[43m[\u001b[49m\u001b[38;5;124;43m'\u001b[39;49m\u001b[38;5;124;43mweight\u001b[39;49m\u001b[38;5;124;43m'\u001b[39;49m\u001b[43m]\u001b[49m\u001b[43m \u001b[49m\u001b[38;5;241;43m>\u001b[39;49m\u001b[43m \u001b[49m\u001b[38;5;241;43m1000\u001b[39;49m\u001b[43m)\u001b[49m\u001b[43m \u001b[49m\u001b[38;5;241;43m&\u001b[39;49m\u001b[43m \u001b[49m\u001b[43mfruit\u001b[49m\u001b[43m[\u001b[49m\u001b[38;5;124;43m'\u001b[39;49m\u001b[38;5;124;43mis_round\u001b[39;49m\u001b[38;5;124;43m'\u001b[39;49m\u001b[43m]\u001b[49m\u001b[43m)\u001b[49m\n\u001b[1;32m      5\u001b[0m \u001b[43m    \u001b[49m\u001b[38;5;241;43m.\u001b[39;49m\u001b[43mwith_columns\u001b[49m\u001b[43m(\u001b[49m\u001b[43mfruit\u001b[49m\u001b[43m[\u001b[49m\u001b[38;5;124;43m'\u001b[39;49m\u001b[38;5;124;43mname\u001b[39;49m\u001b[38;5;124;43m'\u001b[39;49m\u001b[43m]\u001b[49m\u001b[38;5;241;43m.\u001b[39;49m\u001b[43mstr\u001b[49m\u001b[38;5;241;43m.\u001b[39;49m\u001b[43mends_with\u001b[49m\u001b[43m(\u001b[49m\u001b[38;5;124;43m'\u001b[39;49m\u001b[38;5;124;43mberry\u001b[39;49m\u001b[38;5;124;43m'\u001b[39;49m\u001b[43m)\u001b[49m\u001b[38;5;241;43m.\u001b[39;49m\u001b[43malias\u001b[49m\u001b[43m(\u001b[49m\u001b[38;5;124;43m'\u001b[39;49m\u001b[38;5;124;43mis_berry\u001b[39;49m\u001b[38;5;124;43m'\u001b[39;49m\u001b[43m)\u001b[49m\u001b[43m)\u001b[49m\n\u001b[0;32m----> 6\u001b[0m \u001b[43m    \u001b[49m\u001b[38;5;241;43m.\u001b[39;49m\u001b[43mcollect\u001b[49m\u001b[43m(\u001b[49m\u001b[43m)\u001b[49m\n\u001b[1;32m      7\u001b[0m )\n",
      "File \u001b[0;32m~/programing/python/oreilly/oreilly_polars/.venv/lib/python3.12/site-packages/polars/lazyframe/frame.py:2055\u001b[0m, in \u001b[0;36mLazyFrame.collect\u001b[0;34m(self, type_coercion, predicate_pushdown, projection_pushdown, simplify_expression, slice_pushdown, comm_subplan_elim, comm_subexpr_elim, cluster_with_columns, collapse_joins, no_optimization, streaming, engine, background, _eager, **_kwargs)\u001b[0m\n\u001b[1;32m   2053\u001b[0m \u001b[38;5;66;03m# Only for testing purposes\u001b[39;00m\n\u001b[1;32m   2054\u001b[0m callback \u001b[38;5;241m=\u001b[39m _kwargs\u001b[38;5;241m.\u001b[39mget(\u001b[38;5;124m\"\u001b[39m\u001b[38;5;124mpost_opt_callback\u001b[39m\u001b[38;5;124m\"\u001b[39m, callback)\n\u001b[0;32m-> 2055\u001b[0m \u001b[38;5;28;01mreturn\u001b[39;00m wrap_df(\u001b[43mldf\u001b[49m\u001b[38;5;241;43m.\u001b[39;49m\u001b[43mcollect\u001b[49m\u001b[43m(\u001b[49m\u001b[43mcallback\u001b[49m\u001b[43m)\u001b[49m)\n",
      "\u001b[0;31mShapeError\u001b[0m: unable to add a column of length 10 to a DataFrame of height 2"
     ]
    }
   ],
   "source": [
    "(\n",
    "    fruit\n",
    "    .lazy()\n",
    "    .filter((fruit['weight'] > 1000) & fruit['is_round'])\n",
    "    .with_columns(fruit['name'].str.ends_with('berry').alias('is_berry'))\n",
    "    .collect()\n",
    ")"
   ]
  },
  {
   "cell_type": "markdown",
   "id": "4abd809f-a530-4365-a671-c74bd6887c88",
   "metadata": {},
   "source": [
    "pandasの記法で最適化を実施する際に上記エラーが出る理由は、直接的にDataFrameを指定しているため、`.filter()`によってフィルタリングされた結果と`.with_columns()`にて追加しようとしている`fruit['name']`のデータ数が不一致になるためである。  \n",
    "polarsでは`pl.col('カラム名')`の形式で指定するため、最適化する際にデータの処理が可変してくれる（それを可変してくれる点を含めて最適化）"
   ]
  },
  {
   "cell_type": "code",
   "execution_count": null,
   "id": "650b61d0-29a5-4622-a660-807b6a5d4117",
   "metadata": {},
   "outputs": [],
   "source": []
  }
 ],
 "metadata": {
  "kernelspec": {
   "display_name": "Python 3 (ipykernel)",
   "language": "python",
   "name": "python3"
  },
  "language_info": {
   "codemirror_mode": {
    "name": "ipython",
    "version": 3
   },
   "file_extension": ".py",
   "mimetype": "text/x-python",
   "name": "python",
   "nbconvert_exporter": "python",
   "pygments_lexer": "ipython3",
   "version": "3.12.3"
  }
 },
 "nbformat": 4,
 "nbformat_minor": 5
}
