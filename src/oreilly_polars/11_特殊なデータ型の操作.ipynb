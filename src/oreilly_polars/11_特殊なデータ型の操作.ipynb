{
 "cells": [
  {
   "cell_type": "markdown",
   "id": "562e7991-c74a-4191-b9a8-6229105393c7",
   "metadata": {},
   "source": [
    "# 特殊なデータ型の操作"
   ]
  },
  {
   "cell_type": "code",
   "execution_count": 1,
   "id": "bb212297-ecae-4ec2-a558-530a501817ad",
   "metadata": {},
   "outputs": [],
   "source": [
    "from datetime import date\n",
    "import os\n",
    "\n",
    "import polars as pl"
   ]
  },
  {
   "cell_type": "markdown",
   "id": "120f9b76-2d5a-4f7b-96b0-609b4f095b1a",
   "metadata": {},
   "source": [
    "## 定数定義"
   ]
  },
  {
   "cell_type": "code",
   "execution_count": 2,
   "id": "54ef0b12-38d2-45dc-8af2-dc2f4d767d2d",
   "metadata": {},
   "outputs": [],
   "source": [
    "DATA_PAR_PATH = os.path.join('..','..','data')\n",
    "INPUT_CSV_PATH_STOCKS = os.path.join(DATA_PAR_PATH,'all_stocks.csv')"
   ]
  },
  {
   "cell_type": "markdown",
   "id": "4478ec4d-70e6-4416-93aa-f16279e9f87b",
   "metadata": {
    "jp-MarkdownHeadingCollapsed": true
   },
   "source": [
    "## 文字列"
   ]
  },
  {
   "cell_type": "code",
   "execution_count": 3,
   "id": "a795c293-1858-4226-8132-d0bd20bf3448",
   "metadata": {},
   "outputs": [
    {
     "name": "stdout",
     "output_type": "stream",
     "text": [
      "shape: (3, 1)\n",
      "┌────────────────────────────┐\n",
      "│ raw_text                   │\n",
      "│ ---                        │\n",
      "│ str                        │\n",
      "╞════════════════════════════╡\n",
      "│   Data Science is amazing  │\n",
      "│ Data_analysis > Data entry │\n",
      "│  Python&Polars; False      │\n",
      "└────────────────────────────┘\n"
     ]
    }
   ],
   "source": [
    "df = pl.DataFrame({\n",
    "    'raw_text': [\n",
    "        '  Data Science is amazing',\n",
    "        'Data_analysis > Data entry',\n",
    "        ' Python&Polars; False'\n",
    "    ]\n",
    "})\n",
    "\n",
    "print(df)"
   ]
  },
  {
   "cell_type": "code",
   "execution_count": 4,
   "id": "388527b1-5bef-4756-91c0-c55beaf1a0ad",
   "metadata": {},
   "outputs": [
    {
     "name": "stdout",
     "output_type": "stream",
     "text": [
      "shape: (3, 2)\n",
      "┌────────────────────────────┬────────────────────────────┐\n",
      "│ raw_text                   ┆ processed_text             │\n",
      "│ ---                        ┆ ---                        │\n",
      "│ str                        ┆ str                        │\n",
      "╞════════════════════════════╪════════════════════════════╡\n",
      "│   Data Science is amazing  ┆ data science is amazing    │\n",
      "│ Data_analysis > Data entry ┆ data analysis > data entry │\n",
      "│  Python&Polars; False      ┆ python&polars; false       │\n",
      "└────────────────────────────┴────────────────────────────┘\n"
     ]
    }
   ],
   "source": [
    "df = df.with_columns(\n",
    "    pl.col('raw_text')\n",
    "    .str.strip_chars()\n",
    "    .str.to_lowercase()\n",
    "    .str.replace_all('_', ' ')\n",
    "    .alias('processed_text')\n",
    ")\n",
    "\n",
    "print(df)"
   ]
  },
  {
   "cell_type": "code",
   "execution_count": 5,
   "id": "f84a82b8-350f-43a6-acad-62ed0e9c201b",
   "metadata": {},
   "outputs": [
    {
     "name": "stdout",
     "output_type": "stream",
     "text": [
      "shape: (3, 5)\n",
      "┌─────────────────────────┬─────────────────────────┬───────────────┬────────────────┬─────────────┐\n",
      "│ raw_text                ┆ processed_text          ┆ first_5_chars ┆ first_word     ┆ second_word │\n",
      "│ ---                     ┆ ---                     ┆ ---           ┆ ---            ┆ ---         │\n",
      "│ str                     ┆ str                     ┆ str           ┆ str            ┆ str         │\n",
      "╞═════════════════════════╪═════════════════════════╪═══════════════╪════════════════╪═════════════╡\n",
      "│ Data Science is amazing ┆ data science is amazing ┆ data          ┆ data           ┆ science     │\n",
      "│ Data_analysis > Data    ┆ data analysis > data    ┆ data          ┆ data           ┆ analysis    │\n",
      "│ entry                   ┆ entry                   ┆               ┆                ┆             │\n",
      "│  Python&Polars; False   ┆ python&polars; false    ┆ pytho         ┆ python&polars; ┆ false       │\n",
      "└─────────────────────────┴─────────────────────────┴───────────────┴────────────────┴─────────────┘\n"
     ]
    }
   ],
   "source": [
    "print(\n",
    "    df.with_columns(\n",
    "        pl.col('processed_text')\n",
    "        .str.slice(0, 5)\n",
    "        .alias('first_5_chars'),\n",
    "        pl.col('processed_text')\n",
    "        .str.split(' ')\n",
    "        .list.get(0)\n",
    "        .alias('first_word'),\n",
    "        pl.col('processed_text')\n",
    "        .str.split(' ')\n",
    "        .list.get(1)\n",
    "        .alias('second_word')\n",
    "    )\n",
    ")"
   ]
  },
  {
   "cell_type": "code",
   "execution_count": 6,
   "id": "2ee92ed7-2f78-4de2-aaa7-4c00d3b9172c",
   "metadata": {},
   "outputs": [
    {
     "name": "stdout",
     "output_type": "stream",
     "text": [
      "shape: (3, 5)\n",
      "┌──────────────────────────┬──────────────────────────┬─────────────────┬────────────────┬─────────┐\n",
      "│ raw_text                 ┆ processed_text           ┆ amount_of_chars ┆ amout_of_bytes ┆ count_a │\n",
      "│ ---                      ┆ ---                      ┆ ---             ┆ ---            ┆ ---     │\n",
      "│ str                      ┆ str                      ┆ u32             ┆ u32            ┆ u32     │\n",
      "╞══════════════════════════╪══════════════════════════╪═════════════════╪════════════════╪═════════╡\n",
      "│ Data Science is amazing  ┆ data science is amazing  ┆ 23              ┆ 23             ┆ 4       │\n",
      "│ Data_analysis > Data     ┆ data analysis > data     ┆ 26              ┆ 26             ┆ 6       │\n",
      "│ entry                    ┆ entry                    ┆                 ┆                ┆         │\n",
      "│  Python&Polars; False    ┆ python&polars; false     ┆ 20              ┆ 20             ┆ 2       │\n",
      "└──────────────────────────┴──────────────────────────┴─────────────────┴────────────────┴─────────┘\n"
     ]
    }
   ],
   "source": [
    "print(\n",
    "    df.with_columns(\n",
    "        pl.col('processed_text')\n",
    "        .str.len_chars()\n",
    "        .alias('amount_of_chars'),\n",
    "        pl.col('processed_text')\n",
    "        .str.len_bytes()\n",
    "        .alias('amout_of_bytes'),\n",
    "        pl.col('processed_text')\n",
    "        .str.count_matches('a')\n",
    "        .alias('count_a')\n",
    "    )\n",
    ")"
   ]
  },
  {
   "cell_type": "markdown",
   "id": "1c6519c5-bd9b-4e2b-bec8-3f3148269fdd",
   "metadata": {},
   "source": [
    "`.len_chars()`の計算量は$\\mathcal{O}(n)$であるが、`.len_bytes()`は$\\mathcal{O}(1)$とのこと。  \n",
    "使い方次第では処理時間に大きく起因するので、これを知れたのは良い機会"
   ]
  },
  {
   "cell_type": "markdown",
   "id": "498ad78c-d787-43d8-8eb4-1c1eb63652ef",
   "metadata": {
    "jp-MarkdownHeadingCollapsed": true
   },
   "source": [
    "## カテゴリカル"
   ]
  },
  {
   "cell_type": "code",
   "execution_count": 7,
   "id": "00479083-d85f-45e6-8652-24b65a8fa31e",
   "metadata": {},
   "outputs": [
    {
     "name": "stdout",
     "output_type": "stream",
     "text": [
      "shape: (3, 2)\n",
      "┌────────────────────┬─────────────────────────────┐\n",
      "│ categorical_column ┆ categorical_column_physical │\n",
      "│ ---                ┆ ---                         │\n",
      "│ cat                ┆ u32                         │\n",
      "╞════════════════════╪═════════════════════════════╡\n",
      "│ value1             ┆ 0                           │\n",
      "│ value2             ┆ 1                           │\n",
      "│ value3             ┆ 2                           │\n",
      "└────────────────────┴─────────────────────────────┘\n"
     ]
    }
   ],
   "source": [
    "df1 = pl.DataFrame(\n",
    "    {'categorical_column': ['value1', 'value2', 'value3']},\n",
    "    schema={'categorical_column': pl.Categorical},\n",
    ")\n",
    "\n",
    "print(\n",
    "    df1.with_columns(\n",
    "        pl.col('categorical_column')\n",
    "        .to_physical()\n",
    "        .alias('categorical_column_physical')\n",
    "    )\n",
    ")"
   ]
  },
  {
   "cell_type": "markdown",
   "id": "824a798b-f986-4bf8-8e9b-da3b4841cb45",
   "metadata": {},
   "source": [
    "上のセルの出力は、string型のカテゴリカルな値を、物理表現（=int型での表現）にエンコードしているという操作"
   ]
  },
  {
   "cell_type": "code",
   "execution_count": 8,
   "id": "b963e5b2-7991-4eef-8d54-0111f10f31a4",
   "metadata": {},
   "outputs": [
    {
     "name": "stdout",
     "output_type": "stream",
     "text": [
      "shape: (3, 2)\n",
      "┌────────────────────┬─────────────────────────────┐\n",
      "│ categorical_column ┆ categorical_column_physical │\n",
      "│ ---                ┆ ---                         │\n",
      "│ cat                ┆ u32                         │\n",
      "╞════════════════════╪═════════════════════════════╡\n",
      "│ value4             ┆ 0                           │\n",
      "│ value3             ┆ 1                           │\n",
      "│ value2             ┆ 2                           │\n",
      "└────────────────────┴─────────────────────────────┘\n"
     ]
    }
   ],
   "source": [
    "df2 = pl.DataFrame(\n",
    "    {'categorical_column': ['value4', 'value3', 'value2']},\n",
    "    schema={'categorical_column': pl.Categorical}\n",
    ")\n",
    "\n",
    "print(\n",
    "    df2.with_columns(\n",
    "        pl.col('categorical_column')\n",
    "        .to_physical()\n",
    "        .alias('categorical_column_physical')\n",
    "    )\n",
    ")"
   ]
  },
  {
   "cell_type": "code",
   "execution_count": 9,
   "id": "24ce55d0-add0-44f2-a9fd-4fe77df468b9",
   "metadata": {},
   "outputs": [
    {
     "name": "stderr",
     "output_type": "stream",
     "text": [
      "/var/folders/hm/1554tfbj14b8r1wpst4sml2h0000gn/T/ipykernel_95880/2194104470.py:1: CategoricalRemappingWarning: Local categoricals have different encodings, expensive re-encoding is done to perform this merge operation. Consider using a StringCache or an Enum type if the categories are known in advance\n",
      "  df1.join(df2, on='categorical_column')\n"
     ]
    },
    {
     "data": {
      "text/html": [
       "<div><style>\n",
       ".dataframe > thead > tr,\n",
       ".dataframe > tbody > tr {\n",
       "  text-align: right;\n",
       "  white-space: pre-wrap;\n",
       "}\n",
       "</style>\n",
       "<small>shape: (2, 1)</small><table border=\"1\" class=\"dataframe\"><thead><tr><th>categorical_column</th></tr><tr><td>cat</td></tr></thead><tbody><tr><td>&quot;value3&quot;</td></tr><tr><td>&quot;value2&quot;</td></tr></tbody></table></div>"
      ],
      "text/plain": [
       "shape: (2, 1)\n",
       "┌────────────────────┐\n",
       "│ categorical_column │\n",
       "│ ---                │\n",
       "│ cat                │\n",
       "╞════════════════════╡\n",
       "│ value3             │\n",
       "│ value2             │\n",
       "└────────────────────┘"
      ]
     },
     "execution_count": 9,
     "metadata": {},
     "output_type": "execute_result"
    }
   ],
   "source": [
    "df1.join(df2, on='categorical_column')"
   ]
  },
  {
   "cell_type": "markdown",
   "id": "3f9b981f-0bfd-45cd-bfc5-1d57eb607332",
   "metadata": {},
   "source": [
    "上のwarningは、結合しようとしているカテゴリ値が別々に物理表現にエンコードされていて、結合時に両方とも再エンコードしてしまい、計算コストがかかってしまうよ。的なエラー。  \n",
    "この解消方法として、`グローバル文字列キャッシュ`という仕組みを利用する。  \n",
    "これは、すべてのカテゴリ間で共有される文字列キャッシュのことで、このカテゴリ値をグローバル化することで、再エンコードしなくてよくなる。  \n",
    "ただし、すべてのカテゴリ値がグローバル文字列キャッシュを使用すると、かえってパフォーマスが低下する（大量にデータがあるとそうなるのは当然か）。そのため、デフォルトではオフになっている仕組み"
   ]
  },
  {
   "cell_type": "code",
   "execution_count": 10,
   "id": "c2e3c7df-3260-4d8d-ad3d-211410afb78a",
   "metadata": {},
   "outputs": [
    {
     "data": {
      "text/html": [
       "<div><style>\n",
       ".dataframe > thead > tr,\n",
       ".dataframe > tbody > tr {\n",
       "  text-align: right;\n",
       "  white-space: pre-wrap;\n",
       "}\n",
       "</style>\n",
       "<small>shape: (2, 3)</small><table border=\"1\" class=\"dataframe\"><thead><tr><th>categorical_column</th><th>other</th><th>other_right</th></tr><tr><td>cat</td><td>str</td><td>str</td></tr></thead><tbody><tr><td>&quot;value2&quot;</td><td>&quot;b&quot;</td><td>&quot;d&quot;</td></tr><tr><td>&quot;value3&quot;</td><td>&quot;a&quot;</td><td>&quot;e&quot;</td></tr></tbody></table></div>"
      ],
      "text/plain": [
       "shape: (2, 3)\n",
       "┌────────────────────┬───────┬─────────────┐\n",
       "│ categorical_column ┆ other ┆ other_right │\n",
       "│ ---                ┆ ---   ┆ ---         │\n",
       "│ cat                ┆ str   ┆ str         │\n",
       "╞════════════════════╪═══════╪═════════════╡\n",
       "│ value2             ┆ b     ┆ d           │\n",
       "│ value3             ┆ a     ┆ e           │\n",
       "└────────────────────┴───────┴─────────────┘"
      ]
     },
     "execution_count": 10,
     "metadata": {},
     "output_type": "execute_result"
    }
   ],
   "source": [
    "with pl.StringCache():\n",
    "    df1 = pl.DataFrame(\n",
    "        {\n",
    "            'categorical_column': ['value3', 'value2', 'value1'],\n",
    "            'other': ['a', 'b', 'c']\n",
    "        },\n",
    "        schema={'categorical_column': pl.Categorical, 'other': pl.String}\n",
    "    )\n",
    "    df2 = pl.DataFrame(\n",
    "        {\n",
    "            'categorical_column': ['value2', 'value3', 'value4'],\n",
    "            'other': ['d', 'e', 'f']\n",
    "        },\n",
    "        schema={'categorical_column': pl.Categorical, 'other': pl.String}\n",
    "    )\n",
    "\n",
    "df1.join(df2, on='categorical_column')"
   ]
  },
  {
   "cell_type": "code",
   "execution_count": 11,
   "id": "39ad51c4-8ed1-4b70-a54a-a56e40088011",
   "metadata": {},
   "outputs": [],
   "source": [
    "# pl.enable_string_cache()"
   ]
  },
  {
   "cell_type": "markdown",
   "id": "0e96c853-a504-4942-94a7-6c70c165921e",
   "metadata": {},
   "source": [
    "上のセルを実行すると、スクリプト全体に対して常に`グローバル文字列キャッシュ`が有効になる。  \n",
    "使い所の見極めは大事だな"
   ]
  },
  {
   "cell_type": "code",
   "execution_count": 12,
   "id": "e43b7739-4355-4b62-b775-f3db25c38f28",
   "metadata": {},
   "outputs": [
    {
     "data": {
      "text/html": [
       "<div><style>\n",
       ".dataframe > thead > tr,\n",
       ".dataframe > tbody > tr {\n",
       "  text-align: right;\n",
       "  white-space: pre-wrap;\n",
       "}\n",
       "</style>\n",
       "<small>shape: (3, 1)</small><table border=\"1\" class=\"dataframe\"><thead><tr><th>categorical_column</th></tr><tr><td>str</td></tr></thead><tbody><tr><td>&quot;value2&quot;</td></tr><tr><td>&quot;value3&quot;</td></tr><tr><td>&quot;value4&quot;</td></tr></tbody></table></div>"
      ],
      "text/plain": [
       "shape: (3, 1)\n",
       "┌────────────────────┐\n",
       "│ categorical_column │\n",
       "│ ---                │\n",
       "│ str                │\n",
       "╞════════════════════╡\n",
       "│ value2             │\n",
       "│ value3             │\n",
       "│ value4             │\n",
       "└────────────────────┘"
      ]
     },
     "execution_count": 12,
     "metadata": {},
     "output_type": "execute_result"
    }
   ],
   "source": [
    "df2.select(pl.col('categorical_column').cat.get_categories())"
   ]
  },
  {
   "cell_type": "code",
   "execution_count": 13,
   "id": "61475b85-3886-42a6-9e7d-4862773c72f1",
   "metadata": {},
   "outputs": [
    {
     "name": "stdout",
     "output_type": "stream",
     "text": [
      "shape: (3, 2)\n",
      "┌─────────────────────┬──────────────────────┐\n",
      "│ categorical_lexical ┆ categorical_physical │\n",
      "│ ---                 ┆ ---                  │\n",
      "│ cat                 ┆ u32                  │\n",
      "╞═════════════════════╪══════════════════════╡\n",
      "│ value2              ┆ 1                    │\n",
      "│ value3              ┆ 0                    │\n",
      "│ value4              ┆ 3                    │\n",
      "└─────────────────────┴──────────────────────┘\n"
     ]
    }
   ],
   "source": [
    "sorting_comparison_df = (\n",
    "    df2\n",
    "    .select(\n",
    "        pl.col('categorical_column')\n",
    "        .alias('categorical_lexical')\n",
    "    )\n",
    "    .with_columns(\n",
    "        pl.col('categorical_lexical')\n",
    "        .to_physical()\n",
    "        .alias('categorical_physical')\n",
    "    )\n",
    ")\n",
    "\n",
    "print(sorting_comparison_df)"
   ]
  },
  {
   "cell_type": "code",
   "execution_count": 14,
   "id": "890758eb-2546-4297-ba04-21801829d877",
   "metadata": {},
   "outputs": [
    {
     "name": "stdout",
     "output_type": "stream",
     "text": [
      "shape: (3, 2)\n",
      "┌─────────────────────┬──────────────────────┐\n",
      "│ categorical_lexical ┆ categorical_physical │\n",
      "│ ---                 ┆ ---                  │\n",
      "│ cat                 ┆ u32                  │\n",
      "╞═════════════════════╪══════════════════════╡\n",
      "│ value3              ┆ 0                    │\n",
      "│ value2              ┆ 1                    │\n",
      "│ value4              ┆ 3                    │\n",
      "└─────────────────────┴──────────────────────┘\n"
     ]
    }
   ],
   "source": [
    "print(\n",
    "    sorting_comparison_df\n",
    "    .with_columns(\n",
    "        pl.col('categorical_lexical')\n",
    "        .cast(pl.Categorical('physical'))\n",
    "    )\n",
    "    .sort(by='categorical_lexical')\n",
    ")"
   ]
  },
  {
   "cell_type": "code",
   "execution_count": 15,
   "id": "bbd3e392-43b3-4321-a382-1a4d11c43e9c",
   "metadata": {},
   "outputs": [
    {
     "name": "stdout",
     "output_type": "stream",
     "text": [
      "shape: (3, 2)\n",
      "┌─────────────────────┬──────────────────────┐\n",
      "│ categorical_lexical ┆ categorical_physical │\n",
      "│ ---                 ┆ ---                  │\n",
      "│ cat                 ┆ u32                  │\n",
      "╞═════════════════════╪══════════════════════╡\n",
      "│ value2              ┆ 1                    │\n",
      "│ value3              ┆ 0                    │\n",
      "│ value4              ┆ 3                    │\n",
      "└─────────────────────┴──────────────────────┘\n"
     ]
    }
   ],
   "source": [
    "print(\n",
    "    sorting_comparison_df\n",
    "    .with_columns(\n",
    "        pl.col('categorical_lexical')\n",
    "        .cast(pl.Categorical('lexical'))\n",
    "    )\n",
    "    .sort(by='categorical_lexical')\n",
    ")"
   ]
  },
  {
   "cell_type": "code",
   "execution_count": 16,
   "id": "af3248d2-45d3-4714-852e-dac15b82c37c",
   "metadata": {},
   "outputs": [],
   "source": [
    "enum_dtype = pl.Enum(['Polar', 'Panda', 'Brown'])\n",
    "enum_series = pl.Series(\n",
    "    ['Polar', 'Panda', 'Brown', 'Brown', 'Polar'], dtype=enum_dtype\n",
    ")\n",
    "\n",
    "cat_series = pl.Series(\n",
    "    ['Polar', 'Panda', 'Brown', 'Brown', 'Polar'], dtype=pl.Categorical\n",
    ")"
   ]
  },
  {
   "cell_type": "markdown",
   "id": "f6e072c4-a18d-4db8-8e92-6a23d6259808",
   "metadata": {},
   "source": [
    "列挙型はpolarsで使える新しい型"
   ]
  },
  {
   "cell_type": "markdown",
   "id": "ddaa5efa-f5c7-4b4c-bf8a-f991e6f391b8",
   "metadata": {
    "jp-MarkdownHeadingCollapsed": true
   },
   "source": [
    "## 時間データ"
   ]
  },
  {
   "cell_type": "code",
   "execution_count": 17,
   "id": "aa5fe146-1780-4d6a-9f62-85317fd16236",
   "metadata": {},
   "outputs": [
    {
     "data": {
      "text/html": [
       "<div><style>\n",
       ".dataframe > thead > tr,\n",
       ".dataframe > tbody > tr {\n",
       "  text-align: right;\n",
       "  white-space: pre-wrap;\n",
       "}\n",
       "</style>\n",
       "<small>shape: (880, 8)</small><table border=\"1\" class=\"dataframe\"><thead><tr><th>symbol</th><th>date</th><th>open</th><th>high</th><th>low</th><th>close</th><th>adj close</th><th>volume</th></tr><tr><td>str</td><td>date</td><td>f64</td><td>f64</td><td>f64</td><td>f64</td><td>f64</td><td>i64</td></tr></thead><tbody><tr><td>&quot;NVDA&quot;</td><td>2020-01-02</td><td>59.6875</td><td>59.977501</td><td>59.18</td><td>59.977501</td><td>59.744038</td><td>23753600</td></tr><tr><td>&quot;NVDA&quot;</td><td>2020-01-03</td><td>58.775002</td><td>59.4575</td><td>58.525002</td><td>59.017502</td><td>58.787781</td><td>20538400</td></tr><tr><td>&quot;NVDA&quot;</td><td>2020-01-06</td><td>58.080002</td><td>59.317501</td><td>57.817501</td><td>59.264999</td><td>59.034313</td><td>26263600</td></tr><tr><td>&quot;NVDA&quot;</td><td>2020-01-07</td><td>59.549999</td><td>60.442501</td><td>59.0975</td><td>59.982498</td><td>59.749023</td><td>31485600</td></tr><tr><td>&quot;NVDA&quot;</td><td>2020-01-08</td><td>59.939999</td><td>60.509998</td><td>59.537498</td><td>60.095001</td><td>59.861084</td><td>27710800</td></tr><tr><td>&hellip;</td><td>&hellip;</td><td>&hellip;</td><td>&hellip;</td><td>&hellip;</td><td>&hellip;</td><td>&hellip;</td><td>&hellip;</td></tr><tr><td>&quot;NVDA&quot;</td><td>2023-06-26</td><td>424.609985</td><td>427.640015</td><td>401.0</td><td>406.320007</td><td>406.250824</td><td>59432200</td></tr><tr><td>&quot;NVDA&quot;</td><td>2023-06-27</td><td>407.98999</td><td>419.399994</td><td>404.480011</td><td>418.76001</td><td>418.688721</td><td>46217500</td></tr><tr><td>&quot;NVDA&quot;</td><td>2023-06-28</td><td>406.600006</td><td>418.450012</td><td>405.179993</td><td>411.170013</td><td>411.100006</td><td>58263900</td></tr><tr><td>&quot;NVDA&quot;</td><td>2023-06-29</td><td>415.579987</td><td>416.0</td><td>406.0</td><td>408.220001</td><td>408.150482</td><td>38051400</td></tr><tr><td>&quot;NVDA&quot;</td><td>2023-06-30</td><td>416.799988</td><td>425.5</td><td>415.01001</td><td>423.019989</td><td>422.947937</td><td>50053400</td></tr></tbody></table></div>"
      ],
      "text/plain": [
       "shape: (880, 8)\n",
       "┌────────┬────────────┬────────────┬────────────┬────────────┬────────────┬────────────┬──────────┐\n",
       "│ symbol ┆ date       ┆ open       ┆ high       ┆ low        ┆ close      ┆ adj close  ┆ volume   │\n",
       "│ ---    ┆ ---        ┆ ---        ┆ ---        ┆ ---        ┆ ---        ┆ ---        ┆ ---      │\n",
       "│ str    ┆ date       ┆ f64        ┆ f64        ┆ f64        ┆ f64        ┆ f64        ┆ i64      │\n",
       "╞════════╪════════════╪════════════╪════════════╪════════════╪════════════╪════════════╪══════════╡\n",
       "│ NVDA   ┆ 2020-01-02 ┆ 59.6875    ┆ 59.977501  ┆ 59.18      ┆ 59.977501  ┆ 59.744038  ┆ 23753600 │\n",
       "│ NVDA   ┆ 2020-01-03 ┆ 58.775002  ┆ 59.4575    ┆ 58.525002  ┆ 59.017502  ┆ 58.787781  ┆ 20538400 │\n",
       "│ NVDA   ┆ 2020-01-06 ┆ 58.080002  ┆ 59.317501  ┆ 57.817501  ┆ 59.264999  ┆ 59.034313  ┆ 26263600 │\n",
       "│ NVDA   ┆ 2020-01-07 ┆ 59.549999  ┆ 60.442501  ┆ 59.0975    ┆ 59.982498  ┆ 59.749023  ┆ 31485600 │\n",
       "│ NVDA   ┆ 2020-01-08 ┆ 59.939999  ┆ 60.509998  ┆ 59.537498  ┆ 60.095001  ┆ 59.861084  ┆ 27710800 │\n",
       "│ …      ┆ …          ┆ …          ┆ …          ┆ …          ┆ …          ┆ …          ┆ …        │\n",
       "│ NVDA   ┆ 2023-06-26 ┆ 424.609985 ┆ 427.640015 ┆ 401.0      ┆ 406.320007 ┆ 406.250824 ┆ 59432200 │\n",
       "│ NVDA   ┆ 2023-06-27 ┆ 407.98999  ┆ 419.399994 ┆ 404.480011 ┆ 418.76001  ┆ 418.688721 ┆ 46217500 │\n",
       "│ NVDA   ┆ 2023-06-28 ┆ 406.600006 ┆ 418.450012 ┆ 405.179993 ┆ 411.170013 ┆ 411.100006 ┆ 58263900 │\n",
       "│ NVDA   ┆ 2023-06-29 ┆ 415.579987 ┆ 416.0      ┆ 406.0      ┆ 408.220001 ┆ 408.150482 ┆ 38051400 │\n",
       "│ NVDA   ┆ 2023-06-30 ┆ 416.799988 ┆ 425.5      ┆ 415.01001  ┆ 423.019989 ┆ 422.947937 ┆ 50053400 │\n",
       "└────────┴────────────┴────────────┴────────────┴────────────┴────────────┴────────────┴──────────┘"
      ]
     },
     "execution_count": 17,
     "metadata": {},
     "output_type": "execute_result"
    }
   ],
   "source": [
    "pl.read_csv(INPUT_CSV_PATH_STOCKS, try_parse_dates=True)"
   ]
  },
  {
   "cell_type": "markdown",
   "id": "ff05d1db-d601-438b-830a-7399471261c0",
   "metadata": {},
   "source": [
    "`try_parse_dates=True`にすることで、読み込み時に時間データであれば、データ型をstringではなく、date型やdatetime型で読み込んでくれる"
   ]
  },
  {
   "cell_type": "code",
   "execution_count": 18,
   "id": "064d9b8d-4fa9-4e35-8bb5-5658e9c0db78",
   "metadata": {},
   "outputs": [
    {
     "name": "stdout",
     "output_type": "stream",
     "text": [
      "shape: (2, 2)\n",
      "┌────────────┬────────────┐\n",
      "│ date_str   ┆ date       │\n",
      "│ ---        ┆ ---        │\n",
      "│ str        ┆ date       │\n",
      "╞════════════╪════════════╡\n",
      "│ 2023-12-31 ┆ 2023-12-31 │\n",
      "│ 2024-02-29 ┆ 2024-02-29 │\n",
      "└────────────┴────────────┘\n"
     ]
    }
   ],
   "source": [
    "df = pl.DataFrame({\n",
    "    'date_str': ['2023-12-31', '2024-02-29']\n",
    "})\n",
    "\n",
    "df = df.with_columns(\n",
    "    pl.col('date_str').str.strptime(pl.Date, '%Y-%m-%d').alias('date')\n",
    ")\n",
    "\n",
    "print(df)"
   ]
  },
  {
   "cell_type": "code",
   "execution_count": 19,
   "id": "902da23c-c014-46b7-aff0-8142e5c1df28",
   "metadata": {},
   "outputs": [
    {
     "name": "stdout",
     "output_type": "stream",
     "text": [
      "shape: (2, 3)\n",
      "┌────────────┬────────────┬────────────────┐\n",
      "│ date_str   ┆ date       ┆ formatted_date │\n",
      "│ ---        ┆ ---        ┆ ---            │\n",
      "│ str        ┆ date       ┆ str            │\n",
      "╞════════════╪════════════╪════════════════╡\n",
      "│ 2023-12-31 ┆ 2023-12-31 ┆ 31-12-2023     │\n",
      "│ 2024-02-29 ┆ 2024-02-29 ┆ 29-02-2024     │\n",
      "└────────────┴────────────┴────────────────┘\n"
     ]
    }
   ],
   "source": [
    "df = df.with_columns(\n",
    "    pl.col('date').dt.to_string('%d-%m-%Y').alias('formatted_date')\n",
    ")\n",
    "\n",
    "print(df)"
   ]
  },
  {
   "cell_type": "markdown",
   "id": "489cda03-e8e1-4a83-b0d5-6d9c74e80e4d",
   "metadata": {},
   "source": [
    "年月日の並び替えもできるのか"
   ]
  },
  {
   "cell_type": "code",
   "execution_count": 20,
   "id": "800dc179-9b30-4ffa-bd83-a02faaf63939",
   "metadata": {},
   "outputs": [
    {
     "name": "stdout",
     "output_type": "stream",
     "text": [
      "shape: (3, 1)\n",
      "┌────────────┐\n",
      "│ date       │\n",
      "│ ---        │\n",
      "│ date       │\n",
      "╞════════════╡\n",
      "│ 2023-12-31 │\n",
      "│ 2024-01-07 │\n",
      "│ 2024-01-14 │\n",
      "└────────────┘\n"
     ]
    }
   ],
   "source": [
    "df = pl.DataFrame(\n",
    "    {\n",
    "        'date': pl.date_range(\n",
    "            start=date(2023, 12, 31),\n",
    "            end=date(2024, 1, 15),\n",
    "            interval='1w',\n",
    "            eager=True\n",
    "        )\n",
    "    }\n",
    ")\n",
    "\n",
    "print(df)"
   ]
  },
  {
   "cell_type": "markdown",
   "id": "12ba5e2c-1dff-40bd-8821-728f4733b774",
   "metadata": {},
   "source": [
    "`.date_range()`って使い所次第ではすごく助かるなぁ"
   ]
  },
  {
   "cell_type": "code",
   "execution_count": 21,
   "id": "25623ab1-63a2-40b9-9451-dca45c816e4f",
   "metadata": {},
   "outputs": [
    {
     "name": "stdout",
     "output_type": "stream",
     "text": [
      "shape: (4, 3)\n",
      "┌──────────────────────────┬─────────────────────────┬────────────────────────────────┐\n",
      "│ utc_mixed_offset_data    ┆ parsed_data             ┆ converted_data                 │\n",
      "│ ---                      ┆ ---                     ┆ ---                            │\n",
      "│ str                      ┆ datetime[μs, UTC]       ┆ datetime[μs, Europe/Amsterdam] │\n",
      "╞══════════════════════════╪═════════════════════════╪════════════════════════════════╡\n",
      "│ 2021-03-27T00:00:00+0100 ┆ 2021-03-26 23:00:00 UTC ┆ 2021-03-27 00:00:00 CET        │\n",
      "│ 2021-03-28T00:00:00+0100 ┆ 2021-03-27 23:00:00 UTC ┆ 2021-03-28 00:00:00 CET        │\n",
      "│ 2021-03-29T00:00:00+0100 ┆ 2021-03-28 23:00:00 UTC ┆ 2021-03-29 01:00:00 CEST       │\n",
      "│ 2021-03-30T00:00:00+0100 ┆ 2021-03-29 23:00:00 UTC ┆ 2021-03-30 01:00:00 CEST       │\n",
      "└──────────────────────────┴─────────────────────────┴────────────────────────────────┘\n"
     ]
    }
   ],
   "source": [
    "df = pl.DataFrame(\n",
    "    {\n",
    "        'utc_mixed_offset_data': [\n",
    "            '2021-03-27T00:00:00+0100',\n",
    "            '2021-03-28T00:00:00+0100',\n",
    "            '2021-03-29T00:00:00+0100',\n",
    "            '2021-03-30T00:00:00+0100'\n",
    "        ]\n",
    "    }\n",
    ")\n",
    "df = (\n",
    "    df.with_columns(\n",
    "        pl.col('utc_mixed_offset_data')\n",
    "        .str.to_datetime('%Y-%m-%dT%H:%M:%S%z')\n",
    "        .alias('parsed_data')\n",
    "    ).with_columns(\n",
    "        pl.col('parsed_data')\n",
    "        .dt.convert_time_zone('Europe/Amsterdam')\n",
    "        .alias('converted_data')\n",
    "    )\n",
    ")\n",
    "\n",
    "print(df)"
   ]
  },
  {
   "cell_type": "markdown",
   "id": "0dafa031-2bcd-446f-aa88-6d0b93e47cc6",
   "metadata": {},
   "source": [
    "タイムゾーンの切り替えは場所を指定するだけか。時差を指定してコメントで所在地教えるでも良いけれど、こっちの方がやや綺麗かも？"
   ]
  },
  {
   "cell_type": "markdown",
   "id": "959c01f4-a1cb-4471-998b-a8790442a153",
   "metadata": {
    "jp-MarkdownHeadingCollapsed": true
   },
   "source": [
    "## リスト"
   ]
  },
  {
   "cell_type": "code",
   "execution_count": 22,
   "id": "ce1deac6-ea60-45fe-914b-3eede4bcb870",
   "metadata": {},
   "outputs": [
    {
     "name": "stdout",
     "output_type": "stream",
     "text": [
      "shape: (3, 3)\n",
      "┌──────────────────────┬────────────┬────────────┐\n",
      "│ values               ┆ all values ┆ any values │\n",
      "│ ---                  ┆ ---        ┆ ---        │\n",
      "│ list[bool]           ┆ bool       ┆ bool       │\n",
      "╞══════════════════════╪════════════╪════════════╡\n",
      "│ [true, true]         ┆ true       ┆ true       │\n",
      "│ [false, false, true] ┆ false      ┆ true       │\n",
      "│ [false]              ┆ false      ┆ false      │\n",
      "└──────────────────────┴────────────┴────────────┘\n"
     ]
    }
   ],
   "source": [
    "bool_df = pl.DataFrame({\n",
    "    'values': [[True, True], [False, False, True], [False]]\n",
    "})\n",
    "\n",
    "print(\n",
    "    bool_df\n",
    "    .with_columns(\n",
    "        pl.col('values')\n",
    "        .list.all()\n",
    "        .alias('all values'),\n",
    "        pl.col('values')\n",
    "        .list.any()\n",
    "        .alias('any values')\n",
    "    )\n",
    ")"
   ]
  },
  {
   "cell_type": "code",
   "execution_count": 23,
   "id": "e6e50e92-a919-440c-9708-7da8a8e5ad99",
   "metadata": {},
   "outputs": [
    {
     "name": "stdout",
     "output_type": "stream",
     "text": [
      "shape: (3, 3)\n",
      "┌──────────────┬──────────────────────┬─────────────────┐\n",
      "│ values       ┆ values > 40          ┆ all values > 40 │\n",
      "│ ---          ┆ ---                  ┆ ---             │\n",
      "│ list[i64]    ┆ list[bool]           ┆ bool            │\n",
      "╞══════════════╪══════════════════════╪═════════════════╡\n",
      "│ [10, 20]     ┆ [false, false]       ┆ false           │\n",
      "│ [30, 40, 50] ┆ [false, false, true] ┆ false           │\n",
      "│ [60]         ┆ [true]               ┆ true            │\n",
      "└──────────────┴──────────────────────┴─────────────────┘\n"
     ]
    }
   ],
   "source": [
    "df = pl.DataFrame({\n",
    "    'values': [[10, 20], [30, 40, 50], [60]]\n",
    "})\n",
    "\n",
    "print(\n",
    "    df\n",
    "    .with_columns(\n",
    "        pl.col('values')\n",
    "        .list.eval(\n",
    "            pl.element() > 40,\n",
    "            parallel=True\n",
    "        )\n",
    "        .alias('values > 40')\n",
    "    )\n",
    "    .with_columns(\n",
    "        pl.col('values > 40')\n",
    "        .list.all()\n",
    "        .alias('all values > 40')\n",
    "    )\n",
    ")"
   ]
  },
  {
   "cell_type": "markdown",
   "id": "7b537d46-f37d-444a-b5e7-cc23e69b2664",
   "metadata": {},
   "source": [
    "`parallel=True`によって、並列処理ができる。手軽でいいね"
   ]
  },
  {
   "cell_type": "code",
   "execution_count": 24,
   "id": "a19ff3ce-c2c7-4cd9-a8b7-c36abd06fee3",
   "metadata": {},
   "outputs": [
    {
     "data": {
      "text/html": [
       "<div><style>\n",
       ".dataframe > thead > tr,\n",
       ".dataframe > tbody > tr {\n",
       "  text-align: right;\n",
       "  white-space: pre-wrap;\n",
       "}\n",
       "</style>\n",
       "<small>shape: (6, 1)</small><table border=\"1\" class=\"dataframe\"><thead><tr><th>values</th></tr><tr><td>i64</td></tr></thead><tbody><tr><td>10</td></tr><tr><td>20</td></tr><tr><td>30</td></tr><tr><td>40</td></tr><tr><td>50</td></tr><tr><td>60</td></tr></tbody></table></div>"
      ],
      "text/plain": [
       "shape: (6, 1)\n",
       "┌────────┐\n",
       "│ values │\n",
       "│ ---    │\n",
       "│ i64    │\n",
       "╞════════╡\n",
       "│ 10     │\n",
       "│ 20     │\n",
       "│ 30     │\n",
       "│ 40     │\n",
       "│ 50     │\n",
       "│ 60     │\n",
       "└────────┘"
      ]
     },
     "execution_count": 24,
     "metadata": {},
     "output_type": "execute_result"
    }
   ],
   "source": [
    "df.explode('values')"
   ]
  },
  {
   "cell_type": "markdown",
   "id": "eec4433d-7966-4f49-9f34-5c729efc20ef",
   "metadata": {
    "jp-MarkdownHeadingCollapsed": true
   },
   "source": [
    "## 配列\n",
    "リストと紛らわしいが、ここで言う配列はArray型のこと"
   ]
  },
  {
   "cell_type": "code",
   "execution_count": 25,
   "id": "c1669db5-f77e-4efa-96d1-6a88fcf20d41",
   "metadata": {},
   "outputs": [
    {
     "name": "stdout",
     "output_type": "stream",
     "text": [
      "shape: (3, 2)\n",
      "┌───────────┬────────────────┐\n",
      "│ location  ┆ temperatures   │\n",
      "│ ---       ┆ ---            │\n",
      "│ str       ┆ array[i64, 7]  │\n",
      "╞═══════════╪════════════════╡\n",
      "│ Paris     ┆ [23, 27, … 22] │\n",
      "│ Amsterdam ┆ [17, 19, … 21] │\n",
      "│ Barcelona ┆ [30, 32, … 31] │\n",
      "└───────────┴────────────────┘\n"
     ]
    }
   ],
   "source": [
    "df = pl.DataFrame([\n",
    "    pl.Series(\n",
    "        'location',\n",
    "        ['Paris', 'Amsterdam', 'Barcelona'],\n",
    "        dtype=pl.String\n",
    "    ),\n",
    "    pl.Series(\n",
    "        'temperatures',\n",
    "        [\n",
    "            [23, 27, 21, 22, 24, 23, 22],\n",
    "            [17, 19, 15, 22, 18, 20, 21],\n",
    "            [30, 32, 28, 29, 34, 33, 31]\n",
    "        ],\n",
    "        dtype=pl.Array(pl.Int64, shape=7)\n",
    "    )\n",
    "])\n",
    "\n",
    "print(df)"
   ]
  },
  {
   "cell_type": "code",
   "execution_count": 26,
   "id": "da396240-9acd-463c-badb-ddbeb73c6f7d",
   "metadata": {},
   "outputs": [
    {
     "name": "stdout",
     "output_type": "stream",
     "text": [
      "shape: (3, 5)\n",
      "┌───────────┬────────────────┬────────┬─────┬─────────────────┐\n",
      "│ location  ┆ temperatures   ┆ median ┆ max ┆ warmest_weekday │\n",
      "│ ---       ┆ ---            ┆ ---    ┆ --- ┆ ---             │\n",
      "│ str       ┆ array[i64, 7]  ┆ f64    ┆ i64 ┆ u32             │\n",
      "╞═══════════╪════════════════╪════════╪═════╪═════════════════╡\n",
      "│ Paris     ┆ [23, 27, … 22] ┆ 23.0   ┆ 27  ┆ 1               │\n",
      "│ Amsterdam ┆ [17, 19, … 21] ┆ 19.0   ┆ 22  ┆ 3               │\n",
      "│ Barcelona ┆ [30, 32, … 31] ┆ 31.0   ┆ 34  ┆ 4               │\n",
      "└───────────┴────────────────┴────────┴─────┴─────────────────┘\n"
     ]
    }
   ],
   "source": [
    "print(\n",
    "    df\n",
    "    .with_columns(\n",
    "        pl.col('temperatures')\n",
    "        .arr.median()\n",
    "        .alias('median'),\n",
    "        pl.col('temperatures')\n",
    "        .arr.max()\n",
    "        .alias('max'),\n",
    "        pl.col('temperatures')\n",
    "        .arr.arg_max()\n",
    "        .alias('warmest_weekday')\n",
    "    )\n",
    ")"
   ]
  },
  {
   "cell_type": "markdown",
   "id": "2e8a4fe3-5397-4d9e-86d9-b919b13f706c",
   "metadata": {},
   "source": [
    "## 構造体\n",
    "struct型のこと"
   ]
  },
  {
   "cell_type": "code",
   "execution_count": 27,
   "id": "33848220-17f4-43c5-a722-37e908d197b8",
   "metadata": {},
   "outputs": [
    {
     "name": "stdout",
     "output_type": "stream",
     "text": [
      "shape: (3, 1)\n",
      "┌───────────────┐\n",
      "│ struct_column │\n",
      "│ ---           │\n",
      "│ struct[2]     │\n",
      "╞═══════════════╡\n",
      "│ {1,2}         │\n",
      "│ {3,4}         │\n",
      "│ {5,6}         │\n",
      "└───────────────┘\n"
     ]
    }
   ],
   "source": [
    "df = pl.DataFrame({\n",
    "    'struct_column': [\n",
    "        {'a': 1, 'b': 2},\n",
    "        {'a': 3, 'b': 4},\n",
    "        {'a': 5, 'b': 6}\n",
    "    ]\n",
    "})\n",
    "\n",
    "print(df)"
   ]
  },
  {
   "cell_type": "markdown",
   "id": "f23bfe5e-6af8-40d7-a55c-d5b9a00a0887",
   "metadata": {},
   "source": [
    "以下、おさらい\n",
    "* list型  -> pythonで通常使うプリミティブ型のリスト\n",
    "* array型 -> pythonだと`import Array`しないといけないリスト\n",
    "    * list型は要素の型がバラバラで良いけれど、array型は要素の方が統一されている必要がある\n",
    "* struct  -> DataFrameの中に入れる辞書型のこと"
   ]
  },
  {
   "cell_type": "code",
   "execution_count": 28,
   "id": "a67988a9-37d2-43cb-8e07-900a26434746",
   "metadata": {},
   "outputs": [
    {
     "data": {
      "text/html": [
       "<div><style>\n",
       ".dataframe > thead > tr,\n",
       ".dataframe > tbody > tr {\n",
       "  text-align: right;\n",
       "  white-space: pre-wrap;\n",
       "}\n",
       "</style>\n",
       "<small>shape: (3, 1)</small><table border=\"1\" class=\"dataframe\"><thead><tr><th>a</th></tr><tr><td>i64</td></tr></thead><tbody><tr><td>1</td></tr><tr><td>3</td></tr><tr><td>5</td></tr></tbody></table></div>"
      ],
      "text/plain": [
       "shape: (3, 1)\n",
       "┌─────┐\n",
       "│ a   │\n",
       "│ --- │\n",
       "│ i64 │\n",
       "╞═════╡\n",
       "│ 1   │\n",
       "│ 3   │\n",
       "│ 5   │\n",
       "└─────┘"
      ]
     },
     "execution_count": 28,
     "metadata": {},
     "output_type": "execute_result"
    }
   ],
   "source": [
    "df.select(pl.col('struct_column').struct.field('a'))"
   ]
  },
  {
   "cell_type": "code",
   "execution_count": 29,
   "id": "e0c09a51-0b85-4e8e-a3b6-1960a10b02d2",
   "metadata": {},
   "outputs": [
    {
     "name": "stdout",
     "output_type": "stream",
     "text": [
      "shape: (3, 2)\n",
      "┌─────┬─────┐\n",
      "│ a   ┆ b   │\n",
      "│ --- ┆ --- │\n",
      "│ i64 ┆ i64 │\n",
      "╞═════╪═════╡\n",
      "│ 1   ┆ 2   │\n",
      "│ 3   ┆ 4   │\n",
      "│ 5   ┆ 6   │\n",
      "└─────┴─────┘\n"
     ]
    }
   ],
   "source": [
    "df = df.unnest('struct_column')\n",
    "print(df)"
   ]
  },
  {
   "cell_type": "code",
   "execution_count": 30,
   "id": "5369a0ad-b02f-4ca4-b358-8bf42f70afa4",
   "metadata": {},
   "outputs": [
    {
     "data": {
      "text/html": [
       "<div><style>\n",
       ".dataframe > thead > tr,\n",
       ".dataframe > tbody > tr {\n",
       "  text-align: right;\n",
       "  white-space: pre-wrap;\n",
       "}\n",
       "</style>\n",
       "<small>shape: (3, 3)</small><table border=\"1\" class=\"dataframe\"><thead><tr><th>a</th><th>b</th><th>struct_column</th></tr><tr><td>i64</td><td>i64</td><td>struct[2]</td></tr></thead><tbody><tr><td>1</td><td>2</td><td>{1,2}</td></tr><tr><td>3</td><td>4</td><td>{3,4}</td></tr><tr><td>5</td><td>6</td><td>{5,6}</td></tr></tbody></table></div>"
      ],
      "text/plain": [
       "shape: (3, 3)\n",
       "┌─────┬─────┬───────────────┐\n",
       "│ a   ┆ b   ┆ struct_column │\n",
       "│ --- ┆ --- ┆ ---           │\n",
       "│ i64 ┆ i64 ┆ struct[2]     │\n",
       "╞═════╪═════╪═══════════════╡\n",
       "│ 1   ┆ 2   ┆ {1,2}         │\n",
       "│ 3   ┆ 4   ┆ {3,4}         │\n",
       "│ 5   ┆ 6   ┆ {5,6}         │\n",
       "└─────┴─────┴───────────────┘"
      ]
     },
     "execution_count": 30,
     "metadata": {},
     "output_type": "execute_result"
    }
   ],
   "source": [
    "df.select(\n",
    "    'a',\n",
    "    'b',\n",
    "    pl.struct(\n",
    "        pl.col('a'),\n",
    "        pl.col('b')\n",
    "    ).alias('struct_column')\n",
    ")"
   ]
  },
  {
   "cell_type": "code",
   "execution_count": 31,
   "id": "cdbaf69e-1bd7-4355-9aed-ea2c73703a62",
   "metadata": {},
   "outputs": [
    {
     "name": "stdout",
     "output_type": "stream",
     "text": [
      "shape: (6, 1)\n",
      "┌────────┐\n",
      "│ fruit  │\n",
      "│ ---    │\n",
      "│ str    │\n",
      "╞════════╡\n",
      "│ cherry │\n",
      "│ apple  │\n",
      "│ banana │\n",
      "│ banana │\n",
      "│ apple  │\n",
      "│ banana │\n",
      "└────────┘\n"
     ]
    }
   ],
   "source": [
    "df = pl.DataFrame({\n",
    "    'fruit': ['cherry', 'apple', 'banana', 'banana', 'apple', 'banana']\n",
    "})\n",
    "\n",
    "print(df)"
   ]
  },
  {
   "cell_type": "code",
   "execution_count": 32,
   "id": "93259e75-f306-4d9d-97d5-9a6d34545bec",
   "metadata": {},
   "outputs": [
    {
     "name": "stdout",
     "output_type": "stream",
     "text": [
      "shape: (3, 1)\n",
      "┌──────────────┐\n",
      "│ fruit        │\n",
      "│ ---          │\n",
      "│ struct[2]    │\n",
      "╞══════════════╡\n",
      "│ {\"banana\",3} │\n",
      "│ {\"apple\",2}  │\n",
      "│ {\"cherry\",1} │\n",
      "└──────────────┘\n"
     ]
    }
   ],
   "source": [
    "print(\n",
    "    df\n",
    "    .select(\n",
    "        pl.col('fruit')\n",
    "        .value_counts(sort=True)\n",
    "    )\n",
    ")"
   ]
  },
  {
   "cell_type": "code",
   "execution_count": 33,
   "id": "5122dee2-047f-469e-baa2-d68f57815a6f",
   "metadata": {},
   "outputs": [
    {
     "name": "stdout",
     "output_type": "stream",
     "text": [
      "shape: (3, 2)\n",
      "┌────────┬───────┐\n",
      "│ fruit  ┆ count │\n",
      "│ ---    ┆ ---   │\n",
      "│ str    ┆ u32   │\n",
      "╞════════╪═══════╡\n",
      "│ banana ┆ 3     │\n",
      "│ apple  ┆ 2     │\n",
      "│ cherry ┆ 1     │\n",
      "└────────┴───────┘\n"
     ]
    }
   ],
   "source": [
    "print(\n",
    "    df.select(\n",
    "        pl.col('fruit')\n",
    "        .value_counts(sort=True)\n",
    "    )\n",
    "    .unnest('fruit')\n",
    ")"
   ]
  },
  {
   "cell_type": "markdown",
   "id": "c31a0e25-a883-413c-854e-e115001dafc2",
   "metadata": {},
   "source": [
    "`.value_counts()`で算出されたvalueに対して`.unnest()`を実行すると、カラム名は自動的に`count`になるのか"
   ]
  },
  {
   "cell_type": "code",
   "execution_count": null,
   "id": "e04d3b92-e650-480f-8e74-03aa568337ed",
   "metadata": {},
   "outputs": [],
   "source": []
  }
 ],
 "metadata": {
  "kernelspec": {
   "display_name": "Python 3 (ipykernel)",
   "language": "python",
   "name": "python3"
  },
  "language_info": {
   "codemirror_mode": {
    "name": "ipython",
    "version": 3
   },
   "file_extension": ".py",
   "mimetype": "text/x-python",
   "name": "python",
   "nbconvert_exporter": "python",
   "pygments_lexer": "ipython3",
   "version": "3.12.3"
  }
 },
 "nbformat": 4,
 "nbformat_minor": 5
}
