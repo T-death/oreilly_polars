{
 "cells": [
  {
   "cell_type": "markdown",
   "id": "a39d89b6-ee6a-4ead-a70e-84c9c8336fae",
   "metadata": {},
   "source": [
    "# Eager APIとLazy API"
   ]
  },
  {
   "cell_type": "code",
   "execution_count": 1,
   "id": "1539fff0-ec30-4328-bcea-cb389c45853e",
   "metadata": {},
   "outputs": [],
   "source": [
    "import os\n",
    "\n",
    "import polars as pl"
   ]
  },
  {
   "cell_type": "markdown",
   "id": "e3bc70a7-e9d2-4454-a937-d8654a3803c7",
   "metadata": {},
   "source": [
    "## 定数定義"
   ]
  },
  {
   "cell_type": "code",
   "execution_count": 2,
   "id": "1547d1cd-19ff-4cf7-b4bf-523555c03d1f",
   "metadata": {},
   "outputs": [],
   "source": [
    "INPUT_DATA_PATH = os.path.join('..','..','data','taxi')"
   ]
  },
  {
   "cell_type": "markdown",
   "id": "cacaa6e1-e325-4646-886c-a5a0dff394d0",
   "metadata": {
    "jp-MarkdownHeadingCollapsed": true
   },
   "source": [
    "## 比較する"
   ]
  },
  {
   "cell_type": "markdown",
   "id": "3641c5a9-02ea-4db4-adbd-8d6a3a35685a",
   "metadata": {},
   "source": [
    "eager api"
   ]
  },
  {
   "cell_type": "code",
   "execution_count": 3,
   "id": "0172e681-01ae-4c97-b35d-80a20576fabd",
   "metadata": {},
   "outputs": [
    {
     "name": "stdout",
     "output_type": "stream",
     "text": [
      "CPU times: user 5.95 s, sys: 2 s, total: 7.95 s\n",
      "Wall time: 1.57 s\n"
     ]
    },
    {
     "data": {
      "text/html": [
       "<div><style>\n",
       ".dataframe > thead > tr,\n",
       ".dataframe > tbody > tr {\n",
       "  text-align: right;\n",
       "  white-space: pre-wrap;\n",
       "}\n",
       "</style>\n",
       "<small>shape: (3, 2)</small><table border=\"1\" class=\"dataframe\"><thead><tr><th>VendorID</th><th>income_per_distance</th></tr><tr><td>i64</td><td>f64</td></tr></thead><tbody><tr><td>1</td><td>6.434789</td></tr><tr><td>6</td><td>5.296493</td></tr><tr><td>5</td><td>4.731557</td></tr></tbody></table></div>"
      ],
      "text/plain": [
       "shape: (3, 2)\n",
       "┌──────────┬─────────────────────┐\n",
       "│ VendorID ┆ income_per_distance │\n",
       "│ ---      ┆ ---                 │\n",
       "│ i64      ┆ f64                 │\n",
       "╞══════════╪═════════════════════╡\n",
       "│ 1        ┆ 6.434789            │\n",
       "│ 6        ┆ 5.296493            │\n",
       "│ 5        ┆ 4.731557            │\n",
       "└──────────┴─────────────────────┘"
      ]
     },
     "execution_count": 3,
     "metadata": {},
     "output_type": "execute_result"
    }
   ],
   "source": [
    "%%time\n",
    "\n",
    "trips = pl.read_parquet(os.path.join(INPUT_DATA_PATH,'yellow_tripdata_*.parquet'))  # globパターンに基づいて、複数読み取り可能\n",
    "sum_per_vendor = trips.group_by('VendorID').sum()\n",
    "\n",
    "income_per_distance_per_vendor = sum_per_vendor.select(\n",
    "    'VendorID',\n",
    "    income_per_distance=pl.col('total_amount') / pl.col('trip_distance')\n",
    ")\n",
    "\n",
    "top_three = (\n",
    "    income_per_distance_per_vendor.sort(\n",
    "        by='income_per_distance',\n",
    "        descending=True\n",
    "    )\n",
    "    .head(3)\n",
    ")\n",
    "\n",
    "top_three"
   ]
  },
  {
   "cell_type": "markdown",
   "id": "7bb6d175-d104-48ea-82ee-8e570e777b80",
   "metadata": {},
   "source": [
    "lazy api"
   ]
  },
  {
   "cell_type": "code",
   "execution_count": 4,
   "id": "113f07c2-2195-4f53-9728-06ac086f36b5",
   "metadata": {},
   "outputs": [
    {
     "data": {
      "image/svg+xml": [
       "<svg xmlns=\"http://www.w3.org/2000/svg\" xmlns:xlink=\"http://www.w3.org/1999/xlink\" width=\"483pt\" height=\"49pt\" viewBox=\"0.00 0.00 483.00 49.00\">\n",
       "<g id=\"graph0\" class=\"graph\" transform=\"scale(1 1) rotate(0) translate(4 45)\">\n",
       "<title>polars_query</title>\n",
       "<polygon fill=\"white\" stroke=\"none\" points=\"-4,4 -4,-45 479,-45 479,4 -4,4\"/>\n",
       "<!-- p1 -->\n",
       "<g id=\"node1\" class=\"node\">\n",
       "<title>p1</title>\n",
       "<polygon fill=\"none\" stroke=\"black\" points=\"475,-41 0,-41 0,0 475,0 475,-41\"/>\n",
       "<text text-anchor=\"middle\" x=\"237.5\" y=\"-23.7\" font-family=\"Times,serif\" font-size=\"14.00\">Parquet SCAN [../../data/taxi/yellow_tripdata_2022-01.parquet, ... 11 other sources]</text>\n",
       "<text text-anchor=\"middle\" x=\"237.5\" y=\"-7.2\" font-family=\"Times,serif\" font-size=\"14.00\">π 1/19;</text>\n",
       "</g>\n",
       "</g>\n",
       "</svg>"
      ],
      "text/plain": [
       "<IPython.core.display.SVG object>"
      ]
     },
     "metadata": {},
     "output_type": "display_data"
    }
   ],
   "source": [
    "lf = pl.scan_parquet(os.path.join(INPUT_DATA_PATH,'yellow_tripdata_*.parquet'))\n",
    "lf.select(pl.col('trip_distance')).show_graph()"
   ]
  },
  {
   "cell_type": "code",
   "execution_count": 5,
   "id": "bb1d2586-20bf-46c5-a4c1-35fa71e5ad19",
   "metadata": {},
   "outputs": [
    {
     "data": {
      "image/svg+xml": [
       "<svg xmlns=\"http://www.w3.org/2000/svg\" xmlns:xlink=\"http://www.w3.org/1999/xlink\" width=\"483pt\" height=\"66pt\" viewBox=\"0.00 0.00 483.00 65.50\">\n",
       "<g id=\"graph0\" class=\"graph\" transform=\"scale(1 1) rotate(0) translate(4 61.5)\">\n",
       "<title>polars_query</title>\n",
       "<polygon fill=\"white\" stroke=\"none\" points=\"-4,4 -4,-61.5 479,-61.5 479,4 -4,4\"/>\n",
       "<!-- p1 -->\n",
       "<g id=\"node1\" class=\"node\">\n",
       "<title>p1</title>\n",
       "<polygon fill=\"none\" stroke=\"black\" points=\"475,-57.5 0,-57.5 0,0 475,0 475,-57.5\"/>\n",
       "<text text-anchor=\"middle\" x=\"237.5\" y=\"-40.2\" font-family=\"Times,serif\" font-size=\"14.00\">Parquet SCAN [../../data/taxi/yellow_tripdata_2022-01.parquet, ... 11 other sources]</text>\n",
       "<text text-anchor=\"middle\" x=\"237.5\" y=\"-23.7\" font-family=\"Times,serif\" font-size=\"14.00\">π */19;</text>\n",
       "<text text-anchor=\"middle\" x=\"237.5\" y=\"-7.2\" font-family=\"Times,serif\" font-size=\"14.00\">σ [(col(&quot;trip_distance&quot;)) &gt; (10.0)]</text>\n",
       "</g>\n",
       "</g>\n",
       "</svg>"
      ],
      "text/plain": [
       "<IPython.core.display.SVG object>"
      ]
     },
     "metadata": {},
     "output_type": "display_data"
    }
   ],
   "source": [
    "lf.filter(pl.col('trip_distance') > 10).show_graph()"
   ]
  },
  {
   "cell_type": "code",
   "execution_count": 6,
   "id": "9566e4ed-619e-48a5-95f0-93afc3cad806",
   "metadata": {},
   "outputs": [
    {
     "name": "stderr",
     "output_type": "stream",
     "text": [
      "/var/folders/hm/1554tfbj14b8r1wpst4sml2h0000gn/T/ipykernel_58610/1686404431.py:1: DeprecationWarning: `LazyFrame.fetch` is deprecated. `LazyFrame.fetch` is deprecated; use `LazyFrame.collect` instead, in conjunction with a call to `head`.\n",
      "  lf.fetch(n_rows=2)\n"
     ]
    },
    {
     "data": {
      "text/html": [
       "<div><style>\n",
       ".dataframe > thead > tr,\n",
       ".dataframe > tbody > tr {\n",
       "  text-align: right;\n",
       "  white-space: pre-wrap;\n",
       "}\n",
       "</style>\n",
       "<small>shape: (2, 19)</small><table border=\"1\" class=\"dataframe\"><thead><tr><th>VendorID</th><th>tpep_pickup_datetime</th><th>tpep_dropoff_datetime</th><th>passenger_count</th><th>trip_distance</th><th>RatecodeID</th><th>store_and_fwd_flag</th><th>PULocationID</th><th>DOLocationID</th><th>payment_type</th><th>fare_amount</th><th>extra</th><th>mta_tax</th><th>tip_amount</th><th>tolls_amount</th><th>improvement_surcharge</th><th>total_amount</th><th>congestion_surcharge</th><th>airport_fee</th></tr><tr><td>i64</td><td>datetime[ns]</td><td>datetime[ns]</td><td>f64</td><td>f64</td><td>f64</td><td>str</td><td>i64</td><td>i64</td><td>i64</td><td>f64</td><td>f64</td><td>f64</td><td>f64</td><td>f64</td><td>f64</td><td>f64</td><td>f64</td><td>f64</td></tr></thead><tbody><tr><td>1</td><td>2022-01-01 00:35:40</td><td>2022-01-01 00:53:29</td><td>2.0</td><td>3.8</td><td>1.0</td><td>&quot;N&quot;</td><td>142</td><td>236</td><td>1</td><td>14.5</td><td>3.0</td><td>0.5</td><td>3.65</td><td>0.0</td><td>0.3</td><td>21.95</td><td>2.5</td><td>0.0</td></tr><tr><td>1</td><td>2022-01-01 00:33:43</td><td>2022-01-01 00:42:07</td><td>1.0</td><td>2.1</td><td>1.0</td><td>&quot;N&quot;</td><td>236</td><td>42</td><td>1</td><td>8.0</td><td>0.5</td><td>0.5</td><td>4.0</td><td>0.0</td><td>0.3</td><td>13.3</td><td>0.0</td><td>0.0</td></tr></tbody></table></div>"
      ],
      "text/plain": [
       "shape: (2, 19)\n",
       "┌──────────┬───────────┬───────────┬───────────┬───┬───────────┬───────────┬───────────┬───────────┐\n",
       "│ VendorID ┆ tpep_pick ┆ tpep_drop ┆ passenger ┆ … ┆ improveme ┆ total_amo ┆ congestio ┆ airport_f │\n",
       "│ ---      ┆ up_dateti ┆ off_datet ┆ _count    ┆   ┆ nt_surcha ┆ unt       ┆ n_surchar ┆ ee        │\n",
       "│ i64      ┆ me        ┆ ime       ┆ ---       ┆   ┆ rge       ┆ ---       ┆ ge        ┆ ---       │\n",
       "│          ┆ ---       ┆ ---       ┆ f64       ┆   ┆ ---       ┆ f64       ┆ ---       ┆ f64       │\n",
       "│          ┆ datetime[ ┆ datetime[ ┆           ┆   ┆ f64       ┆           ┆ f64       ┆           │\n",
       "│          ┆ ns]       ┆ ns]       ┆           ┆   ┆           ┆           ┆           ┆           │\n",
       "╞══════════╪═══════════╪═══════════╪═══════════╪═══╪═══════════╪═══════════╪═══════════╪═══════════╡\n",
       "│ 1        ┆ 2022-01-0 ┆ 2022-01-0 ┆ 2.0       ┆ … ┆ 0.3       ┆ 21.95     ┆ 2.5       ┆ 0.0       │\n",
       "│          ┆ 1         ┆ 1         ┆           ┆   ┆           ┆           ┆           ┆           │\n",
       "│          ┆ 00:35:40  ┆ 00:53:29  ┆           ┆   ┆           ┆           ┆           ┆           │\n",
       "│ 1        ┆ 2022-01-0 ┆ 2022-01-0 ┆ 1.0       ┆ … ┆ 0.3       ┆ 13.3      ┆ 0.0       ┆ 0.0       │\n",
       "│          ┆ 1         ┆ 1         ┆           ┆   ┆           ┆           ┆           ┆           │\n",
       "│          ┆ 00:33:43  ┆ 00:42:07  ┆           ┆   ┆           ┆           ┆           ┆           │\n",
       "└──────────┴───────────┴───────────┴───────────┴───┴───────────┴───────────┴───────────┴───────────┘"
      ]
     },
     "execution_count": 6,
     "metadata": {},
     "output_type": "execute_result"
    }
   ],
   "source": [
    "lf.fetch(n_rows=2)"
   ]
  },
  {
   "cell_type": "markdown",
   "id": "71093254-56d8-4ce6-a9c3-50ad5c67b06f",
   "metadata": {},
   "source": [
    "`fetch()`と似ているものに`head()`がある。  \n",
    "`head()`では完全に計算を実行して結果を出力するが、`fetch()`は最初の行のみを対象にロードして結果の一部を出力する。  \n",
    "そのため、`fetch(2)`と`head(2)`では得られる結果が同じでも、処理時間では`fetch()`の方が早い。  \n",
    "ただし、polarsのバージョンアップに伴って、`fetch()`はなくなるらしい（上記のwarningより）"
   ]
  },
  {
   "cell_type": "markdown",
   "id": "98f44031-9b33-482d-8c5f-86a28adac977",
   "metadata": {
    "jp-MarkdownHeadingCollapsed": true
   },
   "source": [
    "## LazyFrameの最適化"
   ]
  },
  {
   "cell_type": "code",
   "execution_count": 7,
   "id": "cdea30a4-0939-444b-9318-37f0a094dcc9",
   "metadata": {},
   "outputs": [],
   "source": [
    "lazy_df = pl.LazyFrame({\n",
    "    'foo': [1, 2, 3, 4, 5],\n",
    "    'bar': [6, 7, 8, 9, 10]\n",
    "})"
   ]
  },
  {
   "cell_type": "code",
   "execution_count": 8,
   "id": "fcb8c686-7f08-40e4-b67e-cda4f9e29861",
   "metadata": {},
   "outputs": [
    {
     "data": {
      "image/svg+xml": [
       "<svg xmlns=\"http://www.w3.org/2000/svg\" xmlns:xlink=\"http://www.w3.org/1999/xlink\" width=\"506pt\" height=\"282pt\" viewBox=\"0.00 0.00 506.25 281.50\">\n",
       "<g id=\"graph0\" class=\"graph\" transform=\"scale(1 1) rotate(0) translate(4 277.5)\">\n",
       "<title>polars_query</title>\n",
       "<polygon fill=\"white\" stroke=\"none\" points=\"-4,4 -4,-277.5 502.25,-277.5 502.25,4 -4,4\"/>\n",
       "<!-- p1 -->\n",
       "<g id=\"node1\" class=\"node\">\n",
       "<title>p1</title>\n",
       "<polygon fill=\"none\" stroke=\"black\" points=\"278.88,-273.5 219.38,-273.5 219.38,-237.5 278.88,-237.5 278.88,-273.5\"/>\n",
       "<text text-anchor=\"middle\" x=\"249.12\" y=\"-250.45\" font-family=\"Times,serif\" font-size=\"14.00\">UNION</text>\n",
       "</g>\n",
       "<!-- p2 -->\n",
       "<g id=\"node2\" class=\"node\">\n",
       "<title>p2</title>\n",
       "<polygon fill=\"none\" stroke=\"black\" points=\"240.25,-201.5 0,-201.5 0,-165.5 240.25,-165.5 240.25,-201.5\"/>\n",
       "<text text-anchor=\"middle\" x=\"120.12\" y=\"-178.45\" font-family=\"Times,serif\" font-size=\"14.00\">FILTER BY [([(col(&quot;foo&quot;)) * (2)]) &gt; (4)]</text>\n",
       "</g>\n",
       "<!-- p1&#45;&#45;p2 -->\n",
       "<g id=\"edge1\" class=\"edge\">\n",
       "<title>p1--p2</title>\n",
       "<path fill=\"none\" stroke=\"black\" d=\"M218.88,-238.09C198.77,-227.18 172.41,-212.87 151.98,-201.79\"/>\n",
       "</g>\n",
       "<!-- p5 -->\n",
       "<g id=\"node5\" class=\"node\">\n",
       "<title>p5</title>\n",
       "<polygon fill=\"none\" stroke=\"black\" points=\"498.25,-201.5 258,-201.5 258,-165.5 498.25,-165.5 498.25,-201.5\"/>\n",
       "<text text-anchor=\"middle\" x=\"378.12\" y=\"-178.45\" font-family=\"Times,serif\" font-size=\"14.00\">FILTER BY [([(col(&quot;foo&quot;)) * (2)]) &lt; (8)]</text>\n",
       "</g>\n",
       "<!-- p1&#45;&#45;p5 -->\n",
       "<g id=\"edge4\" class=\"edge\">\n",
       "<title>p1--p5</title>\n",
       "<path fill=\"none\" stroke=\"black\" d=\"M279.37,-238.09C299.48,-227.18 325.84,-212.87 346.27,-201.79\"/>\n",
       "</g>\n",
       "<!-- p3 -->\n",
       "<g id=\"node3\" class=\"node\">\n",
       "<title>p3</title>\n",
       "<polygon fill=\"none\" stroke=\"black\" points=\"239.5,-129.5 0.75,-129.5 0.75,-93.5 239.5,-93.5 239.5,-129.5\"/>\n",
       "<text text-anchor=\"middle\" x=\"120.12\" y=\"-106.45\" font-family=\"Times,serif\" font-size=\"14.00\">WITH COLUMNS [[(col(&quot;foo&quot;)) * (2)]]</text>\n",
       "</g>\n",
       "<!-- p2&#45;&#45;p3 -->\n",
       "<g id=\"edge2\" class=\"edge\">\n",
       "<title>p2--p3</title>\n",
       "<path fill=\"none\" stroke=\"black\" d=\"M120.12,-165.2C120.12,-154.35 120.12,-140.42 120.12,-129.6\"/>\n",
       "</g>\n",
       "<!-- p4 -->\n",
       "<g id=\"node4\" class=\"node\">\n",
       "<title>p4</title>\n",
       "<polygon fill=\"none\" stroke=\"black\" points=\"149.88,-57.5 90.38,-57.5 90.38,0 149.88,0 149.88,-57.5\"/>\n",
       "<text text-anchor=\"middle\" x=\"120.12\" y=\"-40.2\" font-family=\"Times,serif\" font-size=\"14.00\">TABLE</text>\n",
       "<text text-anchor=\"middle\" x=\"120.12\" y=\"-23.7\" font-family=\"Times,serif\" font-size=\"14.00\">π */2;</text>\n",
       "<text text-anchor=\"middle\" x=\"120.12\" y=\"-7.2\" font-family=\"Times,serif\" font-size=\"14.00\">σ None</text>\n",
       "</g>\n",
       "<!-- p3&#45;&#45;p4 -->\n",
       "<g id=\"edge3\" class=\"edge\">\n",
       "<title>p3--p4</title>\n",
       "<path fill=\"none\" stroke=\"black\" d=\"M120.12,-93.38C120.12,-83.1 120.12,-69.77 120.12,-57.97\"/>\n",
       "</g>\n",
       "<!-- p6 -->\n",
       "<g id=\"node6\" class=\"node\">\n",
       "<title>p6</title>\n",
       "<polygon fill=\"none\" stroke=\"black\" points=\"497.5,-129.5 258.75,-129.5 258.75,-93.5 497.5,-93.5 497.5,-129.5\"/>\n",
       "<text text-anchor=\"middle\" x=\"378.12\" y=\"-106.45\" font-family=\"Times,serif\" font-size=\"14.00\">WITH COLUMNS [[(col(&quot;foo&quot;)) * (2)]]</text>\n",
       "</g>\n",
       "<!-- p5&#45;&#45;p6 -->\n",
       "<g id=\"edge5\" class=\"edge\">\n",
       "<title>p5--p6</title>\n",
       "<path fill=\"none\" stroke=\"black\" d=\"M378.12,-165.2C378.12,-154.35 378.12,-140.42 378.12,-129.6\"/>\n",
       "</g>\n",
       "<!-- p7 -->\n",
       "<g id=\"node7\" class=\"node\">\n",
       "<title>p7</title>\n",
       "<polygon fill=\"none\" stroke=\"black\" points=\"407.88,-57.5 348.38,-57.5 348.38,0 407.88,0 407.88,-57.5\"/>\n",
       "<text text-anchor=\"middle\" x=\"378.12\" y=\"-40.2\" font-family=\"Times,serif\" font-size=\"14.00\">TABLE</text>\n",
       "<text text-anchor=\"middle\" x=\"378.12\" y=\"-23.7\" font-family=\"Times,serif\" font-size=\"14.00\">π */2;</text>\n",
       "<text text-anchor=\"middle\" x=\"378.12\" y=\"-7.2\" font-family=\"Times,serif\" font-size=\"14.00\">σ None</text>\n",
       "</g>\n",
       "<!-- p6&#45;&#45;p7 -->\n",
       "<g id=\"edge6\" class=\"edge\">\n",
       "<title>p6--p7</title>\n",
       "<path fill=\"none\" stroke=\"black\" d=\"M378.12,-93.38C378.12,-83.1 378.12,-69.77 378.12,-57.97\"/>\n",
       "</g>\n",
       "</g>\n",
       "</svg>"
      ],
      "text/plain": [
       "<IPython.core.display.SVG object>"
      ]
     },
     "metadata": {},
     "output_type": "display_data"
    },
    {
     "data": {
      "image/svg+xml": [
       "<svg xmlns=\"http://www.w3.org/2000/svg\" xmlns:xlink=\"http://www.w3.org/1999/xlink\" width=\"506pt\" height=\"282pt\" viewBox=\"0.00 0.00 506.25 281.50\">\n",
       "<g id=\"graph0\" class=\"graph\" transform=\"scale(1 1) rotate(0) translate(4 277.5)\">\n",
       "<title>polars_query</title>\n",
       "<polygon fill=\"white\" stroke=\"none\" points=\"-4,4 -4,-277.5 502.25,-277.5 502.25,4 -4,4\"/>\n",
       "<!-- p1 -->\n",
       "<g id=\"node1\" class=\"node\">\n",
       "<title>p1</title>\n",
       "<polygon fill=\"none\" stroke=\"black\" points=\"278.88,-273.5 219.38,-273.5 219.38,-237.5 278.88,-237.5 278.88,-273.5\"/>\n",
       "<text text-anchor=\"middle\" x=\"249.12\" y=\"-250.45\" font-family=\"Times,serif\" font-size=\"14.00\">UNION</text>\n",
       "</g>\n",
       "<!-- p2 -->\n",
       "<g id=\"node2\" class=\"node\">\n",
       "<title>p2</title>\n",
       "<polygon fill=\"none\" stroke=\"black\" points=\"240.25,-201.5 0,-201.5 0,-165.5 240.25,-165.5 240.25,-201.5\"/>\n",
       "<text text-anchor=\"middle\" x=\"120.12\" y=\"-178.45\" font-family=\"Times,serif\" font-size=\"14.00\">FILTER BY [([(col(&quot;foo&quot;)) * (2)]) &gt; (4)]</text>\n",
       "</g>\n",
       "<!-- p1&#45;&#45;p2 -->\n",
       "<g id=\"edge1\" class=\"edge\">\n",
       "<title>p1--p2</title>\n",
       "<path fill=\"none\" stroke=\"black\" d=\"M218.88,-238.09C198.77,-227.18 172.41,-212.87 151.98,-201.79\"/>\n",
       "</g>\n",
       "<!-- p5 -->\n",
       "<g id=\"node5\" class=\"node\">\n",
       "<title>p5</title>\n",
       "<polygon fill=\"none\" stroke=\"black\" points=\"498.25,-201.5 258,-201.5 258,-165.5 498.25,-165.5 498.25,-201.5\"/>\n",
       "<text text-anchor=\"middle\" x=\"378.12\" y=\"-178.45\" font-family=\"Times,serif\" font-size=\"14.00\">FILTER BY [([(col(&quot;foo&quot;)) * (2)]) &lt; (8)]</text>\n",
       "</g>\n",
       "<!-- p1&#45;&#45;p5 -->\n",
       "<g id=\"edge4\" class=\"edge\">\n",
       "<title>p1--p5</title>\n",
       "<path fill=\"none\" stroke=\"black\" d=\"M279.37,-238.09C299.48,-227.18 325.84,-212.87 346.27,-201.79\"/>\n",
       "</g>\n",
       "<!-- p3 -->\n",
       "<g id=\"node3\" class=\"node\">\n",
       "<title>p3</title>\n",
       "<polygon fill=\"none\" stroke=\"black\" points=\"239.5,-129.5 0.75,-129.5 0.75,-93.5 239.5,-93.5 239.5,-129.5\"/>\n",
       "<text text-anchor=\"middle\" x=\"120.12\" y=\"-106.45\" font-family=\"Times,serif\" font-size=\"14.00\">WITH COLUMNS [[(col(&quot;foo&quot;)) * (2)]]</text>\n",
       "</g>\n",
       "<!-- p2&#45;&#45;p3 -->\n",
       "<g id=\"edge2\" class=\"edge\">\n",
       "<title>p2--p3</title>\n",
       "<path fill=\"none\" stroke=\"black\" d=\"M120.12,-165.2C120.12,-154.35 120.12,-140.42 120.12,-129.6\"/>\n",
       "</g>\n",
       "<!-- p4 -->\n",
       "<g id=\"node4\" class=\"node\">\n",
       "<title>p4</title>\n",
       "<polygon fill=\"none\" stroke=\"black\" points=\"149.88,-57.5 90.38,-57.5 90.38,0 149.88,0 149.88,-57.5\"/>\n",
       "<text text-anchor=\"middle\" x=\"120.12\" y=\"-40.2\" font-family=\"Times,serif\" font-size=\"14.00\">TABLE</text>\n",
       "<text text-anchor=\"middle\" x=\"120.12\" y=\"-23.7\" font-family=\"Times,serif\" font-size=\"14.00\">π */2;</text>\n",
       "<text text-anchor=\"middle\" x=\"120.12\" y=\"-7.2\" font-family=\"Times,serif\" font-size=\"14.00\">σ None</text>\n",
       "</g>\n",
       "<!-- p3&#45;&#45;p4 -->\n",
       "<g id=\"edge3\" class=\"edge\">\n",
       "<title>p3--p4</title>\n",
       "<path fill=\"none\" stroke=\"black\" d=\"M120.12,-93.38C120.12,-83.1 120.12,-69.77 120.12,-57.97\"/>\n",
       "</g>\n",
       "<!-- p6 -->\n",
       "<g id=\"node6\" class=\"node\">\n",
       "<title>p6</title>\n",
       "<polygon fill=\"none\" stroke=\"black\" points=\"497.5,-129.5 258.75,-129.5 258.75,-93.5 497.5,-93.5 497.5,-129.5\"/>\n",
       "<text text-anchor=\"middle\" x=\"378.12\" y=\"-106.45\" font-family=\"Times,serif\" font-size=\"14.00\">WITH COLUMNS [[(col(&quot;foo&quot;)) * (2)]]</text>\n",
       "</g>\n",
       "<!-- p5&#45;&#45;p6 -->\n",
       "<g id=\"edge5\" class=\"edge\">\n",
       "<title>p5--p6</title>\n",
       "<path fill=\"none\" stroke=\"black\" d=\"M378.12,-165.2C378.12,-154.35 378.12,-140.42 378.12,-129.6\"/>\n",
       "</g>\n",
       "<!-- p7 -->\n",
       "<g id=\"node7\" class=\"node\">\n",
       "<title>p7</title>\n",
       "<polygon fill=\"none\" stroke=\"black\" points=\"407.88,-57.5 348.38,-57.5 348.38,0 407.88,0 407.88,-57.5\"/>\n",
       "<text text-anchor=\"middle\" x=\"378.12\" y=\"-40.2\" font-family=\"Times,serif\" font-size=\"14.00\">TABLE</text>\n",
       "<text text-anchor=\"middle\" x=\"378.12\" y=\"-23.7\" font-family=\"Times,serif\" font-size=\"14.00\">π */2;</text>\n",
       "<text text-anchor=\"middle\" x=\"378.12\" y=\"-7.2\" font-family=\"Times,serif\" font-size=\"14.00\">σ None</text>\n",
       "</g>\n",
       "<!-- p6&#45;&#45;p7 -->\n",
       "<g id=\"edge6\" class=\"edge\">\n",
       "<title>p6--p7</title>\n",
       "<path fill=\"none\" stroke=\"black\" d=\"M378.12,-93.38C378.12,-83.1 378.12,-69.77 378.12,-57.97\"/>\n",
       "</g>\n",
       "</g>\n",
       "</svg>"
      ],
      "text/plain": [
       "<IPython.core.display.SVG object>"
      ]
     },
     "metadata": {},
     "output_type": "display_data"
    }
   ],
   "source": [
    "common_subplan = lazy_df.with_columns(pl.col('foo') * 2)\n",
    "\n",
    "# unittest\n",
    "expr1 = common_subplan.filter(pl.col('foo') * 2 > 4)\n",
    "expr2 = common_subplan.filter(pl.col('foo') * 2 < 8)\n",
    "\n",
    "result = pl.concat([expr1, expr2])\n",
    "\n",
    "result.show_graph(optimized=False)\n",
    "result.show_graph()"
   ]
  },
  {
   "cell_type": "code",
   "execution_count": 9,
   "id": "589068ad-e2d4-44a3-9165-9249cc748c9b",
   "metadata": {},
   "outputs": [
    {
     "name": "stdout",
     "output_type": "stream",
     "text": [
      "--------Version info---------\n",
      "Polars:              1.10.0\n",
      "Index type:          UInt32\n",
      "Platform:            macOS-14.6.1-arm64-arm-64bit\n",
      "Python:              3.12.3 (main, Apr 15 2024, 17:43:11) [Clang 17.0.6 ]\n",
      "LTS CPU:             False\n",
      "\n",
      "----Optional dependencies----\n",
      "adbc_driver_manager  <not installed>\n",
      "altair               <not installed>\n",
      "cloudpickle          <not installed>\n",
      "connectorx           <not installed>\n",
      "deltalake            <not installed>\n",
      "fastexcel            <not installed>\n",
      "fsspec               <not installed>\n",
      "gevent               <not installed>\n",
      "great_tables         <not installed>\n",
      "matplotlib           <not installed>\n",
      "nest_asyncio         1.6.0\n",
      "numpy                2.1.2\n",
      "openpyxl             <not installed>\n",
      "pandas               2.2.3\n",
      "pyarrow              <not installed>\n",
      "pydantic             <not installed>\n",
      "pyiceberg            <not installed>\n",
      "sqlalchemy           <not installed>\n",
      "torch                <not installed>\n",
      "xlsx2csv             <not installed>\n",
      "xlsxwriter           <not installed>\n"
     ]
    }
   ],
   "source": [
    "pl.show_versions()"
   ]
  },
  {
   "cell_type": "markdown",
   "id": "d072435e-c7b2-4277-bab8-27ba3c7025aa",
   "metadata": {},
   "source": [
    "今使っている`polars==1.10.0`だと、最適化の前後における変化がなかった。  \n",
    "今回の最適化では、LazyFrameの操作時に共通の処理がある場合は、それらが同一の処理として1つ以外削除されるということが期待された。つまり、共通の処理は最適化によって1つにまとめられるため、それを再利用することで効率的になるということ"
   ]
  },
  {
   "cell_type": "markdown",
   "id": "67ff4b76-9286-4e16-b6db-27423b44fd3f",
   "metadata": {},
   "source": [
    "eager APIは通常、内部でlazy APIを呼び出して即座に実行しているだけらしい。  \n",
    "場合によってはeager APIだけでも十分効果を発揮できる場面がありそう"
   ]
  },
  {
   "cell_type": "markdown",
   "id": "c1ca5414-9eba-4b51-a055-06c2fb5cb50f",
   "metadata": {
    "jp-MarkdownHeadingCollapsed": true
   },
   "source": [
    "## 最適化その2"
   ]
  },
  {
   "cell_type": "code",
   "execution_count": 10,
   "id": "2faa4ad7-a69d-4572-9b6a-492c8c2f8096",
   "metadata": {},
   "outputs": [
    {
     "ename": "SchemaError",
     "evalue": "invalid series dtype: expected `String`, got `i64`",
     "output_type": "error",
     "traceback": [
      "\u001b[0;31m---------------------------------------------------------------------------\u001b[0m",
      "\u001b[0;31mSchemaError\u001b[0m                               Traceback (most recent call last)",
      "Cell \u001b[0;32mIn[10], line 10\u001b[0m\n\u001b[1;32m      1\u001b[0m ldf \u001b[38;5;241m=\u001b[39m pl\u001b[38;5;241m.\u001b[39mLazyFrame({\n\u001b[1;32m      2\u001b[0m     \u001b[38;5;124m'\u001b[39m\u001b[38;5;124mname\u001b[39m\u001b[38;5;124m'\u001b[39m: [\u001b[38;5;124m'\u001b[39m\u001b[38;5;124mAlice\u001b[39m\u001b[38;5;124m'\u001b[39m, \u001b[38;5;124m'\u001b[39m\u001b[38;5;124mBob\u001b[39m\u001b[38;5;124m'\u001b[39m, \u001b[38;5;124m'\u001b[39m\u001b[38;5;124mCharlie\u001b[39m\u001b[38;5;124m'\u001b[39m],\n\u001b[1;32m      3\u001b[0m     \u001b[38;5;124m'\u001b[39m\u001b[38;5;124mage\u001b[39m\u001b[38;5;124m'\u001b[39m: [\u001b[38;5;241m25\u001b[39m, \u001b[38;5;241m30\u001b[39m, \u001b[38;5;241m35\u001b[39m]\n\u001b[1;32m      4\u001b[0m })\n\u001b[1;32m      6\u001b[0m erroneous_query \u001b[38;5;241m=\u001b[39m ldf\u001b[38;5;241m.\u001b[39mwith_columns(\n\u001b[1;32m      7\u001b[0m     pl\u001b[38;5;241m.\u001b[39mcol(\u001b[38;5;124m'\u001b[39m\u001b[38;5;124mage\u001b[39m\u001b[38;5;124m'\u001b[39m)\u001b[38;5;241m.\u001b[39mstr\u001b[38;5;241m.\u001b[39mslice(\u001b[38;5;241m1\u001b[39m, \u001b[38;5;241m3\u001b[39m)\u001b[38;5;241m.\u001b[39malias(\u001b[38;5;124m'\u001b[39m\u001b[38;5;124msliced_age\u001b[39m\u001b[38;5;124m'\u001b[39m)\n\u001b[1;32m      8\u001b[0m )\n\u001b[0;32m---> 10\u001b[0m result_df \u001b[38;5;241m=\u001b[39m \u001b[43merroneous_query\u001b[49m\u001b[38;5;241;43m.\u001b[39;49m\u001b[43mcollect\u001b[49m\u001b[43m(\u001b[49m\u001b[43m)\u001b[49m\n",
      "File \u001b[0;32m~/programing/python/oreilly/oreilly_polars/.venv/lib/python3.12/site-packages/polars/lazyframe/frame.py:2055\u001b[0m, in \u001b[0;36mLazyFrame.collect\u001b[0;34m(self, type_coercion, predicate_pushdown, projection_pushdown, simplify_expression, slice_pushdown, comm_subplan_elim, comm_subexpr_elim, cluster_with_columns, collapse_joins, no_optimization, streaming, engine, background, _eager, **_kwargs)\u001b[0m\n\u001b[1;32m   2053\u001b[0m \u001b[38;5;66;03m# Only for testing purposes\u001b[39;00m\n\u001b[1;32m   2054\u001b[0m callback \u001b[38;5;241m=\u001b[39m _kwargs\u001b[38;5;241m.\u001b[39mget(\u001b[38;5;124m\"\u001b[39m\u001b[38;5;124mpost_opt_callback\u001b[39m\u001b[38;5;124m\"\u001b[39m, callback)\n\u001b[0;32m-> 2055\u001b[0m \u001b[38;5;28;01mreturn\u001b[39;00m wrap_df(\u001b[43mldf\u001b[49m\u001b[38;5;241;43m.\u001b[39;49m\u001b[43mcollect\u001b[49m\u001b[43m(\u001b[49m\u001b[43mcallback\u001b[49m\u001b[43m)\u001b[49m)\n",
      "\u001b[0;31mSchemaError\u001b[0m: invalid series dtype: expected `String`, got `i64`"
     ]
    }
   ],
   "source": [
    "ldf = pl.LazyFrame({\n",
    "    'name': ['Alice', 'Bob', 'Charlie'],\n",
    "    'age': [25, 30, 35]\n",
    "})\n",
    "\n",
    "erroneous_query = ldf.with_columns(\n",
    "    pl.col('age').str.slice(1, 3).alias('sliced_age')\n",
    ")\n",
    "\n",
    "result_df = erroneous_query.collect()"
   ]
  },
  {
   "cell_type": "markdown",
   "id": "5252faa2-0dd9-4713-9598-7efcf6fa5be2",
   "metadata": {},
   "source": [
    "lazy APIによって実行直前にエラーを早期発見できる。  \n",
    "リアルタイムな処理だと、しばらく実行した後にエラーになることがあるため、より早くフィードバックが返ってくることで作業効率が上がる。"
   ]
  },
  {
   "cell_type": "markdown",
   "id": "fc1d5674-8bd3-4d59-af56-16f3f20086ba",
   "metadata": {
    "jp-MarkdownHeadingCollapsed": true
   },
   "source": [
    "## パフォーマンスの違い"
   ]
  },
  {
   "cell_type": "code",
   "execution_count": 11,
   "id": "08b4f32a-7a28-48c6-8b5a-68d0e05010db",
   "metadata": {},
   "outputs": [
    {
     "name": "stdout",
     "output_type": "stream",
     "text": [
      "CPU times: user 1.11 s, sys: 401 ms, total: 1.51 s\n",
      "Wall time: 416 ms\n"
     ]
    },
    {
     "data": {
      "text/html": [
       "<div><style>\n",
       ".dataframe > thead > tr,\n",
       ".dataframe > tbody > tr {\n",
       "  text-align: right;\n",
       "  white-space: pre-wrap;\n",
       "}\n",
       "</style>\n",
       "<small>shape: (3, 2)</small><table border=\"1\" class=\"dataframe\"><thead><tr><th>VendorID</th><th>income_per_distance</th></tr><tr><td>i64</td><td>f64</td></tr></thead><tbody><tr><td>1</td><td>6.434789</td></tr><tr><td>6</td><td>5.296493</td></tr><tr><td>5</td><td>4.731557</td></tr></tbody></table></div>"
      ],
      "text/plain": [
       "shape: (3, 2)\n",
       "┌──────────┬─────────────────────┐\n",
       "│ VendorID ┆ income_per_distance │\n",
       "│ ---      ┆ ---                 │\n",
       "│ i64      ┆ f64                 │\n",
       "╞══════════╪═════════════════════╡\n",
       "│ 1        ┆ 6.434789            │\n",
       "│ 6        ┆ 5.296493            │\n",
       "│ 5        ┆ 4.731557            │\n",
       "└──────────┴─────────────────────┘"
      ]
     },
     "execution_count": 11,
     "metadata": {},
     "output_type": "execute_result"
    }
   ],
   "source": [
    "%%time\n",
    "\n",
    "trips = pl.scan_parquet(os.path.join(INPUT_DATA_PATH,'yellow_tripdata_*.parquet'))\n",
    "sum_per_vendor = trips.group_by('VendorID').sum()\n",
    "income_per_distance_per_vendor = sum_per_vendor.select(\n",
    "    'VendorID',\n",
    "    income_per_distance=pl.col('total_amount') / pl.col('trip_distance')\n",
    ")\n",
    "\n",
    "top_three = income_per_distance_per_vendor.sort(\n",
    "    by='income_per_distance',\n",
    "    descending=True\n",
    ").head(3)\n",
    "\n",
    "top_three.collect()"
   ]
  },
  {
   "cell_type": "markdown",
   "id": "8a96b5c0-c950-45d4-81e2-a1ab34c8708c",
   "metadata": {},
   "source": [
    "DataFrameのときと比べて、totalの処理時間が約5倍速くなってる。これは確かにすごいな。  \n",
    "データが大きくなるほど、より顕著に体感できるはず"
   ]
  },
  {
   "cell_type": "code",
   "execution_count": 12,
   "id": "21774862-2834-4456-b024-c9e0fe259728",
   "metadata": {},
   "outputs": [
    {
     "name": "stdout",
     "output_type": "stream",
     "text": [
      "shape: (3, 2)\n",
      "┌──────┬──────┐\n",
      "│ col1 ┆ col2 │\n",
      "│ ---  ┆ ---  │\n",
      "│ i64  ┆ i64  │\n",
      "╞══════╪══════╡\n",
      "│ 1    ┆ 4    │\n",
      "│ 2    ┆ 5    │\n",
      "│ 3    ┆ 6    │\n",
      "└──────┴──────┘\n",
      "shape: (3, 2)\n",
      "┌──────┬──────┐\n",
      "│ col1 ┆ col2 │\n",
      "│ ---  ┆ ---  │\n",
      "│ i64  ┆ i64  │\n",
      "╞══════╪══════╡\n",
      "│ 2    ┆ 4    │\n",
      "│ 3    ┆ 5    │\n",
      "│ 4    ┆ 6    │\n",
      "└──────┴──────┘\n"
     ]
    }
   ],
   "source": [
    "lf = pl.LazyFrame({'col1': [1, 2, 3], 'col2': [4, 5, 6]})\n",
    "\n",
    "print(lf.collect())\n",
    "print(lf.with_columns(pl.col('col1')+1).collect())"
   ]
  },
  {
   "cell_type": "markdown",
   "id": "9e66c0f0-0195-40b2-8f27-7609e5aed54b",
   "metadata": {},
   "source": [
    "上記の例では、`collect()`を2回実行している。  \n",
    "こうなってしまうと、1回目の実行は最適化されて実行されるが、2回目の実行でももう一度最適化の処理が走ってしまう。  \n",
    "そうなると同じ計算処理も再度実行することになってしまう。なんでもかんでも`collect()`すれば良いってわけじゃないのか"
   ]
  },
  {
   "cell_type": "markdown",
   "id": "9b13678e-0acb-4844-a4d9-d733dcef1d74",
   "metadata": {
    "jp-MarkdownHeadingCollapsed": true
   },
   "source": [
    "## DataFrameとLazyFrameの結合"
   ]
  },
  {
   "cell_type": "code",
   "execution_count": 13,
   "id": "530f6648-967c-4d1c-b72a-ba575bab7031",
   "metadata": {},
   "outputs": [
    {
     "ename": "TypeError",
     "evalue": "expected `other` join table to be a LazyFrame, not a 'DataFrame'",
     "output_type": "error",
     "traceback": [
      "\u001b[0;31m---------------------------------------------------------------------------\u001b[0m",
      "\u001b[0;31mTypeError\u001b[0m                                 Traceback (most recent call last)",
      "Cell \u001b[0;32mIn[13], line 4\u001b[0m\n\u001b[1;32m      1\u001b[0m lf \u001b[38;5;241m=\u001b[39m pl\u001b[38;5;241m.\u001b[39mLazyFrame({\u001b[38;5;124m'\u001b[39m\u001b[38;5;124mid\u001b[39m\u001b[38;5;124m'\u001b[39m: [\u001b[38;5;241m1\u001b[39m, \u001b[38;5;241m2\u001b[39m, \u001b[38;5;241m3\u001b[39m], \u001b[38;5;124m'\u001b[39m\u001b[38;5;124mvalue1\u001b[39m\u001b[38;5;124m'\u001b[39m: [\u001b[38;5;241m4\u001b[39m, \u001b[38;5;241m5\u001b[39m, \u001b[38;5;241m6\u001b[39m]})\n\u001b[1;32m      2\u001b[0m df \u001b[38;5;241m=\u001b[39m pl\u001b[38;5;241m.\u001b[39mDataFrame({\u001b[38;5;124m'\u001b[39m\u001b[38;5;124mid\u001b[39m\u001b[38;5;124m'\u001b[39m: [\u001b[38;5;241m1\u001b[39m, \u001b[38;5;241m2\u001b[39m, \u001b[38;5;241m3\u001b[39m], \u001b[38;5;124m'\u001b[39m\u001b[38;5;124mvalue2\u001b[39m\u001b[38;5;124m'\u001b[39m: [\u001b[38;5;241m4\u001b[39m, \u001b[38;5;241m5\u001b[39m, \u001b[38;5;241m6\u001b[39m]})\n\u001b[0;32m----> 4\u001b[0m \u001b[43mlf\u001b[49m\u001b[38;5;241;43m.\u001b[39;49m\u001b[43mjoin\u001b[49m\u001b[43m(\u001b[49m\u001b[43mdf\u001b[49m\u001b[43m,\u001b[49m\u001b[43m \u001b[49m\u001b[43mon\u001b[49m\u001b[38;5;241;43m=\u001b[39;49m\u001b[38;5;124;43m'\u001b[39;49m\u001b[38;5;124;43mid\u001b[39;49m\u001b[38;5;124;43m'\u001b[39;49m\u001b[43m)\u001b[49m\n",
      "File \u001b[0;32m~/programing/python/oreilly/oreilly_polars/.venv/lib/python3.12/site-packages/polars/lazyframe/frame.py:4557\u001b[0m, in \u001b[0;36mLazyFrame.join\u001b[0;34m(self, other, on, how, left_on, right_on, suffix, validate, join_nulls, coalesce, allow_parallel, force_parallel)\u001b[0m\n\u001b[1;32m   4555\u001b[0m \u001b[38;5;28;01mif\u001b[39;00m \u001b[38;5;129;01mnot\u001b[39;00m \u001b[38;5;28misinstance\u001b[39m(other, LazyFrame):\n\u001b[1;32m   4556\u001b[0m     msg \u001b[38;5;241m=\u001b[39m \u001b[38;5;124mf\u001b[39m\u001b[38;5;124m\"\u001b[39m\u001b[38;5;124mexpected `other` join table to be a LazyFrame, not a \u001b[39m\u001b[38;5;132;01m{\u001b[39;00m\u001b[38;5;28mtype\u001b[39m(other)\u001b[38;5;241m.\u001b[39m\u001b[38;5;18m__name__\u001b[39m\u001b[38;5;132;01m!r}\u001b[39;00m\u001b[38;5;124m\"\u001b[39m\n\u001b[0;32m-> 4557\u001b[0m     \u001b[38;5;28;01mraise\u001b[39;00m \u001b[38;5;167;01mTypeError\u001b[39;00m(msg)\n\u001b[1;32m   4559\u001b[0m uses_on \u001b[38;5;241m=\u001b[39m on \u001b[38;5;129;01mis\u001b[39;00m \u001b[38;5;129;01mnot\u001b[39;00m \u001b[38;5;28;01mNone\u001b[39;00m\n\u001b[1;32m   4560\u001b[0m uses_left_on \u001b[38;5;241m=\u001b[39m left_on \u001b[38;5;129;01mis\u001b[39;00m \u001b[38;5;129;01mnot\u001b[39;00m \u001b[38;5;28;01mNone\u001b[39;00m\n",
      "\u001b[0;31mTypeError\u001b[0m: expected `other` join table to be a LazyFrame, not a 'DataFrame'"
     ]
    }
   ],
   "source": [
    "lf = pl.LazyFrame({'id': [1, 2, 3], 'value1': [4, 5, 6]})\n",
    "df = pl.DataFrame({'id': [1, 2, 3], 'value2': [4, 5, 6]})\n",
    "\n",
    "lf.join(df, on='id')"
   ]
  },
  {
   "cell_type": "code",
   "execution_count": 14,
   "id": "1f496e88-269d-44d8-ac32-1fd62cde3010",
   "metadata": {},
   "outputs": [
    {
     "data": {
      "text/html": [
       "<h4>NAIVE QUERY PLAN</h4><p>run <b>LazyFrame.show_graph()</b> to see the optimized version</p><?xml version=\"1.0\" encoding=\"UTF-8\" standalone=\"no\"?>\n",
       "<!DOCTYPE svg PUBLIC \"-//W3C//DTD SVG 1.1//EN\"\n",
       " \"http://www.w3.org/Graphics/SVG/1.1/DTD/svg11.dtd\">\n",
       "<!-- Generated by graphviz version 12.1.2 (20240928.0832)\n",
       " -->\n",
       "<!-- Title: polars_query Pages: 1 -->\n",
       "<svg width=\"146pt\" height=\"159pt\"\n",
       " viewBox=\"0.00 0.00 145.50 159.00\" xmlns=\"http://www.w3.org/2000/svg\" xmlns:xlink=\"http://www.w3.org/1999/xlink\">\n",
       "<g id=\"graph0\" class=\"graph\" transform=\"scale(1 1) rotate(0) translate(4 155)\">\n",
       "<title>polars_query</title>\n",
       "<polygon fill=\"white\" stroke=\"none\" points=\"-4,4 -4,-155 141.5,-155 141.5,4 -4,4\"/>\n",
       "<!-- p1 -->\n",
       "<g id=\"node1\" class=\"node\">\n",
       "<title>p1</title>\n",
       "<polygon fill=\"none\" stroke=\"black\" points=\"121.75,-151 15.75,-151 15.75,-93.5 121.75,-93.5 121.75,-151\"/>\n",
       "<text text-anchor=\"middle\" x=\"68.75\" y=\"-133.7\" font-family=\"Times,serif\" font-size=\"14.00\">JOIN INNER</text>\n",
       "<text text-anchor=\"middle\" x=\"68.75\" y=\"-117.2\" font-family=\"Times,serif\" font-size=\"14.00\">left: [col(&quot;id&quot;)];</text>\n",
       "<text text-anchor=\"middle\" x=\"68.75\" y=\"-100.7\" font-family=\"Times,serif\" font-size=\"14.00\">right: [col(&quot;id&quot;)]</text>\n",
       "</g>\n",
       "<!-- p2 -->\n",
       "<g id=\"node2\" class=\"node\">\n",
       "<title>p2</title>\n",
       "<polygon fill=\"none\" stroke=\"black\" points=\"59.5,-57.5 0,-57.5 0,0 59.5,0 59.5,-57.5\"/>\n",
       "<text text-anchor=\"middle\" x=\"29.75\" y=\"-40.2\" font-family=\"Times,serif\" font-size=\"14.00\">TABLE</text>\n",
       "<text text-anchor=\"middle\" x=\"29.75\" y=\"-23.7\" font-family=\"Times,serif\" font-size=\"14.00\">π */2;</text>\n",
       "<text text-anchor=\"middle\" x=\"29.75\" y=\"-7.2\" font-family=\"Times,serif\" font-size=\"14.00\">σ None</text>\n",
       "</g>\n",
       "<!-- p1&#45;&#45;p2 -->\n",
       "<g id=\"edge1\" class=\"edge\">\n",
       "<title>p1&#45;&#45;p2</title>\n",
       "<path fill=\"none\" stroke=\"black\" d=\"M56.84,-93.3C52.04,-82.05 46.52,-69.11 41.72,-57.84\"/>\n",
       "</g>\n",
       "<!-- p3 -->\n",
       "<g id=\"node3\" class=\"node\">\n",
       "<title>p3</title>\n",
       "<polygon fill=\"none\" stroke=\"black\" points=\"137.5,-57.5 78,-57.5 78,0 137.5,0 137.5,-57.5\"/>\n",
       "<text text-anchor=\"middle\" x=\"107.75\" y=\"-40.2\" font-family=\"Times,serif\" font-size=\"14.00\">TABLE</text>\n",
       "<text text-anchor=\"middle\" x=\"107.75\" y=\"-23.7\" font-family=\"Times,serif\" font-size=\"14.00\">π */2;</text>\n",
       "<text text-anchor=\"middle\" x=\"107.75\" y=\"-7.2\" font-family=\"Times,serif\" font-size=\"14.00\">σ None</text>\n",
       "</g>\n",
       "<!-- p1&#45;&#45;p3 -->\n",
       "<g id=\"edge2\" class=\"edge\">\n",
       "<title>p1&#45;&#45;p3</title>\n",
       "<path fill=\"none\" stroke=\"black\" d=\"M80.66,-93.3C85.46,-82.05 90.98,-69.11 95.78,-57.84\"/>\n",
       "</g>\n",
       "</g>\n",
       "</svg>\n"
      ],
      "text/plain": [
       "<LazyFrame at 0x160548DD0>"
      ]
     },
     "execution_count": 14,
     "metadata": {},
     "output_type": "execute_result"
    }
   ],
   "source": [
    "lf.join(df.lazy(), on='id')"
   ]
  },
  {
   "cell_type": "markdown",
   "id": "be0a2dfa-7ba0-440e-af0f-7881beb0328b",
   "metadata": {},
   "source": [
    "### LazyFrameのキャッシュ\n",
    "LazyFrameを途中で加工したいときは、`.collect().lazy()`という工夫を行うことで、キャッシュに計算処理が保持される。  \n",
    "これを活用することによって、不必要な計算処理が再度走ることがなくなる"
   ]
  },
  {
   "cell_type": "code",
   "execution_count": 15,
   "id": "11e635af-6f02-4887-b549-f628affcbb16",
   "metadata": {},
   "outputs": [
    {
     "name": "stdout",
     "output_type": "stream",
     "text": [
      "shape: (3, 2)\n",
      "┌──────┬──────┐\n",
      "│ col1 ┆ col2 │\n",
      "│ ---  ┆ ---  │\n",
      "│ i64  ┆ i64  │\n",
      "╞══════╪══════╡\n",
      "│ 1    ┆ 4    │\n",
      "│ 2    ┆ 5    │\n",
      "│ 3    ┆ 6    │\n",
      "└──────┴──────┘\n",
      "shape: (3, 2)\n",
      "┌──────┬──────┐\n",
      "│ col1 ┆ col2 │\n",
      "│ ---  ┆ ---  │\n",
      "│ i64  ┆ i64  │\n",
      "╞══════╪══════╡\n",
      "│ 2    ┆ 4    │\n",
      "│ 3    ┆ 5    │\n",
      "│ 4    ┆ 6    │\n",
      "└──────┴──────┘\n"
     ]
    }
   ],
   "source": [
    "lf = pl.LazyFrame({\"col1\": [1, 2, 3], \"col2\": [4, 5, 6]})\n",
    "\n",
    "lf = lf.collect().lazy()\n",
    "print(lf.collect())\n",
    "print(lf.with_columns(pl.col(\"col1\") + 1).collect())"
   ]
  },
  {
   "cell_type": "code",
   "execution_count": null,
   "id": "0c5f81cf-ffc3-417e-bf40-d4441981acfb",
   "metadata": {},
   "outputs": [],
   "source": []
  }
 ],
 "metadata": {
  "kernelspec": {
   "display_name": "Python 3 (ipykernel)",
   "language": "python",
   "name": "python3"
  },
  "language_info": {
   "codemirror_mode": {
    "name": "ipython",
    "version": 3
   },
   "file_extension": ".py",
   "mimetype": "text/x-python",
   "name": "python",
   "nbconvert_exporter": "python",
   "pygments_lexer": "ipython3",
   "version": "3.12.3"
  }
 },
 "nbformat": 4,
 "nbformat_minor": 5
}
