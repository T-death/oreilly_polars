{
 "cells": [
  {
   "cell_type": "markdown",
   "id": "46157f55-6f21-411e-af91-93f706f1e271",
   "metadata": {},
   "source": [
    "# チュートリアル"
   ]
  },
  {
   "cell_type": "code",
   "execution_count": 6,
   "id": "87942445-0fb9-4bf1-9129-42b8bfedf6d8",
   "metadata": {},
   "outputs": [],
   "source": [
    "import random\n",
    "import string\n",
    "\n",
    "import polars as pl"
   ]
  },
  {
   "cell_type": "code",
   "execution_count": 7,
   "id": "e025bdea-d32a-4c9f-afdb-50ed7831e4de",
   "metadata": {},
   "outputs": [],
   "source": [
    "def generate_random_string(length: int) -> str:\n",
    "    return \"\".join(random.choice(string.ascii_letters) for i in range(length))\n",
    "\n",
    "data = {}\n",
    "for i in range(1, 11):\n",
    "    data[f\"column_{i}\"] = [generate_random_string(50) for _ in range(5)]\n",
    "\n",
    "df = pl.DataFrame(data)"
   ]
  },
  {
   "cell_type": "code",
   "execution_count": 14,
   "id": "e4631e25-53dd-427b-8849-2c0c47872b5e",
   "metadata": {},
   "outputs": [
    {
     "data": {
      "text/html": [
       "<div><style>\n",
       ".dataframe > thead > tr,\n",
       ".dataframe > tbody > tr {\n",
       "  text-align: right;\n",
       "  white-space: pre-wrap;\n",
       "}\n",
       "</style>\n",
       "<small>shape: (5, 10)</small><table border=\"1\" class=\"dataframe\"><thead><tr><th>column_1</th><th>column_2</th><th>column_3</th><th>column_4</th><th>column_5</th><th>column_6</th><th>column_7</th><th>column_8</th><th>column_9</th><th>column_10</th></tr><tr><td>str</td><td>str</td><td>str</td><td>str</td><td>str</td><td>str</td><td>str</td><td>str</td><td>str</td><td>str</td></tr></thead><tbody><tr><td>&quot;FUTgufJrnXfEaBdpefhJSFwwtkpcTu…</td><td>&quot;WHuxZXjDjSECDShmNsleJOOtwunBjG…</td><td>&quot;uiJnlEUdkFCyOHkfGvjCqepNOZhBga…</td><td>&quot;rWKTgwlwzHbKOrkxCdsBGqakKvQNWz…</td><td>&quot;tlYFajNaYeTgEeUlEobJQUtqbLrdCC…</td><td>&quot;oKYIzwHBflpIHLqBqxzaYOnlugmjcE…</td><td>&quot;PYjaQWfVrxYGUxrOOFvgkRtSjoUsJk…</td><td>&quot;woJsonarDzHChwdcKUpxRfkwbmfeIy…</td><td>&quot;JHwIePuVOmsuqzILbriYKDZCGyEPhS…</td><td>&quot;OpPmgCYoTowKqEtBLMdvyLBasmgjDX…</td></tr><tr><td>&quot;pcxnnhYpmROzinKmRCxjZFyQkkoVRs…</td><td>&quot;rwPChdheGCrYCdzEuNtEJNFWbTIFcx…</td><td>&quot;HWuoZjTVZJqddUGCyeCRvlgEgxUAsX…</td><td>&quot;lAGCKLcfBWSpqKUsWTgKpQLkXNoJyS…</td><td>&quot;NYoXrLtqDkvjYGfrhoDFBGVvMQDoNo…</td><td>&quot;zWASCZtxHPknWkzSmtSRAlAHDfZwge…</td><td>&quot;biIIILTcdBOdIedAAPoYBTzFESRQWc…</td><td>&quot;NnXpxXUoEbmkOTEQjDyVReBsMedcwf…</td><td>&quot;QwcuBDGapwZsGUUZdpYVWIVcYyTRjm…</td><td>&quot;PtfGnQlmajcxhTnDCLvEEahfpJmQnJ…</td></tr><tr><td>&quot;sjQFflKStamVngIzHDkhFmvwLwQVfm…</td><td>&quot;wQXcFCCeeYOItzhrcRWaJXGCiCdgJK…</td><td>&quot;PGxRdStpLWtWhheMMWBzZyRuFIyxqo…</td><td>&quot;UKWFTOPqNomfnIyEDkdzglShetnVlO…</td><td>&quot;lLMjoEIBrwSFIXDSeOGhFvkCjBgHXq…</td><td>&quot;dJPkCewopsDhZDqfjGaFWtHPIKJfZJ…</td><td>&quot;ZjsnXlYrqSHSqSjbsHTvrLvFDWXuKl…</td><td>&quot;tWCcjLoOWmGUlDqkDAwNPQZDKlqKeL…</td><td>&quot;UdtQlziPIyDdNeZEolCIpAMzDYXLTf…</td><td>&quot;NPNWsjNvgBVhiHiHYaFjHwmiijIQGu…</td></tr><tr><td>&quot;TagROyJhktNRkBuMuoMnWcYoeGPsHY…</td><td>&quot;HzFOviCNsJvBadNDemGApMRMxnAZdG…</td><td>&quot;YdClUGHKhKTwLFKNohuMrInQhzwgfc…</td><td>&quot;GUZRWEjyKkaLKJmrqpUhsMEqBibHQI…</td><td>&quot;kBwkTnGOxrIlQFHEImYeYfhctLpagP…</td><td>&quot;rTqJexPtchEhhKGcyfvcpmMUXCtZIj…</td><td>&quot;EeTuLIeYdqjVOgyRyWfSBLIeWRXTrD…</td><td>&quot;IerbPQGxWwoPZjNsPXEcEXVCKNwYYY…</td><td>&quot;RWzhCevwHewGEgEEsPwfMqIKFLtplh…</td><td>&quot;rEJZdcPMHOqUFdkwKLSdyBqSyNdWeU…</td></tr><tr><td>&quot;NGnUOWEyJxpNWOjjFkTsqfNFnXRKyU…</td><td>&quot;PgIgoxpfSuInHMNwCTUmynzCEIAnJN…</td><td>&quot;iBFvejiqIPvyPIrvuOZXjFLgdTTDXP…</td><td>&quot;qqmyaWlrKwMDdIVIazYQBwKCnPqtTp…</td><td>&quot;cIVlZkVJKincMDXrjfWUBXkMgAzjlk…</td><td>&quot;FUJquFErMxloXEPLbPFqeRaPBBWdvw…</td><td>&quot;krKbQfKnfeQowqsjXvOhEyjbUDRXlO…</td><td>&quot;vMaPlKCkNaIJlAOhYKWmckUUbZiuym…</td><td>&quot;fZQNvevOADMhsKfWsTfvCpawFUrQxb…</td><td>&quot;GyfREMSRLWObTzEWJYIUJOIbYWRSoX…</td></tr></tbody></table></div>"
      ],
      "text/plain": [
       "shape: (5, 10)\n",
       "┌───────────┬───────────┬───────────┬───────────┬───┬───────────┬───────────┬───────────┬──────────┐\n",
       "│ column_1  ┆ column_2  ┆ column_3  ┆ column_4  ┆ … ┆ column_7  ┆ column_8  ┆ column_9  ┆ column_1 │\n",
       "│ ---       ┆ ---       ┆ ---       ┆ ---       ┆   ┆ ---       ┆ ---       ┆ ---       ┆ 0        │\n",
       "│ str       ┆ str       ┆ str       ┆ str       ┆   ┆ str       ┆ str       ┆ str       ┆ ---      │\n",
       "│           ┆           ┆           ┆           ┆   ┆           ┆           ┆           ┆ str      │\n",
       "╞═══════════╪═══════════╪═══════════╪═══════════╪═══╪═══════════╪═══════════╪═══════════╪══════════╡\n",
       "│ FUTgufJrn ┆ WHuxZXjDj ┆ uiJnlEUdk ┆ rWKTgwlwz ┆ … ┆ PYjaQWfVr ┆ woJsonarD ┆ JHwIePuVO ┆ OpPmgCYo │\n",
       "│ XfEaBdpef ┆ SECDShmNs ┆ FCyOHkfGv ┆ HbKOrkxCd ┆   ┆ xYGUxrOOF ┆ zHChwdcKU ┆ msuqzILbr ┆ TowKqEtB │\n",
       "│ hJSFwwtkp ┆ leJOOtwun ┆ jCqepNOZh ┆ sBGqakKvQ ┆   ┆ vgkRtSjoU ┆ pxRfkwbmf ┆ iYKDZCGyE ┆ LMdvyLBa │\n",
       "│ cTu…      ┆ BjG…      ┆ Bga…      ┆ NWz…      ┆   ┆ sJk…      ┆ eIy…      ┆ PhS…      ┆ smgjDX…  │\n",
       "│ pcxnnhYpm ┆ rwPChdheG ┆ HWuoZjTVZ ┆ lAGCKLcfB ┆ … ┆ biIIILTcd ┆ NnXpxXUoE ┆ QwcuBDGap ┆ PtfGnQlm │\n",
       "│ ROzinKmRC ┆ CrYCdzEuN ┆ JqddUGCye ┆ WSpqKUsWT ┆   ┆ BOdIedAAP ┆ bmkOTEQjD ┆ wZsGUUZdp ┆ ajcxhTnD │\n",
       "│ xjZFyQkko ┆ tEJNFWbTI ┆ CRvlgEgxU ┆ gKpQLkXNo ┆   ┆ oYBTzFESR ┆ yVReBsMed ┆ YVWIVcYyT ┆ CLvEEahf │\n",
       "│ VRs…      ┆ Fcx…      ┆ AsX…      ┆ JyS…      ┆   ┆ QWc…      ┆ cwf…      ┆ Rjm…      ┆ pJmQnJ…  │\n",
       "│ sjQFflKSt ┆ wQXcFCCee ┆ PGxRdStpL ┆ UKWFTOPqN ┆ … ┆ ZjsnXlYrq ┆ tWCcjLoOW ┆ UdtQlziPI ┆ NPNWsjNv │\n",
       "│ amVngIzHD ┆ YOItzhrcR ┆ WtWhheMMW ┆ omfnIyEDk ┆   ┆ SHSqSjbsH ┆ mGUlDqkDA ┆ yDdNeZEol ┆ gBVhiHiH │\n",
       "│ khFmvwLwQ ┆ WaJXGCiCd ┆ BzZyRuFIy ┆ dzglShetn ┆   ┆ TvrLvFDWX ┆ wNPQZDKlq ┆ CIpAMzDYX ┆ YaFjHwmi │\n",
       "│ Vfm…      ┆ gJK…      ┆ xqo…      ┆ VlO…      ┆   ┆ uKl…      ┆ KeL…      ┆ LTf…      ┆ ijIQGu…  │\n",
       "│ TagROyJhk ┆ HzFOviCNs ┆ YdClUGHKh ┆ GUZRWEjyK ┆ … ┆ EeTuLIeYd ┆ IerbPQGxW ┆ RWzhCevwH ┆ rEJZdcPM │\n",
       "│ tNRkBuMuo ┆ JvBadNDem ┆ KTwLFKNoh ┆ kaLKJmrqp ┆   ┆ qjVOgyRyW ┆ woPZjNsPX ┆ ewGEgEEsP ┆ HOqUFdkw │\n",
       "│ MnWcYoeGP ┆ GApMRMxnA ┆ uMrInQhzw ┆ UhsMEqBib ┆   ┆ fSBLIeWRX ┆ EcEXVCKNw ┆ wfMqIKFLt ┆ KLSdyBqS │\n",
       "│ sHY…      ┆ ZdG…      ┆ gfc…      ┆ HQI…      ┆   ┆ TrD…      ┆ YYY…      ┆ plh…      ┆ yNdWeU…  │\n",
       "│ NGnUOWEyJ ┆ PgIgoxpfS ┆ iBFvejiqI ┆ qqmyaWlrK ┆ … ┆ krKbQfKnf ┆ vMaPlKCkN ┆ fZQNvevOA ┆ GyfREMSR │\n",
       "│ xpNWOjjFk ┆ uInHMNwCT ┆ PvyPIrvuO ┆ wMDdIVIaz ┆   ┆ eQowqsjXv ┆ aIJlAOhYK ┆ DMhsKfWsT ┆ LWObTzEW │\n",
       "│ TsqfNFnXR ┆ UmynzCEIA ┆ ZXjFLgdTT ┆ YQBwKCnPq ┆   ┆ OhEyjbUDR ┆ WmckUUbZi ┆ fvCpawFUr ┆ JYIUJOIb │\n",
       "│ KyU…      ┆ nJN…      ┆ DXP…      ┆ tTp…      ┆   ┆ XlO…      ┆ uym…      ┆ Qxb…      ┆ YWRSoX…  │\n",
       "└───────────┴───────────┴───────────┴───────────┴───┴───────────┴───────────┴───────────┴──────────┘"
      ]
     },
     "execution_count": 14,
     "metadata": {},
     "output_type": "execute_result"
    }
   ],
   "source": [
    "df"
   ]
  },
  {
   "cell_type": "code",
   "execution_count": 15,
   "id": "7ee1ff0a-b7b8-4b17-a65e-05435bfec7e5",
   "metadata": {},
   "outputs": [
    {
     "name": "stdout",
     "output_type": "stream",
     "text": [
      "shape: (5, 10)\n",
      "┌───────────┬───────────┬───────────┬───────────┬───┬───────────┬───────────┬───────────┬──────────┐\n",
      "│ column_1  ┆ column_2  ┆ column_3  ┆ column_4  ┆ … ┆ column_7  ┆ column_8  ┆ column_9  ┆ column_1 │\n",
      "│ ---       ┆ ---       ┆ ---       ┆ ---       ┆   ┆ ---       ┆ ---       ┆ ---       ┆ 0        │\n",
      "│ str       ┆ str       ┆ str       ┆ str       ┆   ┆ str       ┆ str       ┆ str       ┆ ---      │\n",
      "│           ┆           ┆           ┆           ┆   ┆           ┆           ┆           ┆ str      │\n",
      "╞═══════════╪═══════════╪═══════════╪═══════════╪═══╪═══════════╪═══════════╪═══════════╪══════════╡\n",
      "│ FUTgufJrn ┆ WHuxZXjDj ┆ uiJnlEUdk ┆ rWKTgwlwz ┆ … ┆ PYjaQWfVr ┆ woJsonarD ┆ JHwIePuVO ┆ OpPmgCYo │\n",
      "│ XfEaBdpef ┆ SECDShmNs ┆ FCyOHkfGv ┆ HbKOrkxCd ┆   ┆ xYGUxrOOF ┆ zHChwdcKU ┆ msuqzILbr ┆ TowKqEtB │\n",
      "│ hJSFwwtkp ┆ leJOOtwun ┆ jCqepNOZh ┆ sBGqakKvQ ┆   ┆ vgkRtSjoU ┆ pxRfkwbmf ┆ iYKDZCGyE ┆ LMdvyLBa │\n",
      "│ cTu…      ┆ BjG…      ┆ Bga…      ┆ NWz…      ┆   ┆ sJk…      ┆ eIy…      ┆ PhS…      ┆ smgjDX…  │\n",
      "│ pcxnnhYpm ┆ rwPChdheG ┆ HWuoZjTVZ ┆ lAGCKLcfB ┆ … ┆ biIIILTcd ┆ NnXpxXUoE ┆ QwcuBDGap ┆ PtfGnQlm │\n",
      "│ ROzinKmRC ┆ CrYCdzEuN ┆ JqddUGCye ┆ WSpqKUsWT ┆   ┆ BOdIedAAP ┆ bmkOTEQjD ┆ wZsGUUZdp ┆ ajcxhTnD │\n",
      "│ xjZFyQkko ┆ tEJNFWbTI ┆ CRvlgEgxU ┆ gKpQLkXNo ┆   ┆ oYBTzFESR ┆ yVReBsMed ┆ YVWIVcYyT ┆ CLvEEahf │\n",
      "│ VRs…      ┆ Fcx…      ┆ AsX…      ┆ JyS…      ┆   ┆ QWc…      ┆ cwf…      ┆ Rjm…      ┆ pJmQnJ…  │\n",
      "│ sjQFflKSt ┆ wQXcFCCee ┆ PGxRdStpL ┆ UKWFTOPqN ┆ … ┆ ZjsnXlYrq ┆ tWCcjLoOW ┆ UdtQlziPI ┆ NPNWsjNv │\n",
      "│ amVngIzHD ┆ YOItzhrcR ┆ WtWhheMMW ┆ omfnIyEDk ┆   ┆ SHSqSjbsH ┆ mGUlDqkDA ┆ yDdNeZEol ┆ gBVhiHiH │\n",
      "│ khFmvwLwQ ┆ WaJXGCiCd ┆ BzZyRuFIy ┆ dzglShetn ┆   ┆ TvrLvFDWX ┆ wNPQZDKlq ┆ CIpAMzDYX ┆ YaFjHwmi │\n",
      "│ Vfm…      ┆ gJK…      ┆ xqo…      ┆ VlO…      ┆   ┆ uKl…      ┆ KeL…      ┆ LTf…      ┆ ijIQGu…  │\n",
      "│ TagROyJhk ┆ HzFOviCNs ┆ YdClUGHKh ┆ GUZRWEjyK ┆ … ┆ EeTuLIeYd ┆ IerbPQGxW ┆ RWzhCevwH ┆ rEJZdcPM │\n",
      "│ tNRkBuMuo ┆ JvBadNDem ┆ KTwLFKNoh ┆ kaLKJmrqp ┆   ┆ qjVOgyRyW ┆ woPZjNsPX ┆ ewGEgEEsP ┆ HOqUFdkw │\n",
      "│ MnWcYoeGP ┆ GApMRMxnA ┆ uMrInQhzw ┆ UhsMEqBib ┆   ┆ fSBLIeWRX ┆ EcEXVCKNw ┆ wfMqIKFLt ┆ KLSdyBqS │\n",
      "│ sHY…      ┆ ZdG…      ┆ gfc…      ┆ HQI…      ┆   ┆ TrD…      ┆ YYY…      ┆ plh…      ┆ yNdWeU…  │\n",
      "│ NGnUOWEyJ ┆ PgIgoxpfS ┆ iBFvejiqI ┆ qqmyaWlrK ┆ … ┆ krKbQfKnf ┆ vMaPlKCkN ┆ fZQNvevOA ┆ GyfREMSR │\n",
      "│ xpNWOjjFk ┆ uInHMNwCT ┆ PvyPIrvuO ┆ wMDdIVIaz ┆   ┆ eQowqsjXv ┆ aIJlAOhYK ┆ DMhsKfWsT ┆ LWObTzEW │\n",
      "│ TsqfNFnXR ┆ UmynzCEIA ┆ ZXjFLgdTT ┆ YQBwKCnPq ┆   ┆ OhEyjbUDR ┆ WmckUUbZi ┆ fvCpawFUr ┆ JYIUJOIb │\n",
      "│ KyU…      ┆ nJN…      ┆ DXP…      ┆ tTp…      ┆   ┆ XlO…      ┆ uym…      ┆ Qxb…      ┆ YWRSoX…  │\n",
      "└───────────┴───────────┴───────────┴───────────┴───┴───────────┴───────────┴───────────┴──────────┘\n"
     ]
    }
   ],
   "source": [
    "print(df)"
   ]
  },
  {
   "cell_type": "markdown",
   "id": "e5f65165-cc7d-474d-b967-83933ace9841",
   "metadata": {},
   "source": [
    "縦・横幅を調整するConfigを設定してみる"
   ]
  },
  {
   "cell_type": "code",
   "execution_count": 10,
   "id": "8829280d-34cb-4923-bf42-83dab37ad53e",
   "metadata": {},
   "outputs": [
    {
     "name": "stdout",
     "output_type": "stream",
     "text": [
      "shape: (5, 10)\n",
      "┌───────┬───────┬───────┬───────┬───────┬───────┬───────┬───────┬───────┬───────┐\n",
      "│ colu… ┆ colu… ┆ colu… ┆ colu… ┆ colu… ┆ colu… ┆ colu… ┆ colu… ┆ colu… ┆ colu… │\n",
      "│ ---   ┆ ---   ┆ ---   ┆ ---   ┆ ---   ┆ ---   ┆ ---   ┆ ---   ┆ ---   ┆ ---   │\n",
      "│ str   ┆ str   ┆ str   ┆ str   ┆ str   ┆ str   ┆ str   ┆ str   ┆ str   ┆ str   │\n",
      "╞═══════╪═══════╪═══════╪═══════╪═══════╪═══════╪═══════╪═══════╪═══════╪═══════╡\n",
      "│ FUTg… ┆ WHux… ┆ uiJn… ┆ rWKT… ┆ tlYF… ┆ oKYI… ┆ PYja… ┆ woJs… ┆ JHwI… ┆ OpPm… │\n",
      "│ pcxn… ┆ rwPC… ┆ HWuo… ┆ lAGC… ┆ NYoX… ┆ zWAS… ┆ biII… ┆ NnXp… ┆ Qwcu… ┆ PtfG… │\n",
      "│ sjQF… ┆ wQXc… ┆ PGxR… ┆ UKWF… ┆ lLMj… ┆ dJPk… ┆ Zjsn… ┆ tWCc… ┆ UdtQ… ┆ NPNW… │\n",
      "│ TagR… ┆ HzFO… ┆ YdCl… ┆ GUZR… ┆ kBwk… ┆ rTqJ… ┆ EeTu… ┆ Ierb… ┆ RWzh… ┆ rEJZ… │\n",
      "│ NGnU… ┆ PgIg… ┆ iBFv… ┆ qqmy… ┆ cIVl… ┆ FUJq… ┆ krKb… ┆ vMaP… ┆ fZQN… ┆ GyfR… │\n",
      "└───────┴───────┴───────┴───────┴───────┴───────┴───────┴───────┴───────┴───────┘\n"
     ]
    }
   ],
   "source": [
    "with pl.Config(tbl_cols=-1, fmt_str_lengths=4):\n",
    "    print(df)"
   ]
  },
  {
   "cell_type": "markdown",
   "id": "86d1cce9-b76e-4f84-962e-3a66a169d922",
   "metadata": {},
   "source": [
    "pandasだとDataFrameを描画するときは`print()`を使わないことで綺麗にテーブルが作れるが、polarsは`print()`でも良い感じにテーブルが出力されるのか"
   ]
  },
  {
   "cell_type": "code",
   "execution_count": 16,
   "id": "56b778a9-8683-4bb0-ae99-fc9176fb08f4",
   "metadata": {},
   "outputs": [],
   "source": [
    "@pl.Config(ascii_tables=True)\n",
    "def write_ascii_frame_to_stdout(df: pl.DataFrame) -> None:\n",
    "    print(str(df))"
   ]
  },
  {
   "cell_type": "markdown",
   "id": "d228fee5-b296-45c4-be0f-bb555045c9cb",
   "metadata": {},
   "source": [
    "polarsのデコレータを使うことで、特定の関数にのみConfigを設定することも可能"
   ]
  },
  {
   "cell_type": "code",
   "execution_count": null,
   "id": "0aadbebd-f1b0-4f44-8d70-09d7199c2745",
   "metadata": {},
   "outputs": [],
   "source": []
  }
 ],
 "metadata": {
  "kernelspec": {
   "display_name": "Python 3 (ipykernel)",
   "language": "python",
   "name": "python3"
  },
  "language_info": {
   "codemirror_mode": {
    "name": "ipython",
    "version": 3
   },
   "file_extension": ".py",
   "mimetype": "text/x-python",
   "name": "python",
   "nbconvert_exporter": "python",
   "pygments_lexer": "ipython3",
   "version": "3.12.3"
  }
 },
 "nbformat": 4,
 "nbformat_minor": 5
}
