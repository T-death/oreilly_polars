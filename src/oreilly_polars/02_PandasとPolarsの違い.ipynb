{
 "cells": [
  {
   "cell_type": "markdown",
   "id": "8e1ebed3-df5d-4738-943a-cae1b4ba6ade",
   "metadata": {},
   "source": [
    "# pandasからpolarsへ"
   ]
  },
  {
   "cell_type": "markdown",
   "id": "6e14a8a9-c3b7-4dc8-b861-1de71e32e0ca",
   "metadata": {},
   "source": [
    "サンプルとなるcsvファイルを作る。パスは以下  \n",
    "`../../data/animals.csv`"
   ]
  },
  {
   "cell_type": "code",
   "execution_count": 1,
   "id": "7f47d5a1-5ae0-4d0c-81c0-eb99d8b85e33",
   "metadata": {},
   "outputs": [],
   "source": [
    "import os\n",
    "\n",
    "import pandas as pd\n",
    "import polars as pl"
   ]
  },
  {
   "cell_type": "markdown",
   "id": "c4db786f-c4d1-474e-9fce-ea9321d8db5b",
   "metadata": {},
   "source": [
    "## 定数定義"
   ]
  },
  {
   "cell_type": "code",
   "execution_count": 2,
   "id": "9559b522-c974-48cd-8116-75c6b6d1553e",
   "metadata": {},
   "outputs": [],
   "source": [
    "INPUT_CSV_PATH = os.path.join('..','..','data','animals.csv')"
   ]
  },
  {
   "cell_type": "markdown",
   "id": "61251e0a-83f6-41e8-8dc1-518c6f1587ce",
   "metadata": {
    "jp-MarkdownHeadingCollapsed": true
   },
   "source": [
    "## DataFrameの表示の違い"
   ]
  },
  {
   "cell_type": "markdown",
   "id": "d630e9ee-0a76-4ebe-8cf3-19eca4158a38",
   "metadata": {},
   "source": [
    "pandas"
   ]
  },
  {
   "cell_type": "code",
   "execution_count": 3,
   "id": "8969bea4-328a-47af-a34b-5d22bdcd9a1d",
   "metadata": {},
   "outputs": [
    {
     "data": {
      "text/html": [
       "<div>\n",
       "<style scoped>\n",
       "    .dataframe tbody tr th:only-of-type {\n",
       "        vertical-align: middle;\n",
       "    }\n",
       "\n",
       "    .dataframe tbody tr th {\n",
       "        vertical-align: top;\n",
       "    }\n",
       "\n",
       "    .dataframe thead th {\n",
       "        text-align: right;\n",
       "    }\n",
       "</style>\n",
       "<table border=\"1\" class=\"dataframe\">\n",
       "  <thead>\n",
       "    <tr style=\"text-align: right;\">\n",
       "      <th></th>\n",
       "      <th>animal</th>\n",
       "      <th>class</th>\n",
       "      <th>habitat</th>\n",
       "      <th>diet</th>\n",
       "      <th>lifespan</th>\n",
       "      <th>status</th>\n",
       "      <th>features</th>\n",
       "      <th>weight</th>\n",
       "    </tr>\n",
       "  </thead>\n",
       "  <tbody>\n",
       "    <tr>\n",
       "      <th>0</th>\n",
       "      <td>dolphin</td>\n",
       "      <td>mammal</td>\n",
       "      <td>oceans/rivers</td>\n",
       "      <td>carnivore</td>\n",
       "      <td>40</td>\n",
       "      <td>least concern</td>\n",
       "      <td>high intelligence</td>\n",
       "      <td>150.0</td>\n",
       "    </tr>\n",
       "    <tr>\n",
       "      <th>1</th>\n",
       "      <td>duck</td>\n",
       "      <td>bird</td>\n",
       "      <td>wetlands</td>\n",
       "      <td>omnivore</td>\n",
       "      <td>8</td>\n",
       "      <td>least concern</td>\n",
       "      <td>waterproof feathers</td>\n",
       "      <td>3.0</td>\n",
       "    </tr>\n",
       "    <tr>\n",
       "      <th>2</th>\n",
       "      <td>elephant</td>\n",
       "      <td>mammal</td>\n",
       "      <td>savannah</td>\n",
       "      <td>herbivore</td>\n",
       "      <td>60</td>\n",
       "      <td>endangered</td>\n",
       "      <td>large ears and trunk</td>\n",
       "      <td>8000.0</td>\n",
       "    </tr>\n",
       "    <tr>\n",
       "      <th>3</th>\n",
       "      <td>ibis</td>\n",
       "      <td>bird</td>\n",
       "      <td>wetlands</td>\n",
       "      <td>omnivore</td>\n",
       "      <td>16</td>\n",
       "      <td>least concern</td>\n",
       "      <td>long, curved bill</td>\n",
       "      <td>1.0</td>\n",
       "    </tr>\n",
       "    <tr>\n",
       "      <th>4</th>\n",
       "      <td>impala</td>\n",
       "      <td>mammal</td>\n",
       "      <td>savannah</td>\n",
       "      <td>herbivore</td>\n",
       "      <td>12</td>\n",
       "      <td>least concern</td>\n",
       "      <td>long, curved horns</td>\n",
       "      <td>70.0</td>\n",
       "    </tr>\n",
       "    <tr>\n",
       "      <th>5</th>\n",
       "      <td>kudu</td>\n",
       "      <td>mammal</td>\n",
       "      <td>savannah</td>\n",
       "      <td>herbivore</td>\n",
       "      <td>15</td>\n",
       "      <td>least concern</td>\n",
       "      <td>spiral horns</td>\n",
       "      <td>250.0</td>\n",
       "    </tr>\n",
       "    <tr>\n",
       "      <th>6</th>\n",
       "      <td>narwhal</td>\n",
       "      <td>mammal</td>\n",
       "      <td>arctic ocean</td>\n",
       "      <td>carnivore</td>\n",
       "      <td>40</td>\n",
       "      <td>near threatened</td>\n",
       "      <td>long, spiral tusk</td>\n",
       "      <td>NaN</td>\n",
       "    </tr>\n",
       "    <tr>\n",
       "      <th>7</th>\n",
       "      <td>panda</td>\n",
       "      <td>mammal</td>\n",
       "      <td>forests</td>\n",
       "      <td>herbivore</td>\n",
       "      <td>20</td>\n",
       "      <td>vulnerable</td>\n",
       "      <td>black and white coloration</td>\n",
       "      <td>100.0</td>\n",
       "    </tr>\n",
       "    <tr>\n",
       "      <th>8</th>\n",
       "      <td>polar bear</td>\n",
       "      <td>mammal</td>\n",
       "      <td>arctic</td>\n",
       "      <td>carnivore</td>\n",
       "      <td>25</td>\n",
       "      <td>vulnerable</td>\n",
       "      <td>thick fur and blubber</td>\n",
       "      <td>720.0</td>\n",
       "    </tr>\n",
       "    <tr>\n",
       "      <th>9</th>\n",
       "      <td>ray</td>\n",
       "      <td>fish</td>\n",
       "      <td>oceans</td>\n",
       "      <td>carnivore</td>\n",
       "      <td>20</td>\n",
       "      <td>NaN</td>\n",
       "      <td>flat, disc-shaped body</td>\n",
       "      <td>90.0</td>\n",
       "    </tr>\n",
       "  </tbody>\n",
       "</table>\n",
       "</div>"
      ],
      "text/plain": [
       "       animal   class        habitat       diet  lifespan           status  \\\n",
       "0     dolphin  mammal  oceans/rivers  carnivore        40    least concern   \n",
       "1        duck    bird       wetlands   omnivore         8    least concern   \n",
       "2    elephant  mammal       savannah  herbivore        60       endangered   \n",
       "3        ibis    bird       wetlands   omnivore        16    least concern   \n",
       "4      impala  mammal       savannah  herbivore        12    least concern   \n",
       "5        kudu  mammal       savannah  herbivore        15    least concern   \n",
       "6     narwhal  mammal   arctic ocean  carnivore        40  near threatened   \n",
       "7       panda  mammal        forests  herbivore        20       vulnerable   \n",
       "8  polar bear  mammal         arctic  carnivore        25       vulnerable   \n",
       "9         ray    fish         oceans  carnivore        20              NaN   \n",
       "\n",
       "                     features  weight  \n",
       "0           high intelligence   150.0  \n",
       "1         waterproof feathers     3.0  \n",
       "2        large ears and trunk  8000.0  \n",
       "3           long, curved bill     1.0  \n",
       "4          long, curved horns    70.0  \n",
       "5                spiral horns   250.0  \n",
       "6           long, spiral tusk     NaN  \n",
       "7  black and white coloration   100.0  \n",
       "8       thick fur and blubber   720.0  \n",
       "9      flat, disc-shaped body    90.0  "
      ]
     },
     "execution_count": 3,
     "metadata": {},
     "output_type": "execute_result"
    }
   ],
   "source": [
    "animals_pd = pd.read_csv(INPUT_CSV_PATH)\n",
    "animals_pd"
   ]
  },
  {
   "cell_type": "markdown",
   "id": "b8995396-10ad-4664-b58b-ca90d7d9d8de",
   "metadata": {},
   "source": [
    "polars"
   ]
  },
  {
   "cell_type": "code",
   "execution_count": 4,
   "id": "94340a80-23cf-428e-9ad7-64dd7acdf50c",
   "metadata": {},
   "outputs": [
    {
     "data": {
      "text/html": [
       "<div><style>\n",
       ".dataframe > thead > tr,\n",
       ".dataframe > tbody > tr {\n",
       "  text-align: right;\n",
       "  white-space: pre-wrap;\n",
       "}\n",
       "</style>\n",
       "<small>shape: (10, 8)</small><table border=\"1\" class=\"dataframe\"><thead><tr><th>animal</th><th>class</th><th>habitat</th><th>diet</th><th>lifespan</th><th>status</th><th>features</th><th>weight</th></tr><tr><td>str</td><td>str</td><td>str</td><td>str</td><td>i64</td><td>str</td><td>str</td><td>i64</td></tr></thead><tbody><tr><td>&quot;dolphin&quot;</td><td>&quot;mammal&quot;</td><td>&quot;oceans/rivers&quot;</td><td>&quot;carnivore&quot;</td><td>40</td><td>&quot;least concern&quot;</td><td>&quot;high intelligence&quot;</td><td>150</td></tr><tr><td>&quot;duck&quot;</td><td>&quot;bird&quot;</td><td>&quot;wetlands&quot;</td><td>&quot;omnivore&quot;</td><td>8</td><td>&quot;least concern&quot;</td><td>&quot;waterproof feathers&quot;</td><td>3</td></tr><tr><td>&quot;elephant&quot;</td><td>&quot;mammal&quot;</td><td>&quot;savannah&quot;</td><td>&quot;herbivore&quot;</td><td>60</td><td>&quot;endangered&quot;</td><td>&quot;large ears and trunk&quot;</td><td>8000</td></tr><tr><td>&quot;ibis&quot;</td><td>&quot;bird&quot;</td><td>&quot;wetlands&quot;</td><td>&quot;omnivore&quot;</td><td>16</td><td>&quot;least concern&quot;</td><td>&quot;long, curved bill&quot;</td><td>1</td></tr><tr><td>&quot;impala&quot;</td><td>&quot;mammal&quot;</td><td>&quot;savannah&quot;</td><td>&quot;herbivore&quot;</td><td>12</td><td>&quot;least concern&quot;</td><td>&quot;long, curved horns&quot;</td><td>70</td></tr><tr><td>&quot;kudu&quot;</td><td>&quot;mammal&quot;</td><td>&quot;savannah&quot;</td><td>&quot;herbivore&quot;</td><td>15</td><td>&quot;least concern&quot;</td><td>&quot;spiral horns&quot;</td><td>250</td></tr><tr><td>&quot;narwhal&quot;</td><td>&quot;mammal&quot;</td><td>&quot;arctic ocean&quot;</td><td>&quot;carnivore&quot;</td><td>40</td><td>&quot;near threatened&quot;</td><td>&quot;long, spiral tusk&quot;</td><td>null</td></tr><tr><td>&quot;panda&quot;</td><td>&quot;mammal&quot;</td><td>&quot;forests&quot;</td><td>&quot;herbivore&quot;</td><td>20</td><td>&quot;vulnerable&quot;</td><td>&quot;black and white coloration&quot;</td><td>100</td></tr><tr><td>&quot;polar bear&quot;</td><td>&quot;mammal&quot;</td><td>&quot;arctic&quot;</td><td>&quot;carnivore&quot;</td><td>25</td><td>&quot;vulnerable&quot;</td><td>&quot;thick fur and blubber&quot;</td><td>720</td></tr><tr><td>&quot;ray&quot;</td><td>&quot;fish&quot;</td><td>&quot;oceans&quot;</td><td>&quot;carnivore&quot;</td><td>20</td><td>&quot;&quot;</td><td>&quot;flat, disc-shaped body&quot;</td><td>90</td></tr></tbody></table></div>"
      ],
      "text/plain": [
       "shape: (10, 8)\n",
       "┌────────────┬────────┬──────────────┬───────────┬──────────┬──────────────┬──────────────┬────────┐\n",
       "│ animal     ┆ class  ┆ habitat      ┆ diet      ┆ lifespan ┆ status       ┆ features     ┆ weight │\n",
       "│ ---        ┆ ---    ┆ ---          ┆ ---       ┆ ---      ┆ ---          ┆ ---          ┆ ---    │\n",
       "│ str        ┆ str    ┆ str          ┆ str       ┆ i64      ┆ str          ┆ str          ┆ i64    │\n",
       "╞════════════╪════════╪══════════════╪═══════════╪══════════╪══════════════╪══════════════╪════════╡\n",
       "│ dolphin    ┆ mammal ┆ oceans/river ┆ carnivore ┆ 40       ┆ least        ┆ high         ┆ 150    │\n",
       "│            ┆        ┆ s            ┆           ┆          ┆ concern      ┆ intelligence ┆        │\n",
       "│ duck       ┆ bird   ┆ wetlands     ┆ omnivore  ┆ 8        ┆ least        ┆ waterproof   ┆ 3      │\n",
       "│            ┆        ┆              ┆           ┆          ┆ concern      ┆ feathers     ┆        │\n",
       "│ elephant   ┆ mammal ┆ savannah     ┆ herbivore ┆ 60       ┆ endangered   ┆ large ears   ┆ 8000   │\n",
       "│            ┆        ┆              ┆           ┆          ┆              ┆ and trunk    ┆        │\n",
       "│ ibis       ┆ bird   ┆ wetlands     ┆ omnivore  ┆ 16       ┆ least        ┆ long, curved ┆ 1      │\n",
       "│            ┆        ┆              ┆           ┆          ┆ concern      ┆ bill         ┆        │\n",
       "│ impala     ┆ mammal ┆ savannah     ┆ herbivore ┆ 12       ┆ least        ┆ long, curved ┆ 70     │\n",
       "│            ┆        ┆              ┆           ┆          ┆ concern      ┆ horns        ┆        │\n",
       "│ kudu       ┆ mammal ┆ savannah     ┆ herbivore ┆ 15       ┆ least        ┆ spiral horns ┆ 250    │\n",
       "│            ┆        ┆              ┆           ┆          ┆ concern      ┆              ┆        │\n",
       "│ narwhal    ┆ mammal ┆ arctic ocean ┆ carnivore ┆ 40       ┆ near         ┆ long, spiral ┆ null   │\n",
       "│            ┆        ┆              ┆           ┆          ┆ threatened   ┆ tusk         ┆        │\n",
       "│ panda      ┆ mammal ┆ forests      ┆ herbivore ┆ 20       ┆ vulnerable   ┆ black and    ┆ 100    │\n",
       "│            ┆        ┆              ┆           ┆          ┆              ┆ white        ┆        │\n",
       "│            ┆        ┆              ┆           ┆          ┆              ┆ coloration   ┆        │\n",
       "│ polar bear ┆ mammal ┆ arctic       ┆ carnivore ┆ 25       ┆ vulnerable   ┆ thick fur    ┆ 720    │\n",
       "│            ┆        ┆              ┆           ┆          ┆              ┆ and blubber  ┆        │\n",
       "│ ray        ┆ fish   ┆ oceans       ┆ carnivore ┆ 20       ┆              ┆ flat,        ┆ 90     │\n",
       "│            ┆        ┆              ┆           ┆          ┆              ┆ disc-shaped  ┆        │\n",
       "│            ┆        ┆              ┆           ┆          ┆              ┆ body         ┆        │\n",
       "└────────────┴────────┴──────────────┴───────────┴──────────┴──────────────┴──────────────┴────────┘"
      ]
     },
     "execution_count": 4,
     "metadata": {},
     "output_type": "execute_result"
    }
   ],
   "source": [
    "animals_pl = pl.read_csv(INPUT_CSV_PATH)\n",
    "animals_pl"
   ]
  },
  {
   "cell_type": "markdown",
   "id": "38ef92a1-c267-4cfa-9ed5-9d38a10bf0ea",
   "metadata": {},
   "source": [
    "PolarsのDataFrameの特徴\n",
    "* Polarsは行/列数も出力してくれる\n",
    "* インデックス番号を付与しない\n",
    "* 各列のデータ型を表示してくれる\n",
    "    * これ個人的には嬉しい\n",
    "* `NaN`を使わない\n",
    "    * 数字であればnull、文字列であれば空文字(=\"\")\n",
    "    * これも地味に助かる"
   ]
  },
  {
   "cell_type": "markdown",
   "id": "fe0de587-e2f1-41c0-8456-957b3468b22c",
   "metadata": {
    "jp-MarkdownHeadingCollapsed": true
   },
   "source": [
    "## Series型の見栄え"
   ]
  },
  {
   "cell_type": "markdown",
   "id": "2537063c-8e29-4c5a-bdf7-c5045f0fe741",
   "metadata": {},
   "source": [
    "pandas"
   ]
  },
  {
   "cell_type": "code",
   "execution_count": 5,
   "id": "875606c0-9ad5-4b3e-9e44-4266b5f59db1",
   "metadata": {},
   "outputs": [
    {
     "data": {
      "text/plain": [
       "0       dolphin\n",
       "1          duck\n",
       "2      elephant\n",
       "3          ibis\n",
       "4        impala\n",
       "5          kudu\n",
       "6       narwhal\n",
       "7         panda\n",
       "8    polar bear\n",
       "9           ray\n",
       "Name: animal, dtype: object"
      ]
     },
     "execution_count": 5,
     "metadata": {},
     "output_type": "execute_result"
    }
   ],
   "source": [
    "animals_pd['animal']"
   ]
  },
  {
   "cell_type": "markdown",
   "id": "b1bd4243-5186-4433-9d9b-0d4a3d71e904",
   "metadata": {},
   "source": [
    "polars"
   ]
  },
  {
   "cell_type": "code",
   "execution_count": 6,
   "id": "37c6c448-fad6-4923-bad8-ea9e645c9b19",
   "metadata": {},
   "outputs": [
    {
     "data": {
      "text/html": [
       "<div><style>\n",
       ".dataframe > thead > tr,\n",
       ".dataframe > tbody > tr {\n",
       "  text-align: right;\n",
       "  white-space: pre-wrap;\n",
       "}\n",
       "</style>\n",
       "<small>shape: (10,)</small><table border=\"1\" class=\"dataframe\"><thead><tr><th>animal</th></tr><tr><td>str</td></tr></thead><tbody><tr><td>&quot;dolphin&quot;</td></tr><tr><td>&quot;duck&quot;</td></tr><tr><td>&quot;elephant&quot;</td></tr><tr><td>&quot;ibis&quot;</td></tr><tr><td>&quot;impala&quot;</td></tr><tr><td>&quot;kudu&quot;</td></tr><tr><td>&quot;narwhal&quot;</td></tr><tr><td>&quot;panda&quot;</td></tr><tr><td>&quot;polar bear&quot;</td></tr><tr><td>&quot;ray&quot;</td></tr></tbody></table></div>"
      ],
      "text/plain": [
       "shape: (10,)\n",
       "Series: 'animal' [str]\n",
       "[\n",
       "\t\"dolphin\"\n",
       "\t\"duck\"\n",
       "\t\"elephant\"\n",
       "\t\"ibis\"\n",
       "\t\"impala\"\n",
       "\t\"kudu\"\n",
       "\t\"narwhal\"\n",
       "\t\"panda\"\n",
       "\t\"polar bear\"\n",
       "\t\"ray\"\n",
       "]"
      ]
     },
     "execution_count": 6,
     "metadata": {},
     "output_type": "execute_result"
    }
   ],
   "source": [
    "animals_pl['animal']"
   ]
  },
  {
   "cell_type": "markdown",
   "id": "5f1f1edd-5d80-45d4-b9c9-d80f97b1a1e1",
   "metadata": {},
   "source": [
    "pandasだと列を1つしか指定しない場合はSeries型になってしまうので、テーブルの見栄えがやや見づらくなるが、polarsはSeries型でもDataFrameと同様に出力してくれるの優しい。  \n",
    "ただし、pandasの方はSeries型とDataFrame型がひと目で判別しやすいという考え方もできるなぁ"
   ]
  },
  {
   "cell_type": "markdown",
   "id": "04f93750-8abd-43d9-b761-024c70eb33ff",
   "metadata": {
    "jp-MarkdownHeadingCollapsed": true
   },
   "source": [
    "## DataFrameの一部列を削除"
   ]
  },
  {
   "cell_type": "markdown",
   "id": "0a169b34-ab1e-4e3e-aa63-aa39f1b6e03c",
   "metadata": {},
   "source": [
    "pandas"
   ]
  },
  {
   "cell_type": "code",
   "execution_count": 7,
   "id": "0bfb1961-a0db-44ed-8268-6c371de9f59b",
   "metadata": {},
   "outputs": [
    {
     "data": {
      "text/html": [
       "<div>\n",
       "<style scoped>\n",
       "    .dataframe tbody tr th:only-of-type {\n",
       "        vertical-align: middle;\n",
       "    }\n",
       "\n",
       "    .dataframe tbody tr th {\n",
       "        vertical-align: top;\n",
       "    }\n",
       "\n",
       "    .dataframe thead th {\n",
       "        text-align: right;\n",
       "    }\n",
       "</style>\n",
       "<table border=\"1\" class=\"dataframe\">\n",
       "  <thead>\n",
       "    <tr style=\"text-align: right;\">\n",
       "      <th></th>\n",
       "      <th>animal</th>\n",
       "      <th>class</th>\n",
       "      <th>lifespan</th>\n",
       "      <th>status</th>\n",
       "      <th>weight</th>\n",
       "    </tr>\n",
       "  </thead>\n",
       "  <tbody>\n",
       "    <tr>\n",
       "      <th>0</th>\n",
       "      <td>dolphin</td>\n",
       "      <td>mammal</td>\n",
       "      <td>40</td>\n",
       "      <td>least concern</td>\n",
       "      <td>150.0</td>\n",
       "    </tr>\n",
       "    <tr>\n",
       "      <th>1</th>\n",
       "      <td>duck</td>\n",
       "      <td>bird</td>\n",
       "      <td>8</td>\n",
       "      <td>least concern</td>\n",
       "      <td>3.0</td>\n",
       "    </tr>\n",
       "    <tr>\n",
       "      <th>2</th>\n",
       "      <td>elephant</td>\n",
       "      <td>mammal</td>\n",
       "      <td>60</td>\n",
       "      <td>endangered</td>\n",
       "      <td>8000.0</td>\n",
       "    </tr>\n",
       "    <tr>\n",
       "      <th>3</th>\n",
       "      <td>ibis</td>\n",
       "      <td>bird</td>\n",
       "      <td>16</td>\n",
       "      <td>least concern</td>\n",
       "      <td>1.0</td>\n",
       "    </tr>\n",
       "    <tr>\n",
       "      <th>4</th>\n",
       "      <td>impala</td>\n",
       "      <td>mammal</td>\n",
       "      <td>12</td>\n",
       "      <td>least concern</td>\n",
       "      <td>70.0</td>\n",
       "    </tr>\n",
       "    <tr>\n",
       "      <th>5</th>\n",
       "      <td>kudu</td>\n",
       "      <td>mammal</td>\n",
       "      <td>15</td>\n",
       "      <td>least concern</td>\n",
       "      <td>250.0</td>\n",
       "    </tr>\n",
       "    <tr>\n",
       "      <th>6</th>\n",
       "      <td>narwhal</td>\n",
       "      <td>mammal</td>\n",
       "      <td>40</td>\n",
       "      <td>near threatened</td>\n",
       "      <td>NaN</td>\n",
       "    </tr>\n",
       "    <tr>\n",
       "      <th>7</th>\n",
       "      <td>panda</td>\n",
       "      <td>mammal</td>\n",
       "      <td>20</td>\n",
       "      <td>vulnerable</td>\n",
       "      <td>100.0</td>\n",
       "    </tr>\n",
       "    <tr>\n",
       "      <th>8</th>\n",
       "      <td>polar bear</td>\n",
       "      <td>mammal</td>\n",
       "      <td>25</td>\n",
       "      <td>vulnerable</td>\n",
       "      <td>720.0</td>\n",
       "    </tr>\n",
       "    <tr>\n",
       "      <th>9</th>\n",
       "      <td>ray</td>\n",
       "      <td>fish</td>\n",
       "      <td>20</td>\n",
       "      <td>NaN</td>\n",
       "      <td>90.0</td>\n",
       "    </tr>\n",
       "  </tbody>\n",
       "</table>\n",
       "</div>"
      ],
      "text/plain": [
       "       animal   class  lifespan           status  weight\n",
       "0     dolphin  mammal        40    least concern   150.0\n",
       "1        duck    bird         8    least concern     3.0\n",
       "2    elephant  mammal        60       endangered  8000.0\n",
       "3        ibis    bird        16    least concern     1.0\n",
       "4      impala  mammal        12    least concern    70.0\n",
       "5        kudu  mammal        15    least concern   250.0\n",
       "6     narwhal  mammal        40  near threatened     NaN\n",
       "7       panda  mammal        20       vulnerable   100.0\n",
       "8  polar bear  mammal        25       vulnerable   720.0\n",
       "9         ray    fish        20              NaN    90.0"
      ]
     },
     "execution_count": 7,
     "metadata": {},
     "output_type": "execute_result"
    }
   ],
   "source": [
    "animals_pd = animals_pd.drop(columns=['habitat', 'diet', 'features'])\n",
    "animals_pd"
   ]
  },
  {
   "cell_type": "markdown",
   "id": "aed9c4d1-a1f0-482a-871a-14c3e6803369",
   "metadata": {},
   "source": [
    "polars"
   ]
  },
  {
   "cell_type": "code",
   "execution_count": 8,
   "id": "cd700f7e-ab24-4f1e-9b14-0847b287af61",
   "metadata": {},
   "outputs": [
    {
     "data": {
      "text/html": [
       "<div><style>\n",
       ".dataframe > thead > tr,\n",
       ".dataframe > tbody > tr {\n",
       "  text-align: right;\n",
       "  white-space: pre-wrap;\n",
       "}\n",
       "</style>\n",
       "<small>shape: (10, 5)</small><table border=\"1\" class=\"dataframe\"><thead><tr><th>animal</th><th>class</th><th>lifespan</th><th>status</th><th>weight</th></tr><tr><td>str</td><td>str</td><td>i64</td><td>str</td><td>i64</td></tr></thead><tbody><tr><td>&quot;dolphin&quot;</td><td>&quot;mammal&quot;</td><td>40</td><td>&quot;least concern&quot;</td><td>150</td></tr><tr><td>&quot;duck&quot;</td><td>&quot;bird&quot;</td><td>8</td><td>&quot;least concern&quot;</td><td>3</td></tr><tr><td>&quot;elephant&quot;</td><td>&quot;mammal&quot;</td><td>60</td><td>&quot;endangered&quot;</td><td>8000</td></tr><tr><td>&quot;ibis&quot;</td><td>&quot;bird&quot;</td><td>16</td><td>&quot;least concern&quot;</td><td>1</td></tr><tr><td>&quot;impala&quot;</td><td>&quot;mammal&quot;</td><td>12</td><td>&quot;least concern&quot;</td><td>70</td></tr><tr><td>&quot;kudu&quot;</td><td>&quot;mammal&quot;</td><td>15</td><td>&quot;least concern&quot;</td><td>250</td></tr><tr><td>&quot;narwhal&quot;</td><td>&quot;mammal&quot;</td><td>40</td><td>&quot;near threatened&quot;</td><td>null</td></tr><tr><td>&quot;panda&quot;</td><td>&quot;mammal&quot;</td><td>20</td><td>&quot;vulnerable&quot;</td><td>100</td></tr><tr><td>&quot;polar bear&quot;</td><td>&quot;mammal&quot;</td><td>25</td><td>&quot;vulnerable&quot;</td><td>720</td></tr><tr><td>&quot;ray&quot;</td><td>&quot;fish&quot;</td><td>20</td><td>&quot;&quot;</td><td>90</td></tr></tbody></table></div>"
      ],
      "text/plain": [
       "shape: (10, 5)\n",
       "┌────────────┬────────┬──────────┬─────────────────┬────────┐\n",
       "│ animal     ┆ class  ┆ lifespan ┆ status          ┆ weight │\n",
       "│ ---        ┆ ---    ┆ ---      ┆ ---             ┆ ---    │\n",
       "│ str        ┆ str    ┆ i64      ┆ str             ┆ i64    │\n",
       "╞════════════╪════════╪══════════╪═════════════════╪════════╡\n",
       "│ dolphin    ┆ mammal ┆ 40       ┆ least concern   ┆ 150    │\n",
       "│ duck       ┆ bird   ┆ 8        ┆ least concern   ┆ 3      │\n",
       "│ elephant   ┆ mammal ┆ 60       ┆ endangered      ┆ 8000   │\n",
       "│ ibis       ┆ bird   ┆ 16       ┆ least concern   ┆ 1      │\n",
       "│ impala     ┆ mammal ┆ 12       ┆ least concern   ┆ 70     │\n",
       "│ kudu       ┆ mammal ┆ 15       ┆ least concern   ┆ 250    │\n",
       "│ narwhal    ┆ mammal ┆ 40       ┆ near threatened ┆ null   │\n",
       "│ panda      ┆ mammal ┆ 20       ┆ vulnerable      ┆ 100    │\n",
       "│ polar bear ┆ mammal ┆ 25       ┆ vulnerable      ┆ 720    │\n",
       "│ ray        ┆ fish   ┆ 20       ┆                 ┆ 90     │\n",
       "└────────────┴────────┴──────────┴─────────────────┴────────┘"
      ]
     },
     "execution_count": 8,
     "metadata": {},
     "output_type": "execute_result"
    }
   ],
   "source": [
    "animals_pl = animals_pl.drop('habitat', 'diet', 'features')\n",
    "animals_pl"
   ]
  },
  {
   "cell_type": "markdown",
   "id": "aed923cc-dbbb-4f63-87ff-a122ea65da65",
   "metadata": {},
   "source": [
    "pandasに慣れているので、可変個引数がlist型に収まっていない書き方に違和感。  \n",
    "ただ慣れの問題な気がする"
   ]
  },
  {
   "cell_type": "markdown",
   "id": "383443dd-a123-4666-9409-46587b62fd7c",
   "metadata": {
    "jp-MarkdownHeadingCollapsed": true
   },
   "source": [
    "## polarsで忘れた方が良い要素\n",
    "pandasにある考え方において、忘れた方が良いって意味"
   ]
  },
  {
   "cell_type": "markdown",
   "id": "d0233d30-6f06-41b5-9963-0f7430c7f672",
   "metadata": {
    "jp-MarkdownHeadingCollapsed": true
   },
   "source": [
    "### Index"
   ]
  },
  {
   "cell_type": "markdown",
   "id": "de3541fd-55a0-47e3-a332-fff6143d55fb",
   "metadata": {},
   "source": [
    "pandas"
   ]
  },
  {
   "cell_type": "code",
   "execution_count": 9,
   "id": "e5c27ff1-dd44-4b17-b0c9-1f721ca65f09",
   "metadata": {},
   "outputs": [
    {
     "data": {
      "text/plain": [
       "RangeIndex(start=0, stop=10, step=1)"
      ]
     },
     "execution_count": 9,
     "metadata": {},
     "output_type": "execute_result"
    }
   ],
   "source": [
    "animals_pd.index"
   ]
  },
  {
   "cell_type": "code",
   "execution_count": 10,
   "id": "7f7cbb71-50d5-45e6-9857-6528c91907cb",
   "metadata": {},
   "outputs": [
    {
     "data": {
      "text/html": [
       "<div>\n",
       "<style scoped>\n",
       "    .dataframe tbody tr th:only-of-type {\n",
       "        vertical-align: middle;\n",
       "    }\n",
       "\n",
       "    .dataframe tbody tr th {\n",
       "        vertical-align: top;\n",
       "    }\n",
       "\n",
       "    .dataframe thead th {\n",
       "        text-align: right;\n",
       "    }\n",
       "</style>\n",
       "<table border=\"1\" class=\"dataframe\">\n",
       "  <thead>\n",
       "    <tr style=\"text-align: right;\">\n",
       "      <th></th>\n",
       "      <th></th>\n",
       "      <th>weight</th>\n",
       "    </tr>\n",
       "    <tr>\n",
       "      <th>class</th>\n",
       "      <th>status</th>\n",
       "      <th></th>\n",
       "    </tr>\n",
       "  </thead>\n",
       "  <tbody>\n",
       "    <tr>\n",
       "      <th>bird</th>\n",
       "      <th>least concern</th>\n",
       "      <td>2.000000</td>\n",
       "    </tr>\n",
       "    <tr>\n",
       "      <th rowspan=\"4\" valign=\"top\">mammal</th>\n",
       "      <th>endangered</th>\n",
       "      <td>8000.000000</td>\n",
       "    </tr>\n",
       "    <tr>\n",
       "      <th>least concern</th>\n",
       "      <td>156.666667</td>\n",
       "    </tr>\n",
       "    <tr>\n",
       "      <th>near threatened</th>\n",
       "      <td>NaN</td>\n",
       "    </tr>\n",
       "    <tr>\n",
       "      <th>vulnerable</th>\n",
       "      <td>410.000000</td>\n",
       "    </tr>\n",
       "  </tbody>\n",
       "</table>\n",
       "</div>"
      ],
      "text/plain": [
       "                             weight\n",
       "class  status                      \n",
       "bird   least concern       2.000000\n",
       "mammal endangered       8000.000000\n",
       "       least concern     156.666667\n",
       "       near threatened          NaN\n",
       "       vulnerable        410.000000"
      ]
     },
     "execution_count": 10,
     "metadata": {},
     "output_type": "execute_result"
    }
   ],
   "source": [
    "animals_agg_pd = animals_pd.groupby(['class', 'status'])[['weight']].mean()\n",
    "animals_agg_pd"
   ]
  },
  {
   "cell_type": "code",
   "execution_count": 11,
   "id": "a9b677fe-bc86-41e4-a7a2-5d109db49593",
   "metadata": {},
   "outputs": [
    {
     "data": {
      "text/plain": [
       "MultiIndex([(  'bird',   'least concern'),\n",
       "            ('mammal',      'endangered'),\n",
       "            ('mammal',   'least concern'),\n",
       "            ('mammal', 'near threatened'),\n",
       "            ('mammal',      'vulnerable')],\n",
       "           names=['class', 'status'])"
      ]
     },
     "execution_count": 11,
     "metadata": {},
     "output_type": "execute_result"
    }
   ],
   "source": [
    "animals_agg_pd.index"
   ]
  },
  {
   "cell_type": "markdown",
   "id": "9bbb155a-9cde-4503-8627-13906701fe31",
   "metadata": {},
   "source": [
    "上記のように、groupbyなどといったまとめる操作をDataFrameに対して実行するとマルチインデックスが作られる"
   ]
  },
  {
   "cell_type": "code",
   "execution_count": 12,
   "id": "fdc3ae5a-4e7a-4403-a785-1d09ab64d2b3",
   "metadata": {},
   "outputs": [
    {
     "data": {
      "text/html": [
       "<div>\n",
       "<style scoped>\n",
       "    .dataframe tbody tr th:only-of-type {\n",
       "        vertical-align: middle;\n",
       "    }\n",
       "\n",
       "    .dataframe tbody tr th {\n",
       "        vertical-align: top;\n",
       "    }\n",
       "\n",
       "    .dataframe thead th {\n",
       "        text-align: right;\n",
       "    }\n",
       "</style>\n",
       "<table border=\"1\" class=\"dataframe\">\n",
       "  <thead>\n",
       "    <tr style=\"text-align: right;\">\n",
       "      <th></th>\n",
       "      <th>class</th>\n",
       "      <th>status</th>\n",
       "      <th>weight</th>\n",
       "    </tr>\n",
       "  </thead>\n",
       "  <tbody>\n",
       "    <tr>\n",
       "      <th>0</th>\n",
       "      <td>bird</td>\n",
       "      <td>least concern</td>\n",
       "      <td>2.000000</td>\n",
       "    </tr>\n",
       "    <tr>\n",
       "      <th>1</th>\n",
       "      <td>mammal</td>\n",
       "      <td>endangered</td>\n",
       "      <td>8000.000000</td>\n",
       "    </tr>\n",
       "    <tr>\n",
       "      <th>2</th>\n",
       "      <td>mammal</td>\n",
       "      <td>least concern</td>\n",
       "      <td>156.666667</td>\n",
       "    </tr>\n",
       "    <tr>\n",
       "      <th>3</th>\n",
       "      <td>mammal</td>\n",
       "      <td>near threatened</td>\n",
       "      <td>NaN</td>\n",
       "    </tr>\n",
       "    <tr>\n",
       "      <th>4</th>\n",
       "      <td>mammal</td>\n",
       "      <td>vulnerable</td>\n",
       "      <td>410.000000</td>\n",
       "    </tr>\n",
       "  </tbody>\n",
       "</table>\n",
       "</div>"
      ],
      "text/plain": [
       "    class           status       weight\n",
       "0    bird    least concern     2.000000\n",
       "1  mammal       endangered  8000.000000\n",
       "2  mammal    least concern   156.666667\n",
       "3  mammal  near threatened          NaN\n",
       "4  mammal       vulnerable   410.000000"
      ]
     },
     "execution_count": 12,
     "metadata": {},
     "output_type": "execute_result"
    }
   ],
   "source": [
    "animals_agg_pd.reset_index()"
   ]
  },
  {
   "cell_type": "markdown",
   "id": "f23e7d8a-bdfb-41ec-b71a-7c0921107703",
   "metadata": {},
   "source": [
    "マルチインデックスだと扱いづらいし、加えてdropしたらインデックス番号を振り直す必要がある。  \n",
    "polarsでは、こうしたインデックスによるしがらみがなくなるように作られている"
   ]
  },
  {
   "cell_type": "markdown",
   "id": "383e0411-1547-4a79-8032-82a1201efd0c",
   "metadata": {},
   "source": [
    "polars"
   ]
  },
  {
   "cell_type": "code",
   "execution_count": 13,
   "id": "17702baf-5c07-4a80-b84e-45cc227a75e5",
   "metadata": {},
   "outputs": [
    {
     "data": {
      "text/html": [
       "<div><style>\n",
       ".dataframe > thead > tr,\n",
       ".dataframe > tbody > tr {\n",
       "  text-align: right;\n",
       "  white-space: pre-wrap;\n",
       "}\n",
       "</style>\n",
       "<small>shape: (6, 3)</small><table border=\"1\" class=\"dataframe\"><thead><tr><th>class</th><th>status</th><th>weight</th></tr><tr><td>str</td><td>str</td><td>f64</td></tr></thead><tbody><tr><td>&quot;fish&quot;</td><td>&quot;&quot;</td><td>90.0</td></tr><tr><td>&quot;bird&quot;</td><td>&quot;least concern&quot;</td><td>2.0</td></tr><tr><td>&quot;mammal&quot;</td><td>&quot;least concern&quot;</td><td>156.666667</td></tr><tr><td>&quot;mammal&quot;</td><td>&quot;endangered&quot;</td><td>8000.0</td></tr><tr><td>&quot;mammal&quot;</td><td>&quot;near threatened&quot;</td><td>null</td></tr><tr><td>&quot;mammal&quot;</td><td>&quot;vulnerable&quot;</td><td>410.0</td></tr></tbody></table></div>"
      ],
      "text/plain": [
       "shape: (6, 3)\n",
       "┌────────┬─────────────────┬────────────┐\n",
       "│ class  ┆ status          ┆ weight     │\n",
       "│ ---    ┆ ---             ┆ ---        │\n",
       "│ str    ┆ str             ┆ f64        │\n",
       "╞════════╪═════════════════╪════════════╡\n",
       "│ fish   ┆                 ┆ 90.0       │\n",
       "│ bird   ┆ least concern   ┆ 2.0        │\n",
       "│ mammal ┆ least concern   ┆ 156.666667 │\n",
       "│ mammal ┆ endangered      ┆ 8000.0     │\n",
       "│ mammal ┆ near threatened ┆ null       │\n",
       "│ mammal ┆ vulnerable      ┆ 410.0      │\n",
       "└────────┴─────────────────┴────────────┘"
      ]
     },
     "execution_count": 13,
     "metadata": {},
     "output_type": "execute_result"
    }
   ],
   "source": [
    "animals_pl.group_by(['class', 'status']).agg(pl.col('weight').mean())"
   ]
  },
  {
   "cell_type": "markdown",
   "id": "737e555f-0429-464f-bb6f-cd5a7cc277f5",
   "metadata": {},
   "source": [
    "`agg`はaggregationの意味で、集計って意味らしい"
   ]
  },
  {
   "cell_type": "markdown",
   "id": "cfeb4624-63d5-48fd-80e2-9366cda23ea7",
   "metadata": {
    "jp-MarkdownHeadingCollapsed": true
   },
   "source": [
    "### Axis"
   ]
  },
  {
   "cell_type": "code",
   "execution_count": 14,
   "id": "d372021e-7513-4ef4-a581-f2894f9eb932",
   "metadata": {},
   "outputs": [
    {
     "data": {
      "text/html": [
       "<div>\n",
       "<style scoped>\n",
       "    .dataframe tbody tr th:only-of-type {\n",
       "        vertical-align: middle;\n",
       "    }\n",
       "\n",
       "    .dataframe tbody tr th {\n",
       "        vertical-align: top;\n",
       "    }\n",
       "\n",
       "    .dataframe thead th {\n",
       "        text-align: right;\n",
       "    }\n",
       "</style>\n",
       "<table border=\"1\" class=\"dataframe\">\n",
       "  <thead>\n",
       "    <tr style=\"text-align: right;\">\n",
       "      <th></th>\n",
       "      <th>animal</th>\n",
       "      <th>class</th>\n",
       "      <th>lifespan</th>\n",
       "      <th>status</th>\n",
       "    </tr>\n",
       "  </thead>\n",
       "  <tbody>\n",
       "    <tr>\n",
       "      <th>0</th>\n",
       "      <td>dolphin</td>\n",
       "      <td>mammal</td>\n",
       "      <td>40</td>\n",
       "      <td>least concern</td>\n",
       "    </tr>\n",
       "    <tr>\n",
       "      <th>1</th>\n",
       "      <td>duck</td>\n",
       "      <td>bird</td>\n",
       "      <td>8</td>\n",
       "      <td>least concern</td>\n",
       "    </tr>\n",
       "    <tr>\n",
       "      <th>2</th>\n",
       "      <td>elephant</td>\n",
       "      <td>mammal</td>\n",
       "      <td>60</td>\n",
       "      <td>endangered</td>\n",
       "    </tr>\n",
       "    <tr>\n",
       "      <th>3</th>\n",
       "      <td>ibis</td>\n",
       "      <td>bird</td>\n",
       "      <td>16</td>\n",
       "      <td>least concern</td>\n",
       "    </tr>\n",
       "    <tr>\n",
       "      <th>4</th>\n",
       "      <td>impala</td>\n",
       "      <td>mammal</td>\n",
       "      <td>12</td>\n",
       "      <td>least concern</td>\n",
       "    </tr>\n",
       "    <tr>\n",
       "      <th>5</th>\n",
       "      <td>kudu</td>\n",
       "      <td>mammal</td>\n",
       "      <td>15</td>\n",
       "      <td>least concern</td>\n",
       "    </tr>\n",
       "    <tr>\n",
       "      <th>6</th>\n",
       "      <td>narwhal</td>\n",
       "      <td>mammal</td>\n",
       "      <td>40</td>\n",
       "      <td>near threatened</td>\n",
       "    </tr>\n",
       "    <tr>\n",
       "      <th>7</th>\n",
       "      <td>panda</td>\n",
       "      <td>mammal</td>\n",
       "      <td>20</td>\n",
       "      <td>vulnerable</td>\n",
       "    </tr>\n",
       "    <tr>\n",
       "      <th>8</th>\n",
       "      <td>polar bear</td>\n",
       "      <td>mammal</td>\n",
       "      <td>25</td>\n",
       "      <td>vulnerable</td>\n",
       "    </tr>\n",
       "    <tr>\n",
       "      <th>9</th>\n",
       "      <td>ray</td>\n",
       "      <td>fish</td>\n",
       "      <td>20</td>\n",
       "      <td>NaN</td>\n",
       "    </tr>\n",
       "  </tbody>\n",
       "</table>\n",
       "</div>"
      ],
      "text/plain": [
       "       animal   class  lifespan           status\n",
       "0     dolphin  mammal        40    least concern\n",
       "1        duck    bird         8    least concern\n",
       "2    elephant  mammal        60       endangered\n",
       "3        ibis    bird        16    least concern\n",
       "4      impala  mammal        12    least concern\n",
       "5        kudu  mammal        15    least concern\n",
       "6     narwhal  mammal        40  near threatened\n",
       "7       panda  mammal        20       vulnerable\n",
       "8  polar bear  mammal        25       vulnerable\n",
       "9         ray    fish        20              NaN"
      ]
     },
     "execution_count": 14,
     "metadata": {},
     "output_type": "execute_result"
    }
   ],
   "source": [
    "animals_pd.drop('weight', axis=1)"
   ]
  },
  {
   "cell_type": "markdown",
   "id": "ef8c0e8c-df46-440a-a73c-1f60f24b1d18",
   "metadata": {},
   "source": [
    "pandasだと行/列のどっちをdropするか指定するにあたって、`axis`を指定する必要があるが、polarsではaxisの指定が不要"
   ]
  },
  {
   "cell_type": "code",
   "execution_count": 15,
   "id": "91f3b0ca-0fa6-4380-b423-12ffbe6344da",
   "metadata": {},
   "outputs": [
    {
     "data": {
      "text/html": [
       "<div><style>\n",
       ".dataframe > thead > tr,\n",
       ".dataframe > tbody > tr {\n",
       "  text-align: right;\n",
       "  white-space: pre-wrap;\n",
       "}\n",
       "</style>\n",
       "<small>shape: (10, 4)</small><table border=\"1\" class=\"dataframe\"><thead><tr><th>animal</th><th>class</th><th>lifespan</th><th>status</th></tr><tr><td>str</td><td>str</td><td>i64</td><td>str</td></tr></thead><tbody><tr><td>&quot;dolphin&quot;</td><td>&quot;mammal&quot;</td><td>40</td><td>&quot;least concern&quot;</td></tr><tr><td>&quot;duck&quot;</td><td>&quot;bird&quot;</td><td>8</td><td>&quot;least concern&quot;</td></tr><tr><td>&quot;elephant&quot;</td><td>&quot;mammal&quot;</td><td>60</td><td>&quot;endangered&quot;</td></tr><tr><td>&quot;ibis&quot;</td><td>&quot;bird&quot;</td><td>16</td><td>&quot;least concern&quot;</td></tr><tr><td>&quot;impala&quot;</td><td>&quot;mammal&quot;</td><td>12</td><td>&quot;least concern&quot;</td></tr><tr><td>&quot;kudu&quot;</td><td>&quot;mammal&quot;</td><td>15</td><td>&quot;least concern&quot;</td></tr><tr><td>&quot;narwhal&quot;</td><td>&quot;mammal&quot;</td><td>40</td><td>&quot;near threatened&quot;</td></tr><tr><td>&quot;panda&quot;</td><td>&quot;mammal&quot;</td><td>20</td><td>&quot;vulnerable&quot;</td></tr><tr><td>&quot;polar bear&quot;</td><td>&quot;mammal&quot;</td><td>25</td><td>&quot;vulnerable&quot;</td></tr><tr><td>&quot;ray&quot;</td><td>&quot;fish&quot;</td><td>20</td><td>&quot;&quot;</td></tr></tbody></table></div>"
      ],
      "text/plain": [
       "shape: (10, 4)\n",
       "┌────────────┬────────┬──────────┬─────────────────┐\n",
       "│ animal     ┆ class  ┆ lifespan ┆ status          │\n",
       "│ ---        ┆ ---    ┆ ---      ┆ ---             │\n",
       "│ str        ┆ str    ┆ i64      ┆ str             │\n",
       "╞════════════╪════════╪══════════╪═════════════════╡\n",
       "│ dolphin    ┆ mammal ┆ 40       ┆ least concern   │\n",
       "│ duck       ┆ bird   ┆ 8        ┆ least concern   │\n",
       "│ elephant   ┆ mammal ┆ 60       ┆ endangered      │\n",
       "│ ibis       ┆ bird   ┆ 16       ┆ least concern   │\n",
       "│ impala     ┆ mammal ┆ 12       ┆ least concern   │\n",
       "│ kudu       ┆ mammal ┆ 15       ┆ least concern   │\n",
       "│ narwhal    ┆ mammal ┆ 40       ┆ near threatened │\n",
       "│ panda      ┆ mammal ┆ 20       ┆ vulnerable      │\n",
       "│ polar bear ┆ mammal ┆ 25       ┆ vulnerable      │\n",
       "│ ray        ┆ fish   ┆ 20       ┆                 │\n",
       "└────────────┴────────┴──────────┴─────────────────┘"
      ]
     },
     "execution_count": 15,
     "metadata": {},
     "output_type": "execute_result"
    }
   ],
   "source": [
    "animals_pl.drop('weight')"
   ]
  },
  {
   "cell_type": "markdown",
   "id": "d7e13584-17e4-49dd-959c-7b7e5583d2b6",
   "metadata": {
    "jp-MarkdownHeadingCollapsed": true
   },
   "source": [
    "### Indexing and Slicing"
   ]
  },
  {
   "cell_type": "markdown",
   "id": "273822c8-fc7e-4fdc-8099-89aaa549bff1",
   "metadata": {},
   "source": [
    "pandas"
   ]
  },
  {
   "cell_type": "code",
   "execution_count": 16,
   "id": "12fb7b38-45e0-4c42-9900-51f3fced66d6",
   "metadata": {},
   "outputs": [
    {
     "data": {
      "text/html": [
       "<div>\n",
       "<style scoped>\n",
       "    .dataframe tbody tr th:only-of-type {\n",
       "        vertical-align: middle;\n",
       "    }\n",
       "\n",
       "    .dataframe tbody tr th {\n",
       "        vertical-align: top;\n",
       "    }\n",
       "\n",
       "    .dataframe thead th {\n",
       "        text-align: right;\n",
       "    }\n",
       "</style>\n",
       "<table border=\"1\" class=\"dataframe\">\n",
       "  <thead>\n",
       "    <tr style=\"text-align: right;\">\n",
       "      <th></th>\n",
       "      <th>animal</th>\n",
       "      <th>class</th>\n",
       "    </tr>\n",
       "  </thead>\n",
       "  <tbody>\n",
       "    <tr>\n",
       "      <th>0</th>\n",
       "      <td>dolphin</td>\n",
       "      <td>mammal</td>\n",
       "    </tr>\n",
       "    <tr>\n",
       "      <th>1</th>\n",
       "      <td>duck</td>\n",
       "      <td>bird</td>\n",
       "    </tr>\n",
       "    <tr>\n",
       "      <th>2</th>\n",
       "      <td>elephant</td>\n",
       "      <td>mammal</td>\n",
       "    </tr>\n",
       "    <tr>\n",
       "      <th>3</th>\n",
       "      <td>ibis</td>\n",
       "      <td>bird</td>\n",
       "    </tr>\n",
       "    <tr>\n",
       "      <th>4</th>\n",
       "      <td>impala</td>\n",
       "      <td>mammal</td>\n",
       "    </tr>\n",
       "    <tr>\n",
       "      <th>5</th>\n",
       "      <td>kudu</td>\n",
       "      <td>mammal</td>\n",
       "    </tr>\n",
       "    <tr>\n",
       "      <th>6</th>\n",
       "      <td>narwhal</td>\n",
       "      <td>mammal</td>\n",
       "    </tr>\n",
       "    <tr>\n",
       "      <th>7</th>\n",
       "      <td>panda</td>\n",
       "      <td>mammal</td>\n",
       "    </tr>\n",
       "    <tr>\n",
       "      <th>8</th>\n",
       "      <td>polar bear</td>\n",
       "      <td>mammal</td>\n",
       "    </tr>\n",
       "    <tr>\n",
       "      <th>9</th>\n",
       "      <td>ray</td>\n",
       "      <td>fish</td>\n",
       "    </tr>\n",
       "  </tbody>\n",
       "</table>\n",
       "</div>"
      ],
      "text/plain": [
       "       animal   class\n",
       "0     dolphin  mammal\n",
       "1        duck    bird\n",
       "2    elephant  mammal\n",
       "3        ibis    bird\n",
       "4      impala  mammal\n",
       "5        kudu  mammal\n",
       "6     narwhal  mammal\n",
       "7       panda  mammal\n",
       "8  polar bear  mammal\n",
       "9         ray    fish"
      ]
     },
     "execution_count": 16,
     "metadata": {},
     "output_type": "execute_result"
    }
   ],
   "source": [
    "animals_pd[['animal', 'class']]"
   ]
  },
  {
   "cell_type": "code",
   "execution_count": 17,
   "id": "b20cdf87-0eb7-4f9f-8ef0-62f4e5abca1d",
   "metadata": {},
   "outputs": [
    {
     "data": {
      "text/html": [
       "<div>\n",
       "<style scoped>\n",
       "    .dataframe tbody tr th:only-of-type {\n",
       "        vertical-align: middle;\n",
       "    }\n",
       "\n",
       "    .dataframe tbody tr th {\n",
       "        vertical-align: top;\n",
       "    }\n",
       "\n",
       "    .dataframe thead th {\n",
       "        text-align: right;\n",
       "    }\n",
       "</style>\n",
       "<table border=\"1\" class=\"dataframe\">\n",
       "  <thead>\n",
       "    <tr style=\"text-align: right;\">\n",
       "      <th></th>\n",
       "      <th>animal</th>\n",
       "      <th>class</th>\n",
       "      <th>lifespan</th>\n",
       "      <th>status</th>\n",
       "      <th>weight</th>\n",
       "    </tr>\n",
       "  </thead>\n",
       "  <tbody>\n",
       "    <tr>\n",
       "      <th>2</th>\n",
       "      <td>elephant</td>\n",
       "      <td>mammal</td>\n",
       "      <td>60</td>\n",
       "      <td>endangered</td>\n",
       "      <td>8000.0</td>\n",
       "    </tr>\n",
       "  </tbody>\n",
       "</table>\n",
       "</div>"
      ],
      "text/plain": [
       "     animal   class  lifespan      status  weight\n",
       "2  elephant  mammal        60  endangered  8000.0"
      ]
     },
     "execution_count": 17,
     "metadata": {},
     "output_type": "execute_result"
    }
   ],
   "source": [
    "animals_pd[animals_pd['status'] == 'endangered']"
   ]
  },
  {
   "cell_type": "code",
   "execution_count": 18,
   "id": "ccd483d3-39ec-4a79-8971-034cdcad238a",
   "metadata": {},
   "outputs": [
    {
     "data": {
      "text/html": [
       "<div>\n",
       "<style scoped>\n",
       "    .dataframe tbody tr th:only-of-type {\n",
       "        vertical-align: middle;\n",
       "    }\n",
       "\n",
       "    .dataframe tbody tr th {\n",
       "        vertical-align: top;\n",
       "    }\n",
       "\n",
       "    .dataframe thead th {\n",
       "        text-align: right;\n",
       "    }\n",
       "</style>\n",
       "<table border=\"1\" class=\"dataframe\">\n",
       "  <thead>\n",
       "    <tr style=\"text-align: right;\">\n",
       "      <th></th>\n",
       "      <th>animal</th>\n",
       "      <th>class</th>\n",
       "      <th>lifespan</th>\n",
       "      <th>status</th>\n",
       "      <th>weight</th>\n",
       "    </tr>\n",
       "  </thead>\n",
       "  <tbody>\n",
       "    <tr>\n",
       "      <th>0</th>\n",
       "      <td>dolphin</td>\n",
       "      <td>mammal</td>\n",
       "      <td>40</td>\n",
       "      <td>least concern</td>\n",
       "      <td>150.0</td>\n",
       "    </tr>\n",
       "    <tr>\n",
       "      <th>1</th>\n",
       "      <td>duck</td>\n",
       "      <td>bird</td>\n",
       "      <td>8</td>\n",
       "      <td>least concern</td>\n",
       "      <td>3.0</td>\n",
       "    </tr>\n",
       "    <tr>\n",
       "      <th>2</th>\n",
       "      <td>elephant</td>\n",
       "      <td>mammal</td>\n",
       "      <td>60</td>\n",
       "      <td>endangered</td>\n",
       "      <td>8000.0</td>\n",
       "    </tr>\n",
       "  </tbody>\n",
       "</table>\n",
       "</div>"
      ],
      "text/plain": [
       "     animal   class  lifespan         status  weight\n",
       "0   dolphin  mammal        40  least concern   150.0\n",
       "1      duck    bird         8  least concern     3.0\n",
       "2  elephant  mammal        60     endangered  8000.0"
      ]
     },
     "execution_count": 18,
     "metadata": {},
     "output_type": "execute_result"
    }
   ],
   "source": [
    "animals_pd[:3]"
   ]
  },
  {
   "cell_type": "code",
   "execution_count": 19,
   "id": "0cd1f175-e593-4b8a-aa17-8f1ff53f6579",
   "metadata": {},
   "outputs": [],
   "source": [
    "animals_pd['weight'] = animals_pd['weight'] * 1000"
   ]
  },
  {
   "cell_type": "markdown",
   "id": "567d0e60-957a-4f30-8c1b-669a39d0489c",
   "metadata": {},
   "source": [
    "polarsでは上記の機能がない。互換性の観点で、基本的な括弧はサポートされてるが。  \n",
    "polarsでは、pandasのように`[`,`]`を乱用しないことが基本的なルール"
   ]
  },
  {
   "cell_type": "markdown",
   "id": "cbce07d0-2437-45c1-96b4-0a3b6ff5faac",
   "metadata": {
    "jp-MarkdownHeadingCollapsed": true
   },
   "source": [
    "### Eagerness\n",
    "直訳だと「意気込み」。正確な日本語訳がわからない.."
   ]
  },
  {
   "cell_type": "markdown",
   "id": "a7ed0c08-f9b1-481f-855d-b74042802796",
   "metadata": {},
   "source": [
    "pandasでは全ての操作が即座に実行される。一方でpolarsは、デフォルトだと即座には実行されない。  \n",
    "正確には、`LazyFrame`というDataFrameの代わりを使うことで、テーブル操作を指定した後に、`lf.collect()`によって操作を最適化して実行することができる。"
   ]
  },
  {
   "cell_type": "code",
   "execution_count": 20,
   "id": "14a17b24-99b1-4b17-a9c0-504c34c1e647",
   "metadata": {},
   "outputs": [],
   "source": [
    "lazy_query = (\n",
    "    pl.scan_csv(INPUT_CSV_PATH)\n",
    "    .group_by('class')\n",
    "    .agg(pl.col('weight').mean())\n",
    "    .filter(pl.col('class') == 'mammal')\n",
    ")"
   ]
  },
  {
   "cell_type": "markdown",
   "id": "c742c2ce-8051-4568-85a9-fb047ddf4895",
   "metadata": {},
   "source": [
    "ここで出てきた`pl.scan_csv()`は、指定したファイルをすぐには読み込まない。"
   ]
  },
  {
   "cell_type": "code",
   "execution_count": 21,
   "id": "b2c0266a-1cf9-4f49-be46-5e4555b885f0",
   "metadata": {},
   "outputs": [
    {
     "data": {
      "image/svg+xml": [
       "<svg xmlns=\"http://www.w3.org/2000/svg\" xmlns:xlink=\"http://www.w3.org/1999/xlink\" width=\"302pt\" height=\"215pt\" viewBox=\"0.00 0.00 301.50 214.50\">\n",
       "<g id=\"graph0\" class=\"graph\" transform=\"scale(1 1) rotate(0) translate(4 210.5)\">\n",
       "<title>polars_query</title>\n",
       "<polygon fill=\"white\" stroke=\"none\" points=\"-4,4 -4,-210.5 297.5,-210.5 297.5,4 -4,4\"/>\n",
       "<!-- p1 -->\n",
       "<g id=\"node1\" class=\"node\">\n",
       "<title>p1</title>\n",
       "<polygon fill=\"none\" stroke=\"black\" points=\"293.5,-206.5 0,-206.5 0,-170.5 293.5,-170.5 293.5,-206.5\"/>\n",
       "<text text-anchor=\"middle\" x=\"146.75\" y=\"-183.45\" font-family=\"Times,serif\" font-size=\"14.00\">FILTER BY [(col(&quot;class&quot;)) == (String(mammal))]</text>\n",
       "</g>\n",
       "<!-- p2 -->\n",
       "<g id=\"node2\" class=\"node\">\n",
       "<title>p2</title>\n",
       "<polygon fill=\"none\" stroke=\"black\" points=\"234.25,-134.5 59.25,-134.5 59.25,-77 234.25,-77 234.25,-134.5\"/>\n",
       "<text text-anchor=\"middle\" x=\"146.75\" y=\"-117.2\" font-family=\"Times,serif\" font-size=\"14.00\">AGG [col(&quot;weight&quot;).mean()]</text>\n",
       "<text text-anchor=\"middle\" x=\"146.75\" y=\"-100.7\" font-family=\"Times,serif\" font-size=\"14.00\">BY</text>\n",
       "<text text-anchor=\"middle\" x=\"146.75\" y=\"-84.2\" font-family=\"Times,serif\" font-size=\"14.00\">[col(&quot;class&quot;)]</text>\n",
       "</g>\n",
       "<!-- p1&#45;&#45;p2 -->\n",
       "<g id=\"edge1\" class=\"edge\">\n",
       "<title>p1--p2</title>\n",
       "<path fill=\"none\" stroke=\"black\" d=\"M146.75,-170.38C146.75,-160.1 146.75,-146.77 146.75,-134.97\"/>\n",
       "</g>\n",
       "<!-- p3 -->\n",
       "<g id=\"node3\" class=\"node\">\n",
       "<title>p3</title>\n",
       "<polygon fill=\"none\" stroke=\"black\" points=\"248.12,-41 45.38,-41 45.38,0 248.12,0 248.12,-41\"/>\n",
       "<text text-anchor=\"middle\" x=\"146.75\" y=\"-23.7\" font-family=\"Times,serif\" font-size=\"14.00\">Csv SCAN [../../data/animals.csv]</text>\n",
       "<text text-anchor=\"middle\" x=\"146.75\" y=\"-7.2\" font-family=\"Times,serif\" font-size=\"14.00\">π */8;</text>\n",
       "</g>\n",
       "<!-- p2&#45;&#45;p3 -->\n",
       "<g id=\"edge2\" class=\"edge\">\n",
       "<title>p2--p3</title>\n",
       "<path fill=\"none\" stroke=\"black\" d=\"M146.75,-76.57C146.75,-64.96 146.75,-51.8 146.75,-41.25\"/>\n",
       "</g>\n",
       "</g>\n",
       "</svg>"
      ],
      "text/plain": [
       "<IPython.core.display.SVG object>"
      ]
     },
     "metadata": {},
     "output_type": "display_data"
    }
   ],
   "source": [
    "lazy_query.show_graph(optimized=False)"
   ]
  },
  {
   "cell_type": "code",
   "execution_count": 22,
   "id": "846e485e-f863-4e08-a225-4b1943724f77",
   "metadata": {},
   "outputs": [
    {
     "data": {
      "image/svg+xml": [
       "<svg xmlns=\"http://www.w3.org/2000/svg\" xmlns:xlink=\"http://www.w3.org/1999/xlink\" width=\"242pt\" height=\"159pt\" viewBox=\"0.00 0.00 241.50 159.00\">\n",
       "<g id=\"graph0\" class=\"graph\" transform=\"scale(1 1) rotate(0) translate(4 155)\">\n",
       "<title>polars_query</title>\n",
       "<polygon fill=\"white\" stroke=\"none\" points=\"-4,4 -4,-155 237.5,-155 237.5,4 -4,4\"/>\n",
       "<!-- p1 -->\n",
       "<g id=\"node1\" class=\"node\">\n",
       "<title>p1</title>\n",
       "<polygon fill=\"none\" stroke=\"black\" points=\"204.25,-151 29.25,-151 29.25,-93.5 204.25,-93.5 204.25,-151\"/>\n",
       "<text text-anchor=\"middle\" x=\"116.75\" y=\"-133.7\" font-family=\"Times,serif\" font-size=\"14.00\">AGG [col(&quot;weight&quot;).mean()]</text>\n",
       "<text text-anchor=\"middle\" x=\"116.75\" y=\"-117.2\" font-family=\"Times,serif\" font-size=\"14.00\">BY</text>\n",
       "<text text-anchor=\"middle\" x=\"116.75\" y=\"-100.7\" font-family=\"Times,serif\" font-size=\"14.00\">[col(&quot;class&quot;)]</text>\n",
       "</g>\n",
       "<!-- p2 -->\n",
       "<g id=\"node2\" class=\"node\">\n",
       "<title>p2</title>\n",
       "<polygon fill=\"none\" stroke=\"black\" points=\"233.5,-57.5 0,-57.5 0,0 233.5,0 233.5,-57.5\"/>\n",
       "<text text-anchor=\"middle\" x=\"116.75\" y=\"-40.2\" font-family=\"Times,serif\" font-size=\"14.00\">Csv SCAN [../../data/animals.csv]</text>\n",
       "<text text-anchor=\"middle\" x=\"116.75\" y=\"-23.7\" font-family=\"Times,serif\" font-size=\"14.00\">π 2/8;</text>\n",
       "<text text-anchor=\"middle\" x=\"116.75\" y=\"-7.2\" font-family=\"Times,serif\" font-size=\"14.00\">σ [(col(&quot;class&quot;)) == (String(mammal))]</text>\n",
       "</g>\n",
       "<!-- p1&#45;&#45;p2 -->\n",
       "<g id=\"edge1\" class=\"edge\">\n",
       "<title>p1--p2</title>\n",
       "<path fill=\"none\" stroke=\"black\" d=\"M116.75,-93.3C116.75,-82.05 116.75,-69.11 116.75,-57.84\"/>\n",
       "</g>\n",
       "</g>\n",
       "</svg>"
      ],
      "text/plain": [
       "<IPython.core.display.SVG object>"
      ]
     },
     "metadata": {},
     "output_type": "display_data"
    }
   ],
   "source": [
    "lazy_query.show_graph(optimized=True)"
   ]
  },
  {
   "cell_type": "markdown",
   "id": "0cea6a4c-ec84-4163-a92a-7a1df0a7c84d",
   "metadata": {},
   "source": [
    "最適化前後の処理手順を見比べてみると、最適化後の方は、計算を実施した後にフィルタリングをするよりも、あらかじめフィルタリングした要素に対して計算した方が良いと判断している。  \n",
    "直感的に考えても、先にフィルタリングした方が不必要な要素に対する計算をしなくて良いとわかるね"
   ]
  },
  {
   "cell_type": "code",
   "execution_count": 23,
   "id": "44406a2b-8f63-4165-87ff-cfb5bc821096",
   "metadata": {},
   "outputs": [
    {
     "data": {
      "text/html": [
       "<div><style>\n",
       ".dataframe > thead > tr,\n",
       ".dataframe > tbody > tr {\n",
       "  text-align: right;\n",
       "  white-space: pre-wrap;\n",
       "}\n",
       "</style>\n",
       "<small>shape: (1, 2)</small><table border=\"1\" class=\"dataframe\"><thead><tr><th>class</th><th>weight</th></tr><tr><td>str</td><td>f64</td></tr></thead><tbody><tr><td>&quot;mammal&quot;</td><td>1548.333333</td></tr></tbody></table></div>"
      ],
      "text/plain": [
       "shape: (1, 2)\n",
       "┌────────┬─────────────┐\n",
       "│ class  ┆ weight      │\n",
       "│ ---    ┆ ---         │\n",
       "│ str    ┆ f64         │\n",
       "╞════════╪═════════════╡\n",
       "│ mammal ┆ 1548.333333 │\n",
       "└────────┴─────────────┘"
      ]
     },
     "execution_count": 23,
     "metadata": {},
     "output_type": "execute_result"
    }
   ],
   "source": [
    "lazy_query.collect()  # 最適化した処理をここで初めて実施する"
   ]
  },
  {
   "cell_type": "markdown",
   "id": "9d076c11-3494-4ea7-b468-e396070f802c",
   "metadata": {},
   "source": [
    "データセットが小さい場合は、最適化の前後で対して差分が出ないと思うが、データ数が大きくなったり、複雑な大規模な計算が必要になったりすると、確かに有効になりそう。  \n",
    "あと、polarsのDataFrame（今回だとLazyFrame）は実行手順を描画することができるっていう点で、人間が処理を追いやすい点が良いね"
   ]
  },
  {
   "cell_type": "markdown",
   "id": "28829d75-77ae-461e-8956-f59905154de9",
   "metadata": {
    "jp-MarkdownHeadingCollapsed": true
   },
   "source": [
    "## pandasとpolarsでのメソッド名の違い"
   ]
  },
  {
   "cell_type": "markdown",
   "id": "667852e6-7d76-4905-8db0-e30ca826d386",
   "metadata": {
    "jp-MarkdownHeadingCollapsed": true
   },
   "source": [
    "### 重複削除"
   ]
  },
  {
   "cell_type": "markdown",
   "id": "370f067f-03e5-4fe0-b398-22270260a655",
   "metadata": {},
   "source": [
    "pandas"
   ]
  },
  {
   "cell_type": "code",
   "execution_count": 24,
   "id": "14258309-2f58-47b4-a116-c6c2f7c57742",
   "metadata": {},
   "outputs": [
    {
     "data": {
      "text/html": [
       "<div>\n",
       "<style scoped>\n",
       "    .dataframe tbody tr th:only-of-type {\n",
       "        vertical-align: middle;\n",
       "    }\n",
       "\n",
       "    .dataframe tbody tr th {\n",
       "        vertical-align: top;\n",
       "    }\n",
       "\n",
       "    .dataframe thead th {\n",
       "        text-align: right;\n",
       "    }\n",
       "</style>\n",
       "<table border=\"1\" class=\"dataframe\">\n",
       "  <thead>\n",
       "    <tr style=\"text-align: right;\">\n",
       "      <th></th>\n",
       "      <th>animal</th>\n",
       "      <th>class</th>\n",
       "      <th>lifespan</th>\n",
       "      <th>status</th>\n",
       "      <th>weight</th>\n",
       "    </tr>\n",
       "  </thead>\n",
       "  <tbody>\n",
       "    <tr>\n",
       "      <th>0</th>\n",
       "      <td>dolphin</td>\n",
       "      <td>mammal</td>\n",
       "      <td>40</td>\n",
       "      <td>least concern</td>\n",
       "      <td>150000.0</td>\n",
       "    </tr>\n",
       "    <tr>\n",
       "      <th>1</th>\n",
       "      <td>duck</td>\n",
       "      <td>bird</td>\n",
       "      <td>8</td>\n",
       "      <td>least concern</td>\n",
       "      <td>3000.0</td>\n",
       "    </tr>\n",
       "    <tr>\n",
       "      <th>9</th>\n",
       "      <td>ray</td>\n",
       "      <td>fish</td>\n",
       "      <td>20</td>\n",
       "      <td>NaN</td>\n",
       "      <td>90000.0</td>\n",
       "    </tr>\n",
       "  </tbody>\n",
       "</table>\n",
       "</div>"
      ],
      "text/plain": [
       "    animal   class  lifespan         status    weight\n",
       "0  dolphin  mammal        40  least concern  150000.0\n",
       "1     duck    bird         8  least concern    3000.0\n",
       "9      ray    fish        20            NaN   90000.0"
      ]
     },
     "execution_count": 24,
     "metadata": {},
     "output_type": "execute_result"
    }
   ],
   "source": [
    "animals_pd.drop_duplicates(subset='class')"
   ]
  },
  {
   "cell_type": "markdown",
   "id": "5f4b13e2-24eb-43a8-8189-dc83248fc3ec",
   "metadata": {},
   "source": [
    "polars"
   ]
  },
  {
   "cell_type": "code",
   "execution_count": 25,
   "id": "41d34160-6d4e-4af0-aba2-115c79364581",
   "metadata": {},
   "outputs": [
    {
     "data": {
      "text/html": [
       "<div><style>\n",
       ".dataframe > thead > tr,\n",
       ".dataframe > tbody > tr {\n",
       "  text-align: right;\n",
       "  white-space: pre-wrap;\n",
       "}\n",
       "</style>\n",
       "<small>shape: (3, 5)</small><table border=\"1\" class=\"dataframe\"><thead><tr><th>animal</th><th>class</th><th>lifespan</th><th>status</th><th>weight</th></tr><tr><td>str</td><td>str</td><td>i64</td><td>str</td><td>i64</td></tr></thead><tbody><tr><td>&quot;dolphin&quot;</td><td>&quot;mammal&quot;</td><td>40</td><td>&quot;least concern&quot;</td><td>150</td></tr><tr><td>&quot;duck&quot;</td><td>&quot;bird&quot;</td><td>8</td><td>&quot;least concern&quot;</td><td>3</td></tr><tr><td>&quot;ray&quot;</td><td>&quot;fish&quot;</td><td>20</td><td>&quot;&quot;</td><td>90</td></tr></tbody></table></div>"
      ],
      "text/plain": [
       "shape: (3, 5)\n",
       "┌─────────┬────────┬──────────┬───────────────┬────────┐\n",
       "│ animal  ┆ class  ┆ lifespan ┆ status        ┆ weight │\n",
       "│ ---     ┆ ---    ┆ ---      ┆ ---           ┆ ---    │\n",
       "│ str     ┆ str    ┆ i64      ┆ str           ┆ i64    │\n",
       "╞═════════╪════════╪══════════╪═══════════════╪════════╡\n",
       "│ dolphin ┆ mammal ┆ 40       ┆ least concern ┆ 150    │\n",
       "│ duck    ┆ bird   ┆ 8        ┆ least concern ┆ 3      │\n",
       "│ ray     ┆ fish   ┆ 20       ┆               ┆ 90     │\n",
       "└─────────┴────────┴──────────┴───────────────┴────────┘"
      ]
     },
     "execution_count": 25,
     "metadata": {},
     "output_type": "execute_result"
    }
   ],
   "source": [
    "animals_pl.unique(subset='class')"
   ]
  },
  {
   "cell_type": "markdown",
   "id": "f3159c2a-c0b6-48b6-8a97-ba36fb8cff14",
   "metadata": {},
   "source": [
    "pandasだと`unique()`は要素を一意にしてくれる処理なので、結構使い方が違うなぁ"
   ]
  },
  {
   "cell_type": "markdown",
   "id": "aa9e9626-720f-44f6-b068-09578d523ec8",
   "metadata": {
    "jp-MarkdownHeadingCollapsed": true
   },
   "source": [
    "### 欠損値の削除"
   ]
  },
  {
   "cell_type": "markdown",
   "id": "0ae02837-12ee-41c8-912a-a5edc994fed2",
   "metadata": {},
   "source": [
    "pandas"
   ]
  },
  {
   "cell_type": "code",
   "execution_count": 26,
   "id": "06ec07f4-1413-4ba9-9404-e11c61e2f032",
   "metadata": {},
   "outputs": [
    {
     "data": {
      "text/html": [
       "<div>\n",
       "<style scoped>\n",
       "    .dataframe tbody tr th:only-of-type {\n",
       "        vertical-align: middle;\n",
       "    }\n",
       "\n",
       "    .dataframe tbody tr th {\n",
       "        vertical-align: top;\n",
       "    }\n",
       "\n",
       "    .dataframe thead th {\n",
       "        text-align: right;\n",
       "    }\n",
       "</style>\n",
       "<table border=\"1\" class=\"dataframe\">\n",
       "  <thead>\n",
       "    <tr style=\"text-align: right;\">\n",
       "      <th></th>\n",
       "      <th>animal</th>\n",
       "      <th>class</th>\n",
       "      <th>lifespan</th>\n",
       "      <th>status</th>\n",
       "      <th>weight</th>\n",
       "    </tr>\n",
       "  </thead>\n",
       "  <tbody>\n",
       "    <tr>\n",
       "      <th>0</th>\n",
       "      <td>dolphin</td>\n",
       "      <td>mammal</td>\n",
       "      <td>40</td>\n",
       "      <td>least concern</td>\n",
       "      <td>150000.0</td>\n",
       "    </tr>\n",
       "    <tr>\n",
       "      <th>1</th>\n",
       "      <td>duck</td>\n",
       "      <td>bird</td>\n",
       "      <td>8</td>\n",
       "      <td>least concern</td>\n",
       "      <td>3000.0</td>\n",
       "    </tr>\n",
       "    <tr>\n",
       "      <th>2</th>\n",
       "      <td>elephant</td>\n",
       "      <td>mammal</td>\n",
       "      <td>60</td>\n",
       "      <td>endangered</td>\n",
       "      <td>8000000.0</td>\n",
       "    </tr>\n",
       "    <tr>\n",
       "      <th>3</th>\n",
       "      <td>ibis</td>\n",
       "      <td>bird</td>\n",
       "      <td>16</td>\n",
       "      <td>least concern</td>\n",
       "      <td>1000.0</td>\n",
       "    </tr>\n",
       "    <tr>\n",
       "      <th>4</th>\n",
       "      <td>impala</td>\n",
       "      <td>mammal</td>\n",
       "      <td>12</td>\n",
       "      <td>least concern</td>\n",
       "      <td>70000.0</td>\n",
       "    </tr>\n",
       "    <tr>\n",
       "      <th>5</th>\n",
       "      <td>kudu</td>\n",
       "      <td>mammal</td>\n",
       "      <td>15</td>\n",
       "      <td>least concern</td>\n",
       "      <td>250000.0</td>\n",
       "    </tr>\n",
       "    <tr>\n",
       "      <th>7</th>\n",
       "      <td>panda</td>\n",
       "      <td>mammal</td>\n",
       "      <td>20</td>\n",
       "      <td>vulnerable</td>\n",
       "      <td>100000.0</td>\n",
       "    </tr>\n",
       "    <tr>\n",
       "      <th>8</th>\n",
       "      <td>polar bear</td>\n",
       "      <td>mammal</td>\n",
       "      <td>25</td>\n",
       "      <td>vulnerable</td>\n",
       "      <td>720000.0</td>\n",
       "    </tr>\n",
       "    <tr>\n",
       "      <th>9</th>\n",
       "      <td>ray</td>\n",
       "      <td>fish</td>\n",
       "      <td>20</td>\n",
       "      <td>NaN</td>\n",
       "      <td>90000.0</td>\n",
       "    </tr>\n",
       "  </tbody>\n",
       "</table>\n",
       "</div>"
      ],
      "text/plain": [
       "       animal   class  lifespan         status     weight\n",
       "0     dolphin  mammal        40  least concern   150000.0\n",
       "1        duck    bird         8  least concern     3000.0\n",
       "2    elephant  mammal        60     endangered  8000000.0\n",
       "3        ibis    bird        16  least concern     1000.0\n",
       "4      impala  mammal        12  least concern    70000.0\n",
       "5        kudu  mammal        15  least concern   250000.0\n",
       "7       panda  mammal        20     vulnerable   100000.0\n",
       "8  polar bear  mammal        25     vulnerable   720000.0\n",
       "9         ray    fish        20            NaN    90000.0"
      ]
     },
     "execution_count": 26,
     "metadata": {},
     "output_type": "execute_result"
    }
   ],
   "source": [
    "animals_pd.dropna(subset='weight')"
   ]
  },
  {
   "cell_type": "markdown",
   "id": "33a2529e-6bba-4708-8a3d-cd8e42048163",
   "metadata": {},
   "source": [
    "polars"
   ]
  },
  {
   "cell_type": "code",
   "execution_count": 27,
   "id": "e7bc8511-773c-4d77-8133-382f46c636ea",
   "metadata": {},
   "outputs": [
    {
     "data": {
      "text/html": [
       "<div><style>\n",
       ".dataframe > thead > tr,\n",
       ".dataframe > tbody > tr {\n",
       "  text-align: right;\n",
       "  white-space: pre-wrap;\n",
       "}\n",
       "</style>\n",
       "<small>shape: (9, 5)</small><table border=\"1\" class=\"dataframe\"><thead><tr><th>animal</th><th>class</th><th>lifespan</th><th>status</th><th>weight</th></tr><tr><td>str</td><td>str</td><td>i64</td><td>str</td><td>i64</td></tr></thead><tbody><tr><td>&quot;dolphin&quot;</td><td>&quot;mammal&quot;</td><td>40</td><td>&quot;least concern&quot;</td><td>150</td></tr><tr><td>&quot;duck&quot;</td><td>&quot;bird&quot;</td><td>8</td><td>&quot;least concern&quot;</td><td>3</td></tr><tr><td>&quot;elephant&quot;</td><td>&quot;mammal&quot;</td><td>60</td><td>&quot;endangered&quot;</td><td>8000</td></tr><tr><td>&quot;ibis&quot;</td><td>&quot;bird&quot;</td><td>16</td><td>&quot;least concern&quot;</td><td>1</td></tr><tr><td>&quot;impala&quot;</td><td>&quot;mammal&quot;</td><td>12</td><td>&quot;least concern&quot;</td><td>70</td></tr><tr><td>&quot;kudu&quot;</td><td>&quot;mammal&quot;</td><td>15</td><td>&quot;least concern&quot;</td><td>250</td></tr><tr><td>&quot;panda&quot;</td><td>&quot;mammal&quot;</td><td>20</td><td>&quot;vulnerable&quot;</td><td>100</td></tr><tr><td>&quot;polar bear&quot;</td><td>&quot;mammal&quot;</td><td>25</td><td>&quot;vulnerable&quot;</td><td>720</td></tr><tr><td>&quot;ray&quot;</td><td>&quot;fish&quot;</td><td>20</td><td>&quot;&quot;</td><td>90</td></tr></tbody></table></div>"
      ],
      "text/plain": [
       "shape: (9, 5)\n",
       "┌────────────┬────────┬──────────┬───────────────┬────────┐\n",
       "│ animal     ┆ class  ┆ lifespan ┆ status        ┆ weight │\n",
       "│ ---        ┆ ---    ┆ ---      ┆ ---           ┆ ---    │\n",
       "│ str        ┆ str    ┆ i64      ┆ str           ┆ i64    │\n",
       "╞════════════╪════════╪══════════╪═══════════════╪════════╡\n",
       "│ dolphin    ┆ mammal ┆ 40       ┆ least concern ┆ 150    │\n",
       "│ duck       ┆ bird   ┆ 8        ┆ least concern ┆ 3      │\n",
       "│ elephant   ┆ mammal ┆ 60       ┆ endangered    ┆ 8000   │\n",
       "│ ibis       ┆ bird   ┆ 16       ┆ least concern ┆ 1      │\n",
       "│ impala     ┆ mammal ┆ 12       ┆ least concern ┆ 70     │\n",
       "│ kudu       ┆ mammal ┆ 15       ┆ least concern ┆ 250    │\n",
       "│ panda      ┆ mammal ┆ 20       ┆ vulnerable    ┆ 100    │\n",
       "│ polar bear ┆ mammal ┆ 25       ┆ vulnerable    ┆ 720    │\n",
       "│ ray        ┆ fish   ┆ 20       ┆               ┆ 90     │\n",
       "└────────────┴────────┴──────────┴───────────────┴────────┘"
      ]
     },
     "execution_count": 27,
     "metadata": {},
     "output_type": "execute_result"
    }
   ],
   "source": [
    "animals_pl.drop_nulls(subset='weight')"
   ]
  },
  {
   "cell_type": "markdown",
   "id": "796d5db4-e071-4989-99b6-1d98b4997853",
   "metadata": {},
   "source": [
    "これに関してはpolarsが`NaN`を使わないので、合点がいく"
   ]
  },
  {
   "cell_type": "markdown",
   "id": "f695fce2-2cb2-4df3-ad4b-baf83ffd9713",
   "metadata": {
    "jp-MarkdownHeadingCollapsed": true
   },
   "source": [
    "### ソート"
   ]
  },
  {
   "cell_type": "markdown",
   "id": "88f73d17-d247-4059-a294-c3bb6c88565a",
   "metadata": {},
   "source": [
    "pandas"
   ]
  },
  {
   "cell_type": "code",
   "execution_count": 28,
   "id": "7ad8b030-a4fd-40a1-b659-a0845597ed4d",
   "metadata": {},
   "outputs": [
    {
     "data": {
      "text/html": [
       "<div>\n",
       "<style scoped>\n",
       "    .dataframe tbody tr th:only-of-type {\n",
       "        vertical-align: middle;\n",
       "    }\n",
       "\n",
       "    .dataframe tbody tr th {\n",
       "        vertical-align: top;\n",
       "    }\n",
       "\n",
       "    .dataframe thead th {\n",
       "        text-align: right;\n",
       "    }\n",
       "</style>\n",
       "<table border=\"1\" class=\"dataframe\">\n",
       "  <thead>\n",
       "    <tr style=\"text-align: right;\">\n",
       "      <th></th>\n",
       "      <th>animal</th>\n",
       "      <th>class</th>\n",
       "      <th>lifespan</th>\n",
       "      <th>status</th>\n",
       "      <th>weight</th>\n",
       "    </tr>\n",
       "  </thead>\n",
       "  <tbody>\n",
       "    <tr>\n",
       "      <th>2</th>\n",
       "      <td>elephant</td>\n",
       "      <td>mammal</td>\n",
       "      <td>60</td>\n",
       "      <td>endangered</td>\n",
       "      <td>8000000.0</td>\n",
       "    </tr>\n",
       "    <tr>\n",
       "      <th>8</th>\n",
       "      <td>polar bear</td>\n",
       "      <td>mammal</td>\n",
       "      <td>25</td>\n",
       "      <td>vulnerable</td>\n",
       "      <td>720000.0</td>\n",
       "    </tr>\n",
       "    <tr>\n",
       "      <th>5</th>\n",
       "      <td>kudu</td>\n",
       "      <td>mammal</td>\n",
       "      <td>15</td>\n",
       "      <td>least concern</td>\n",
       "      <td>250000.0</td>\n",
       "    </tr>\n",
       "    <tr>\n",
       "      <th>0</th>\n",
       "      <td>dolphin</td>\n",
       "      <td>mammal</td>\n",
       "      <td>40</td>\n",
       "      <td>least concern</td>\n",
       "      <td>150000.0</td>\n",
       "    </tr>\n",
       "    <tr>\n",
       "      <th>7</th>\n",
       "      <td>panda</td>\n",
       "      <td>mammal</td>\n",
       "      <td>20</td>\n",
       "      <td>vulnerable</td>\n",
       "      <td>100000.0</td>\n",
       "    </tr>\n",
       "    <tr>\n",
       "      <th>9</th>\n",
       "      <td>ray</td>\n",
       "      <td>fish</td>\n",
       "      <td>20</td>\n",
       "      <td>NaN</td>\n",
       "      <td>90000.0</td>\n",
       "    </tr>\n",
       "    <tr>\n",
       "      <th>4</th>\n",
       "      <td>impala</td>\n",
       "      <td>mammal</td>\n",
       "      <td>12</td>\n",
       "      <td>least concern</td>\n",
       "      <td>70000.0</td>\n",
       "    </tr>\n",
       "    <tr>\n",
       "      <th>1</th>\n",
       "      <td>duck</td>\n",
       "      <td>bird</td>\n",
       "      <td>8</td>\n",
       "      <td>least concern</td>\n",
       "      <td>3000.0</td>\n",
       "    </tr>\n",
       "    <tr>\n",
       "      <th>3</th>\n",
       "      <td>ibis</td>\n",
       "      <td>bird</td>\n",
       "      <td>16</td>\n",
       "      <td>least concern</td>\n",
       "      <td>1000.0</td>\n",
       "    </tr>\n",
       "    <tr>\n",
       "      <th>6</th>\n",
       "      <td>narwhal</td>\n",
       "      <td>mammal</td>\n",
       "      <td>40</td>\n",
       "      <td>near threatened</td>\n",
       "      <td>NaN</td>\n",
       "    </tr>\n",
       "  </tbody>\n",
       "</table>\n",
       "</div>"
      ],
      "text/plain": [
       "       animal   class  lifespan           status     weight\n",
       "2    elephant  mammal        60       endangered  8000000.0\n",
       "8  polar bear  mammal        25       vulnerable   720000.0\n",
       "5        kudu  mammal        15    least concern   250000.0\n",
       "0     dolphin  mammal        40    least concern   150000.0\n",
       "7       panda  mammal        20       vulnerable   100000.0\n",
       "9         ray    fish        20              NaN    90000.0\n",
       "4      impala  mammal        12    least concern    70000.0\n",
       "1        duck    bird         8    least concern     3000.0\n",
       "3        ibis    bird        16    least concern     1000.0\n",
       "6     narwhal  mammal        40  near threatened        NaN"
      ]
     },
     "execution_count": 28,
     "metadata": {},
     "output_type": "execute_result"
    }
   ],
   "source": [
    "animals_pd.sort_values('weight', ascending=False)"
   ]
  },
  {
   "cell_type": "markdown",
   "id": "3949a200-19d2-4456-bc99-89970a736202",
   "metadata": {},
   "source": [
    "polars"
   ]
  },
  {
   "cell_type": "code",
   "execution_count": 29,
   "id": "b3f09b39-9c35-462d-ab2a-2afb9296ac19",
   "metadata": {},
   "outputs": [
    {
     "data": {
      "text/html": [
       "<div><style>\n",
       ".dataframe > thead > tr,\n",
       ".dataframe > tbody > tr {\n",
       "  text-align: right;\n",
       "  white-space: pre-wrap;\n",
       "}\n",
       "</style>\n",
       "<small>shape: (10, 5)</small><table border=\"1\" class=\"dataframe\"><thead><tr><th>animal</th><th>class</th><th>lifespan</th><th>status</th><th>weight</th></tr><tr><td>str</td><td>str</td><td>i64</td><td>str</td><td>i64</td></tr></thead><tbody><tr><td>&quot;narwhal&quot;</td><td>&quot;mammal&quot;</td><td>40</td><td>&quot;near threatened&quot;</td><td>null</td></tr><tr><td>&quot;elephant&quot;</td><td>&quot;mammal&quot;</td><td>60</td><td>&quot;endangered&quot;</td><td>8000</td></tr><tr><td>&quot;polar bear&quot;</td><td>&quot;mammal&quot;</td><td>25</td><td>&quot;vulnerable&quot;</td><td>720</td></tr><tr><td>&quot;kudu&quot;</td><td>&quot;mammal&quot;</td><td>15</td><td>&quot;least concern&quot;</td><td>250</td></tr><tr><td>&quot;dolphin&quot;</td><td>&quot;mammal&quot;</td><td>40</td><td>&quot;least concern&quot;</td><td>150</td></tr><tr><td>&quot;panda&quot;</td><td>&quot;mammal&quot;</td><td>20</td><td>&quot;vulnerable&quot;</td><td>100</td></tr><tr><td>&quot;ray&quot;</td><td>&quot;fish&quot;</td><td>20</td><td>&quot;&quot;</td><td>90</td></tr><tr><td>&quot;impala&quot;</td><td>&quot;mammal&quot;</td><td>12</td><td>&quot;least concern&quot;</td><td>70</td></tr><tr><td>&quot;duck&quot;</td><td>&quot;bird&quot;</td><td>8</td><td>&quot;least concern&quot;</td><td>3</td></tr><tr><td>&quot;ibis&quot;</td><td>&quot;bird&quot;</td><td>16</td><td>&quot;least concern&quot;</td><td>1</td></tr></tbody></table></div>"
      ],
      "text/plain": [
       "shape: (10, 5)\n",
       "┌────────────┬────────┬──────────┬─────────────────┬────────┐\n",
       "│ animal     ┆ class  ┆ lifespan ┆ status          ┆ weight │\n",
       "│ ---        ┆ ---    ┆ ---      ┆ ---             ┆ ---    │\n",
       "│ str        ┆ str    ┆ i64      ┆ str             ┆ i64    │\n",
       "╞════════════╪════════╪══════════╪═════════════════╪════════╡\n",
       "│ narwhal    ┆ mammal ┆ 40       ┆ near threatened ┆ null   │\n",
       "│ elephant   ┆ mammal ┆ 60       ┆ endangered      ┆ 8000   │\n",
       "│ polar bear ┆ mammal ┆ 25       ┆ vulnerable      ┆ 720    │\n",
       "│ kudu       ┆ mammal ┆ 15       ┆ least concern   ┆ 250    │\n",
       "│ dolphin    ┆ mammal ┆ 40       ┆ least concern   ┆ 150    │\n",
       "│ panda      ┆ mammal ┆ 20       ┆ vulnerable      ┆ 100    │\n",
       "│ ray        ┆ fish   ┆ 20       ┆                 ┆ 90     │\n",
       "│ impala     ┆ mammal ┆ 12       ┆ least concern   ┆ 70     │\n",
       "│ duck       ┆ bird   ┆ 8        ┆ least concern   ┆ 3      │\n",
       "│ ibis       ┆ bird   ┆ 16       ┆ least concern   ┆ 1      │\n",
       "└────────────┴────────┴──────────┴─────────────────┴────────┘"
      ]
     },
     "execution_count": 29,
     "metadata": {},
     "output_type": "execute_result"
    }
   ],
   "source": [
    "animals_pl.sort('weight', descending=True)"
   ]
  },
  {
   "cell_type": "markdown",
   "id": "3a11b34c-32dd-4f01-a5c4-ca6cf34d85ab",
   "metadata": {},
   "source": [
    "pandasとpolarsでソートする順番が`ascending`か`descending`で、意味が真逆なのはややこしいなぁ。  \n",
    "でも、ソートのデフォルトのイメージは小さい順（アルファベット順が特にイメージ強い）なので、個人的にはpolarsの方が好きかも"
   ]
  },
  {
   "cell_type": "markdown",
   "id": "2949e619-2b06-4e1b-8fa0-e8dce0e8f247",
   "metadata": {
    "jp-MarkdownHeadingCollapsed": true
   },
   "source": [
    "### カラムの型を変換"
   ]
  },
  {
   "cell_type": "markdown",
   "id": "ece4cc99-e4a0-4aa8-bf20-904aeebce894",
   "metadata": {},
   "source": [
    "pandas"
   ]
  },
  {
   "cell_type": "code",
   "execution_count": 30,
   "id": "27c3ed61-588d-429e-bca7-4ca4f0c0d3fa",
   "metadata": {},
   "outputs": [
    {
     "data": {
      "text/html": [
       "<div>\n",
       "<style scoped>\n",
       "    .dataframe tbody tr th:only-of-type {\n",
       "        vertical-align: middle;\n",
       "    }\n",
       "\n",
       "    .dataframe tbody tr th {\n",
       "        vertical-align: top;\n",
       "    }\n",
       "\n",
       "    .dataframe thead th {\n",
       "        text-align: right;\n",
       "    }\n",
       "</style>\n",
       "<table border=\"1\" class=\"dataframe\">\n",
       "  <thead>\n",
       "    <tr style=\"text-align: right;\">\n",
       "      <th></th>\n",
       "      <th>animal</th>\n",
       "      <th>class</th>\n",
       "      <th>lifespan</th>\n",
       "      <th>status</th>\n",
       "      <th>weight</th>\n",
       "    </tr>\n",
       "  </thead>\n",
       "  <tbody>\n",
       "    <tr>\n",
       "      <th>0</th>\n",
       "      <td>dolphin</td>\n",
       "      <td>mammal</td>\n",
       "      <td>40.0</td>\n",
       "      <td>least concern</td>\n",
       "      <td>150000.0</td>\n",
       "    </tr>\n",
       "    <tr>\n",
       "      <th>1</th>\n",
       "      <td>duck</td>\n",
       "      <td>bird</td>\n",
       "      <td>8.0</td>\n",
       "      <td>least concern</td>\n",
       "      <td>3000.0</td>\n",
       "    </tr>\n",
       "    <tr>\n",
       "      <th>2</th>\n",
       "      <td>elephant</td>\n",
       "      <td>mammal</td>\n",
       "      <td>60.0</td>\n",
       "      <td>endangered</td>\n",
       "      <td>8000000.0</td>\n",
       "    </tr>\n",
       "    <tr>\n",
       "      <th>3</th>\n",
       "      <td>ibis</td>\n",
       "      <td>bird</td>\n",
       "      <td>16.0</td>\n",
       "      <td>least concern</td>\n",
       "      <td>1000.0</td>\n",
       "    </tr>\n",
       "    <tr>\n",
       "      <th>4</th>\n",
       "      <td>impala</td>\n",
       "      <td>mammal</td>\n",
       "      <td>12.0</td>\n",
       "      <td>least concern</td>\n",
       "      <td>70000.0</td>\n",
       "    </tr>\n",
       "    <tr>\n",
       "      <th>5</th>\n",
       "      <td>kudu</td>\n",
       "      <td>mammal</td>\n",
       "      <td>15.0</td>\n",
       "      <td>least concern</td>\n",
       "      <td>250000.0</td>\n",
       "    </tr>\n",
       "    <tr>\n",
       "      <th>6</th>\n",
       "      <td>narwhal</td>\n",
       "      <td>mammal</td>\n",
       "      <td>40.0</td>\n",
       "      <td>near threatened</td>\n",
       "      <td>NaN</td>\n",
       "    </tr>\n",
       "    <tr>\n",
       "      <th>7</th>\n",
       "      <td>panda</td>\n",
       "      <td>mammal</td>\n",
       "      <td>20.0</td>\n",
       "      <td>vulnerable</td>\n",
       "      <td>100000.0</td>\n",
       "    </tr>\n",
       "    <tr>\n",
       "      <th>8</th>\n",
       "      <td>polar bear</td>\n",
       "      <td>mammal</td>\n",
       "      <td>25.0</td>\n",
       "      <td>vulnerable</td>\n",
       "      <td>720000.0</td>\n",
       "    </tr>\n",
       "    <tr>\n",
       "      <th>9</th>\n",
       "      <td>ray</td>\n",
       "      <td>fish</td>\n",
       "      <td>20.0</td>\n",
       "      <td>NaN</td>\n",
       "      <td>90000.0</td>\n",
       "    </tr>\n",
       "  </tbody>\n",
       "</table>\n",
       "</div>"
      ],
      "text/plain": [
       "       animal   class  lifespan           status     weight\n",
       "0     dolphin  mammal      40.0    least concern   150000.0\n",
       "1        duck    bird       8.0    least concern     3000.0\n",
       "2    elephant  mammal      60.0       endangered  8000000.0\n",
       "3        ibis    bird      16.0    least concern     1000.0\n",
       "4      impala  mammal      12.0    least concern    70000.0\n",
       "5        kudu  mammal      15.0    least concern   250000.0\n",
       "6     narwhal  mammal      40.0  near threatened        NaN\n",
       "7       panda  mammal      20.0       vulnerable   100000.0\n",
       "8  polar bear  mammal      25.0       vulnerable   720000.0\n",
       "9         ray    fish      20.0              NaN    90000.0"
      ]
     },
     "execution_count": 30,
     "metadata": {},
     "output_type": "execute_result"
    }
   ],
   "source": [
    "animals_pd.assign(lifespan=animals_pd['lifespan'].astype(float))"
   ]
  },
  {
   "cell_type": "markdown",
   "id": "a1885062-8575-458c-9de0-ff4045e382ce",
   "metadata": {},
   "source": [
    "polars"
   ]
  },
  {
   "cell_type": "code",
   "execution_count": 31,
   "id": "4f38302a-826f-4915-844b-d65495bd3732",
   "metadata": {},
   "outputs": [
    {
     "data": {
      "text/html": [
       "<div><style>\n",
       ".dataframe > thead > tr,\n",
       ".dataframe > tbody > tr {\n",
       "  text-align: right;\n",
       "  white-space: pre-wrap;\n",
       "}\n",
       "</style>\n",
       "<small>shape: (10, 5)</small><table border=\"1\" class=\"dataframe\"><thead><tr><th>animal</th><th>class</th><th>lifespan</th><th>status</th><th>weight</th></tr><tr><td>str</td><td>str</td><td>f64</td><td>str</td><td>i64</td></tr></thead><tbody><tr><td>&quot;dolphin&quot;</td><td>&quot;mammal&quot;</td><td>40.0</td><td>&quot;least concern&quot;</td><td>150</td></tr><tr><td>&quot;duck&quot;</td><td>&quot;bird&quot;</td><td>8.0</td><td>&quot;least concern&quot;</td><td>3</td></tr><tr><td>&quot;elephant&quot;</td><td>&quot;mammal&quot;</td><td>60.0</td><td>&quot;endangered&quot;</td><td>8000</td></tr><tr><td>&quot;ibis&quot;</td><td>&quot;bird&quot;</td><td>16.0</td><td>&quot;least concern&quot;</td><td>1</td></tr><tr><td>&quot;impala&quot;</td><td>&quot;mammal&quot;</td><td>12.0</td><td>&quot;least concern&quot;</td><td>70</td></tr><tr><td>&quot;kudu&quot;</td><td>&quot;mammal&quot;</td><td>15.0</td><td>&quot;least concern&quot;</td><td>250</td></tr><tr><td>&quot;narwhal&quot;</td><td>&quot;mammal&quot;</td><td>40.0</td><td>&quot;near threatened&quot;</td><td>null</td></tr><tr><td>&quot;panda&quot;</td><td>&quot;mammal&quot;</td><td>20.0</td><td>&quot;vulnerable&quot;</td><td>100</td></tr><tr><td>&quot;polar bear&quot;</td><td>&quot;mammal&quot;</td><td>25.0</td><td>&quot;vulnerable&quot;</td><td>720</td></tr><tr><td>&quot;ray&quot;</td><td>&quot;fish&quot;</td><td>20.0</td><td>&quot;&quot;</td><td>90</td></tr></tbody></table></div>"
      ],
      "text/plain": [
       "shape: (10, 5)\n",
       "┌────────────┬────────┬──────────┬─────────────────┬────────┐\n",
       "│ animal     ┆ class  ┆ lifespan ┆ status          ┆ weight │\n",
       "│ ---        ┆ ---    ┆ ---      ┆ ---             ┆ ---    │\n",
       "│ str        ┆ str    ┆ f64      ┆ str             ┆ i64    │\n",
       "╞════════════╪════════╪══════════╪═════════════════╪════════╡\n",
       "│ dolphin    ┆ mammal ┆ 40.0     ┆ least concern   ┆ 150    │\n",
       "│ duck       ┆ bird   ┆ 8.0      ┆ least concern   ┆ 3      │\n",
       "│ elephant   ┆ mammal ┆ 60.0     ┆ endangered      ┆ 8000   │\n",
       "│ ibis       ┆ bird   ┆ 16.0     ┆ least concern   ┆ 1      │\n",
       "│ impala     ┆ mammal ┆ 12.0     ┆ least concern   ┆ 70     │\n",
       "│ kudu       ┆ mammal ┆ 15.0     ┆ least concern   ┆ 250    │\n",
       "│ narwhal    ┆ mammal ┆ 40.0     ┆ near threatened ┆ null   │\n",
       "│ panda      ┆ mammal ┆ 20.0     ┆ vulnerable      ┆ 100    │\n",
       "│ polar bear ┆ mammal ┆ 25.0     ┆ vulnerable      ┆ 720    │\n",
       "│ ray        ┆ fish   ┆ 20.0     ┆                 ┆ 90     │\n",
       "└────────────┴────────┴──────────┴─────────────────┴────────┘"
      ]
     },
     "execution_count": 31,
     "metadata": {},
     "output_type": "execute_result"
    }
   ],
   "source": [
    "animals_pl.with_columns(pl.col('lifespan').cast(pl.Float64))"
   ]
  },
  {
   "cell_type": "markdown",
   "id": "8dbeb840-7570-47c9-99f9-754d137b390f",
   "metadata": {},
   "source": [
    "`astype()`よりも`cast()`の方が直感的にわかりやすい単語な気がして、これもpolarsの方が好きかも。  \n",
    "その代わり、pythonでfloatの桁数とかを普段考えることが少ないので、polarsでcastする際には、きちんとビット数を指定しないといけないという点で、やや容易さに欠ける気がする。  \n",
    "まぁ、numpy使っていればビット数を指定するはずなので、慣れの問題かも。"
   ]
  },
  {
   "cell_type": "markdown",
   "id": "9de26531-d57a-46e3-85a3-4c1bd22c1ebd",
   "metadata": {
    "jp-MarkdownHeadingCollapsed": true
   },
   "source": [
    "### 行の集計"
   ]
  },
  {
   "cell_type": "markdown",
   "id": "614a645d-e27c-4523-a4d5-e5ecc0e0af70",
   "metadata": {},
   "source": [
    "pandas"
   ]
  },
  {
   "cell_type": "code",
   "execution_count": 32,
   "id": "684911d9-1701-4ba7-afca-ff3077c70a36",
   "metadata": {},
   "outputs": [
    {
     "data": {
      "text/html": [
       "<div>\n",
       "<style scoped>\n",
       "    .dataframe tbody tr th:only-of-type {\n",
       "        vertical-align: middle;\n",
       "    }\n",
       "\n",
       "    .dataframe tbody tr th {\n",
       "        vertical-align: top;\n",
       "    }\n",
       "\n",
       "    .dataframe thead th {\n",
       "        text-align: right;\n",
       "    }\n",
       "</style>\n",
       "<table border=\"1\" class=\"dataframe\">\n",
       "  <thead>\n",
       "    <tr style=\"text-align: right;\">\n",
       "      <th></th>\n",
       "      <th></th>\n",
       "      <th>weight</th>\n",
       "    </tr>\n",
       "    <tr>\n",
       "      <th>class</th>\n",
       "      <th>status</th>\n",
       "      <th></th>\n",
       "    </tr>\n",
       "  </thead>\n",
       "  <tbody>\n",
       "    <tr>\n",
       "      <th>bird</th>\n",
       "      <th>least concern</th>\n",
       "      <td>2.000000e+03</td>\n",
       "    </tr>\n",
       "    <tr>\n",
       "      <th rowspan=\"4\" valign=\"top\">mammal</th>\n",
       "      <th>endangered</th>\n",
       "      <td>8.000000e+06</td>\n",
       "    </tr>\n",
       "    <tr>\n",
       "      <th>least concern</th>\n",
       "      <td>1.566667e+05</td>\n",
       "    </tr>\n",
       "    <tr>\n",
       "      <th>near threatened</th>\n",
       "      <td>NaN</td>\n",
       "    </tr>\n",
       "    <tr>\n",
       "      <th>vulnerable</th>\n",
       "      <td>4.100000e+05</td>\n",
       "    </tr>\n",
       "  </tbody>\n",
       "</table>\n",
       "</div>"
      ],
      "text/plain": [
       "                              weight\n",
       "class  status                       \n",
       "bird   least concern    2.000000e+03\n",
       "mammal endangered       8.000000e+06\n",
       "       least concern    1.566667e+05\n",
       "       near threatened           NaN\n",
       "       vulnerable       4.100000e+05"
      ]
     },
     "execution_count": 32,
     "metadata": {},
     "output_type": "execute_result"
    }
   ],
   "source": [
    "animals_pd.groupby(['class', 'status'])[['weight']].mean()"
   ]
  },
  {
   "cell_type": "markdown",
   "id": "f443bc1d-4d84-48b7-977b-3e4dc8fb91c0",
   "metadata": {},
   "source": [
    "polars"
   ]
  },
  {
   "cell_type": "code",
   "execution_count": 33,
   "id": "a94d371e-e9b3-4287-9f1f-c7ab2080b15e",
   "metadata": {},
   "outputs": [
    {
     "data": {
      "text/html": [
       "<div><style>\n",
       ".dataframe > thead > tr,\n",
       ".dataframe > tbody > tr {\n",
       "  text-align: right;\n",
       "  white-space: pre-wrap;\n",
       "}\n",
       "</style>\n",
       "<small>shape: (6, 3)</small><table border=\"1\" class=\"dataframe\"><thead><tr><th>class</th><th>status</th><th>weight</th></tr><tr><td>str</td><td>str</td><td>f64</td></tr></thead><tbody><tr><td>&quot;fish&quot;</td><td>&quot;&quot;</td><td>90.0</td></tr><tr><td>&quot;mammal&quot;</td><td>&quot;near threatened&quot;</td><td>null</td></tr><tr><td>&quot;mammal&quot;</td><td>&quot;least concern&quot;</td><td>156.666667</td></tr><tr><td>&quot;bird&quot;</td><td>&quot;least concern&quot;</td><td>2.0</td></tr><tr><td>&quot;mammal&quot;</td><td>&quot;endangered&quot;</td><td>8000.0</td></tr><tr><td>&quot;mammal&quot;</td><td>&quot;vulnerable&quot;</td><td>410.0</td></tr></tbody></table></div>"
      ],
      "text/plain": [
       "shape: (6, 3)\n",
       "┌────────┬─────────────────┬────────────┐\n",
       "│ class  ┆ status          ┆ weight     │\n",
       "│ ---    ┆ ---             ┆ ---        │\n",
       "│ str    ┆ str             ┆ f64        │\n",
       "╞════════╪═════════════════╪════════════╡\n",
       "│ fish   ┆                 ┆ 90.0       │\n",
       "│ mammal ┆ near threatened ┆ null       │\n",
       "│ mammal ┆ least concern   ┆ 156.666667 │\n",
       "│ bird   ┆ least concern   ┆ 2.0        │\n",
       "│ mammal ┆ endangered      ┆ 8000.0     │\n",
       "│ mammal ┆ vulnerable      ┆ 410.0      │\n",
       "└────────┴─────────────────┴────────────┘"
      ]
     },
     "execution_count": 33,
     "metadata": {},
     "output_type": "execute_result"
    }
   ],
   "source": [
    "animals_pl.group_by(['class', 'status']).agg(pl.col('weight').mean())"
   ]
  },
  {
   "cell_type": "markdown",
   "id": "29b7a236-0377-44b5-8804-8cb71cd7db45",
   "metadata": {},
   "source": [
    "pandasは`[`,`]`を使うことによって、短く簡潔に記述できるけれど、反面可読性が落ちると言われたらその通り。  \n",
    "ただ、polarsは`[`,`]`を乱用しないのでややこしくなりにくい記述はできるだろうけれど、記述量が増えてしまうのか"
   ]
  },
  {
   "cell_type": "code",
   "execution_count": null,
   "id": "659ef48d-b3ec-4ed2-829d-bc51194d22c5",
   "metadata": {},
   "outputs": [],
   "source": []
  }
 ],
 "metadata": {
  "kernelspec": {
   "display_name": "Python 3 (ipykernel)",
   "language": "python",
   "name": "python3"
  },
  "language_info": {
   "codemirror_mode": {
    "name": "ipython",
    "version": 3
   },
   "file_extension": ".py",
   "mimetype": "text/x-python",
   "name": "python",
   "nbconvert_exporter": "python",
   "pygments_lexer": "ipython3",
   "version": "3.12.3"
  }
 },
 "nbformat": 4,
 "nbformat_minor": 5
}
