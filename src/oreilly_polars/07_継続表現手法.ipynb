{
 "cells": [
  {
   "cell_type": "markdown",
   "id": "1bc7f8ed-ab37-4730-8e74-16c6fa742986",
   "metadata": {},
   "source": [
    "# Polarsの継続表現手法\n",
    "直訳で継続表現としているが、`pl.Expr`に続くモジュールのことを指していると思われる。  \n",
    "なので、本notebookでは`pl.Expr`に対して使用可能な様々なモジュールに関して色々操作する"
   ]
  },
  {
   "cell_type": "code",
   "execution_count": 1,
   "id": "963885ce-3230-4f10-9877-f6fe7e030af6",
   "metadata": {},
   "outputs": [],
   "source": [
    "import math\n",
    "import numpy as np\n",
    "import os\n",
    "\n",
    "import polars as pl"
   ]
  },
  {
   "cell_type": "markdown",
   "id": "59108d2c-dfcc-42a5-9e0f-dadd47bd1674",
   "metadata": {},
   "source": [
    "## 定数定義"
   ]
  },
  {
   "cell_type": "code",
   "execution_count": 2,
   "id": "49eb25e6-1428-4993-af45-e74e871f40ea",
   "metadata": {},
   "outputs": [],
   "source": [
    "DATA_PAR_PATH = os.path.join('..','..','data')\n",
    "INPUT_CSV_PATH_PENGUINS = os.path.join(DATA_PAR_PATH,'penguins.csv')"
   ]
  },
  {
   "cell_type": "markdown",
   "id": "a59f1c33-55a5-4a69-8e28-24b0e1cfdf9c",
   "metadata": {
    "jp-MarkdownHeadingCollapsed": true
   },
   "source": [
    "## 継続表現の例"
   ]
  },
  {
   "cell_type": "code",
   "execution_count": 3,
   "id": "a07d16e4-8a8f-4a67-99e2-a437e9d0ba24",
   "metadata": {},
   "outputs": [
    {
     "name": "stdout",
     "output_type": "stream",
     "text": [
      "math.pi = 3.141592653589793\n",
      "rng.random() = 0.03074202960516803\n"
     ]
    }
   ],
   "source": [
    "print(f\"{math.pi = }\")\n",
    "rng = np.random.default_rng(1729)\n",
    "print(f\"{rng.random() = }\")"
   ]
  },
  {
   "cell_type": "code",
   "execution_count": 4,
   "id": "4aacc6ce-0d39-4132-b149-b449d77a4f8b",
   "metadata": {},
   "outputs": [
    {
     "data": {
      "text/html": [
       "<div><style>\n",
       ".dataframe > thead > tr,\n",
       ".dataframe > tbody > tr {\n",
       "  text-align: right;\n",
       "  white-space: pre-wrap;\n",
       "}\n",
       "</style>\n",
       "<small>shape: (344, 7)</small><table border=\"1\" class=\"dataframe\"><thead><tr><th>species</th><th>island</th><th>sex</th><th>year</th><th>mass</th><th>mass_sqrt</th><th>mass_filled</th></tr><tr><td>str</td><td>str</td><td>str</td><td>i64</td><td>f64</td><td>f64</td><td>f64</td></tr></thead><tbody><tr><td>&quot;Adelie&quot;</td><td>&quot;Torgersen&quot;</td><td>&quot;male&quot;</td><td>2007</td><td>3.75</td><td>1.936492</td><td>3.75</td></tr><tr><td>&quot;Adelie&quot;</td><td>&quot;Torgersen&quot;</td><td>&quot;female&quot;</td><td>2007</td><td>3.8</td><td>1.949359</td><td>3.8</td></tr><tr><td>&quot;Adelie&quot;</td><td>&quot;Torgersen&quot;</td><td>&quot;female&quot;</td><td>2007</td><td>3.25</td><td>1.802776</td><td>3.25</td></tr><tr><td>&quot;Adelie&quot;</td><td>&quot;Torgersen&quot;</td><td>null</td><td>2007</td><td>null</td><td>null</td><td>3.35</td></tr><tr><td>&quot;Adelie&quot;</td><td>&quot;Torgersen&quot;</td><td>&quot;female&quot;</td><td>2007</td><td>3.45</td><td>1.857418</td><td>3.45</td></tr><tr><td>&hellip;</td><td>&hellip;</td><td>&hellip;</td><td>&hellip;</td><td>&hellip;</td><td>&hellip;</td><td>&hellip;</td></tr><tr><td>&quot;Chinstrap&quot;</td><td>&quot;Dream&quot;</td><td>&quot;male&quot;</td><td>2009</td><td>4.0</td><td>2.0</td><td>4.0</td></tr><tr><td>&quot;Chinstrap&quot;</td><td>&quot;Dream&quot;</td><td>&quot;female&quot;</td><td>2009</td><td>3.4</td><td>1.843909</td><td>3.4</td></tr><tr><td>&quot;Chinstrap&quot;</td><td>&quot;Dream&quot;</td><td>&quot;male&quot;</td><td>2009</td><td>3.775</td><td>1.942936</td><td>3.775</td></tr><tr><td>&quot;Chinstrap&quot;</td><td>&quot;Dream&quot;</td><td>&quot;male&quot;</td><td>2009</td><td>4.1</td><td>2.024846</td><td>4.1</td></tr><tr><td>&quot;Chinstrap&quot;</td><td>&quot;Dream&quot;</td><td>&quot;female&quot;</td><td>2009</td><td>3.775</td><td>1.942936</td><td>3.775</td></tr></tbody></table></div>"
      ],
      "text/plain": [
       "shape: (344, 7)\n",
       "┌───────────┬───────────┬────────┬──────┬───────┬───────────┬─────────────┐\n",
       "│ species   ┆ island    ┆ sex    ┆ year ┆ mass  ┆ mass_sqrt ┆ mass_filled │\n",
       "│ ---       ┆ ---       ┆ ---    ┆ ---  ┆ ---   ┆ ---       ┆ ---         │\n",
       "│ str       ┆ str       ┆ str    ┆ i64  ┆ f64   ┆ f64       ┆ f64         │\n",
       "╞═══════════╪═══════════╪════════╪══════╪═══════╪═══════════╪═════════════╡\n",
       "│ Adelie    ┆ Torgersen ┆ male   ┆ 2007 ┆ 3.75  ┆ 1.936492  ┆ 3.75        │\n",
       "│ Adelie    ┆ Torgersen ┆ female ┆ 2007 ┆ 3.8   ┆ 1.949359  ┆ 3.8         │\n",
       "│ Adelie    ┆ Torgersen ┆ female ┆ 2007 ┆ 3.25  ┆ 1.802776  ┆ 3.25        │\n",
       "│ Adelie    ┆ Torgersen ┆ null   ┆ 2007 ┆ null  ┆ null      ┆ 3.35        │\n",
       "│ Adelie    ┆ Torgersen ┆ female ┆ 2007 ┆ 3.45  ┆ 1.857418  ┆ 3.45        │\n",
       "│ …         ┆ …         ┆ …      ┆ …    ┆ …     ┆ …         ┆ …           │\n",
       "│ Chinstrap ┆ Dream     ┆ male   ┆ 2009 ┆ 4.0   ┆ 2.0       ┆ 4.0         │\n",
       "│ Chinstrap ┆ Dream     ┆ female ┆ 2009 ┆ 3.4   ┆ 1.843909  ┆ 3.4         │\n",
       "│ Chinstrap ┆ Dream     ┆ male   ┆ 2009 ┆ 3.775 ┆ 1.942936  ┆ 3.775       │\n",
       "│ Chinstrap ┆ Dream     ┆ male   ┆ 2009 ┆ 4.1   ┆ 2.024846  ┆ 4.1         │\n",
       "│ Chinstrap ┆ Dream     ┆ female ┆ 2009 ┆ 3.775 ┆ 1.942936  ┆ 3.775       │\n",
       "└───────────┴───────────┴────────┴──────┴───────┴───────────┴─────────────┘"
      ]
     },
     "execution_count": 4,
     "metadata": {},
     "output_type": "execute_result"
    }
   ],
   "source": [
    "penguins  = (\n",
    "    pl.read_csv(INPUT_CSV_PATH_PENGUINS, null_values='NA')\n",
    "    .select(\n",
    "        'species',\n",
    "        'island',\n",
    "        'sex',\n",
    "        'year',\n",
    "        pl.col('body_mass_g').alias('mass') / 1000\n",
    "    ))\n",
    "\n",
    "penguins.with_columns(\n",
    "    pl.col('mass').sqrt().alias('mass_sqrt'),\n",
    "    pl.col('mass').interpolate().alias('mass_filled')\n",
    ")"
   ]
  },
  {
   "cell_type": "code",
   "execution_count": 5,
   "id": "781da0f2-ce83-49b0-9aa1-6438f9815809",
   "metadata": {},
   "outputs": [
    {
     "data": {
      "text/html": [
       "<div><style>\n",
       ".dataframe > thead > tr,\n",
       ".dataframe > tbody > tr {\n",
       "  text-align: right;\n",
       "  white-space: pre-wrap;\n",
       "}\n",
       "</style>\n",
       "<small>shape: (1, 2)</small><table border=\"1\" class=\"dataframe\"><thead><tr><th>mass</th><th>island</th></tr><tr><td>f64</td><td>str</td></tr></thead><tbody><tr><td>4.201754</td><td>&quot;Biscoe&quot;</td></tr></tbody></table></div>"
      ],
      "text/plain": [
       "shape: (1, 2)\n",
       "┌──────────┬────────┐\n",
       "│ mass     ┆ island │\n",
       "│ ---      ┆ ---    │\n",
       "│ f64      ┆ str    │\n",
       "╞══════════╪════════╡\n",
       "│ 4.201754 ┆ Biscoe │\n",
       "└──────────┴────────┘"
      ]
     },
     "execution_count": 5,
     "metadata": {},
     "output_type": "execute_result"
    }
   ],
   "source": [
    "penguins.select(\n",
    "    pl.col('mass').mean(),\n",
    "    pl.col('island').mode().first()\n",
    ")"
   ]
  },
  {
   "cell_type": "code",
   "execution_count": 6,
   "id": "d2885c63-c415-4304-927b-3a79c22c4b01",
   "metadata": {},
   "outputs": [
    {
     "data": {
      "text/html": [
       "<div><style>\n",
       ".dataframe > thead > tr,\n",
       ".dataframe > tbody > tr {\n",
       "  text-align: right;\n",
       "  white-space: pre-wrap;\n",
       "}\n",
       "</style>\n",
       "<small>shape: (3, 1)</small><table border=\"1\" class=\"dataframe\"><thead><tr><th>island</th></tr><tr><td>str</td></tr></thead><tbody><tr><td>&quot;Biscoe&quot;</td></tr><tr><td>&quot;Dream&quot;</td></tr><tr><td>&quot;Torgersen&quot;</td></tr></tbody></table></div>"
      ],
      "text/plain": [
       "shape: (3, 1)\n",
       "┌───────────┐\n",
       "│ island    │\n",
       "│ ---       │\n",
       "│ str       │\n",
       "╞═══════════╡\n",
       "│ Biscoe    │\n",
       "│ Dream     │\n",
       "│ Torgersen │\n",
       "└───────────┘"
      ]
     },
     "execution_count": 6,
     "metadata": {},
     "output_type": "execute_result"
    }
   ],
   "source": [
    "penguins.select(\n",
    "    pl.col('island').unique()\n",
    ")"
   ]
  },
  {
   "cell_type": "code",
   "execution_count": 7,
   "id": "dd416054-6ccd-4d75-bbae-35f5eab37f4a",
   "metadata": {},
   "outputs": [
    {
     "data": {
      "text/html": [
       "<div><style>\n",
       ".dataframe > thead > tr,\n",
       ".dataframe > tbody > tr {\n",
       "  text-align: right;\n",
       "  white-space: pre-wrap;\n",
       "}\n",
       "</style>\n",
       "<small>shape: (9_001, 1)</small><table border=\"1\" class=\"dataframe\"><thead><tr><th>species</th></tr><tr><td>str</td></tr></thead><tbody><tr><td>&quot;Adelie&quot;</td></tr><tr><td>&quot;Adelie&quot;</td></tr><tr><td>&quot;Adelie&quot;</td></tr><tr><td>&quot;Adelie&quot;</td></tr><tr><td>&quot;Adelie&quot;</td></tr><tr><td>&hellip;</td></tr><tr><td>&quot;Chinstrap&quot;</td></tr><tr><td>&quot;Chinstrap&quot;</td></tr><tr><td>&quot;Chinstrap&quot;</td></tr><tr><td>&quot;Chinstrap&quot;</td></tr><tr><td>&quot;Saiyan&quot;</td></tr></tbody></table></div>"
      ],
      "text/plain": [
       "shape: (9_001, 1)\n",
       "┌───────────┐\n",
       "│ species   │\n",
       "│ ---       │\n",
       "│ str       │\n",
       "╞═══════════╡\n",
       "│ Adelie    │\n",
       "│ Adelie    │\n",
       "│ Adelie    │\n",
       "│ Adelie    │\n",
       "│ Adelie    │\n",
       "│ …         │\n",
       "│ Chinstrap │\n",
       "│ Chinstrap │\n",
       "│ Chinstrap │\n",
       "│ Chinstrap │\n",
       "│ Saiyan    │\n",
       "└───────────┘"
      ]
     },
     "execution_count": 7,
     "metadata": {},
     "output_type": "execute_result"
    }
   ],
   "source": [
    "penguins.select(\n",
    "    pl.col('species')\n",
    "    .unique()\n",
    "    .repeat_by(3000)\n",
    "    .explode()  # ここでlistを分解して、Series型に適用できるようにしている\n",
    "    .extend_constant('Saiyan', n=1)\n",
    ")"
   ]
  },
  {
   "cell_type": "markdown",
   "id": "08892762-7f74-4622-acdf-71be63a0d84a",
   "metadata": {
    "jp-MarkdownHeadingCollapsed": true
   },
   "source": [
    "## 要素ごとの操作"
   ]
  },
  {
   "cell_type": "code",
   "execution_count": 8,
   "id": "a307a956-9601-47b2-95ac-b8aaeffbc4bd",
   "metadata": {},
   "outputs": [
    {
     "data": {
      "text/html": [
       "<div><style>\n",
       ".dataframe > thead > tr,\n",
       ".dataframe > tbody > tr {\n",
       "  text-align: right;\n",
       "  white-space: pre-wrap;\n",
       "}\n",
       "</style>\n",
       "<small>shape: (6, 8)</small><table border=\"1\" class=\"dataframe\"><thead><tr><th>x</th><th>abs</th><th>exp</th><th>log2</th><th>log10</th><th>log1p</th><th>sign</th><th>sqrt</th></tr><tr><td>f64</td><td>f64</td><td>f64</td><td>f64</td><td>f64</td><td>f64</td><td>f64</td><td>f64</td></tr></thead><tbody><tr><td>-2.0</td><td>2.0</td><td>0.135335</td><td>NaN</td><td>NaN</td><td>NaN</td><td>-1.0</td><td>NaN</td></tr><tr><td>0.0</td><td>0.0</td><td>1.0</td><td>-inf</td><td>-inf</td><td>0.0</td><td>0.0</td><td>0.0</td></tr><tr><td>0.5</td><td>0.5</td><td>1.648721</td><td>-1.0</td><td>-0.30103</td><td>0.405465</td><td>1.0</td><td>0.707107</td></tr><tr><td>1.0</td><td>1.0</td><td>2.718282</td><td>0.0</td><td>0.0</td><td>0.693147</td><td>1.0</td><td>1.0</td></tr><tr><td>2.718282</td><td>2.718282</td><td>15.154262</td><td>1.442695</td><td>0.434294</td><td>1.313262</td><td>1.0</td><td>1.648721</td></tr><tr><td>1000.0</td><td>1000.0</td><td>inf</td><td>9.965784</td><td>3.0</td><td>6.908755</td><td>1.0</td><td>31.622777</td></tr></tbody></table></div>"
      ],
      "text/plain": [
       "shape: (6, 8)\n",
       "┌──────────┬──────────┬───────────┬──────────┬──────────┬──────────┬──────┬───────────┐\n",
       "│ x        ┆ abs      ┆ exp       ┆ log2     ┆ log10    ┆ log1p    ┆ sign ┆ sqrt      │\n",
       "│ ---      ┆ ---      ┆ ---       ┆ ---      ┆ ---      ┆ ---      ┆ ---  ┆ ---       │\n",
       "│ f64      ┆ f64      ┆ f64       ┆ f64      ┆ f64      ┆ f64      ┆ f64  ┆ f64       │\n",
       "╞══════════╪══════════╪═══════════╪══════════╪══════════╪══════════╪══════╪═══════════╡\n",
       "│ -2.0     ┆ 2.0      ┆ 0.135335  ┆ NaN      ┆ NaN      ┆ NaN      ┆ -1.0 ┆ NaN       │\n",
       "│ 0.0      ┆ 0.0      ┆ 1.0       ┆ -inf     ┆ -inf     ┆ 0.0      ┆ 0.0  ┆ 0.0       │\n",
       "│ 0.5      ┆ 0.5      ┆ 1.648721  ┆ -1.0     ┆ -0.30103 ┆ 0.405465 ┆ 1.0  ┆ 0.707107  │\n",
       "│ 1.0      ┆ 1.0      ┆ 2.718282  ┆ 0.0      ┆ 0.0      ┆ 0.693147 ┆ 1.0  ┆ 1.0       │\n",
       "│ 2.718282 ┆ 2.718282 ┆ 15.154262 ┆ 1.442695 ┆ 0.434294 ┆ 1.313262 ┆ 1.0  ┆ 1.648721  │\n",
       "│ 1000.0   ┆ 1000.0   ┆ inf       ┆ 9.965784 ┆ 3.0      ┆ 6.908755 ┆ 1.0  ┆ 31.622777 │\n",
       "└──────────┴──────────┴───────────┴──────────┴──────────┴──────────┴──────┴───────────┘"
      ]
     },
     "execution_count": 8,
     "metadata": {},
     "output_type": "execute_result"
    }
   ],
   "source": [
    "(\n",
    "    pl.DataFrame({'x': [-2.0, 0.0, 0.5, 1.0, math.e, 1000.0]})  # 全て同じ型じゃないとエラーになる\n",
    "    .with_columns(\n",
    "        abs=pl.col('x').abs(),\n",
    "        exp=pl.col('x').exp(),\n",
    "        log2=pl.col('x').log(2),\n",
    "        log10=pl.col('x').log10(),\n",
    "        log1p=pl.col('x').log1p(),\n",
    "        sign=pl.col('x').sign(),\n",
    "        sqrt=pl.col('x').sqrt(),\n",
    "    )\n",
    ")"
   ]
  },
  {
   "cell_type": "code",
   "execution_count": 9,
   "id": "a0d93814-24d8-4c56-ba3a-00dfa1fad7b5",
   "metadata": {},
   "outputs": [
    {
     "data": {
      "text/html": [
       "<div><style>\n",
       ".dataframe > thead > tr,\n",
       ".dataframe > tbody > tr {\n",
       "  text-align: right;\n",
       "  white-space: pre-wrap;\n",
       "}\n",
       "</style>\n",
       "<small>shape: (8, 6)</small><table border=\"1\" class=\"dataframe\"><thead><tr><th>x</th><th>arccos</th><th>cos</th><th>defrees</th><th>radians</th><th>sin</th></tr><tr><td>f64</td><td>f64</td><td>f64</td><td>f64</td><td>f64</td><td>f64</td></tr></thead><tbody><tr><td>-3.141593</td><td>NaN</td><td>-1.0</td><td>-180.0</td><td>-0.054831</td><td>-1.2246e-16</td></tr><tr><td>0.0</td><td>1.570796</td><td>1.0</td><td>0.0</td><td>0.0</td><td>0.0</td></tr><tr><td>1.0</td><td>0.0</td><td>0.540302</td><td>57.29578</td><td>0.017453</td><td>0.841471</td></tr><tr><td>3.141593</td><td>NaN</td><td>-1.0</td><td>180.0</td><td>0.054831</td><td>1.2246e-16</td></tr><tr><td>6.283185</td><td>NaN</td><td>1.0</td><td>360.0</td><td>0.109662</td><td>-2.4493e-16</td></tr><tr><td>90.0</td><td>NaN</td><td>-0.448074</td><td>5156.620156</td><td>1.570796</td><td>0.893997</td></tr><tr><td>180.0</td><td>NaN</td><td>-0.59846</td><td>10313.240312</td><td>3.141593</td><td>-0.801153</td></tr><tr><td>360.0</td><td>NaN</td><td>-0.283691</td><td>20626.480625</td><td>6.283185</td><td>0.958916</td></tr></tbody></table></div>"
      ],
      "text/plain": [
       "shape: (8, 6)\n",
       "┌───────────┬──────────┬───────────┬──────────────┬───────────┬─────────────┐\n",
       "│ x         ┆ arccos   ┆ cos       ┆ defrees      ┆ radians   ┆ sin         │\n",
       "│ ---       ┆ ---      ┆ ---       ┆ ---          ┆ ---       ┆ ---         │\n",
       "│ f64       ┆ f64      ┆ f64       ┆ f64          ┆ f64       ┆ f64         │\n",
       "╞═══════════╪══════════╪═══════════╪══════════════╪═══════════╪═════════════╡\n",
       "│ -3.141593 ┆ NaN      ┆ -1.0      ┆ -180.0       ┆ -0.054831 ┆ -1.2246e-16 │\n",
       "│ 0.0       ┆ 1.570796 ┆ 1.0       ┆ 0.0          ┆ 0.0       ┆ 0.0         │\n",
       "│ 1.0       ┆ 0.0      ┆ 0.540302  ┆ 57.29578     ┆ 0.017453  ┆ 0.841471    │\n",
       "│ 3.141593  ┆ NaN      ┆ -1.0      ┆ 180.0        ┆ 0.054831  ┆ 1.2246e-16  │\n",
       "│ 6.283185  ┆ NaN      ┆ 1.0       ┆ 360.0        ┆ 0.109662  ┆ -2.4493e-16 │\n",
       "│ 90.0      ┆ NaN      ┆ -0.448074 ┆ 5156.620156  ┆ 1.570796  ┆ 0.893997    │\n",
       "│ 180.0     ┆ NaN      ┆ -0.59846  ┆ 10313.240312 ┆ 3.141593  ┆ -0.801153   │\n",
       "│ 360.0     ┆ NaN      ┆ -0.283691 ┆ 20626.480625 ┆ 6.283185  ┆ 0.958916    │\n",
       "└───────────┴──────────┴───────────┴──────────────┴───────────┴─────────────┘"
      ]
     },
     "execution_count": 9,
     "metadata": {},
     "output_type": "execute_result"
    }
   ],
   "source": [
    "(\n",
    "    pl.DataFrame({'x': [-math.pi, 0.0, 1, math.pi, 2*math.pi, 90.0, 180.0, 360.0]})\n",
    "    .with_columns(\n",
    "        arccos=pl.col('x').arccos(),\n",
    "        cos=pl.col('x').cos(),\n",
    "        defrees=pl.col('x').degrees(),\n",
    "        radians=pl.col('x').radians(),\n",
    "        sin=pl.col('x').sin()\n",
    "    )\n",
    ")"
   ]
  },
  {
   "cell_type": "code",
   "execution_count": 10,
   "id": "0536c05c-f4d7-4e4e-aebc-f2e5a4dfe5b2",
   "metadata": {},
   "outputs": [
    {
     "data": {
      "text/html": [
       "<div><style>\n",
       ".dataframe > thead > tr,\n",
       ".dataframe > tbody > tr {\n",
       "  text-align: right;\n",
       "  white-space: pre-wrap;\n",
       "}\n",
       "</style>\n",
       "<small>shape: (8, 9)</small><table border=\"1\" class=\"dataframe\"><thead><tr><th>x</th><th>ceil</th><th>clip</th><th>cut</th><th>labels</th><th>floor</th><th>qcut</th><th>round2</th><th>round0</th></tr><tr><td>f64</td><td>f64</td><td>f64</td><td>cat</td><td>list[str]</td><td>f64</td><td>cat</td><td>f64</td><td>f64</td></tr></thead><tbody><tr><td>-6.0</td><td>-6.0</td><td>-1.0</td><td>&quot;(-inf, -1]&quot;</td><td>[&quot;bad&quot;, &quot;neutral&quot;, &quot;good&quot;]</td><td>-6.0</td><td>&quot;below median&quot;</td><td>-6.0</td><td>-6.0</td></tr><tr><td>-0.5</td><td>-0.0</td><td>-0.5</td><td>&quot;(-1, 1]&quot;</td><td>[&quot;bad&quot;, &quot;neutral&quot;, &quot;good&quot;]</td><td>-1.0</td><td>&quot;below median&quot;</td><td>-0.5</td><td>-1.0</td></tr><tr><td>0.0</td><td>0.0</td><td>0.0</td><td>&quot;(-1, 1]&quot;</td><td>[&quot;bad&quot;, &quot;neutral&quot;, &quot;good&quot;]</td><td>0.0</td><td>&quot;below median&quot;</td><td>0.0</td><td>0.0</td></tr><tr><td>0.5</td><td>1.0</td><td>0.5</td><td>&quot;(-1, 1]&quot;</td><td>[&quot;bad&quot;, &quot;neutral&quot;, &quot;good&quot;]</td><td>0.0</td><td>&quot;below median&quot;</td><td>0.5</td><td>1.0</td></tr><tr><td>3.141593</td><td>4.0</td><td>1.0</td><td>&quot;(1, inf]&quot;</td><td>[&quot;bad&quot;, &quot;neutral&quot;, &quot;good&quot;]</td><td>3.0</td><td>&quot;above median&quot;</td><td>3.14</td><td>3.0</td></tr><tr><td>9.9</td><td>10.0</td><td>1.0</td><td>&quot;(1, inf]&quot;</td><td>[&quot;bad&quot;, &quot;neutral&quot;, &quot;good&quot;]</td><td>9.0</td><td>&quot;above median&quot;</td><td>9.9</td><td>10.0</td></tr><tr><td>9.99</td><td>10.0</td><td>1.0</td><td>&quot;(1, inf]&quot;</td><td>[&quot;bad&quot;, &quot;neutral&quot;, &quot;good&quot;]</td><td>9.0</td><td>&quot;above median&quot;</td><td>9.99</td><td>10.0</td></tr><tr><td>9.999</td><td>10.0</td><td>1.0</td><td>&quot;(1, inf]&quot;</td><td>[&quot;bad&quot;, &quot;neutral&quot;, &quot;good&quot;]</td><td>9.0</td><td>&quot;above median&quot;</td><td>10.0</td><td>10.0</td></tr></tbody></table></div>"
      ],
      "text/plain": [
       "shape: (8, 9)\n",
       "┌──────────┬──────┬──────┬────────────┬───┬───────┬──────────────┬────────┬────────┐\n",
       "│ x        ┆ ceil ┆ clip ┆ cut        ┆ … ┆ floor ┆ qcut         ┆ round2 ┆ round0 │\n",
       "│ ---      ┆ ---  ┆ ---  ┆ ---        ┆   ┆ ---   ┆ ---          ┆ ---    ┆ ---    │\n",
       "│ f64      ┆ f64  ┆ f64  ┆ cat        ┆   ┆ f64   ┆ cat          ┆ f64    ┆ f64    │\n",
       "╞══════════╪══════╪══════╪════════════╪═══╪═══════╪══════════════╪════════╪════════╡\n",
       "│ -6.0     ┆ -6.0 ┆ -1.0 ┆ (-inf, -1] ┆ … ┆ -6.0  ┆ below median ┆ -6.0   ┆ -6.0   │\n",
       "│ -0.5     ┆ -0.0 ┆ -0.5 ┆ (-1, 1]    ┆ … ┆ -1.0  ┆ below median ┆ -0.5   ┆ -1.0   │\n",
       "│ 0.0      ┆ 0.0  ┆ 0.0  ┆ (-1, 1]    ┆ … ┆ 0.0   ┆ below median ┆ 0.0    ┆ 0.0    │\n",
       "│ 0.5      ┆ 1.0  ┆ 0.5  ┆ (-1, 1]    ┆ … ┆ 0.0   ┆ below median ┆ 0.5    ┆ 1.0    │\n",
       "│ 3.141593 ┆ 4.0  ┆ 1.0  ┆ (1, inf]   ┆ … ┆ 3.0   ┆ above median ┆ 3.14   ┆ 3.0    │\n",
       "│ 9.9      ┆ 10.0 ┆ 1.0  ┆ (1, inf]   ┆ … ┆ 9.0   ┆ above median ┆ 9.9    ┆ 10.0   │\n",
       "│ 9.99     ┆ 10.0 ┆ 1.0  ┆ (1, inf]   ┆ … ┆ 9.0   ┆ above median ┆ 9.99   ┆ 10.0   │\n",
       "│ 9.999    ┆ 10.0 ┆ 1.0  ┆ (1, inf]   ┆ … ┆ 9.0   ┆ above median ┆ 10.0   ┆ 10.0   │\n",
       "└──────────┴──────┴──────┴────────────┴───┴───────┴──────────────┴────────┴────────┘"
      ]
     },
     "execution_count": 10,
     "metadata": {},
     "output_type": "execute_result"
    }
   ],
   "source": [
    "(\n",
    "    pl.DataFrame({'x': [-6.0, -0.5, 0.0, 0.5, math.pi, 9.9, 9.99, 9.999]})\n",
    "    .with_columns(\n",
    "        ceil=pl.col('x').ceil(),\n",
    "        clip=pl.col('x').clip(-1, 1),\n",
    "        cut=pl.col('x').cut([-1, 1]), labels=['bad', 'neutral', 'good'],\n",
    "        floor=pl.col('x').floor(),\n",
    "        qcut=pl.col('x').qcut([0.5], labels=['below median', 'above median']),\n",
    "        round2=pl.col('x').round(2),\n",
    "        round0=pl.col('x').round(0)\n",
    "    )\n",
    ")"
   ]
  },
  {
   "cell_type": "code",
   "execution_count": 11,
   "id": "3b21cea7-a5fb-4d39-a06d-9ce67258ff8d",
   "metadata": {},
   "outputs": [
    {
     "data": {
      "text/html": [
       "<div><style>\n",
       ".dataframe > thead > tr,\n",
       ".dataframe > tbody > tr {\n",
       "  text-align: right;\n",
       "  white-space: pre-wrap;\n",
       "}\n",
       "</style>\n",
       "<small>shape: (5, 7)</small><table border=\"1\" class=\"dataframe\"><thead><tr><th>x</th><th>fill_nan</th><th>fill_null</th><th>is_finite</th><th>is_infinite</th><th>is_nan</th><th>is_null</th></tr><tr><td>f64</td><td>f64</td><td>f64</td><td>bool</td><td>bool</td><td>bool</td><td>bool</td></tr></thead><tbody><tr><td>42.0</td><td>42.0</td><td>42.0</td><td>true</td><td>false</td><td>false</td><td>false</td></tr><tr><td>NaN</td><td>999.0</td><td>NaN</td><td>false</td><td>false</td><td>true</td><td>false</td></tr><tr><td>null</td><td>null</td><td>0.0</td><td>null</td><td>null</td><td>null</td><td>true</td></tr><tr><td>inf</td><td>inf</td><td>inf</td><td>false</td><td>true</td><td>false</td><td>false</td></tr><tr><td>-inf</td><td>-inf</td><td>-inf</td><td>false</td><td>true</td><td>false</td><td>false</td></tr></tbody></table></div>"
      ],
      "text/plain": [
       "shape: (5, 7)\n",
       "┌──────┬──────────┬───────────┬───────────┬─────────────┬────────┬─────────┐\n",
       "│ x    ┆ fill_nan ┆ fill_null ┆ is_finite ┆ is_infinite ┆ is_nan ┆ is_null │\n",
       "│ ---  ┆ ---      ┆ ---       ┆ ---       ┆ ---         ┆ ---    ┆ ---     │\n",
       "│ f64  ┆ f64      ┆ f64       ┆ bool      ┆ bool        ┆ bool   ┆ bool    │\n",
       "╞══════╪══════════╪═══════════╪═══════════╪═════════════╪════════╪═════════╡\n",
       "│ 42.0 ┆ 42.0     ┆ 42.0      ┆ true      ┆ false       ┆ false  ┆ false   │\n",
       "│ NaN  ┆ 999.0    ┆ NaN       ┆ false     ┆ false       ┆ true   ┆ false   │\n",
       "│ null ┆ null     ┆ 0.0       ┆ null      ┆ null        ┆ null   ┆ true    │\n",
       "│ inf  ┆ inf      ┆ inf       ┆ false     ┆ true        ┆ false  ┆ false   │\n",
       "│ -inf ┆ -inf     ┆ -inf      ┆ false     ┆ true        ┆ false  ┆ false   │\n",
       "└──────┴──────────┴───────────┴───────────┴─────────────┴────────┴─────────┘"
      ]
     },
     "execution_count": 11,
     "metadata": {},
     "output_type": "execute_result"
    }
   ],
   "source": [
    "x = [42.0, math.nan, None, math.inf, -math.inf]\n",
    "\n",
    "(\n",
    "    pl.DataFrame({'x': x})\n",
    "    .with_columns(\n",
    "        fill_nan=pl.col('x').fill_nan(999),\n",
    "        fill_null=pl.col('x').fill_null(0),\n",
    "        is_finite=pl.col('x').is_finite(),\n",
    "        is_infinite=pl.col('x').is_infinite(),\n",
    "        is_nan=pl.col('x').is_nan(),\n",
    "        is_null=pl.col('x').is_null()\n",
    "    )\n",
    ")"
   ]
  },
  {
   "cell_type": "markdown",
   "id": "a193efe8-c10d-4239-af24-3ad6a2df0d4a",
   "metadata": {},
   "source": [
    "`nan`と`null`は別物だよ、ってことを再認識。  \n",
    "あと、`.is_finite() / .is_infinite()`があるの面白いなぁ。でも、`.fill_finite() / .fill_infinite()`は用意されてないんだね"
   ]
  },
  {
   "cell_type": "code",
   "execution_count": 12,
   "id": "7eb86b8d-742c-400a-b241-d363e3f7beae",
   "metadata": {},
   "outputs": [
    {
     "data": {
      "text/html": [
       "<div><style>\n",
       ".dataframe > thead > tr,\n",
       ".dataframe > tbody > tr {\n",
       "  text-align: right;\n",
       "  white-space: pre-wrap;\n",
       "}\n",
       "</style>\n",
       "<small>shape: (5, 3)</small><table border=\"1\" class=\"dataframe\"><thead><tr><th>x</th><th>fill_both</th><th>is_either</th></tr><tr><td>f64</td><td>f64</td><td>bool</td></tr></thead><tbody><tr><td>42.0</td><td>42.0</td><td>false</td></tr><tr><td>NaN</td><td>0.0</td><td>true</td></tr><tr><td>null</td><td>0.0</td><td>true</td></tr><tr><td>inf</td><td>inf</td><td>false</td></tr><tr><td>-inf</td><td>-inf</td><td>false</td></tr></tbody></table></div>"
      ],
      "text/plain": [
       "shape: (5, 3)\n",
       "┌──────┬───────────┬───────────┐\n",
       "│ x    ┆ fill_both ┆ is_either │\n",
       "│ ---  ┆ ---       ┆ ---       │\n",
       "│ f64  ┆ f64       ┆ bool      │\n",
       "╞══════╪═══════════╪═══════════╡\n",
       "│ 42.0 ┆ 42.0      ┆ false     │\n",
       "│ NaN  ┆ 0.0       ┆ true      │\n",
       "│ null ┆ 0.0       ┆ true      │\n",
       "│ inf  ┆ inf       ┆ false     │\n",
       "│ -inf ┆ -inf      ┆ false     │\n",
       "└──────┴───────────┴───────────┘"
      ]
     },
     "execution_count": 12,
     "metadata": {},
     "output_type": "execute_result"
    }
   ],
   "source": [
    "(\n",
    "    pl.DataFrame({'x': x})\n",
    "    .with_columns(\n",
    "        fill_both=pl.col('x').fill_nan(0).fill_null(0),\n",
    "        is_either=(\n",
    "            pl.col('x').is_nan() | pl.col('x').is_null()\n",
    "        )\n",
    "    )\n",
    ")"
   ]
  },
  {
   "cell_type": "markdown",
   "id": "94d62204-9f48-4d21-8e90-9637f325ef24",
   "metadata": {
    "jp-MarkdownHeadingCollapsed": true
   },
   "source": [
    "## その他の操作"
   ]
  },
  {
   "cell_type": "code",
   "execution_count": 13,
   "id": "7f438cd8-3478-4a9a-96b5-2ac483cbd2fa",
   "metadata": {},
   "outputs": [
    {
     "data": {
      "text/html": [
       "<div><style>\n",
       ".dataframe > thead > tr,\n",
       ".dataframe > tbody > tr {\n",
       "  text-align: right;\n",
       "  white-space: pre-wrap;\n",
       "}\n",
       "</style>\n",
       "<small>shape: (4, 4)</small><table border=\"1\" class=\"dataframe\"><thead><tr><th>x</th><th>hash</th><th>repeat_by</th><th>replace</th></tr><tr><td>str</td><td>u64</td><td>list[str]</td><td>str</td></tr></thead><tbody><tr><td>&quot;here&quot;</td><td>12695211751326448172</td><td>[&quot;here&quot;, &quot;here&quot;, &quot;here&quot;]</td><td>&quot;there&quot;</td></tr><tr><td>&quot;there&quot;</td><td>17329794691236705436</td><td>[&quot;there&quot;, &quot;there&quot;, &quot;there&quot;]</td><td>&quot;there&quot;</td></tr><tr><td>&quot;their&quot;</td><td>2663095961041830581</td><td>[&quot;their&quot;, &quot;their&quot;, &quot;their&quot;]</td><td>&quot;their&quot;</td></tr><tr><td>&quot;they&#x27;re&quot;</td><td>6743063676290245144</td><td>[&quot;they&#x27;re&quot;, &quot;they&#x27;re&quot;, &quot;they&#x27;re&quot;]</td><td>&quot;they are&quot;</td></tr></tbody></table></div>"
      ],
      "text/plain": [
       "shape: (4, 4)\n",
       "┌─────────┬──────────────────────┬─────────────────────────────────┬──────────┐\n",
       "│ x       ┆ hash                 ┆ repeat_by                       ┆ replace  │\n",
       "│ ---     ┆ ---                  ┆ ---                             ┆ ---      │\n",
       "│ str     ┆ u64                  ┆ list[str]                       ┆ str      │\n",
       "╞═════════╪══════════════════════╪═════════════════════════════════╪══════════╡\n",
       "│ here    ┆ 12695211751326448172 ┆ [\"here\", \"here\", \"here\"]        ┆ there    │\n",
       "│ there   ┆ 17329794691236705436 ┆ [\"there\", \"there\", \"there\"]     ┆ there    │\n",
       "│ their   ┆ 2663095961041830581  ┆ [\"their\", \"their\", \"their\"]     ┆ their    │\n",
       "│ they're ┆ 6743063676290245144  ┆ [\"they're\", \"they're\", \"they'r… ┆ they are │\n",
       "└─────────┴──────────────────────┴─────────────────────────────────┴──────────┘"
      ]
     },
     "execution_count": 13,
     "metadata": {},
     "output_type": "execute_result"
    }
   ],
   "source": [
    "(\n",
    "    pl.DataFrame({'x': ['here', 'there', 'their', \"they're\"]})\n",
    "    .with_columns(\n",
    "        hash=pl.col('x').hash(seed=1337),\n",
    "        repeat_by=pl.col('x').repeat_by(3),\n",
    "        replace=pl.col('x').replace({\n",
    "            'here': 'there',\n",
    "            \"they're\": 'they are'\n",
    "        })\n",
    "    )\n",
    ")"
   ]
  },
  {
   "cell_type": "markdown",
   "id": "d97447e6-1727-4edd-92e1-42e2d417543e",
   "metadata": {},
   "source": [
    "`.replace()`あるなら、さっきの`.fill_finite() / .fill_infinite()`的な操作もこれでできるな"
   ]
  },
  {
   "cell_type": "markdown",
   "id": "96778ed0-e7fd-44ee-8e7d-1df36b799d08",
   "metadata": {
    "jp-MarkdownHeadingCollapsed": true
   },
   "source": [
    "## Sereis型の操作"
   ]
  },
  {
   "cell_type": "code",
   "execution_count": 14,
   "id": "4eecfe66-a12a-47d8-9ec0-502d528385b1",
   "metadata": {},
   "outputs": [
    {
     "data": {
      "text/html": [
       "<div><style>\n",
       ".dataframe > thead > tr,\n",
       ".dataframe > tbody > tr {\n",
       "  text-align: right;\n",
       "  white-space: pre-wrap;\n",
       "}\n",
       "</style>\n",
       "<small>shape: (8, 8)</small><table border=\"1\" class=\"dataframe\"><thead><tr><th>x</th><th>cum_count</th><th>cum_max</th><th>cum_min</th><th>cum_prod</th><th>cum_sum</th><th>diff</th><th>pct_change</th></tr><tr><td>f64</td><td>u32</td><td>f64</td><td>f64</td><td>f64</td><td>f64</td><td>f64</td><td>f64</td></tr></thead><tbody><tr><td>0.0</td><td>1</td><td>0.0</td><td>0.0</td><td>NaN</td><td>0.0</td><td>null</td><td>null</td></tr><tr><td>1.0</td><td>2</td><td>1.0</td><td>0.0</td><td>NaN</td><td>1.0</td><td>1.0</td><td>inf</td></tr><tr><td>2.0</td><td>3</td><td>2.0</td><td>0.0</td><td>NaN</td><td>3.0</td><td>1.0</td><td>1.0</td></tr><tr><td>null</td><td>3</td><td>null</td><td>null</td><td>null</td><td>null</td><td>null</td><td>0.0</td></tr><tr><td>2.0</td><td>4</td><td>2.0</td><td>0.0</td><td>NaN</td><td>5.0</td><td>null</td><td>0.0</td></tr><tr><td>NaN</td><td>5</td><td>2.0</td><td>0.0</td><td>NaN</td><td>NaN</td><td>NaN</td><td>NaN</td></tr><tr><td>-1.0</td><td>6</td><td>2.0</td><td>-1.0</td><td>-2.0</td><td>NaN</td><td>NaN</td><td>NaN</td></tr><tr><td>2.0</td><td>7</td><td>2.0</td><td>-1.0</td><td>2.0</td><td>NaN</td><td>3.0</td><td>-3.0</td></tr></tbody></table></div>"
      ],
      "text/plain": [
       "shape: (8, 8)\n",
       "┌──────┬───────────┬─────────┬─────────┬──────────┬─────────┬──────┬────────────┐\n",
       "│ x    ┆ cum_count ┆ cum_max ┆ cum_min ┆ cum_prod ┆ cum_sum ┆ diff ┆ pct_change │\n",
       "│ ---  ┆ ---       ┆ ---     ┆ ---     ┆ ---      ┆ ---     ┆ ---  ┆ ---        │\n",
       "│ f64  ┆ u32       ┆ f64     ┆ f64     ┆ f64      ┆ f64     ┆ f64  ┆ f64        │\n",
       "╞══════╪═══════════╪═════════╪═════════╪══════════╪═════════╪══════╪════════════╡\n",
       "│ 0.0  ┆ 1         ┆ 0.0     ┆ 0.0     ┆ NaN      ┆ 0.0     ┆ null ┆ null       │\n",
       "│ 1.0  ┆ 2         ┆ 1.0     ┆ 0.0     ┆ NaN      ┆ 1.0     ┆ 1.0  ┆ inf        │\n",
       "│ 2.0  ┆ 3         ┆ 2.0     ┆ 0.0     ┆ NaN      ┆ 3.0     ┆ 1.0  ┆ 1.0        │\n",
       "│ null ┆ 3         ┆ null    ┆ null    ┆ null     ┆ null    ┆ null ┆ 0.0        │\n",
       "│ 2.0  ┆ 4         ┆ 2.0     ┆ 0.0     ┆ NaN      ┆ 5.0     ┆ null ┆ 0.0        │\n",
       "│ NaN  ┆ 5         ┆ 2.0     ┆ 0.0     ┆ NaN      ┆ NaN     ┆ NaN  ┆ NaN        │\n",
       "│ -1.0 ┆ 6         ┆ 2.0     ┆ -1.0    ┆ -2.0     ┆ NaN     ┆ NaN  ┆ NaN        │\n",
       "│ 2.0  ┆ 7         ┆ 2.0     ┆ -1.0    ┆ 2.0      ┆ NaN     ┆ 3.0  ┆ -3.0       │\n",
       "└──────┴───────────┴─────────┴─────────┴──────────┴─────────┴──────┴────────────┘"
      ]
     },
     "execution_count": 14,
     "metadata": {},
     "output_type": "execute_result"
    }
   ],
   "source": [
    "(\n",
    "    pl.DataFrame({'x': [0.0, 1.0, 2.0, None, 2.0, np.nan, -1.0, 2.0]})\n",
    "    .with_columns(\n",
    "        cum_count=pl.col('x').cum_count(),\n",
    "        cum_max=pl.col('x').cum_max(),\n",
    "        cum_min=pl.col('x').cum_min(),\n",
    "        cum_prod=pl.col('x').cum_prod(reverse=True),\n",
    "        cum_sum=pl.col('x').cum_sum(),\n",
    "        diff=pl.col('x').diff(),\n",
    "        pct_change=pl.col('x').pct_change()\n",
    "    )\n",
    ")"
   ]
  },
  {
   "cell_type": "markdown",
   "id": "03289e72-af1b-41e2-839c-15bbd48e8a5c",
   "metadata": {},
   "source": [
    "`cum_prod`列でNaNが変な気がしたが、reverese=Trueを入れてるから、累積の計算順が逆転している（=後ろから計算）からこんな結果になっているのか。"
   ]
  },
  {
   "cell_type": "markdown",
   "id": "c7ecb652-7eb4-4015-92e0-238d0c1b4a5d",
   "metadata": {
    "jp-MarkdownHeadingCollapsed": true
   },
   "source": [
    "## 補完とシフト操作"
   ]
  },
  {
   "cell_type": "code",
   "execution_count": 15,
   "id": "b04e629f-d64e-41c0-8894-ec8f7a7d73cf",
   "metadata": {},
   "outputs": [
    {
     "data": {
      "text/html": [
       "<div><style>\n",
       ".dataframe > thead > tr,\n",
       ".dataframe > tbody > tr {\n",
       "  text-align: right;\n",
       "  white-space: pre-wrap;\n",
       "}\n",
       "</style>\n",
       "<small>shape: (9, 7)</small><table border=\"1\" class=\"dataframe\"><thead><tr><th>x</th><th>backward_fill</th><th>forward_fill</th><th>interp1</th><th>interp2</th><th>shift1</th><th>shift2</th></tr><tr><td>f64</td><td>f64</td><td>f64</td><td>f64</td><td>f64</td><td>f64</td><td>f64</td></tr></thead><tbody><tr><td>-1.0</td><td>-1.0</td><td>-1.0</td><td>-1.0</td><td>-1.0</td><td>null</td><td>1.0</td></tr><tr><td>0.0</td><td>0.0</td><td>0.0</td><td>0.0</td><td>0.0</td><td>-1.0</td><td>null</td></tr><tr><td>1.0</td><td>1.0</td><td>1.0</td><td>1.0</td><td>1.0</td><td>0.0</td><td>null</td></tr><tr><td>null</td><td>3.0</td><td>1.0</td><td>1.666667</td><td>1.0</td><td>1.0</td><td>3.0</td></tr><tr><td>null</td><td>3.0</td><td>null</td><td>2.333333</td><td>3.0</td><td>null</td><td>4.0</td></tr><tr><td>3.0</td><td>3.0</td><td>3.0</td><td>3.0</td><td>3.0</td><td>null</td><td>NaN</td></tr><tr><td>4.0</td><td>4.0</td><td>4.0</td><td>4.0</td><td>4.0</td><td>3.0</td><td>6.0</td></tr><tr><td>NaN</td><td>NaN</td><td>NaN</td><td>NaN</td><td>NaN</td><td>4.0</td><td>null</td></tr><tr><td>6.0</td><td>6.0</td><td>6.0</td><td>6.0</td><td>6.0</td><td>NaN</td><td>null</td></tr></tbody></table></div>"
      ],
      "text/plain": [
       "shape: (9, 7)\n",
       "┌──────┬───────────────┬──────────────┬──────────┬─────────┬────────┬────────┐\n",
       "│ x    ┆ backward_fill ┆ forward_fill ┆ interp1  ┆ interp2 ┆ shift1 ┆ shift2 │\n",
       "│ ---  ┆ ---           ┆ ---          ┆ ---      ┆ ---     ┆ ---    ┆ ---    │\n",
       "│ f64  ┆ f64           ┆ f64          ┆ f64      ┆ f64     ┆ f64    ┆ f64    │\n",
       "╞══════╪═══════════════╪══════════════╪══════════╪═════════╪════════╪════════╡\n",
       "│ -1.0 ┆ -1.0          ┆ -1.0         ┆ -1.0     ┆ -1.0    ┆ null   ┆ 1.0    │\n",
       "│ 0.0  ┆ 0.0           ┆ 0.0          ┆ 0.0      ┆ 0.0     ┆ -1.0   ┆ null   │\n",
       "│ 1.0  ┆ 1.0           ┆ 1.0          ┆ 1.0      ┆ 1.0     ┆ 0.0    ┆ null   │\n",
       "│ null ┆ 3.0           ┆ 1.0          ┆ 1.666667 ┆ 1.0     ┆ 1.0    ┆ 3.0    │\n",
       "│ null ┆ 3.0           ┆ null         ┆ 2.333333 ┆ 3.0     ┆ null   ┆ 4.0    │\n",
       "│ 3.0  ┆ 3.0           ┆ 3.0          ┆ 3.0      ┆ 3.0     ┆ null   ┆ NaN    │\n",
       "│ 4.0  ┆ 4.0           ┆ 4.0          ┆ 4.0      ┆ 4.0     ┆ 3.0    ┆ 6.0    │\n",
       "│ NaN  ┆ NaN           ┆ NaN          ┆ NaN      ┆ NaN     ┆ 4.0    ┆ null   │\n",
       "│ 6.0  ┆ 6.0           ┆ 6.0          ┆ 6.0      ┆ 6.0     ┆ NaN    ┆ null   │\n",
       "└──────┴───────────────┴──────────────┴──────────┴─────────┴────────┴────────┘"
      ]
     },
     "execution_count": 15,
     "metadata": {},
     "output_type": "execute_result"
    }
   ],
   "source": [
    "(\n",
    "    pl.DataFrame({'x': [-1.0, 0.0, 1.0, None, None, 3.0, 4.0, math.nan, 6.0]})\n",
    "    .with_columns(\n",
    "        backward_fill=pl.col('x').backward_fill(),\n",
    "        forward_fill=pl.col('x').forward_fill(limit=1),\n",
    "        interp1=pl.col('x').interpolate(method='linear'),\n",
    "        interp2=pl.col('x').interpolate(method='nearest'),\n",
    "        shift1=pl.col('x').shift(1),\n",
    "        shift2=pl.col('x').shift(-2)\n",
    "    )\n",
    ")"
   ]
  },
  {
   "cell_type": "markdown",
   "id": "83fc6122-8454-4e36-b0aa-20eebf3531e2",
   "metadata": {},
   "source": [
    "`NaN`はfillの対象外になるので、補完されない"
   ]
  },
  {
   "cell_type": "markdown",
   "id": "723f7da0-1d94-4151-8811-6936a208e511",
   "metadata": {
    "jp-MarkdownHeadingCollapsed": true
   },
   "source": [
    "## 重複値の操作"
   ]
  },
  {
   "cell_type": "code",
   "execution_count": 16,
   "id": "40c0cd4d-7a9e-475c-88ad-9b2f7e96442a",
   "metadata": {},
   "outputs": [
    {
     "data": {
      "text/html": [
       "<div><style>\n",
       ".dataframe > thead > tr,\n",
       ".dataframe > tbody > tr {\n",
       "  text-align: right;\n",
       "  white-space: pre-wrap;\n",
       "}\n",
       "</style>\n",
       "<small>shape: (4, 5)</small><table border=\"1\" class=\"dataframe\"><thead><tr><th>x</th><th>is_duplicated</th><th>is_first_distinct</th><th>is_last_distinct</th><th>is_unique</th></tr><tr><td>str</td><td>bool</td><td>bool</td><td>bool</td><td>bool</td></tr></thead><tbody><tr><td>&quot;A&quot;</td><td>false</td><td>true</td><td>true</td><td>true</td></tr><tr><td>&quot;C&quot;</td><td>true</td><td>true</td><td>false</td><td>false</td></tr><tr><td>&quot;D&quot;</td><td>false</td><td>true</td><td>true</td><td>true</td></tr><tr><td>&quot;C&quot;</td><td>true</td><td>false</td><td>true</td><td>false</td></tr></tbody></table></div>"
      ],
      "text/plain": [
       "shape: (4, 5)\n",
       "┌─────┬───────────────┬───────────────────┬──────────────────┬───────────┐\n",
       "│ x   ┆ is_duplicated ┆ is_first_distinct ┆ is_last_distinct ┆ is_unique │\n",
       "│ --- ┆ ---           ┆ ---               ┆ ---              ┆ ---       │\n",
       "│ str ┆ bool          ┆ bool              ┆ bool             ┆ bool      │\n",
       "╞═════╪═══════════════╪═══════════════════╪══════════════════╪═══════════╡\n",
       "│ A   ┆ false         ┆ true              ┆ true             ┆ true      │\n",
       "│ C   ┆ true          ┆ true              ┆ false            ┆ false     │\n",
       "│ D   ┆ false         ┆ true              ┆ true             ┆ true      │\n",
       "│ C   ┆ true          ┆ false             ┆ true             ┆ false     │\n",
       "└─────┴───────────────┴───────────────────┴──────────────────┴───────────┘"
      ]
     },
     "execution_count": 16,
     "metadata": {},
     "output_type": "execute_result"
    }
   ],
   "source": [
    "(\n",
    "    pl.DataFrame({'x': ['A', 'C', 'D', 'C']})\n",
    "    .with_columns(\n",
    "        is_duplicated=pl.col('x').is_duplicated(),\n",
    "        is_first_distinct=pl.col('x').is_first_distinct(),\n",
    "        is_last_distinct=pl.col('x').is_last_distinct(),\n",
    "        is_unique=pl.col('x').is_unique(),\n",
    "    )\n",
    ")"
   ]
  },
  {
   "cell_type": "markdown",
   "id": "be75efad-52c3-4124-acb3-252fd0d2ff01",
   "metadata": {},
   "source": [
    "## ローリング統計の操作"
   ]
  },
  {
   "cell_type": "markdown",
   "id": "c0a2b493-a9ed-49d7-8fb9-f2d8d5c3c6e4",
   "metadata": {},
   "source": [
    "やる量が多過ぎるので、一旦このnotebookはスキップする。あとでどっかのタイミングで戻ってくる。  \n",
    "真ん中らへんから再開予定"
   ]
  },
  {
   "cell_type": "code",
   "execution_count": null,
   "id": "5ff9e128-3fb6-441b-8655-77fd63efc5d5",
   "metadata": {},
   "outputs": [],
   "source": []
  }
 ],
 "metadata": {
  "kernelspec": {
   "display_name": "Python 3 (ipykernel)",
   "language": "python",
   "name": "python3"
  },
  "language_info": {
   "codemirror_mode": {
    "name": "ipython",
    "version": 3
   },
   "file_extension": ".py",
   "mimetype": "text/x-python",
   "name": "python",
   "nbconvert_exporter": "python",
   "pygments_lexer": "ipython3",
   "version": "3.12.3"
  }
 },
 "nbformat": 4,
 "nbformat_minor": 5
}
