{
 "cells": [
  {
   "cell_type": "markdown",
   "id": "46157f55-6f21-411e-af91-93f706f1e271",
   "metadata": {},
   "source": [
    "# チュートリアル"
   ]
  },
  {
   "cell_type": "code",
   "execution_count": 1,
   "id": "87942445-0fb9-4bf1-9129-42b8bfedf6d8",
   "metadata": {},
   "outputs": [],
   "source": [
    "import random\n",
    "import string\n",
    "\n",
    "import polars as pl"
   ]
  },
  {
   "cell_type": "code",
   "execution_count": 2,
   "id": "e025bdea-d32a-4c9f-afdb-50ed7831e4de",
   "metadata": {},
   "outputs": [],
   "source": [
    "def generate_random_string(length: int) -> str:\n",
    "    return \"\".join(random.choice(string.ascii_letters) for i in range(length))\n",
    "\n",
    "data = {}\n",
    "for i in range(1, 11):\n",
    "    data[f\"column_{i}\"] = [generate_random_string(50) for _ in range(5)]\n",
    "\n",
    "df = pl.DataFrame(data)"
   ]
  },
  {
   "cell_type": "code",
   "execution_count": 3,
   "id": "e4631e25-53dd-427b-8849-2c0c47872b5e",
   "metadata": {},
   "outputs": [
    {
     "data": {
      "text/html": [
       "<div><style>\n",
       ".dataframe > thead > tr,\n",
       ".dataframe > tbody > tr {\n",
       "  text-align: right;\n",
       "  white-space: pre-wrap;\n",
       "}\n",
       "</style>\n",
       "<small>shape: (5, 10)</small><table border=\"1\" class=\"dataframe\"><thead><tr><th>column_1</th><th>column_2</th><th>column_3</th><th>column_4</th><th>column_5</th><th>column_6</th><th>column_7</th><th>column_8</th><th>column_9</th><th>column_10</th></tr><tr><td>str</td><td>str</td><td>str</td><td>str</td><td>str</td><td>str</td><td>str</td><td>str</td><td>str</td><td>str</td></tr></thead><tbody><tr><td>&quot;wAxbNoQNZasFFrSPaUkbuRxKIvuFTT…</td><td>&quot;TFFHoafyVKkqZdlVsbsuokDFneJeGn…</td><td>&quot;RUBGjzfuiWePuganWHlAFLedbIPgNy…</td><td>&quot;dbQYlWwCEqhkmWtFOJkEnhDNzssxKr…</td><td>&quot;BZKTFpVwoAZlbbYGRusCLzZeWvppWj…</td><td>&quot;hUaBoeBvzWymvLlavhwUhHikhukpDy…</td><td>&quot;TizpFfNSOsWsoGMBdlpDthvIyVIvet…</td><td>&quot;TgNcwzGXbkwQiKwtYnjlBIQCGsHkJk…</td><td>&quot;yOcqWMDPfyxqfpuBagavigFkqNKoGq…</td><td>&quot;ztleaSovyHIOYfeyhdTemdGnyfRgkn…</td></tr><tr><td>&quot;ycRzWdLaVMEvMZCZbbrPmPlggEWINk…</td><td>&quot;HAfjYOjzPfqcycxZYRzXzKsjzchfaN…</td><td>&quot;htdZrJYCkyVhCAzsfPvyvwbineezKc…</td><td>&quot;hOqLTcfqsYQXjaUTVTEnwLDZeZYuDn…</td><td>&quot;znYNlqIrWbrsLVjOzuuVtWYsVOqaAN…</td><td>&quot;ohwgavKgieAZLFswsSQmFPXWxAgJiB…</td><td>&quot;AdvRnESyyOMMyyWBNqqcvhTDELnnsl…</td><td>&quot;QSXcqjLXqUqYAYuzYiqZdVpCSezBNc…</td><td>&quot;IRoNLqiEEtfTWLNtxiCIfeLcOOeHjp…</td><td>&quot;nBaWbUlxnrsToKLNQQvxcvfRLNsFlm…</td></tr><tr><td>&quot;BHpYNOLHJbnbxvxBsVRNYvXZLxRQTd…</td><td>&quot;IzqNBvAuLpVYjbKiwfObCfNAOPzRgT…</td><td>&quot;MMDBhFyCvZbkpYvThkHppfIJgKiYoz…</td><td>&quot;capuRBuQVKHcGhJJHumGTFRFODoteL…</td><td>&quot;QHTgAzWsHGKLNDEfYrYpqcTMbqmiqj…</td><td>&quot;lPYyhiuvRgMiTPZyjaOgNQfqMexpVK…</td><td>&quot;JnpjWFgVbeVUBwyhkNiIXxEEQRVoCw…</td><td>&quot;xEPAyNtsXBhIeEzAajOBzBLLNCcxAp…</td><td>&quot;UAvjKPNsOHaMQytUakxSpHsjBeoDSe…</td><td>&quot;gHsmIIsdgJEfuuDVELEUiuljedZAUm…</td></tr><tr><td>&quot;GxpbWLqVTiVnGRWwVMSUccOtwyHDWw…</td><td>&quot;pSSBgcEIixEtXbiwZIDuDTxzUPyaGU…</td><td>&quot;SIeKDQIgIvlFahxnCgwSjlKNekCKeR…</td><td>&quot;VKFepqluXIfliHvUNQUiOpDeUEvYWp…</td><td>&quot;JmjNKcMEySDzvOzQNznEPtyfAFBnje…</td><td>&quot;lRxZGTQAfzGXjZeDXXedxDLInFieVU…</td><td>&quot;oflTGOSxbEGhfjajBVHylWtenedSjN…</td><td>&quot;kxbHGrAOASliHSRrZFbbeSMiUXpmZW…</td><td>&quot;nwCviOBPgzYnpeZeKldTIXuUHUTSiZ…</td><td>&quot;NKJFMtKxbtqocZGqkUJvZFlaJaaIEm…</td></tr><tr><td>&quot;sDShuuEgVJvSVARQwzcsppcdKBmvmM…</td><td>&quot;uzQvzyFdiqHgHoqHxVRniOFfwpdZDo…</td><td>&quot;wDpYwkGgiyGxIYGsEFRQTQsQMQrXTZ…</td><td>&quot;mBZQPpRqujmETPGHEhPeLkppenjLwS…</td><td>&quot;CCzvqkkgVXRfZtoqxTgMQJjXUlNYvd…</td><td>&quot;WQMCEuqfCetgdzpcXAHCVcVqKvcucP…</td><td>&quot;YUHjmuEScfqQQhRJoiqFQUKQaVCrem…</td><td>&quot;vpXOxEeZidpWSgyaGNKhmniKCQnDVM…</td><td>&quot;cmNEpEmQqnCAYsUTQBNKmtijqyNmQH…</td><td>&quot;xsqetvWpsLUuBxLbGNOZlBjJOSXGam…</td></tr></tbody></table></div>"
      ],
      "text/plain": [
       "shape: (5, 10)\n",
       "┌───────────┬───────────┬───────────┬───────────┬───┬───────────┬───────────┬───────────┬──────────┐\n",
       "│ column_1  ┆ column_2  ┆ column_3  ┆ column_4  ┆ … ┆ column_7  ┆ column_8  ┆ column_9  ┆ column_1 │\n",
       "│ ---       ┆ ---       ┆ ---       ┆ ---       ┆   ┆ ---       ┆ ---       ┆ ---       ┆ 0        │\n",
       "│ str       ┆ str       ┆ str       ┆ str       ┆   ┆ str       ┆ str       ┆ str       ┆ ---      │\n",
       "│           ┆           ┆           ┆           ┆   ┆           ┆           ┆           ┆ str      │\n",
       "╞═══════════╪═══════════╪═══════════╪═══════════╪═══╪═══════════╪═══════════╪═══════════╪══════════╡\n",
       "│ wAxbNoQNZ ┆ TFFHoafyV ┆ RUBGjzfui ┆ dbQYlWwCE ┆ … ┆ TizpFfNSO ┆ TgNcwzGXb ┆ yOcqWMDPf ┆ ztleaSov │\n",
       "│ asFFrSPaU ┆ KkqZdlVsb ┆ WePuganWH ┆ qhkmWtFOJ ┆   ┆ sWsoGMBdl ┆ kwQiKwtYn ┆ yxqfpuBag ┆ yHIOYfey │\n",
       "│ kbuRxKIvu ┆ suokDFneJ ┆ lAFLedbIP ┆ kEnhDNzss ┆   ┆ pDthvIyVI ┆ jlBIQCGsH ┆ avigFkqNK ┆ hdTemdGn │\n",
       "│ FTT…      ┆ eGn…      ┆ gNy…      ┆ xKr…      ┆   ┆ vet…      ┆ kJk…      ┆ oGq…      ┆ yfRgkn…  │\n",
       "│ ycRzWdLaV ┆ HAfjYOjzP ┆ htdZrJYCk ┆ hOqLTcfqs ┆ … ┆ AdvRnESyy ┆ QSXcqjLXq ┆ IRoNLqiEE ┆ nBaWbUlx │\n",
       "│ MEvMZCZbb ┆ fqcycxZYR ┆ yVhCAzsfP ┆ YQXjaUTVT ┆   ┆ OMMyyWBNq ┆ UqYAYuzYi ┆ tfTWLNtxi ┆ nrsToKLN │\n",
       "│ rPmPlggEW ┆ zXzKsjzch ┆ vyvwbinee ┆ EnwLDZeZY ┆   ┆ qcvhTDELn ┆ qZdVpCSez ┆ CIfeLcOOe ┆ QQvxcvfR │\n",
       "│ INk…      ┆ faN…      ┆ zKc…      ┆ uDn…      ┆   ┆ nsl…      ┆ BNc…      ┆ Hjp…      ┆ LNsFlm…  │\n",
       "│ BHpYNOLHJ ┆ IzqNBvAuL ┆ MMDBhFyCv ┆ capuRBuQV ┆ … ┆ JnpjWFgVb ┆ xEPAyNtsX ┆ UAvjKPNsO ┆ gHsmIIsd │\n",
       "│ bnbxvxBsV ┆ pVYjbKiwf ┆ ZbkpYvThk ┆ KHcGhJJHu ┆   ┆ eVUBwyhkN ┆ BhIeEzAaj ┆ HaMQytUak ┆ gJEfuuDV │\n",
       "│ RNYvXZLxR ┆ ObCfNAOPz ┆ HppfIJgKi ┆ mGTFRFODo ┆   ┆ iIXxEEQRV ┆ OBzBLLNCc ┆ xSpHsjBeo ┆ ELEUiulj │\n",
       "│ QTd…      ┆ RgT…      ┆ Yoz…      ┆ teL…      ┆   ┆ oCw…      ┆ xAp…      ┆ DSe…      ┆ edZAUm…  │\n",
       "│ GxpbWLqVT ┆ pSSBgcEIi ┆ SIeKDQIgI ┆ VKFepqluX ┆ … ┆ oflTGOSxb ┆ kxbHGrAOA ┆ nwCviOBPg ┆ NKJFMtKx │\n",
       "│ iVnGRWwVM ┆ xEtXbiwZI ┆ vlFahxnCg ┆ IfliHvUNQ ┆   ┆ EGhfjajBV ┆ SliHSRrZF ┆ zYnpeZeKl ┆ btqocZGq │\n",
       "│ SUccOtwyH ┆ DuDTxzUPy ┆ wSjlKNekC ┆ UiOpDeUEv ┆   ┆ HylWtened ┆ bbeSMiUXp ┆ dTIXuUHUT ┆ kUJvZFla │\n",
       "│ DWw…      ┆ aGU…      ┆ KeR…      ┆ YWp…      ┆   ┆ SjN…      ┆ mZW…      ┆ SiZ…      ┆ JaaIEm…  │\n",
       "│ sDShuuEgV ┆ uzQvzyFdi ┆ wDpYwkGgi ┆ mBZQPpRqu ┆ … ┆ YUHjmuESc ┆ vpXOxEeZi ┆ cmNEpEmQq ┆ xsqetvWp │\n",
       "│ JvSVARQwz ┆ qHgHoqHxV ┆ yGxIYGsEF ┆ jmETPGHEh ┆   ┆ fqQQhRJoi ┆ dpWSgyaGN ┆ nCAYsUTQB ┆ sLUuBxLb │\n",
       "│ csppcdKBm ┆ RniOFfwpd ┆ RQTQsQMQr ┆ PeLkppenj ┆   ┆ qFQUKQaVC ┆ KhmniKCQn ┆ NKmtijqyN ┆ GNOZlBjJ │\n",
       "│ vmM…      ┆ ZDo…      ┆ XTZ…      ┆ LwS…      ┆   ┆ rem…      ┆ DVM…      ┆ mQH…      ┆ OSXGam…  │\n",
       "└───────────┴───────────┴───────────┴───────────┴───┴───────────┴───────────┴───────────┴──────────┘"
      ]
     },
     "execution_count": 3,
     "metadata": {},
     "output_type": "execute_result"
    }
   ],
   "source": [
    "df"
   ]
  },
  {
   "cell_type": "code",
   "execution_count": 4,
   "id": "7ee1ff0a-b7b8-4b17-a65e-05435bfec7e5",
   "metadata": {},
   "outputs": [
    {
     "name": "stdout",
     "output_type": "stream",
     "text": [
      "shape: (5, 10)\n",
      "┌───────────┬───────────┬───────────┬───────────┬───┬───────────┬───────────┬───────────┬──────────┐\n",
      "│ column_1  ┆ column_2  ┆ column_3  ┆ column_4  ┆ … ┆ column_7  ┆ column_8  ┆ column_9  ┆ column_1 │\n",
      "│ ---       ┆ ---       ┆ ---       ┆ ---       ┆   ┆ ---       ┆ ---       ┆ ---       ┆ 0        │\n",
      "│ str       ┆ str       ┆ str       ┆ str       ┆   ┆ str       ┆ str       ┆ str       ┆ ---      │\n",
      "│           ┆           ┆           ┆           ┆   ┆           ┆           ┆           ┆ str      │\n",
      "╞═══════════╪═══════════╪═══════════╪═══════════╪═══╪═══════════╪═══════════╪═══════════╪══════════╡\n",
      "│ wAxbNoQNZ ┆ TFFHoafyV ┆ RUBGjzfui ┆ dbQYlWwCE ┆ … ┆ TizpFfNSO ┆ TgNcwzGXb ┆ yOcqWMDPf ┆ ztleaSov │\n",
      "│ asFFrSPaU ┆ KkqZdlVsb ┆ WePuganWH ┆ qhkmWtFOJ ┆   ┆ sWsoGMBdl ┆ kwQiKwtYn ┆ yxqfpuBag ┆ yHIOYfey │\n",
      "│ kbuRxKIvu ┆ suokDFneJ ┆ lAFLedbIP ┆ kEnhDNzss ┆   ┆ pDthvIyVI ┆ jlBIQCGsH ┆ avigFkqNK ┆ hdTemdGn │\n",
      "│ FTT…      ┆ eGn…      ┆ gNy…      ┆ xKr…      ┆   ┆ vet…      ┆ kJk…      ┆ oGq…      ┆ yfRgkn…  │\n",
      "│ ycRzWdLaV ┆ HAfjYOjzP ┆ htdZrJYCk ┆ hOqLTcfqs ┆ … ┆ AdvRnESyy ┆ QSXcqjLXq ┆ IRoNLqiEE ┆ nBaWbUlx │\n",
      "│ MEvMZCZbb ┆ fqcycxZYR ┆ yVhCAzsfP ┆ YQXjaUTVT ┆   ┆ OMMyyWBNq ┆ UqYAYuzYi ┆ tfTWLNtxi ┆ nrsToKLN │\n",
      "│ rPmPlggEW ┆ zXzKsjzch ┆ vyvwbinee ┆ EnwLDZeZY ┆   ┆ qcvhTDELn ┆ qZdVpCSez ┆ CIfeLcOOe ┆ QQvxcvfR │\n",
      "│ INk…      ┆ faN…      ┆ zKc…      ┆ uDn…      ┆   ┆ nsl…      ┆ BNc…      ┆ Hjp…      ┆ LNsFlm…  │\n",
      "│ BHpYNOLHJ ┆ IzqNBvAuL ┆ MMDBhFyCv ┆ capuRBuQV ┆ … ┆ JnpjWFgVb ┆ xEPAyNtsX ┆ UAvjKPNsO ┆ gHsmIIsd │\n",
      "│ bnbxvxBsV ┆ pVYjbKiwf ┆ ZbkpYvThk ┆ KHcGhJJHu ┆   ┆ eVUBwyhkN ┆ BhIeEzAaj ┆ HaMQytUak ┆ gJEfuuDV │\n",
      "│ RNYvXZLxR ┆ ObCfNAOPz ┆ HppfIJgKi ┆ mGTFRFODo ┆   ┆ iIXxEEQRV ┆ OBzBLLNCc ┆ xSpHsjBeo ┆ ELEUiulj │\n",
      "│ QTd…      ┆ RgT…      ┆ Yoz…      ┆ teL…      ┆   ┆ oCw…      ┆ xAp…      ┆ DSe…      ┆ edZAUm…  │\n",
      "│ GxpbWLqVT ┆ pSSBgcEIi ┆ SIeKDQIgI ┆ VKFepqluX ┆ … ┆ oflTGOSxb ┆ kxbHGrAOA ┆ nwCviOBPg ┆ NKJFMtKx │\n",
      "│ iVnGRWwVM ┆ xEtXbiwZI ┆ vlFahxnCg ┆ IfliHvUNQ ┆   ┆ EGhfjajBV ┆ SliHSRrZF ┆ zYnpeZeKl ┆ btqocZGq │\n",
      "│ SUccOtwyH ┆ DuDTxzUPy ┆ wSjlKNekC ┆ UiOpDeUEv ┆   ┆ HylWtened ┆ bbeSMiUXp ┆ dTIXuUHUT ┆ kUJvZFla │\n",
      "│ DWw…      ┆ aGU…      ┆ KeR…      ┆ YWp…      ┆   ┆ SjN…      ┆ mZW…      ┆ SiZ…      ┆ JaaIEm…  │\n",
      "│ sDShuuEgV ┆ uzQvzyFdi ┆ wDpYwkGgi ┆ mBZQPpRqu ┆ … ┆ YUHjmuESc ┆ vpXOxEeZi ┆ cmNEpEmQq ┆ xsqetvWp │\n",
      "│ JvSVARQwz ┆ qHgHoqHxV ┆ yGxIYGsEF ┆ jmETPGHEh ┆   ┆ fqQQhRJoi ┆ dpWSgyaGN ┆ nCAYsUTQB ┆ sLUuBxLb │\n",
      "│ csppcdKBm ┆ RniOFfwpd ┆ RQTQsQMQr ┆ PeLkppenj ┆   ┆ qFQUKQaVC ┆ KhmniKCQn ┆ NKmtijqyN ┆ GNOZlBjJ │\n",
      "│ vmM…      ┆ ZDo…      ┆ XTZ…      ┆ LwS…      ┆   ┆ rem…      ┆ DVM…      ┆ mQH…      ┆ OSXGam…  │\n",
      "└───────────┴───────────┴───────────┴───────────┴───┴───────────┴───────────┴───────────┴──────────┘\n"
     ]
    }
   ],
   "source": [
    "print(df)"
   ]
  },
  {
   "cell_type": "markdown",
   "id": "e5f65165-cc7d-474d-b967-83933ace9841",
   "metadata": {},
   "source": [
    "縦・横幅を調整するConfigを設定してみる"
   ]
  },
  {
   "cell_type": "code",
   "execution_count": 5,
   "id": "8829280d-34cb-4923-bf42-83dab37ad53e",
   "metadata": {},
   "outputs": [
    {
     "name": "stdout",
     "output_type": "stream",
     "text": [
      "shape: (5, 10)\n",
      "┌───────┬───────┬───────┬───────┬───────┬───────┬───────┬───────┬───────┬───────┐\n",
      "│ colu… ┆ colu… ┆ colu… ┆ colu… ┆ colu… ┆ colu… ┆ colu… ┆ colu… ┆ colu… ┆ colu… │\n",
      "│ ---   ┆ ---   ┆ ---   ┆ ---   ┆ ---   ┆ ---   ┆ ---   ┆ ---   ┆ ---   ┆ ---   │\n",
      "│ str   ┆ str   ┆ str   ┆ str   ┆ str   ┆ str   ┆ str   ┆ str   ┆ str   ┆ str   │\n",
      "╞═══════╪═══════╪═══════╪═══════╪═══════╪═══════╪═══════╪═══════╪═══════╪═══════╡\n",
      "│ wAxb… ┆ TFFH… ┆ RUBG… ┆ dbQY… ┆ BZKT… ┆ hUaB… ┆ Tizp… ┆ TgNc… ┆ yOcq… ┆ ztle… │\n",
      "│ ycRz… ┆ HAfj… ┆ htdZ… ┆ hOqL… ┆ znYN… ┆ ohwg… ┆ AdvR… ┆ QSXc… ┆ IRoN… ┆ nBaW… │\n",
      "│ BHpY… ┆ IzqN… ┆ MMDB… ┆ capu… ┆ QHTg… ┆ lPYy… ┆ Jnpj… ┆ xEPA… ┆ UAvj… ┆ gHsm… │\n",
      "│ Gxpb… ┆ pSSB… ┆ SIeK… ┆ VKFe… ┆ JmjN… ┆ lRxZ… ┆ oflT… ┆ kxbH… ┆ nwCv… ┆ NKJF… │\n",
      "│ sDSh… ┆ uzQv… ┆ wDpY… ┆ mBZQ… ┆ CCzv… ┆ WQMC… ┆ YUHj… ┆ vpXO… ┆ cmNE… ┆ xsqe… │\n",
      "└───────┴───────┴───────┴───────┴───────┴───────┴───────┴───────┴───────┴───────┘\n"
     ]
    }
   ],
   "source": [
    "with pl.Config(tbl_cols=-1, fmt_str_lengths=4):\n",
    "    print(df)"
   ]
  },
  {
   "cell_type": "markdown",
   "id": "86d1cce9-b76e-4f84-962e-3a66a169d922",
   "metadata": {},
   "source": [
    "pandasだとDataFrameを描画するときは`print()`を使わないことで綺麗にテーブルが作れるが、polarsは`print()`でも良い感じにテーブルが出力されるのか"
   ]
  },
  {
   "cell_type": "code",
   "execution_count": 6,
   "id": "56b778a9-8683-4bb0-ae99-fc9176fb08f4",
   "metadata": {},
   "outputs": [],
   "source": [
    "@pl.Config(ascii_tables=True)\n",
    "def write_ascii_frame_to_stdout(df: pl.DataFrame) -> None:\n",
    "    print(str(df))"
   ]
  },
  {
   "cell_type": "markdown",
   "id": "d228fee5-b296-45c4-be0f-bb555045c9cb",
   "metadata": {},
   "source": [
    "polarsのデコレータを使うことで、特定の関数にのみConfigを設定することも可能"
   ]
  },
  {
   "cell_type": "code",
   "execution_count": null,
   "id": "0aadbebd-f1b0-4f44-8d70-09d7199c2745",
   "metadata": {},
   "outputs": [],
   "source": []
  }
 ],
 "metadata": {
  "kernelspec": {
   "display_name": "Python 3 (ipykernel)",
   "language": "python",
   "name": "python3"
  },
  "language_info": {
   "codemirror_mode": {
    "name": "ipython",
    "version": 3
   },
   "file_extension": ".py",
   "mimetype": "text/x-python",
   "name": "python",
   "nbconvert_exporter": "python",
   "pygments_lexer": "ipython3",
   "version": "3.12.3"
  }
 },
 "nbformat": 4,
 "nbformat_minor": 5
}
