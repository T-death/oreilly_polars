{
 "cells": [
  {
   "cell_type": "markdown",
   "id": "b401545f-d8e0-4004-9fbb-94c3d303ab12",
   "metadata": {},
   "source": [
    "# 式の結合"
   ]
  },
  {
   "cell_type": "code",
   "execution_count": 1,
   "id": "eb5b2289-376e-4956-a358-3029ee245521",
   "metadata": {},
   "outputs": [],
   "source": [
    "import os\n",
    "\n",
    "import polars as pl"
   ]
  },
  {
   "cell_type": "markdown",
   "id": "3cc06699-e61f-4610-8c4a-66bd7c4280e2",
   "metadata": {},
   "source": [
    "## 定数定義"
   ]
  },
  {
   "cell_type": "code",
   "execution_count": 2,
   "id": "62d8f52e-d7e9-496f-9217-82d30c84fa6e",
   "metadata": {},
   "outputs": [],
   "source": [
    "DATA_PAR_PATH = os.path.join('..','..','data')\n",
    "INPUT_CSV_PATH_FRUIT = os.path.join(DATA_PAR_PATH,'fruit.csv')"
   ]
  },
  {
   "cell_type": "markdown",
   "id": "b22e6587-6163-4124-a638-0443dd298197",
   "metadata": {},
   "source": [
    "## メソッドチェーン"
   ]
  },
  {
   "cell_type": "code",
   "execution_count": 3,
   "id": "6afd2882-0007-4861-9109-6924502b7f0c",
   "metadata": {},
   "outputs": [
    {
     "data": {
      "text/html": [
       "<div><style>\n",
       ".dataframe > thead > tr,\n",
       ".dataframe > tbody > tr {\n",
       "  text-align: right;\n",
       "  white-space: pre-wrap;\n",
       "}\n",
       "</style>\n",
       "<small>shape: (2, 5)</small><table border=\"1\" class=\"dataframe\"><thead><tr><th>name</th><th>weight</th><th>color</th><th>is_round</th><th>origin</th></tr><tr><td>str</td><td>i64</td><td>str</td><td>bool</td><td>str</td></tr></thead><tbody><tr><td>&quot;Cantaloupe&quot;</td><td>2500</td><td>&quot;orange&quot;</td><td>true</td><td>&quot;Africa&quot;</td></tr><tr><td>&quot;Watermelon&quot;</td><td>5000</td><td>&quot;green&quot;</td><td>true</td><td>&quot;Africa&quot;</td></tr></tbody></table></div>"
      ],
      "text/plain": [
       "shape: (2, 5)\n",
       "┌────────────┬────────┬────────┬──────────┬────────┐\n",
       "│ name       ┆ weight ┆ color  ┆ is_round ┆ origin │\n",
       "│ ---        ┆ ---    ┆ ---    ┆ ---      ┆ ---    │\n",
       "│ str        ┆ i64    ┆ str    ┆ bool     ┆ str    │\n",
       "╞════════════╪════════╪════════╪══════════╪════════╡\n",
       "│ Cantaloupe ┆ 2500   ┆ orange ┆ true     ┆ Africa │\n",
       "│ Watermelon ┆ 5000   ┆ green  ┆ true     ┆ Africa │\n",
       "└────────────┴────────┴────────┴──────────┴────────┘"
      ]
     },
     "execution_count": 3,
     "metadata": {},
     "output_type": "execute_result"
    }
   ],
   "source": [
    "fruit = pl.read_csv(INPUT_CSV_PATH_FRUIT)\n",
    "fruit.filter(pl.col('is_round') & (pl.col('weight') > 1000))"
   ]
  },
  {
   "cell_type": "markdown",
   "id": "d3d66ca8-eab8-4cc5-ad1d-663a1f29495f",
   "metadata": {},
   "source": [
    "## インライン演算子とメソッド"
   ]
  },
  {
   "cell_type": "code",
   "execution_count": 4,
   "id": "9bb81dc6-46f9-470f-ac87-bb059b30cd0a",
   "metadata": {},
   "outputs": [
    {
     "data": {
      "text/html": [
       "<div><style>\n",
       ".dataframe > thead > tr,\n",
       ".dataframe > tbody > tr {\n",
       "  text-align: right;\n",
       "  white-space: pre-wrap;\n",
       "}\n",
       "</style>\n",
       "<small>shape: (4, 4)</small><table border=\"1\" class=\"dataframe\"><thead><tr><th>i</th><th>j</th><th>*</th><th>Expr.mul()</th></tr><tr><td>f64</td><td>i64</td><td>f64</td><td>f64</td></tr></thead><tbody><tr><td>6.0</td><td>7</td><td>42.0</td><td>42.0</td></tr><tr><td>0.0</td><td>1</td><td>0.0</td><td>0.0</td></tr><tr><td>2.0</td><td>2</td><td>4.0</td><td>4.0</td></tr><tr><td>2.5</td><td>3</td><td>7.5</td><td>7.5</td></tr></tbody></table></div>"
      ],
      "text/plain": [
       "shape: (4, 4)\n",
       "┌─────┬─────┬──────┬────────────┐\n",
       "│ i   ┆ j   ┆ *    ┆ Expr.mul() │\n",
       "│ --- ┆ --- ┆ ---  ┆ ---        │\n",
       "│ f64 ┆ i64 ┆ f64  ┆ f64        │\n",
       "╞═════╪═════╪══════╪════════════╡\n",
       "│ 6.0 ┆ 7   ┆ 42.0 ┆ 42.0       │\n",
       "│ 0.0 ┆ 1   ┆ 0.0  ┆ 0.0        │\n",
       "│ 2.0 ┆ 2   ┆ 4.0  ┆ 4.0        │\n",
       "│ 2.5 ┆ 3   ┆ 7.5  ┆ 7.5        │\n",
       "└─────┴─────┴──────┴────────────┘"
      ]
     },
     "execution_count": 4,
     "metadata": {},
     "output_type": "execute_result"
    }
   ],
   "source": [
    "(\n",
    "    pl.DataFrame({\n",
    "        'i': [6.0, 0.0, 2.0, 2.5],\n",
    "        'j': [7, 1, 2, 3]\n",
    "    })\n",
    "    .with_columns(\n",
    "        (pl.col('i') * pl.col('j')).alias('*'),\n",
    "        pl.col('i').mul(pl.col('j')).alias('Expr.mul()')\n",
    "    )\n",
    ")"
   ]
  },
  {
   "cell_type": "markdown",
   "id": "c4650327-df00-46d3-b521-eeced7438a21",
   "metadata": {},
   "source": [
    "インライン演算子の方がpythonに近い記法になるので見やすい。でもメソッドでも対して見やすさは同じかも（慣れの問題）"
   ]
  },
  {
   "cell_type": "markdown",
   "id": "4b55b0c2-50c1-42dc-9299-95abdc68422f",
   "metadata": {},
   "source": [
    "### 算術演算"
   ]
  },
  {
   "cell_type": "code",
   "execution_count": 5,
   "id": "91bdbe88-29f7-48c4-a611-388c5b0b509e",
   "metadata": {},
   "outputs": [
    {
     "data": {
      "text/html": [
       "<div><style>\n",
       ".dataframe > thead > tr,\n",
       ".dataframe > tbody > tr {\n",
       "  text-align: right;\n",
       "  white-space: pre-wrap;\n",
       "}\n",
       "</style>\n",
       "<small>shape: (10, 2)</small><table border=\"1\" class=\"dataframe\"><thead><tr><th>name</th><th>weight</th></tr><tr><td>str</td><td>f64</td></tr></thead><tbody><tr><td>&quot;Avocado&quot;</td><td>0.2</td></tr><tr><td>&quot;Banana&quot;</td><td>0.12</td></tr><tr><td>&quot;Blueberry&quot;</td><td>0.001</td></tr><tr><td>&quot;Cantaloupe&quot;</td><td>2.5</td></tr><tr><td>&quot;Cranberry&quot;</td><td>0.002</td></tr><tr><td>&quot;Elderberry&quot;</td><td>0.001</td></tr><tr><td>&quot;Orange&quot;</td><td>0.13</td></tr><tr><td>&quot;Papaya&quot;</td><td>1.0</td></tr><tr><td>&quot;Peach&quot;</td><td>0.15</td></tr><tr><td>&quot;Watermelon&quot;</td><td>5.0</td></tr></tbody></table></div>"
      ],
      "text/plain": [
       "shape: (10, 2)\n",
       "┌────────────┬────────┐\n",
       "│ name       ┆ weight │\n",
       "│ ---        ┆ ---    │\n",
       "│ str        ┆ f64    │\n",
       "╞════════════╪════════╡\n",
       "│ Avocado    ┆ 0.2    │\n",
       "│ Banana     ┆ 0.12   │\n",
       "│ Blueberry  ┆ 0.001  │\n",
       "│ Cantaloupe ┆ 2.5    │\n",
       "│ Cranberry  ┆ 0.002  │\n",
       "│ Elderberry ┆ 0.001  │\n",
       "│ Orange     ┆ 0.13   │\n",
       "│ Papaya     ┆ 1.0    │\n",
       "│ Peach      ┆ 0.15   │\n",
       "│ Watermelon ┆ 5.0    │\n",
       "└────────────┴────────┘"
      ]
     },
     "execution_count": 5,
     "metadata": {},
     "output_type": "execute_result"
    }
   ],
   "source": [
    "fruit.select(\n",
    "    pl.col('name'),\n",
    "    (pl.col('weight') / 1000)\n",
    ")"
   ]
  },
  {
   "cell_type": "code",
   "execution_count": 6,
   "id": "f846be5d-d4d0-4a55-ad84-17aed7ecb03f",
   "metadata": {},
   "outputs": [
    {
     "data": {
      "text/html": [
       "<div><style>\n",
       ".dataframe > thead > tr,\n",
       ".dataframe > tbody > tr {\n",
       "  text-align: right;\n",
       "  white-space: pre-wrap;\n",
       "}\n",
       "</style>\n",
       "<small>shape: (5, 10)</small><table border=\"1\" class=\"dataframe\"><thead><tr><th>i</th><th>j</th><th>i + j</th><th>i - j</th><th>i * j</th><th>i / j</th><th>i // j</th><th>i ** j</th><th>i % 2</th><th>i ・ j</th></tr><tr><td>f64</td><td>f64</td><td>f64</td><td>f64</td><td>f64</td><td>f64</td><td>f64</td><td>f64</td><td>f64</td><td>f64</td></tr></thead><tbody><tr><td>0.00</td><td>1.00</td><td>1.00</td><td>-1.00</td><td>0.00</td><td>0.00</td><td>0.00</td><td>0.00</td><td>1.00</td><td>12.00</td></tr><tr><td>2.00</td><td>2.00</td><td>4.00</td><td>0.00</td><td>4.00</td><td>1.00</td><td>1.00</td><td>4.00</td><td>0.00</td><td>12.00</td></tr><tr><td>2.00</td><td>3.00</td><td>5.00</td><td>-1.00</td><td>6.00</td><td>0.67</td><td>0.00</td><td>8.00</td><td>1.00</td><td>12.00</td></tr><tr><td>-2.00</td><td>4.00</td><td>2.00</td><td>-6.00</td><td>-8.00</td><td>-0.50</td><td>-1.00</td><td>16.00</td><td>0.00</td><td>12.00</td></tr><tr><td>-2.00</td><td>-5.00</td><td>-7.00</td><td>3.00</td><td>10.00</td><td>0.40</td><td>0.00</td><td>-0.03</td><td>1.00</td><td>12.00</td></tr></tbody></table></div>"
      ],
      "text/plain": [
       "shape: (5, 10)\n",
       "┌───────┬───────┬───────┬───────┬───┬────────┬────────┬───────┬────────┐\n",
       "│     i ┆     j ┆ i + j ┆ i - j ┆ … ┆ i // j ┆ i ** j ┆ i % 2 ┆ i ・ j │\n",
       "│   --- ┆   --- ┆   --- ┆   --- ┆   ┆    --- ┆    --- ┆   --- ┆    --- │\n",
       "│   f64 ┆   f64 ┆   f64 ┆   f64 ┆   ┆    f64 ┆    f64 ┆   f64 ┆    f64 │\n",
       "╞═══════╪═══════╪═══════╪═══════╪═══╪════════╪════════╪═══════╪════════╡\n",
       "│  0.00 ┆  1.00 ┆  1.00 ┆ -1.00 ┆ … ┆   0.00 ┆   0.00 ┆  1.00 ┆  12.00 │\n",
       "│  2.00 ┆  2.00 ┆  4.00 ┆  0.00 ┆ … ┆   1.00 ┆   4.00 ┆  0.00 ┆  12.00 │\n",
       "│  2.00 ┆  3.00 ┆  5.00 ┆ -1.00 ┆ … ┆   0.00 ┆   8.00 ┆  1.00 ┆  12.00 │\n",
       "│ -2.00 ┆  4.00 ┆  2.00 ┆ -6.00 ┆ … ┆  -1.00 ┆  16.00 ┆  0.00 ┆  12.00 │\n",
       "│ -2.00 ┆ -5.00 ┆ -7.00 ┆  3.00 ┆ … ┆   0.00 ┆  -0.03 ┆  1.00 ┆  12.00 │\n",
       "└───────┴───────┴───────┴───────┴───┴────────┴────────┴───────┴────────┘"
      ]
     },
     "execution_count": 6,
     "metadata": {},
     "output_type": "execute_result"
    }
   ],
   "source": [
    "pl.Config(float_precision=2, tbl_cell_numeric_alignment='RIGHT')\n",
    "\n",
    "(\n",
    "    pl.DataFrame({\n",
    "        'i': [0.0, 2.0, 2.0, -2.0, -2.0],\n",
    "        'j': [1.0, 2.0, 3.0, 4.0, -5.0]\n",
    "    })\n",
    "    .with_columns(\n",
    "        (pl.col('i') + pl.col('j')).alias('i + j'),\n",
    "        (pl.col('i') - pl.col('j')).alias('i - j'),\n",
    "        (pl.col('i') * pl.col('j')).alias('i * j'),\n",
    "        (pl.col('i') / pl.col('j')).alias('i / j'),\n",
    "        (pl.col('i') // pl.col('j')).alias('i // j'),\n",
    "        (pl.col('i') ** pl.col('j')).alias('i ** j'),\n",
    "        (pl.col('j') % 2).alias('i % 2'),\n",
    "        pl.col('i').dot(pl.col('j')).alias('i ・ j')\n",
    "    )\n",
    ")"
   ]
  },
  {
   "cell_type": "markdown",
   "id": "8d26f12d-9135-4a59-8195-f25bf153b73d",
   "metadata": {},
   "source": [
    "### 比較演算"
   ]
  },
  {
   "cell_type": "code",
   "execution_count": 7,
   "id": "ff520eb0-2916-4ac7-94f1-b04f27813050",
   "metadata": {},
   "outputs": [
    {
     "data": {
      "text/html": [
       "<div><style>\n",
       ".dataframe > thead > tr,\n",
       ".dataframe > tbody > tr {\n",
       "  text-align: right;\n",
       "  white-space: pre-wrap;\n",
       "}\n",
       "</style>\n",
       "<small>shape: (1, 1)</small><table border=\"1\" class=\"dataframe\"><thead><tr><th>literal</th></tr><tr><td>bool</td></tr></thead><tbody><tr><td>false</td></tr></tbody></table></div>"
      ],
      "text/plain": [
       "shape: (1, 1)\n",
       "┌─────────┐\n",
       "│ literal │\n",
       "│ ---     │\n",
       "│ bool    │\n",
       "╞═════════╡\n",
       "│ false   │\n",
       "└─────────┘"
      ]
     },
     "execution_count": 7,
     "metadata": {},
     "output_type": "execute_result"
    }
   ],
   "source": [
    "pl.select(pl.lit('a') > pl.lit('b'))"
   ]
  },
  {
   "cell_type": "code",
   "execution_count": 8,
   "id": "b423f1f6-b52c-4964-b6b3-8135419faf66",
   "metadata": {},
   "outputs": [
    {
     "data": {
      "text/html": [
       "<div><style>\n",
       ".dataframe > thead > tr,\n",
       ".dataframe > tbody > tr {\n",
       "  text-align: right;\n",
       "  white-space: pre-wrap;\n",
       "}\n",
       "</style>\n",
       "<small>shape: (3, 2)</small><table border=\"1\" class=\"dataframe\"><thead><tr><th>name</th><th>weight</th></tr><tr><td>str</td><td>i64</td></tr></thead><tbody><tr><td>&quot;Cantaloupe&quot;</td><td>2500</td></tr><tr><td>&quot;Papaya&quot;</td><td>1000</td></tr><tr><td>&quot;Watermelon&quot;</td><td>5000</td></tr></tbody></table></div>"
      ],
      "text/plain": [
       "shape: (3, 2)\n",
       "┌────────────┬────────┐\n",
       "│ name       ┆ weight │\n",
       "│ ---        ┆    --- │\n",
       "│ str        ┆    i64 │\n",
       "╞════════════╪════════╡\n",
       "│ Cantaloupe ┆   2500 │\n",
       "│ Papaya     ┆   1000 │\n",
       "│ Watermelon ┆   5000 │\n",
       "└────────────┴────────┘"
      ]
     },
     "execution_count": 8,
     "metadata": {},
     "output_type": "execute_result"
    }
   ],
   "source": [
    "(\n",
    "    fruit.select(\n",
    "        pl.col('name'),\n",
    "        pl.col('weight')\n",
    "    )\n",
    "    .filter(pl.col('weight') >= 1000)\n",
    ")"
   ]
  },
  {
   "cell_type": "code",
   "execution_count": 9,
   "id": "5a86d248-7dcb-42f3-a386-0f54e5c4b244",
   "metadata": {},
   "outputs": [
    {
     "data": {
      "text/html": [
       "<div><style>\n",
       ".dataframe > thead > tr,\n",
       ".dataframe > tbody > tr {\n",
       "  text-align: right;\n",
       "  white-space: pre-wrap;\n",
       "}\n",
       "</style>\n",
       "<small>shape: (1, 1)</small><table border=\"1\" class=\"dataframe\"><thead><tr><th>literal</th></tr><tr><td>bool</td></tr></thead><tbody><tr><td>true</td></tr></tbody></table></div>"
      ],
      "text/plain": [
       "shape: (1, 1)\n",
       "┌─────────┐\n",
       "│ literal │\n",
       "│ ---     │\n",
       "│ bool    │\n",
       "╞═════════╡\n",
       "│ true    │\n",
       "└─────────┘"
      ]
     },
     "execution_count": 9,
     "metadata": {},
     "output_type": "execute_result"
    }
   ],
   "source": [
    "x = 4\n",
    "pl.select((pl.lit(3) < pl.lit(x)) & (pl.lit(x) < pl.lit(5)))"
   ]
  },
  {
   "cell_type": "markdown",
   "id": "771e4062-1802-44a0-833c-5ef55a43a459",
   "metadata": {},
   "source": [
    "通常、pythonだと`3 < x < 10`といった具合に比較演算を3つでできたりするが、polarsではそれはできない。  \n",
    "それぞれの比較演算を実施してあげる必要がある"
   ]
  },
  {
   "cell_type": "code",
   "execution_count": 10,
   "id": "07452fd5-9910-416d-8d3c-1c9ac9100e1d",
   "metadata": {},
   "outputs": [
    {
     "data": {
      "text/plain": [
       "True"
      ]
     },
     "execution_count": 10,
     "metadata": {},
     "output_type": "execute_result"
    }
   ],
   "source": [
    "pl.select(pl.lit(x).is_between(3, 5)).item()"
   ]
  },
  {
   "cell_type": "markdown",
   "id": "c5bdb18b-f850-4753-942c-fd899db0528d",
   "metadata": {},
   "source": [
    "`.item()`で、テーブルの中の要素のみを抽出している"
   ]
  },
  {
   "cell_type": "code",
   "execution_count": 11,
   "id": "3d03e7e0-2d5a-472d-8acf-ff52007e6b6d",
   "metadata": {},
   "outputs": [
    {
     "data": {
      "text/html": [
       "<div><style>\n",
       ".dataframe > thead > tr,\n",
       ".dataframe > tbody > tr {\n",
       "  text-align: right;\n",
       "  white-space: pre-wrap;\n",
       "}\n",
       "</style>\n",
       "<small>shape: (4, 8)</small><table border=\"1\" class=\"dataframe\"><thead><tr><th>a</th><th>b</th><th>a == b</th><th>a &lt;= b</th><th>a &gt; 0</th><th>b &gt; 0</th><th>b = √2</th><th>1 &lt; b &lt; 3</th></tr><tr><td>f64</td><td>f64</td><td>bool</td><td>bool</td><td>bool</td><td>bool</td><td>bool</td><td>bool</td></tr></thead><tbody><tr><td>-273.15</td><td>1.41</td><td>false</td><td>true</td><td>false</td><td>true</td><td>true</td><td>true</td></tr><tr><td>0.00</td><td>2.72</td><td>false</td><td>true</td><td>false</td><td>true</td><td>false</td><td>true</td></tr><tr><td>42.00</td><td>42.00</td><td>true</td><td>true</td><td>true</td><td>true</td><td>false</td><td>false</td></tr><tr><td>100.00</td><td>3.14</td><td>false</td><td>false</td><td>true</td><td>true</td><td>false</td><td>false</td></tr></tbody></table></div>"
      ],
      "text/plain": [
       "shape: (4, 8)\n",
       "┌─────────┬───────┬────────┬────────┬───────┬───────┬────────┬───────────┐\n",
       "│       a ┆     b ┆ a == b ┆ a <= b ┆ a > 0 ┆ b > 0 ┆ b = √2 ┆ 1 < b < 3 │\n",
       "│     --- ┆   --- ┆ ---    ┆ ---    ┆ ---   ┆ ---   ┆ ---    ┆ ---       │\n",
       "│     f64 ┆   f64 ┆ bool   ┆ bool   ┆ bool  ┆ bool  ┆ bool   ┆ bool      │\n",
       "╞═════════╪═══════╪════════╪════════╪═══════╪═══════╪════════╪═══════════╡\n",
       "│ -273.15 ┆  1.41 ┆ false  ┆ true   ┆ false ┆ true  ┆ true   ┆ true      │\n",
       "│    0.00 ┆  2.72 ┆ false  ┆ true   ┆ false ┆ true  ┆ false  ┆ true      │\n",
       "│   42.00 ┆ 42.00 ┆ true   ┆ true   ┆ true  ┆ true  ┆ false  ┆ false     │\n",
       "│  100.00 ┆  3.14 ┆ false  ┆ false  ┆ true  ┆ true  ┆ false  ┆ false     │\n",
       "└─────────┴───────┴────────┴────────┴───────┴───────┴────────┴───────────┘"
      ]
     },
     "execution_count": 11,
     "metadata": {},
     "output_type": "execute_result"
    }
   ],
   "source": [
    "(\n",
    "    pl.DataFrame({\n",
    "        'a': [-273.15, 0.0, 42.0, 100.0],\n",
    "        'b': [1.4142, 2.7183, 42.0, 3.1415]\n",
    "    })\n",
    "    .with_columns(\n",
    "        (pl.col('a') == pl.col('b')).alias('a == b'),\n",
    "        (pl.col('a') <= pl.col('b')).alias('a <= b'),\n",
    "        (pl.all() > 0).name.suffix(' > 0'),\n",
    "        ((pl.col('b') - pl.lit(2).sqrt()).abs() < 1e-3).alias('b = √2'),\n",
    "        ((1 < pl.col('b')) & (pl.col('b') < 3)).alias('1 < b < 3')\n",
    "    )\n",
    ")"
   ]
  },
  {
   "cell_type": "code",
   "execution_count": 12,
   "id": "8072be5f-2de3-43bc-80aa-4dd790dec316",
   "metadata": {},
   "outputs": [
    {
     "data": {
      "text/html": [
       "<div><style>\n",
       ".dataframe > thead > tr,\n",
       ".dataframe > tbody > tr {\n",
       "  text-align: right;\n",
       "  white-space: pre-wrap;\n",
       "}\n",
       "</style>\n",
       "<small>shape: (5, 2)</small><table border=\"1\" class=\"dataframe\"><thead><tr><th>comparison</th><th>allowed</th></tr><tr><td>str</td><td>bool</td></tr></thead><tbody><tr><td>&quot;bool_num&quot;</td><td>true</td></tr><tr><td>&quot;time_time&quot;</td><td>true</td></tr><tr><td>&quot;datetime_date&quot;</td><td>true</td></tr><tr><td>&quot;str_num&quot;</td><td>false</td></tr><tr><td>&quot;datetime_time&quot;</td><td>false</td></tr></tbody></table></div>"
      ],
      "text/plain": [
       "shape: (5, 2)\n",
       "┌───────────────┬─────────┐\n",
       "│ comparison    ┆ allowed │\n",
       "│ ---           ┆ ---     │\n",
       "│ str           ┆ bool    │\n",
       "╞═══════════════╪═════════╡\n",
       "│ bool_num      ┆ true    │\n",
       "│ time_time     ┆ true    │\n",
       "│ datetime_date ┆ true    │\n",
       "│ str_num       ┆ false   │\n",
       "│ datetime_time ┆ false   │\n",
       "└───────────────┴─────────┘"
      ]
     },
     "execution_count": 12,
     "metadata": {},
     "output_type": "execute_result"
    }
   ],
   "source": [
    "pl.select(\n",
    "    bool_num=pl.lit(True) > 0,\n",
    "    time_time=pl.time(23, 58) > pl.time(0, 0),\n",
    "    datetime_date=pl.datetime(1969, 7, 21, 2, 56) < pl.date(1976, 7, 20),\n",
    "    str_num=pl.lit('5') < pl.lit(3).cast(pl.String),\n",
    "    datetime_time=pl.datetime(1999, 1, 1).dt.time() != pl.time(0, 0)\n",
    ").transpose(include_header=True,\n",
    "            header_name='comparison',\n",
    "            column_names=['allowed'])"
   ]
  },
  {
   "cell_type": "markdown",
   "id": "8c6e64e5-7223-4009-ae24-c5d866003792",
   "metadata": {},
   "source": [
    "strとintの比較ができないのは素直に受け入れられるが、datetimeとdateも比較できないのか。言われてみればそうかもしれないけれど、頑張ったらできそうじゃない？  \n",
    "あ、だめだ。時間情報と日付の比較ってどうやるの？って話か"
   ]
  },
  {
   "cell_type": "markdown",
   "id": "db2eeb67-99d3-4ac9-8f64-6685f8daceaf",
   "metadata": {},
   "source": [
    "### ブール演算"
   ]
  },
  {
   "cell_type": "code",
   "execution_count": 13,
   "id": "337367ef-ee65-4e3c-b550-faf609270f32",
   "metadata": {},
   "outputs": [
    {
     "data": {
      "text/plain": [
       "False"
      ]
     },
     "execution_count": 13,
     "metadata": {},
     "output_type": "execute_result"
    }
   ],
   "source": [
    "x = 7\n",
    "p = pl.lit(3) < pl.lit(x)\n",
    "q = pl.lit(x) < pl.lit(5)\n",
    "pl.select(p & q).item()  # True & False"
   ]
  },
  {
   "cell_type": "code",
   "execution_count": 14,
   "id": "6ad77b01-f558-4a4a-9d9a-225d41258e04",
   "metadata": {},
   "outputs": [
    {
     "data": {
      "text/html": [
       "<div><style>\n",
       ".dataframe > thead > tr,\n",
       ".dataframe > tbody > tr {\n",
       "  text-align: right;\n",
       "  white-space: pre-wrap;\n",
       "}\n",
       "</style>\n",
       "<small>shape: (4, 8)</small><table border=\"1\" class=\"dataframe\"><thead><tr><th>p</th><th>q</th><th>p &amp; q</th><th>p | q</th><th>-p</th><th>p ^ q</th><th>p ↑ q</th><th>p ↓ q</th></tr><tr><td>bool</td><td>bool</td><td>bool</td><td>bool</td><td>bool</td><td>bool</td><td>bool</td><td>bool</td></tr></thead><tbody><tr><td>true</td><td>true</td><td>true</td><td>true</td><td>false</td><td>false</td><td>false</td><td>false</td></tr><tr><td>true</td><td>false</td><td>false</td><td>true</td><td>false</td><td>true</td><td>true</td><td>false</td></tr><tr><td>false</td><td>true</td><td>false</td><td>true</td><td>true</td><td>true</td><td>true</td><td>false</td></tr><tr><td>false</td><td>false</td><td>false</td><td>false</td><td>true</td><td>false</td><td>true</td><td>true</td></tr></tbody></table></div>"
      ],
      "text/plain": [
       "shape: (4, 8)\n",
       "┌───────┬───────┬───────┬───────┬───────┬───────┬───────┬───────┐\n",
       "│ p     ┆ q     ┆ p & q ┆ p | q ┆ -p    ┆ p ^ q ┆ p ↑ q ┆ p ↓ q │\n",
       "│ ---   ┆ ---   ┆ ---   ┆ ---   ┆ ---   ┆ ---   ┆ ---   ┆ ---   │\n",
       "│ bool  ┆ bool  ┆ bool  ┆ bool  ┆ bool  ┆ bool  ┆ bool  ┆ bool  │\n",
       "╞═══════╪═══════╪═══════╪═══════╪═══════╪═══════╪═══════╪═══════╡\n",
       "│ true  ┆ true  ┆ true  ┆ true  ┆ false ┆ false ┆ false ┆ false │\n",
       "│ true  ┆ false ┆ false ┆ true  ┆ false ┆ true  ┆ true  ┆ false │\n",
       "│ false ┆ true  ┆ false ┆ true  ┆ true  ┆ true  ┆ true  ┆ false │\n",
       "│ false ┆ false ┆ false ┆ false ┆ true  ┆ false ┆ true  ┆ true  │\n",
       "└───────┴───────┴───────┴───────┴───────┴───────┴───────┴───────┘"
      ]
     },
     "execution_count": 14,
     "metadata": {},
     "output_type": "execute_result"
    }
   ],
   "source": [
    "(\n",
    "    pl.DataFrame({\n",
    "        'p': [True, True, False, False],\n",
    "        'q': [True, False, True, False]\n",
    "    })\n",
    "    .with_columns(\n",
    "        (pl.col('p') & pl.col('q')).alias('p & q'),\n",
    "        (pl.col('p') | pl.col('q')).alias('p | q'),\n",
    "        (~pl.col('p')).alias('-p'),\n",
    "        (pl.col('p') ^ pl.col('q')).alias('p ^ q'),\n",
    "        (~(pl.col('p') & pl.col('q'))).alias('p ↑ q'),  # NAND\n",
    "        ((pl.col('p').or_(pl.col('q'))).not_()).alias('p ↓ q') # NOR\n",
    "    )\n",
    ")"
   ]
  },
  {
   "cell_type": "markdown",
   "id": "0866ff5e-7e4d-4679-b073-8b5f0eba46af",
   "metadata": {},
   "source": [
    "NORを計算する時に、今回の例はメソッドを使用しているが、NANDのようにインライン演算子を使っても表現できる。  \n",
    "可読性って点だとインライン演算子の方がとっつきやすい気がする"
   ]
  },
  {
   "cell_type": "markdown",
   "id": "03ea45b1-5c20-4628-9d68-e592c15c63f9",
   "metadata": {},
   "source": [
    "### ビット演算"
   ]
  },
  {
   "cell_type": "code",
   "execution_count": 15,
   "id": "3cc0e20b-bd33-4adb-91bf-eb6b56d32ebe",
   "metadata": {},
   "outputs": [
    {
     "data": {
      "text/plain": [
       "42"
      ]
     },
     "execution_count": 15,
     "metadata": {},
     "output_type": "execute_result"
    }
   ],
   "source": [
    "pl.select(pl.lit(10) | pl.lit(34)).item()"
   ]
  },
  {
   "cell_type": "code",
   "execution_count": 16,
   "id": "a8233440-e9f1-4314-b025-444f4c29821f",
   "metadata": {},
   "outputs": [
    {
     "data": {
      "text/html": [
       "<div><style>\n",
       ".dataframe > thead > tr,\n",
       ".dataframe > tbody > tr {\n",
       "  text-align: right;\n",
       "  white-space: pre-wrap;\n",
       "}\n",
       "</style>\n",
       "<small>shape: (6, 6)</small><table border=\"1\" class=\"dataframe\"><thead><tr><th>x</th><th>y</th><th>x &amp; y</th><th>x | y</th><th>-x</th><th>x ^ y</th></tr><tr><td>u8</td><td>u8</td><td>u8</td><td>u8</td><td>u8</td><td>u8</td></tr></thead><tbody><tr><td>1</td><td>1</td><td>1</td><td>1</td><td>254</td><td>0</td></tr><tr><td>1</td><td>0</td><td>0</td><td>1</td><td>254</td><td>1</td></tr><tr><td>0</td><td>1</td><td>0</td><td>1</td><td>255</td><td>1</td></tr><tr><td>0</td><td>0</td><td>0</td><td>0</td><td>255</td><td>0</td></tr><tr><td>7</td><td>2</td><td>2</td><td>7</td><td>248</td><td>5</td></tr><tr><td>10</td><td>34</td><td>2</td><td>42</td><td>245</td><td>40</td></tr></tbody></table></div>"
      ],
      "text/plain": [
       "shape: (6, 6)\n",
       "┌─────┬─────┬───────┬───────┬─────┬───────┐\n",
       "│   x ┆   y ┆ x & y ┆ x | y ┆  -x ┆ x ^ y │\n",
       "│ --- ┆ --- ┆   --- ┆   --- ┆ --- ┆   --- │\n",
       "│  u8 ┆  u8 ┆    u8 ┆    u8 ┆  u8 ┆    u8 │\n",
       "╞═════╪═════╪═══════╪═══════╪═════╪═══════╡\n",
       "│   1 ┆   1 ┆     1 ┆     1 ┆ 254 ┆     0 │\n",
       "│   1 ┆   0 ┆     0 ┆     1 ┆ 254 ┆     1 │\n",
       "│   0 ┆   1 ┆     0 ┆     1 ┆ 255 ┆     1 │\n",
       "│   0 ┆   0 ┆     0 ┆     0 ┆ 255 ┆     0 │\n",
       "│   7 ┆   2 ┆     2 ┆     7 ┆ 248 ┆     5 │\n",
       "│  10 ┆  34 ┆     2 ┆    42 ┆ 245 ┆    40 │\n",
       "└─────┴─────┴───────┴───────┴─────┴───────┘"
      ]
     },
     "execution_count": 16,
     "metadata": {},
     "output_type": "execute_result"
    }
   ],
   "source": [
    "bits = (\n",
    "    pl.DataFrame({\n",
    "        'x': [1, 1, 0, 0, 7, 10],\n",
    "        'y': [1, 0, 1, 0, 2, 34]\n",
    "    }, schema={'x': pl.UInt8, 'y': pl.UInt8})\n",
    "    .with_columns(\n",
    "        (pl.col('x') & pl.col('y')).alias('x & y'),\n",
    "        (pl.col('x') | pl.col('y')).alias('x | y'),\n",
    "        (~pl.col('x')).alias('-x'),\n",
    "        (pl.col('x') ^ pl.col('y')).alias('x ^ y')\n",
    "    )\n",
    ")\n",
    "\n",
    "bits"
   ]
  },
  {
   "cell_type": "markdown",
   "id": "90bb6f21-e0b9-42cb-9f62-3fc97c062d6c",
   "metadata": {},
   "source": [
    "### 関数の使用"
   ]
  },
  {
   "cell_type": "code",
   "execution_count": 17,
   "id": "3b692d9f-8853-4290-b1dd-7b47fec3f31d",
   "metadata": {},
   "outputs": [
    {
     "data": {
      "text/html": [
       "<div><style>\n",
       ".dataframe > thead > tr,\n",
       ".dataframe > tbody > tr {\n",
       "  text-align: right;\n",
       "  white-space: pre-wrap;\n",
       "}\n",
       "</style>\n",
       "<small>shape: (5, 3)</small><table border=\"1\" class=\"dataframe\"><thead><tr><th>first_name</th><th>last_name</th><th>country</th></tr><tr><td>str</td><td>str</td><td>str</td></tr></thead><tbody><tr><td>&quot;George&quot;</td><td>&quot;Boole&quot;</td><td>&quot;England&quot;</td></tr><tr><td>&quot;Grace&quot;</td><td>&quot;Hopper&quot;</td><td>&quot;United States&quot;</td></tr><tr><td>&quot;John&quot;</td><td>&quot;Tukey&quot;</td><td>&quot;United States&quot;</td></tr><tr><td>&quot;Kurt&quot;</td><td>&quot;Gödel&quot;</td><td>&quot;Austria-Hungary&quot;</td></tr><tr><td>&quot;Ada&quot;</td><td>&quot;Lovelace&quot;</td><td>&quot;England&quot;</td></tr></tbody></table></div>"
      ],
      "text/plain": [
       "shape: (5, 3)\n",
       "┌────────────┬───────────┬─────────────────┐\n",
       "│ first_name ┆ last_name ┆ country         │\n",
       "│ ---        ┆ ---       ┆ ---             │\n",
       "│ str        ┆ str       ┆ str             │\n",
       "╞════════════╪═══════════╪═════════════════╡\n",
       "│ George     ┆ Boole     ┆ England         │\n",
       "│ Grace      ┆ Hopper    ┆ United States   │\n",
       "│ John       ┆ Tukey     ┆ United States   │\n",
       "│ Kurt       ┆ Gödel     ┆ Austria-Hungary │\n",
       "│ Ada        ┆ Lovelace  ┆ England         │\n",
       "└────────────┴───────────┴─────────────────┘"
      ]
     },
     "execution_count": 17,
     "metadata": {},
     "output_type": "execute_result"
    }
   ],
   "source": [
    "scientists = pl.DataFrame({\n",
    "    'first_name': ['George', 'Grace', 'John', 'Kurt', 'Ada'],\n",
    "    'last_name': ['Boole', 'Hopper', 'Tukey', 'Gödel', 'Lovelace'],\n",
    "    'country': ['England', 'United States', 'United States',\n",
    "    'Austria-Hungary', 'England']\n",
    "})\n",
    "\n",
    "scientists"
   ]
  },
  {
   "cell_type": "code",
   "execution_count": 18,
   "id": "e660a6cc-af93-4ff7-b7e4-2dd686e294ef",
   "metadata": {},
   "outputs": [
    {
     "data": {
      "text/html": [
       "<div><style>\n",
       ".dataframe > thead > tr,\n",
       ".dataframe > tbody > tr {\n",
       "  text-align: right;\n",
       "  white-space: pre-wrap;\n",
       "}\n",
       "</style>\n",
       "<small>shape: (5, 2)</small><table border=\"1\" class=\"dataframe\"><thead><tr><th>concat_list</th><th>struct</th></tr><tr><td>list[str]</td><td>struct[3]</td></tr></thead><tbody><tr><td>[&quot;George&quot;, &quot;Boole&quot;]</td><td>{&quot;George&quot;,&quot;Boole&quot;,&quot;England&quot;}</td></tr><tr><td>[&quot;Grace&quot;, &quot;Hopper&quot;]</td><td>{&quot;Grace&quot;,&quot;Hopper&quot;,&quot;United States&quot;}</td></tr><tr><td>[&quot;John&quot;, &quot;Tukey&quot;]</td><td>{&quot;John&quot;,&quot;Tukey&quot;,&quot;United States&quot;}</td></tr><tr><td>[&quot;Kurt&quot;, &quot;Gödel&quot;]</td><td>{&quot;Kurt&quot;,&quot;Gödel&quot;,&quot;Austria-Hungary&quot;}</td></tr><tr><td>[&quot;Ada&quot;, &quot;Lovelace&quot;]</td><td>{&quot;Ada&quot;,&quot;Lovelace&quot;,&quot;England&quot;}</td></tr></tbody></table></div>"
      ],
      "text/plain": [
       "shape: (5, 2)\n",
       "┌─────────────────────┬─────────────────────────────────┐\n",
       "│ concat_list         ┆ struct                          │\n",
       "│ ---                 ┆ ---                             │\n",
       "│ list[str]           ┆ struct[3]                       │\n",
       "╞═════════════════════╪═════════════════════════════════╡\n",
       "│ [\"George\", \"Boole\"] ┆ {\"George\",\"Boole\",\"England\"}    │\n",
       "│ [\"Grace\", \"Hopper\"] ┆ {\"Grace\",\"Hopper\",\"United Stat… │\n",
       "│ [\"John\", \"Tukey\"]   ┆ {\"John\",\"Tukey\",\"United States… │\n",
       "│ [\"Kurt\", \"Gödel\"]   ┆ {\"Kurt\",\"Gödel\",\"Austria-Hunga… │\n",
       "│ [\"Ada\", \"Lovelace\"] ┆ {\"Ada\",\"Lovelace\",\"England\"}    │\n",
       "└─────────────────────┴─────────────────────────────────┘"
      ]
     },
     "execution_count": 18,
     "metadata": {},
     "output_type": "execute_result"
    }
   ],
   "source": [
    "scientists.select(\n",
    "    pl.concat_list(pl.col('^*_name$')).alias('concat_list'),\n",
    "    pl.struct(pl.all()).alias('struct')\n",
    ")"
   ]
  },
  {
   "cell_type": "code",
   "execution_count": 19,
   "id": "a51153a4-db43-404e-aa2a-218804ef436c",
   "metadata": {},
   "outputs": [
    {
     "data": {
      "text/html": [
       "<div><style>\n",
       ".dataframe > thead > tr,\n",
       ".dataframe > tbody > tr {\n",
       "  text-align: right;\n",
       "  white-space: pre-wrap;\n",
       "}\n",
       "</style>\n",
       "<small>shape: (5, 7)</small><table border=\"1\" class=\"dataframe\"><thead><tr><th>id</th><th>has_pet</th><th>likes_travel</th><th>likes_movies</th><th>likes_books</th><th>all</th><th>any</th></tr><tr><td>i64</td><td>bool</td><td>bool</td><td>bool</td><td>bool</td><td>bool</td><td>bool</td></tr></thead><tbody><tr><td>1</td><td>true</td><td>false</td><td>true</td><td>false</td><td>false</td><td>true</td></tr><tr><td>7</td><td>false</td><td>false</td><td>false</td><td>false</td><td>false</td><td>false</td></tr><tr><td>42</td><td>true</td><td>false</td><td>true</td><td>true</td><td>false</td><td>true</td></tr><tr><td>101</td><td>false</td><td>false</td><td>false</td><td>true</td><td>false</td><td>true</td></tr><tr><td>999</td><td>true</td><td>true</td><td>true</td><td>true</td><td>true</td><td>true</td></tr></tbody></table></div>"
      ],
      "text/plain": [
       "shape: (5, 7)\n",
       "┌─────┬─────────┬──────────────┬──────────────┬─────────────┬───────┬───────┐\n",
       "│  id ┆ has_pet ┆ likes_travel ┆ likes_movies ┆ likes_books ┆ all   ┆ any   │\n",
       "│ --- ┆ ---     ┆ ---          ┆ ---          ┆ ---         ┆ ---   ┆ ---   │\n",
       "│ i64 ┆ bool    ┆ bool         ┆ bool         ┆ bool        ┆ bool  ┆ bool  │\n",
       "╞═════╪═════════╪══════════════╪══════════════╪═════════════╪═══════╪═══════╡\n",
       "│   1 ┆ true    ┆ false        ┆ true         ┆ false       ┆ false ┆ true  │\n",
       "│   7 ┆ false   ┆ false        ┆ false        ┆ false       ┆ false ┆ false │\n",
       "│  42 ┆ true    ┆ false        ┆ true         ┆ true        ┆ false ┆ true  │\n",
       "│ 101 ┆ false   ┆ false        ┆ false        ┆ true        ┆ false ┆ true  │\n",
       "│ 999 ┆ true    ┆ true         ┆ true         ┆ true        ┆ true  ┆ true  │\n",
       "└─────┴─────────┴──────────────┴──────────────┴─────────────┴───────┴───────┘"
      ]
     },
     "execution_count": 19,
     "metadata": {},
     "output_type": "execute_result"
    }
   ],
   "source": [
    "prefs = pl.DataFrame({\n",
    "    'id': [1, 7, 42, 101, 999],\n",
    "    'has_pet': [True, False, True, False, True],\n",
    "    'likes_travel': [False, False, False, False, True],\n",
    "    'likes_movies': [True, False, True, False, True],\n",
    "    'likes_books': [False, False, True, True, True]\n",
    "}).with_columns(\n",
    "    pl.all_horizontal(pl.exclude('id')).alias('all'),\n",
    "    pl.any_horizontal(pl.exclude('id')).alias('any')\n",
    ")\n",
    "\n",
    "prefs"
   ]
  },
  {
   "cell_type": "code",
   "execution_count": 20,
   "id": "e64b4312-db0e-4bcb-80eb-75c2a435a412",
   "metadata": {},
   "outputs": [
    {
     "data": {
      "text/html": [
       "<div><style>\n",
       ".dataframe > thead > tr,\n",
       ".dataframe > tbody > tr {\n",
       "  text-align: right;\n",
       "  white-space: pre-wrap;\n",
       "}\n",
       "</style>\n",
       "<small>shape: (5, 3)</small><table border=\"1\" class=\"dataframe\"><thead><tr><th>sum</th><th>max</th><th>min</th></tr><tr><td>i64</td><td>i64</td><td>i64</td></tr></thead><tbody><tr><td>4</td><td>1</td><td>0</td></tr><tr><td>7</td><td>7</td><td>0</td></tr><tr><td>46</td><td>42</td><td>0</td></tr><tr><td>103</td><td>101</td><td>0</td></tr><tr><td>1005</td><td>999</td><td>1</td></tr></tbody></table></div>"
      ],
      "text/plain": [
       "shape: (5, 3)\n",
       "┌──────┬─────┬─────┐\n",
       "│  sum ┆ max ┆ min │\n",
       "│  --- ┆ --- ┆ --- │\n",
       "│  i64 ┆ i64 ┆ i64 │\n",
       "╞══════╪═════╪═════╡\n",
       "│    4 ┆   1 ┆   0 │\n",
       "│    7 ┆   7 ┆   0 │\n",
       "│   46 ┆  42 ┆   0 │\n",
       "│  103 ┆ 101 ┆   0 │\n",
       "│ 1005 ┆ 999 ┆   1 │\n",
       "└──────┴─────┴─────┘"
      ]
     },
     "execution_count": 20,
     "metadata": {},
     "output_type": "execute_result"
    }
   ],
   "source": [
    "prefs.select(\n",
    "    pl.sum_horizontal(pl.all()).alias('sum'),\n",
    "    pl.max_horizontal(pl.all()).alias('max'),\n",
    "    pl.min_horizontal(pl.all()).alias('min')\n",
    ")"
   ]
  },
  {
   "cell_type": "markdown",
   "id": "dcb5ba06-63a0-454c-981d-36218943219c",
   "metadata": {},
   "source": [
    "列方向だけじゃなくて、行方向に対しても合計値や最小値/最大値を算出できるのか"
   ]
  },
  {
   "cell_type": "code",
   "execution_count": 21,
   "id": "6b6bee0f-a757-4f9b-9277-d5847556fb71",
   "metadata": {},
   "outputs": [
    {
     "data": {
      "text/html": [
       "<div><style>\n",
       ".dataframe > thead > tr,\n",
       ".dataframe > tbody > tr {\n",
       "  text-align: right;\n",
       "  white-space: pre-wrap;\n",
       "}\n",
       "</style>\n",
       "<small>shape: (5, 2)</small><table border=\"1\" class=\"dataframe\"><thead><tr><th>id</th><th>likes_what</th></tr><tr><td>i64</td><td>str</td></tr></thead><tbody><tr><td>1</td><td>&quot;Like somthing&quot;</td></tr><tr><td>7</td><td>&quot;Likes nothing&quot;</td></tr><tr><td>42</td><td>&quot;Like somthing&quot;</td></tr><tr><td>101</td><td>&quot;Like somthing&quot;</td></tr><tr><td>999</td><td>&quot;Likes everything&quot;</td></tr></tbody></table></div>"
      ],
      "text/plain": [
       "shape: (5, 2)\n",
       "┌─────┬──────────────────┐\n",
       "│  id ┆ likes_what       │\n",
       "│ --- ┆ ---              │\n",
       "│ i64 ┆ str              │\n",
       "╞═════╪══════════════════╡\n",
       "│   1 ┆ Like somthing    │\n",
       "│   7 ┆ Likes nothing    │\n",
       "│  42 ┆ Like somthing    │\n",
       "│ 101 ┆ Like somthing    │\n",
       "│ 999 ┆ Likes everything │\n",
       "└─────┴──────────────────┘"
      ]
     },
     "execution_count": 21,
     "metadata": {},
     "output_type": "execute_result"
    }
   ],
   "source": [
    "prefs.select(\n",
    "    pl.col('id'),\n",
    "    pl.when(pl.all_horizontal(pl.col('^likes_.*$')))\n",
    "    .then(pl.lit('Likes everything'))\n",
    "    .when(pl.any_horizontal(pl.col('^likes_.*$')))\n",
    "    .then(pl.lit('Like somthing'))\n",
    "    .otherwise(pl.lit('Likes nothing'))\n",
    "    .alias('likes_what')\n",
    ")"
   ]
  },
  {
   "cell_type": "markdown",
   "id": "c9af3a35-efb2-44e3-b036-c77e0195c9cb",
   "metadata": {},
   "source": [
    "条件式を複数混ぜたりしたいときに便利な記法だね。  \n",
    "これを使わずとも、もうちょいやり方ないのかな？"
   ]
  },
  {
   "cell_type": "code",
   "execution_count": null,
   "id": "8c8c97e7-cd21-47f9-b583-ba9b79e6df2b",
   "metadata": {},
   "outputs": [],
   "source": []
  }
 ],
 "metadata": {
  "kernelspec": {
   "display_name": "Python 3 (ipykernel)",
   "language": "python",
   "name": "python3"
  },
  "language_info": {
   "codemirror_mode": {
    "name": "ipython",
    "version": 3
   },
   "file_extension": ".py",
   "mimetype": "text/x-python",
   "name": "python",
   "nbconvert_exporter": "python",
   "pygments_lexer": "ipython3",
   "version": "3.12.3"
  }
 },
 "nbformat": 4,
 "nbformat_minor": 5
}
