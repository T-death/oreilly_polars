{
 "cells": [
  {
   "cell_type": "markdown",
   "id": "e11aa0d5-eee6-4be4-9403-81b5f6ccc23f",
   "metadata": {},
   "source": [
    "# 行のフィルタリングと並び替え"
   ]
  },
  {
   "cell_type": "code",
   "execution_count": 1,
   "id": "11bec328-a0d5-422d-b3e7-2d4f81a96d72",
   "metadata": {},
   "outputs": [],
   "source": [
    "import os\n",
    "\n",
    "import polars as pl"
   ]
  },
  {
   "cell_type": "markdown",
   "id": "da85951d-3047-4c21-a0c0-44f4a4b17ea4",
   "metadata": {},
   "source": [
    "## 定数定義"
   ]
  },
  {
   "cell_type": "code",
   "execution_count": 2,
   "id": "31c90ec0-26d0-46d0-a4c2-fe08934f97e5",
   "metadata": {},
   "outputs": [],
   "source": [
    "DATA_PAR_PATH = os.path.join('..','..','data')\n",
    "INPUT_CSV_PATH_TOOLS = os.path.join(DATA_PAR_PATH,'tools.csv')"
   ]
  },
  {
   "cell_type": "markdown",
   "id": "084e3f63-d118-4b7a-8f07-41fb3e62c36c",
   "metadata": {},
   "source": [
    "## データの確認"
   ]
  },
  {
   "cell_type": "code",
   "execution_count": 3,
   "id": "2c59f8f1-5c80-452c-b7ff-ef1ea3657879",
   "metadata": {},
   "outputs": [
    {
     "data": {
      "text/html": [
       "<div><style>\n",
       ".dataframe > thead > tr,\n",
       ".dataframe > tbody > tr {\n",
       "  text-align: right;\n",
       "  white-space: pre-wrap;\n",
       "}\n",
       "</style>\n",
       "<small>shape: (10, 6)</small><table border=\"1\" class=\"dataframe\"><thead><tr><th>tool</th><th>product</th><th>brand</th><th>cordless</th><th>price</th><th>rpm</th></tr><tr><td>str</td><td>str</td><td>str</td><td>bool</td><td>i64</td><td>i64</td></tr></thead><tbody><tr><td>&quot;Rotary Hammer&quot;</td><td>&quot;HR2230&quot;</td><td>&quot;Makita&quot;</td><td>false</td><td>199</td><td>1050</td></tr><tr><td>&quot;Miter Saw&quot;</td><td>&quot;GCM 8 SJL&quot;</td><td>&quot;Bosch&quot;</td><td>false</td><td>391</td><td>5500</td></tr><tr><td>&quot;Plunge Cut Saw&quot;</td><td>&quot;DSP600ZJ&quot;</td><td>&quot;Makita&quot;</td><td>true</td><td>459</td><td>6300</td></tr><tr><td>&quot;Impact Driver&quot;</td><td>&quot;DTD157Z&quot;</td><td>&quot;Makita&quot;</td><td>true</td><td>156</td><td>3000</td></tr><tr><td>&quot;Jigsaw&quot;</td><td>&quot;PST 900 PEL&quot;</td><td>&quot;Bosch&quot;</td><td>false</td><td>79</td><td>3100</td></tr><tr><td>&quot;Angle Grinder&quot;</td><td>&quot;DGA504ZJ&quot;</td><td>&quot;Makita&quot;</td><td>true</td><td>229</td><td>8500</td></tr><tr><td>&quot;Nail Gun&quot;</td><td>&quot;DPSB2IN1-XJ&quot;</td><td>&quot;DeWalt&quot;</td><td>true</td><td>129</td><td>null</td></tr><tr><td>&quot;Router&quot;</td><td>&quot;POF 1400 ACE&quot;</td><td>&quot;Bosch&quot;</td><td>false</td><td>185</td><td>28000</td></tr><tr><td>&quot;Random Orbital Sander&quot;</td><td>&quot;DBO180ZJ&quot;</td><td>&quot;Makita&quot;</td><td>true</td><td>199</td><td>11000</td></tr><tr><td>&quot;Table Saw&quot;</td><td>&quot;DWE7485&quot;</td><td>&quot;DeWalt&quot;</td><td>false</td><td>516</td><td>5800</td></tr></tbody></table></div>"
      ],
      "text/plain": [
       "shape: (10, 6)\n",
       "┌───────────────────────┬──────────────┬────────┬──────────┬───────┬───────┐\n",
       "│ tool                  ┆ product      ┆ brand  ┆ cordless ┆ price ┆ rpm   │\n",
       "│ ---                   ┆ ---          ┆ ---    ┆ ---      ┆ ---   ┆ ---   │\n",
       "│ str                   ┆ str          ┆ str    ┆ bool     ┆ i64   ┆ i64   │\n",
       "╞═══════════════════════╪══════════════╪════════╪══════════╪═══════╪═══════╡\n",
       "│ Rotary Hammer         ┆ HR2230       ┆ Makita ┆ false    ┆ 199   ┆ 1050  │\n",
       "│ Miter Saw             ┆ GCM 8 SJL    ┆ Bosch  ┆ false    ┆ 391   ┆ 5500  │\n",
       "│ Plunge Cut Saw        ┆ DSP600ZJ     ┆ Makita ┆ true     ┆ 459   ┆ 6300  │\n",
       "│ Impact Driver         ┆ DTD157Z      ┆ Makita ┆ true     ┆ 156   ┆ 3000  │\n",
       "│ Jigsaw                ┆ PST 900 PEL  ┆ Bosch  ┆ false    ┆ 79    ┆ 3100  │\n",
       "│ Angle Grinder         ┆ DGA504ZJ     ┆ Makita ┆ true     ┆ 229   ┆ 8500  │\n",
       "│ Nail Gun              ┆ DPSB2IN1-XJ  ┆ DeWalt ┆ true     ┆ 129   ┆ null  │\n",
       "│ Router                ┆ POF 1400 ACE ┆ Bosch  ┆ false    ┆ 185   ┆ 28000 │\n",
       "│ Random Orbital Sander ┆ DBO180ZJ     ┆ Makita ┆ true     ┆ 199   ┆ 11000 │\n",
       "│ Table Saw             ┆ DWE7485      ┆ DeWalt ┆ false    ┆ 516   ┆ 5800  │\n",
       "└───────────────────────┴──────────────┴────────┴──────────┴───────┴───────┘"
      ]
     },
     "execution_count": 3,
     "metadata": {},
     "output_type": "execute_result"
    }
   ],
   "source": [
    "tools = pl.read_csv(INPUT_CSV_PATH_TOOLS)\n",
    "tools"
   ]
  },
  {
   "cell_type": "markdown",
   "id": "20fe6b7b-20d1-4c0e-a8f7-039665da4bf4",
   "metadata": {},
   "source": [
    "## フィルタリング"
   ]
  },
  {
   "cell_type": "markdown",
   "id": "a45068c4-bfef-4db1-bf1f-07d16935971c",
   "metadata": {},
   "source": [
    "### 式を利用したフィルタリング"
   ]
  },
  {
   "cell_type": "code",
   "execution_count": 4,
   "id": "6a9d639d-e255-46e6-b9ec-9abaa27e19a0",
   "metadata": {},
   "outputs": [
    {
     "data": {
      "text/html": [
       "<div><style>\n",
       ".dataframe > thead > tr,\n",
       ".dataframe > tbody > tr {\n",
       "  text-align: right;\n",
       "  white-space: pre-wrap;\n",
       "}\n",
       "</style>\n",
       "<small>shape: (4, 6)</small><table border=\"1\" class=\"dataframe\"><thead><tr><th>tool</th><th>product</th><th>brand</th><th>cordless</th><th>price</th><th>rpm</th></tr><tr><td>str</td><td>str</td><td>str</td><td>bool</td><td>i64</td><td>i64</td></tr></thead><tbody><tr><td>&quot;Plunge Cut Saw&quot;</td><td>&quot;DSP600ZJ&quot;</td><td>&quot;Makita&quot;</td><td>true</td><td>459</td><td>6300</td></tr><tr><td>&quot;Impact Driver&quot;</td><td>&quot;DTD157Z&quot;</td><td>&quot;Makita&quot;</td><td>true</td><td>156</td><td>3000</td></tr><tr><td>&quot;Angle Grinder&quot;</td><td>&quot;DGA504ZJ&quot;</td><td>&quot;Makita&quot;</td><td>true</td><td>229</td><td>8500</td></tr><tr><td>&quot;Random Orbital Sander&quot;</td><td>&quot;DBO180ZJ&quot;</td><td>&quot;Makita&quot;</td><td>true</td><td>199</td><td>11000</td></tr></tbody></table></div>"
      ],
      "text/plain": [
       "shape: (4, 6)\n",
       "┌───────────────────────┬──────────┬────────┬──────────┬───────┬───────┐\n",
       "│ tool                  ┆ product  ┆ brand  ┆ cordless ┆ price ┆ rpm   │\n",
       "│ ---                   ┆ ---      ┆ ---    ┆ ---      ┆ ---   ┆ ---   │\n",
       "│ str                   ┆ str      ┆ str    ┆ bool     ┆ i64   ┆ i64   │\n",
       "╞═══════════════════════╪══════════╪════════╪══════════╪═══════╪═══════╡\n",
       "│ Plunge Cut Saw        ┆ DSP600ZJ ┆ Makita ┆ true     ┆ 459   ┆ 6300  │\n",
       "│ Impact Driver         ┆ DTD157Z  ┆ Makita ┆ true     ┆ 156   ┆ 3000  │\n",
       "│ Angle Grinder         ┆ DGA504ZJ ┆ Makita ┆ true     ┆ 229   ┆ 8500  │\n",
       "│ Random Orbital Sander ┆ DBO180ZJ ┆ Makita ┆ true     ┆ 199   ┆ 11000 │\n",
       "└───────────────────────┴──────────┴────────┴──────────┴───────┴───────┘"
      ]
     },
     "execution_count": 4,
     "metadata": {},
     "output_type": "execute_result"
    }
   ],
   "source": [
    "tools.filter(\n",
    "    pl.col('cordless') &\n",
    "    (pl.col('brand') == 'Makita')\n",
    ")"
   ]
  },
  {
   "cell_type": "code",
   "execution_count": 5,
   "id": "21b79ee9-fdfd-4ece-b69a-a68583856d79",
   "metadata": {},
   "outputs": [
    {
     "data": {
      "text/html": [
       "<div><style>\n",
       ".dataframe > thead > tr,\n",
       ".dataframe > tbody > tr {\n",
       "  text-align: right;\n",
       "  white-space: pre-wrap;\n",
       "}\n",
       "</style>\n",
       "<small>shape: (4, 6)</small><table border=\"1\" class=\"dataframe\"><thead><tr><th>tool</th><th>product</th><th>brand</th><th>cordless</th><th>price</th><th>rpm</th></tr><tr><td>str</td><td>str</td><td>str</td><td>bool</td><td>i64</td><td>i64</td></tr></thead><tbody><tr><td>&quot;Plunge Cut Saw&quot;</td><td>&quot;DSP600ZJ&quot;</td><td>&quot;Makita&quot;</td><td>true</td><td>459</td><td>6300</td></tr><tr><td>&quot;Impact Driver&quot;</td><td>&quot;DTD157Z&quot;</td><td>&quot;Makita&quot;</td><td>true</td><td>156</td><td>3000</td></tr><tr><td>&quot;Angle Grinder&quot;</td><td>&quot;DGA504ZJ&quot;</td><td>&quot;Makita&quot;</td><td>true</td><td>229</td><td>8500</td></tr><tr><td>&quot;Random Orbital Sander&quot;</td><td>&quot;DBO180ZJ&quot;</td><td>&quot;Makita&quot;</td><td>true</td><td>199</td><td>11000</td></tr></tbody></table></div>"
      ],
      "text/plain": [
       "shape: (4, 6)\n",
       "┌───────────────────────┬──────────┬────────┬──────────┬───────┬───────┐\n",
       "│ tool                  ┆ product  ┆ brand  ┆ cordless ┆ price ┆ rpm   │\n",
       "│ ---                   ┆ ---      ┆ ---    ┆ ---      ┆ ---   ┆ ---   │\n",
       "│ str                   ┆ str      ┆ str    ┆ bool     ┆ i64   ┆ i64   │\n",
       "╞═══════════════════════╪══════════╪════════╪══════════╪═══════╪═══════╡\n",
       "│ Plunge Cut Saw        ┆ DSP600ZJ ┆ Makita ┆ true     ┆ 459   ┆ 6300  │\n",
       "│ Impact Driver         ┆ DTD157Z  ┆ Makita ┆ true     ┆ 156   ┆ 3000  │\n",
       "│ Angle Grinder         ┆ DGA504ZJ ┆ Makita ┆ true     ┆ 229   ┆ 8500  │\n",
       "│ Random Orbital Sander ┆ DBO180ZJ ┆ Makita ┆ true     ┆ 199   ┆ 11000 │\n",
       "└───────────────────────┴──────────┴────────┴──────────┴───────┴───────┘"
      ]
     },
     "execution_count": 5,
     "metadata": {},
     "output_type": "execute_result"
    }
   ],
   "source": [
    "tools.filter(\n",
    "    pl.col('cordless'),  # bool値のデータなので`==True`は自明\n",
    "    pl.col('brand') == 'Makita'\n",
    ")"
   ]
  },
  {
   "cell_type": "markdown",
   "id": "10e59a00-fba7-4eb9-8a40-25b5cc73e562",
   "metadata": {},
   "source": [
    "### 列名によるフィルタリング"
   ]
  },
  {
   "cell_type": "code",
   "execution_count": 6,
   "id": "dae385af-2454-472f-8c93-f92bafa0c1bf",
   "metadata": {},
   "outputs": [
    {
     "data": {
      "text/html": [
       "<div><style>\n",
       ".dataframe > thead > tr,\n",
       ".dataframe > tbody > tr {\n",
       "  text-align: right;\n",
       "  white-space: pre-wrap;\n",
       "}\n",
       "</style>\n",
       "<small>shape: (5, 6)</small><table border=\"1\" class=\"dataframe\"><thead><tr><th>tool</th><th>product</th><th>brand</th><th>cordless</th><th>price</th><th>rpm</th></tr><tr><td>str</td><td>str</td><td>str</td><td>bool</td><td>i64</td><td>i64</td></tr></thead><tbody><tr><td>&quot;Plunge Cut Saw&quot;</td><td>&quot;DSP600ZJ&quot;</td><td>&quot;Makita&quot;</td><td>true</td><td>459</td><td>6300</td></tr><tr><td>&quot;Impact Driver&quot;</td><td>&quot;DTD157Z&quot;</td><td>&quot;Makita&quot;</td><td>true</td><td>156</td><td>3000</td></tr><tr><td>&quot;Angle Grinder&quot;</td><td>&quot;DGA504ZJ&quot;</td><td>&quot;Makita&quot;</td><td>true</td><td>229</td><td>8500</td></tr><tr><td>&quot;Nail Gun&quot;</td><td>&quot;DPSB2IN1-XJ&quot;</td><td>&quot;DeWalt&quot;</td><td>true</td><td>129</td><td>null</td></tr><tr><td>&quot;Random Orbital Sander&quot;</td><td>&quot;DBO180ZJ&quot;</td><td>&quot;Makita&quot;</td><td>true</td><td>199</td><td>11000</td></tr></tbody></table></div>"
      ],
      "text/plain": [
       "shape: (5, 6)\n",
       "┌───────────────────────┬─────────────┬────────┬──────────┬───────┬───────┐\n",
       "│ tool                  ┆ product     ┆ brand  ┆ cordless ┆ price ┆ rpm   │\n",
       "│ ---                   ┆ ---         ┆ ---    ┆ ---      ┆ ---   ┆ ---   │\n",
       "│ str                   ┆ str         ┆ str    ┆ bool     ┆ i64   ┆ i64   │\n",
       "╞═══════════════════════╪═════════════╪════════╪══════════╪═══════╪═══════╡\n",
       "│ Plunge Cut Saw        ┆ DSP600ZJ    ┆ Makita ┆ true     ┆ 459   ┆ 6300  │\n",
       "│ Impact Driver         ┆ DTD157Z     ┆ Makita ┆ true     ┆ 156   ┆ 3000  │\n",
       "│ Angle Grinder         ┆ DGA504ZJ    ┆ Makita ┆ true     ┆ 229   ┆ 8500  │\n",
       "│ Nail Gun              ┆ DPSB2IN1-XJ ┆ DeWalt ┆ true     ┆ 129   ┆ null  │\n",
       "│ Random Orbital Sander ┆ DBO180ZJ    ┆ Makita ┆ true     ┆ 199   ┆ 11000 │\n",
       "└───────────────────────┴─────────────┴────────┴──────────┴───────┴───────┘"
      ]
     },
     "execution_count": 6,
     "metadata": {},
     "output_type": "execute_result"
    }
   ],
   "source": [
    "tools.filter('cordless')"
   ]
  },
  {
   "cell_type": "markdown",
   "id": "0ec01cb0-38ae-4810-aea5-6e24338f8e5e",
   "metadata": {},
   "source": [
    "pythonであれば`True`以外でも、`1`や`[1]`といったint型やlist型（要素数1以上）の値に対してもTrueの判定を処理できるが、polarsはboolean型のTrueのみを受け付ける。  \n",
    "Rustで組まれているという背景があり、pythonの言語仕様が完全に使えるわけではない点に注意"
   ]
  },
  {
   "cell_type": "markdown",
   "id": "7105f347-8873-40d6-89f6-a9250bd20de0",
   "metadata": {},
   "source": [
    "### 制約によるフィルタリング"
   ]
  },
  {
   "cell_type": "code",
   "execution_count": 7,
   "id": "2e4bee8b-0b7c-4fe3-a831-588528c9b13e",
   "metadata": {},
   "outputs": [
    {
     "data": {
      "text/html": [
       "<div><style>\n",
       ".dataframe > thead > tr,\n",
       ".dataframe > tbody > tr {\n",
       "  text-align: right;\n",
       "  white-space: pre-wrap;\n",
       "}\n",
       "</style>\n",
       "<small>shape: (4, 6)</small><table border=\"1\" class=\"dataframe\"><thead><tr><th>tool</th><th>product</th><th>brand</th><th>cordless</th><th>price</th><th>rpm</th></tr><tr><td>str</td><td>str</td><td>str</td><td>bool</td><td>i64</td><td>i64</td></tr></thead><tbody><tr><td>&quot;Plunge Cut Saw&quot;</td><td>&quot;DSP600ZJ&quot;</td><td>&quot;Makita&quot;</td><td>true</td><td>459</td><td>6300</td></tr><tr><td>&quot;Impact Driver&quot;</td><td>&quot;DTD157Z&quot;</td><td>&quot;Makita&quot;</td><td>true</td><td>156</td><td>3000</td></tr><tr><td>&quot;Angle Grinder&quot;</td><td>&quot;DGA504ZJ&quot;</td><td>&quot;Makita&quot;</td><td>true</td><td>229</td><td>8500</td></tr><tr><td>&quot;Random Orbital Sander&quot;</td><td>&quot;DBO180ZJ&quot;</td><td>&quot;Makita&quot;</td><td>true</td><td>199</td><td>11000</td></tr></tbody></table></div>"
      ],
      "text/plain": [
       "shape: (4, 6)\n",
       "┌───────────────────────┬──────────┬────────┬──────────┬───────┬───────┐\n",
       "│ tool                  ┆ product  ┆ brand  ┆ cordless ┆ price ┆ rpm   │\n",
       "│ ---                   ┆ ---      ┆ ---    ┆ ---      ┆ ---   ┆ ---   │\n",
       "│ str                   ┆ str      ┆ str    ┆ bool     ┆ i64   ┆ i64   │\n",
       "╞═══════════════════════╪══════════╪════════╪══════════╪═══════╪═══════╡\n",
       "│ Plunge Cut Saw        ┆ DSP600ZJ ┆ Makita ┆ true     ┆ 459   ┆ 6300  │\n",
       "│ Impact Driver         ┆ DTD157Z  ┆ Makita ┆ true     ┆ 156   ┆ 3000  │\n",
       "│ Angle Grinder         ┆ DGA504ZJ ┆ Makita ┆ true     ┆ 229   ┆ 8500  │\n",
       "│ Random Orbital Sander ┆ DBO180ZJ ┆ Makita ┆ true     ┆ 199   ┆ 11000 │\n",
       "└───────────────────────┴──────────┴────────┴──────────┴───────┴───────┘"
      ]
     },
     "execution_count": 7,
     "metadata": {},
     "output_type": "execute_result"
    }
   ],
   "source": [
    "tools.filter(cordless=True, brand='Makita')"
   ]
  },
  {
   "cell_type": "markdown",
   "id": "187233e9-d80e-41b8-b43c-3cb7468048ad",
   "metadata": {},
   "source": [
    "このときは、パラメータ名で使用する列名はクォテーションで括る必要ないのか。  \n",
    "その特徴もあってか、pythonの予約語は使えない模様"
   ]
  },
  {
   "cell_type": "markdown",
   "id": "80504747-5507-4b9f-9f5e-01d8b5ecbab1",
   "metadata": {
    "jp-MarkdownHeadingCollapsed": true
   },
   "source": [
    "## 行の並び替え"
   ]
  },
  {
   "cell_type": "markdown",
   "id": "9f99f151-e20d-4b5f-8dab-58b9f7488e7e",
   "metadata": {
    "jp-MarkdownHeadingCollapsed": true
   },
   "source": [
    "### 列による並び替え"
   ]
  },
  {
   "cell_type": "code",
   "execution_count": 8,
   "id": "07e56d73-8793-4526-a5cd-8a193bb7c986",
   "metadata": {},
   "outputs": [
    {
     "data": {
      "text/html": [
       "<div><style>\n",
       ".dataframe > thead > tr,\n",
       ".dataframe > tbody > tr {\n",
       "  text-align: right;\n",
       "  white-space: pre-wrap;\n",
       "}\n",
       "</style>\n",
       "<small>shape: (10, 6)</small><table border=\"1\" class=\"dataframe\"><thead><tr><th>tool</th><th>product</th><th>brand</th><th>cordless</th><th>price</th><th>rpm</th></tr><tr><td>str</td><td>str</td><td>str</td><td>bool</td><td>i64</td><td>i64</td></tr></thead><tbody><tr><td>&quot;Jigsaw&quot;</td><td>&quot;PST 900 PEL&quot;</td><td>&quot;Bosch&quot;</td><td>false</td><td>79</td><td>3100</td></tr><tr><td>&quot;Nail Gun&quot;</td><td>&quot;DPSB2IN1-XJ&quot;</td><td>&quot;DeWalt&quot;</td><td>true</td><td>129</td><td>null</td></tr><tr><td>&quot;Impact Driver&quot;</td><td>&quot;DTD157Z&quot;</td><td>&quot;Makita&quot;</td><td>true</td><td>156</td><td>3000</td></tr><tr><td>&quot;Router&quot;</td><td>&quot;POF 1400 ACE&quot;</td><td>&quot;Bosch&quot;</td><td>false</td><td>185</td><td>28000</td></tr><tr><td>&quot;Rotary Hammer&quot;</td><td>&quot;HR2230&quot;</td><td>&quot;Makita&quot;</td><td>false</td><td>199</td><td>1050</td></tr><tr><td>&quot;Random Orbital Sander&quot;</td><td>&quot;DBO180ZJ&quot;</td><td>&quot;Makita&quot;</td><td>true</td><td>199</td><td>11000</td></tr><tr><td>&quot;Angle Grinder&quot;</td><td>&quot;DGA504ZJ&quot;</td><td>&quot;Makita&quot;</td><td>true</td><td>229</td><td>8500</td></tr><tr><td>&quot;Miter Saw&quot;</td><td>&quot;GCM 8 SJL&quot;</td><td>&quot;Bosch&quot;</td><td>false</td><td>391</td><td>5500</td></tr><tr><td>&quot;Plunge Cut Saw&quot;</td><td>&quot;DSP600ZJ&quot;</td><td>&quot;Makita&quot;</td><td>true</td><td>459</td><td>6300</td></tr><tr><td>&quot;Table Saw&quot;</td><td>&quot;DWE7485&quot;</td><td>&quot;DeWalt&quot;</td><td>false</td><td>516</td><td>5800</td></tr></tbody></table></div>"
      ],
      "text/plain": [
       "shape: (10, 6)\n",
       "┌───────────────────────┬──────────────┬────────┬──────────┬───────┬───────┐\n",
       "│ tool                  ┆ product      ┆ brand  ┆ cordless ┆ price ┆ rpm   │\n",
       "│ ---                   ┆ ---          ┆ ---    ┆ ---      ┆ ---   ┆ ---   │\n",
       "│ str                   ┆ str          ┆ str    ┆ bool     ┆ i64   ┆ i64   │\n",
       "╞═══════════════════════╪══════════════╪════════╪══════════╪═══════╪═══════╡\n",
       "│ Jigsaw                ┆ PST 900 PEL  ┆ Bosch  ┆ false    ┆ 79    ┆ 3100  │\n",
       "│ Nail Gun              ┆ DPSB2IN1-XJ  ┆ DeWalt ┆ true     ┆ 129   ┆ null  │\n",
       "│ Impact Driver         ┆ DTD157Z      ┆ Makita ┆ true     ┆ 156   ┆ 3000  │\n",
       "│ Router                ┆ POF 1400 ACE ┆ Bosch  ┆ false    ┆ 185   ┆ 28000 │\n",
       "│ Rotary Hammer         ┆ HR2230       ┆ Makita ┆ false    ┆ 199   ┆ 1050  │\n",
       "│ Random Orbital Sander ┆ DBO180ZJ     ┆ Makita ┆ true     ┆ 199   ┆ 11000 │\n",
       "│ Angle Grinder         ┆ DGA504ZJ     ┆ Makita ┆ true     ┆ 229   ┆ 8500  │\n",
       "│ Miter Saw             ┆ GCM 8 SJL    ┆ Bosch  ┆ false    ┆ 391   ┆ 5500  │\n",
       "│ Plunge Cut Saw        ┆ DSP600ZJ     ┆ Makita ┆ true     ┆ 459   ┆ 6300  │\n",
       "│ Table Saw             ┆ DWE7485      ┆ DeWalt ┆ false    ┆ 516   ┆ 5800  │\n",
       "└───────────────────────┴──────────────┴────────┴──────────┴───────┴───────┘"
      ]
     },
     "execution_count": 8,
     "metadata": {},
     "output_type": "execute_result"
    }
   ],
   "source": [
    "tools.sort('price')"
   ]
  },
  {
   "cell_type": "code",
   "execution_count": 9,
   "id": "41621d63-6173-445a-b100-cd48c872dee5",
   "metadata": {},
   "outputs": [
    {
     "data": {
      "text/html": [
       "<div><style>\n",
       ".dataframe > thead > tr,\n",
       ".dataframe > tbody > tr {\n",
       "  text-align: right;\n",
       "  white-space: pre-wrap;\n",
       "}\n",
       "</style>\n",
       "<small>shape: (10, 6)</small><table border=\"1\" class=\"dataframe\"><thead><tr><th>tool</th><th>product</th><th>brand</th><th>cordless</th><th>price</th><th>rpm</th></tr><tr><td>str</td><td>str</td><td>str</td><td>bool</td><td>i64</td><td>i64</td></tr></thead><tbody><tr><td>&quot;Table Saw&quot;</td><td>&quot;DWE7485&quot;</td><td>&quot;DeWalt&quot;</td><td>false</td><td>516</td><td>5800</td></tr><tr><td>&quot;Plunge Cut Saw&quot;</td><td>&quot;DSP600ZJ&quot;</td><td>&quot;Makita&quot;</td><td>true</td><td>459</td><td>6300</td></tr><tr><td>&quot;Miter Saw&quot;</td><td>&quot;GCM 8 SJL&quot;</td><td>&quot;Bosch&quot;</td><td>false</td><td>391</td><td>5500</td></tr><tr><td>&quot;Angle Grinder&quot;</td><td>&quot;DGA504ZJ&quot;</td><td>&quot;Makita&quot;</td><td>true</td><td>229</td><td>8500</td></tr><tr><td>&quot;Rotary Hammer&quot;</td><td>&quot;HR2230&quot;</td><td>&quot;Makita&quot;</td><td>false</td><td>199</td><td>1050</td></tr><tr><td>&quot;Random Orbital Sander&quot;</td><td>&quot;DBO180ZJ&quot;</td><td>&quot;Makita&quot;</td><td>true</td><td>199</td><td>11000</td></tr><tr><td>&quot;Router&quot;</td><td>&quot;POF 1400 ACE&quot;</td><td>&quot;Bosch&quot;</td><td>false</td><td>185</td><td>28000</td></tr><tr><td>&quot;Impact Driver&quot;</td><td>&quot;DTD157Z&quot;</td><td>&quot;Makita&quot;</td><td>true</td><td>156</td><td>3000</td></tr><tr><td>&quot;Nail Gun&quot;</td><td>&quot;DPSB2IN1-XJ&quot;</td><td>&quot;DeWalt&quot;</td><td>true</td><td>129</td><td>null</td></tr><tr><td>&quot;Jigsaw&quot;</td><td>&quot;PST 900 PEL&quot;</td><td>&quot;Bosch&quot;</td><td>false</td><td>79</td><td>3100</td></tr></tbody></table></div>"
      ],
      "text/plain": [
       "shape: (10, 6)\n",
       "┌───────────────────────┬──────────────┬────────┬──────────┬───────┬───────┐\n",
       "│ tool                  ┆ product      ┆ brand  ┆ cordless ┆ price ┆ rpm   │\n",
       "│ ---                   ┆ ---          ┆ ---    ┆ ---      ┆ ---   ┆ ---   │\n",
       "│ str                   ┆ str          ┆ str    ┆ bool     ┆ i64   ┆ i64   │\n",
       "╞═══════════════════════╪══════════════╪════════╪══════════╪═══════╪═══════╡\n",
       "│ Table Saw             ┆ DWE7485      ┆ DeWalt ┆ false    ┆ 516   ┆ 5800  │\n",
       "│ Plunge Cut Saw        ┆ DSP600ZJ     ┆ Makita ┆ true     ┆ 459   ┆ 6300  │\n",
       "│ Miter Saw             ┆ GCM 8 SJL    ┆ Bosch  ┆ false    ┆ 391   ┆ 5500  │\n",
       "│ Angle Grinder         ┆ DGA504ZJ     ┆ Makita ┆ true     ┆ 229   ┆ 8500  │\n",
       "│ Rotary Hammer         ┆ HR2230       ┆ Makita ┆ false    ┆ 199   ┆ 1050  │\n",
       "│ Random Orbital Sander ┆ DBO180ZJ     ┆ Makita ┆ true     ┆ 199   ┆ 11000 │\n",
       "│ Router                ┆ POF 1400 ACE ┆ Bosch  ┆ false    ┆ 185   ┆ 28000 │\n",
       "│ Impact Driver         ┆ DTD157Z      ┆ Makita ┆ true     ┆ 156   ┆ 3000  │\n",
       "│ Nail Gun              ┆ DPSB2IN1-XJ  ┆ DeWalt ┆ true     ┆ 129   ┆ null  │\n",
       "│ Jigsaw                ┆ PST 900 PEL  ┆ Bosch  ┆ false    ┆ 79    ┆ 3100  │\n",
       "└───────────────────────┴──────────────┴────────┴──────────┴───────┴───────┘"
      ]
     },
     "execution_count": 9,
     "metadata": {},
     "output_type": "execute_result"
    }
   ],
   "source": [
    "tools.sort('price', descending=True)"
   ]
  },
  {
   "cell_type": "code",
   "execution_count": 10,
   "id": "f2f73c43-d3a0-4494-abeb-f58519ded737",
   "metadata": {},
   "outputs": [
    {
     "data": {
      "text/html": [
       "<div><style>\n",
       ".dataframe > thead > tr,\n",
       ".dataframe > tbody > tr {\n",
       "  text-align: right;\n",
       "  white-space: pre-wrap;\n",
       "}\n",
       "</style>\n",
       "<small>shape: (10, 6)</small><table border=\"1\" class=\"dataframe\"><thead><tr><th>tool</th><th>product</th><th>brand</th><th>cordless</th><th>price</th><th>rpm</th></tr><tr><td>str</td><td>str</td><td>str</td><td>bool</td><td>i64</td><td>i64</td></tr></thead><tbody><tr><td>&quot;Jigsaw&quot;</td><td>&quot;PST 900 PEL&quot;</td><td>&quot;Bosch&quot;</td><td>false</td><td>79</td><td>3100</td></tr><tr><td>&quot;Router&quot;</td><td>&quot;POF 1400 ACE&quot;</td><td>&quot;Bosch&quot;</td><td>false</td><td>185</td><td>28000</td></tr><tr><td>&quot;Miter Saw&quot;</td><td>&quot;GCM 8 SJL&quot;</td><td>&quot;Bosch&quot;</td><td>false</td><td>391</td><td>5500</td></tr><tr><td>&quot;Nail Gun&quot;</td><td>&quot;DPSB2IN1-XJ&quot;</td><td>&quot;DeWalt&quot;</td><td>true</td><td>129</td><td>null</td></tr><tr><td>&quot;Table Saw&quot;</td><td>&quot;DWE7485&quot;</td><td>&quot;DeWalt&quot;</td><td>false</td><td>516</td><td>5800</td></tr><tr><td>&quot;Impact Driver&quot;</td><td>&quot;DTD157Z&quot;</td><td>&quot;Makita&quot;</td><td>true</td><td>156</td><td>3000</td></tr><tr><td>&quot;Rotary Hammer&quot;</td><td>&quot;HR2230&quot;</td><td>&quot;Makita&quot;</td><td>false</td><td>199</td><td>1050</td></tr><tr><td>&quot;Random Orbital Sander&quot;</td><td>&quot;DBO180ZJ&quot;</td><td>&quot;Makita&quot;</td><td>true</td><td>199</td><td>11000</td></tr><tr><td>&quot;Angle Grinder&quot;</td><td>&quot;DGA504ZJ&quot;</td><td>&quot;Makita&quot;</td><td>true</td><td>229</td><td>8500</td></tr><tr><td>&quot;Plunge Cut Saw&quot;</td><td>&quot;DSP600ZJ&quot;</td><td>&quot;Makita&quot;</td><td>true</td><td>459</td><td>6300</td></tr></tbody></table></div>"
      ],
      "text/plain": [
       "shape: (10, 6)\n",
       "┌───────────────────────┬──────────────┬────────┬──────────┬───────┬───────┐\n",
       "│ tool                  ┆ product      ┆ brand  ┆ cordless ┆ price ┆ rpm   │\n",
       "│ ---                   ┆ ---          ┆ ---    ┆ ---      ┆ ---   ┆ ---   │\n",
       "│ str                   ┆ str          ┆ str    ┆ bool     ┆ i64   ┆ i64   │\n",
       "╞═══════════════════════╪══════════════╪════════╪══════════╪═══════╪═══════╡\n",
       "│ Jigsaw                ┆ PST 900 PEL  ┆ Bosch  ┆ false    ┆ 79    ┆ 3100  │\n",
       "│ Router                ┆ POF 1400 ACE ┆ Bosch  ┆ false    ┆ 185   ┆ 28000 │\n",
       "│ Miter Saw             ┆ GCM 8 SJL    ┆ Bosch  ┆ false    ┆ 391   ┆ 5500  │\n",
       "│ Nail Gun              ┆ DPSB2IN1-XJ  ┆ DeWalt ┆ true     ┆ 129   ┆ null  │\n",
       "│ Table Saw             ┆ DWE7485      ┆ DeWalt ┆ false    ┆ 516   ┆ 5800  │\n",
       "│ Impact Driver         ┆ DTD157Z      ┆ Makita ┆ true     ┆ 156   ┆ 3000  │\n",
       "│ Rotary Hammer         ┆ HR2230       ┆ Makita ┆ false    ┆ 199   ┆ 1050  │\n",
       "│ Random Orbital Sander ┆ DBO180ZJ     ┆ Makita ┆ true     ┆ 199   ┆ 11000 │\n",
       "│ Angle Grinder         ┆ DGA504ZJ     ┆ Makita ┆ true     ┆ 229   ┆ 8500  │\n",
       "│ Plunge Cut Saw        ┆ DSP600ZJ     ┆ Makita ┆ true     ┆ 459   ┆ 6300  │\n",
       "└───────────────────────┴──────────────┴────────┴──────────┴───────┴───────┘"
      ]
     },
     "execution_count": 10,
     "metadata": {},
     "output_type": "execute_result"
    }
   ],
   "source": [
    "tools.sort('brand', 'price')"
   ]
  },
  {
   "cell_type": "code",
   "execution_count": 11,
   "id": "4762b797-33c8-4fcb-8bf4-cd4d60d30c7e",
   "metadata": {},
   "outputs": [
    {
     "data": {
      "text/html": [
       "<div><style>\n",
       ".dataframe > thead > tr,\n",
       ".dataframe > tbody > tr {\n",
       "  text-align: right;\n",
       "  white-space: pre-wrap;\n",
       "}\n",
       "</style>\n",
       "<small>shape: (10, 6)</small><table border=\"1\" class=\"dataframe\"><thead><tr><th>tool</th><th>product</th><th>brand</th><th>cordless</th><th>price</th><th>rpm</th></tr><tr><td>str</td><td>str</td><td>str</td><td>bool</td><td>i64</td><td>i64</td></tr></thead><tbody><tr><td>&quot;Miter Saw&quot;</td><td>&quot;GCM 8 SJL&quot;</td><td>&quot;Bosch&quot;</td><td>false</td><td>391</td><td>5500</td></tr><tr><td>&quot;Router&quot;</td><td>&quot;POF 1400 ACE&quot;</td><td>&quot;Bosch&quot;</td><td>false</td><td>185</td><td>28000</td></tr><tr><td>&quot;Jigsaw&quot;</td><td>&quot;PST 900 PEL&quot;</td><td>&quot;Bosch&quot;</td><td>false</td><td>79</td><td>3100</td></tr><tr><td>&quot;Table Saw&quot;</td><td>&quot;DWE7485&quot;</td><td>&quot;DeWalt&quot;</td><td>false</td><td>516</td><td>5800</td></tr><tr><td>&quot;Nail Gun&quot;</td><td>&quot;DPSB2IN1-XJ&quot;</td><td>&quot;DeWalt&quot;</td><td>true</td><td>129</td><td>null</td></tr><tr><td>&quot;Plunge Cut Saw&quot;</td><td>&quot;DSP600ZJ&quot;</td><td>&quot;Makita&quot;</td><td>true</td><td>459</td><td>6300</td></tr><tr><td>&quot;Angle Grinder&quot;</td><td>&quot;DGA504ZJ&quot;</td><td>&quot;Makita&quot;</td><td>true</td><td>229</td><td>8500</td></tr><tr><td>&quot;Rotary Hammer&quot;</td><td>&quot;HR2230&quot;</td><td>&quot;Makita&quot;</td><td>false</td><td>199</td><td>1050</td></tr><tr><td>&quot;Random Orbital Sander&quot;</td><td>&quot;DBO180ZJ&quot;</td><td>&quot;Makita&quot;</td><td>true</td><td>199</td><td>11000</td></tr><tr><td>&quot;Impact Driver&quot;</td><td>&quot;DTD157Z&quot;</td><td>&quot;Makita&quot;</td><td>true</td><td>156</td><td>3000</td></tr></tbody></table></div>"
      ],
      "text/plain": [
       "shape: (10, 6)\n",
       "┌───────────────────────┬──────────────┬────────┬──────────┬───────┬───────┐\n",
       "│ tool                  ┆ product      ┆ brand  ┆ cordless ┆ price ┆ rpm   │\n",
       "│ ---                   ┆ ---          ┆ ---    ┆ ---      ┆ ---   ┆ ---   │\n",
       "│ str                   ┆ str          ┆ str    ┆ bool     ┆ i64   ┆ i64   │\n",
       "╞═══════════════════════╪══════════════╪════════╪══════════╪═══════╪═══════╡\n",
       "│ Miter Saw             ┆ GCM 8 SJL    ┆ Bosch  ┆ false    ┆ 391   ┆ 5500  │\n",
       "│ Router                ┆ POF 1400 ACE ┆ Bosch  ┆ false    ┆ 185   ┆ 28000 │\n",
       "│ Jigsaw                ┆ PST 900 PEL  ┆ Bosch  ┆ false    ┆ 79    ┆ 3100  │\n",
       "│ Table Saw             ┆ DWE7485      ┆ DeWalt ┆ false    ┆ 516   ┆ 5800  │\n",
       "│ Nail Gun              ┆ DPSB2IN1-XJ  ┆ DeWalt ┆ true     ┆ 129   ┆ null  │\n",
       "│ Plunge Cut Saw        ┆ DSP600ZJ     ┆ Makita ┆ true     ┆ 459   ┆ 6300  │\n",
       "│ Angle Grinder         ┆ DGA504ZJ     ┆ Makita ┆ true     ┆ 229   ┆ 8500  │\n",
       "│ Rotary Hammer         ┆ HR2230       ┆ Makita ┆ false    ┆ 199   ┆ 1050  │\n",
       "│ Random Orbital Sander ┆ DBO180ZJ     ┆ Makita ┆ true     ┆ 199   ┆ 11000 │\n",
       "│ Impact Driver         ┆ DTD157Z      ┆ Makita ┆ true     ┆ 156   ┆ 3000  │\n",
       "└───────────────────────┴──────────────┴────────┴──────────┴───────┴───────┘"
      ]
     },
     "execution_count": 11,
     "metadata": {},
     "output_type": "execute_result"
    }
   ],
   "source": [
    "tools.sort('brand', 'price', descending=[False, True])"
   ]
  },
  {
   "cell_type": "markdown",
   "id": "f90cfab2-6e63-45e5-92ac-259b8bdd4919",
   "metadata": {},
   "source": [
    "複数のカラムに対してソートを実施するときに逆順を指定する場合は、`descending`はカラムの数だけ指定する必要がある"
   ]
  },
  {
   "cell_type": "markdown",
   "id": "c0f23fb1-29c6-4ebd-98e2-db6af695154b",
   "metadata": {},
   "source": [
    "### 式による並び替え"
   ]
  },
  {
   "cell_type": "code",
   "execution_count": 12,
   "id": "3df527d2-6764-4487-a08d-dbc9b6a831db",
   "metadata": {},
   "outputs": [
    {
     "data": {
      "text/html": [
       "<div><style>\n",
       ".dataframe > thead > tr,\n",
       ".dataframe > tbody > tr {\n",
       "  text-align: right;\n",
       "  white-space: pre-wrap;\n",
       "}\n",
       "</style>\n",
       "<small>shape: (10, 6)</small><table border=\"1\" class=\"dataframe\"><thead><tr><th>tool</th><th>product</th><th>brand</th><th>cordless</th><th>price</th><th>rpm</th></tr><tr><td>str</td><td>str</td><td>str</td><td>bool</td><td>i64</td><td>i64</td></tr></thead><tbody><tr><td>&quot;Nail Gun&quot;</td><td>&quot;DPSB2IN1-XJ&quot;</td><td>&quot;DeWalt&quot;</td><td>true</td><td>129</td><td>null</td></tr><tr><td>&quot;Rotary Hammer&quot;</td><td>&quot;HR2230&quot;</td><td>&quot;Makita&quot;</td><td>false</td><td>199</td><td>1050</td></tr><tr><td>&quot;Table Saw&quot;</td><td>&quot;DWE7485&quot;</td><td>&quot;DeWalt&quot;</td><td>false</td><td>516</td><td>5800</td></tr><tr><td>&quot;Plunge Cut Saw&quot;</td><td>&quot;DSP600ZJ&quot;</td><td>&quot;Makita&quot;</td><td>true</td><td>459</td><td>6300</td></tr><tr><td>&quot;Miter Saw&quot;</td><td>&quot;GCM 8 SJL&quot;</td><td>&quot;Bosch&quot;</td><td>false</td><td>391</td><td>5500</td></tr><tr><td>&quot;Impact Driver&quot;</td><td>&quot;DTD157Z&quot;</td><td>&quot;Makita&quot;</td><td>true</td><td>156</td><td>3000</td></tr><tr><td>&quot;Angle Grinder&quot;</td><td>&quot;DGA504ZJ&quot;</td><td>&quot;Makita&quot;</td><td>true</td><td>229</td><td>8500</td></tr><tr><td>&quot;Jigsaw&quot;</td><td>&quot;PST 900 PEL&quot;</td><td>&quot;Bosch&quot;</td><td>false</td><td>79</td><td>3100</td></tr><tr><td>&quot;Random Orbital Sander&quot;</td><td>&quot;DBO180ZJ&quot;</td><td>&quot;Makita&quot;</td><td>true</td><td>199</td><td>11000</td></tr><tr><td>&quot;Router&quot;</td><td>&quot;POF 1400 ACE&quot;</td><td>&quot;Bosch&quot;</td><td>false</td><td>185</td><td>28000</td></tr></tbody></table></div>"
      ],
      "text/plain": [
       "shape: (10, 6)\n",
       "┌───────────────────────┬──────────────┬────────┬──────────┬───────┬───────┐\n",
       "│ tool                  ┆ product      ┆ brand  ┆ cordless ┆ price ┆ rpm   │\n",
       "│ ---                   ┆ ---          ┆ ---    ┆ ---      ┆ ---   ┆ ---   │\n",
       "│ str                   ┆ str          ┆ str    ┆ bool     ┆ i64   ┆ i64   │\n",
       "╞═══════════════════════╪══════════════╪════════╪══════════╪═══════╪═══════╡\n",
       "│ Nail Gun              ┆ DPSB2IN1-XJ  ┆ DeWalt ┆ true     ┆ 129   ┆ null  │\n",
       "│ Rotary Hammer         ┆ HR2230       ┆ Makita ┆ false    ┆ 199   ┆ 1050  │\n",
       "│ Table Saw             ┆ DWE7485      ┆ DeWalt ┆ false    ┆ 516   ┆ 5800  │\n",
       "│ Plunge Cut Saw        ┆ DSP600ZJ     ┆ Makita ┆ true     ┆ 459   ┆ 6300  │\n",
       "│ Miter Saw             ┆ GCM 8 SJL    ┆ Bosch  ┆ false    ┆ 391   ┆ 5500  │\n",
       "│ Impact Driver         ┆ DTD157Z      ┆ Makita ┆ true     ┆ 156   ┆ 3000  │\n",
       "│ Angle Grinder         ┆ DGA504ZJ     ┆ Makita ┆ true     ┆ 229   ┆ 8500  │\n",
       "│ Jigsaw                ┆ PST 900 PEL  ┆ Bosch  ┆ false    ┆ 79    ┆ 3100  │\n",
       "│ Random Orbital Sander ┆ DBO180ZJ     ┆ Makita ┆ true     ┆ 199   ┆ 11000 │\n",
       "│ Router                ┆ POF 1400 ACE ┆ Bosch  ┆ false    ┆ 185   ┆ 28000 │\n",
       "└───────────────────────┴──────────────┴────────┴──────────┴───────┴───────┘"
      ]
     },
     "execution_count": 12,
     "metadata": {},
     "output_type": "execute_result"
    }
   ],
   "source": [
    "tools.sort(pl.col('rpm') / pl.col('price'))"
   ]
  },
  {
   "cell_type": "markdown",
   "id": "3335c9e9-c669-401c-a585-d2b3118ef13d",
   "metadata": {},
   "source": [
    "### ネストされたデータの並び替え"
   ]
  },
  {
   "cell_type": "code",
   "execution_count": 13,
   "id": "f6ddd631-b481-4fbf-a252-483a8eb4a899",
   "metadata": {},
   "outputs": [
    {
     "data": {
      "text/html": [
       "<div><style>\n",
       ".dataframe > thead > tr,\n",
       ".dataframe > tbody > tr {\n",
       "  text-align: right;\n",
       "  white-space: pre-wrap;\n",
       "}\n",
       "</style>\n",
       "<small>shape: (3, 2)</small><table border=\"1\" class=\"dataframe\"><thead><tr><th>brand</th><th>collection</th></tr><tr><td>str</td><td>list[struct[6]]</td></tr></thead><tbody><tr><td>&quot;Makita&quot;</td><td>[{&quot;Rotary Hammer&quot;,&quot;HR2230&quot;,&quot;Makita&quot;,false,199,1050}, {&quot;Plunge Cut Saw&quot;,&quot;DSP600ZJ&quot;,&quot;Makita&quot;,true,459,6300}, … {&quot;Random Orbital Sander&quot;,&quot;DBO180ZJ&quot;,&quot;Makita&quot;,true,199,11000}]</td></tr><tr><td>&quot;DeWalt&quot;</td><td>[{&quot;Nail Gun&quot;,&quot;DPSB2IN1-XJ&quot;,&quot;DeWalt&quot;,true,129,null}, {&quot;Table Saw&quot;,&quot;DWE7485&quot;,&quot;DeWalt&quot;,false,516,5800}]</td></tr><tr><td>&quot;Bosch&quot;</td><td>[{&quot;Miter Saw&quot;,&quot;GCM 8 SJL&quot;,&quot;Bosch&quot;,false,391,5500}, {&quot;Jigsaw&quot;,&quot;PST 900 PEL&quot;,&quot;Bosch&quot;,false,79,3100}, {&quot;Router&quot;,&quot;POF 1400 ACE&quot;,&quot;Bosch&quot;,false,185,28000}]</td></tr></tbody></table></div>"
      ],
      "text/plain": [
       "shape: (3, 2)\n",
       "┌────────┬─────────────────────────────────┐\n",
       "│ brand  ┆ collection                      │\n",
       "│ ---    ┆ ---                             │\n",
       "│ str    ┆ list[struct[6]]                 │\n",
       "╞════════╪═════════════════════════════════╡\n",
       "│ Makita ┆ [{\"Rotary Hammer\",\"HR2230\",\"Ma… │\n",
       "│ DeWalt ┆ [{\"Nail Gun\",\"DPSB2IN1-XJ\",\"De… │\n",
       "│ Bosch  ┆ [{\"Miter Saw\",\"GCM 8 SJL\",\"Bos… │\n",
       "└────────┴─────────────────────────────────┘"
      ]
     },
     "execution_count": 13,
     "metadata": {},
     "output_type": "execute_result"
    }
   ],
   "source": [
    "tools_collection = tools.group_by('brand').agg(collection=pl.struct(pl.all()))\n",
    "tools_collection"
   ]
  },
  {
   "cell_type": "code",
   "execution_count": 14,
   "id": "482dbda9-f488-4990-bb04-50f6be3bbe09",
   "metadata": {},
   "outputs": [
    {
     "data": {
      "text/html": [
       "<div><style>\n",
       ".dataframe > thead > tr,\n",
       ".dataframe > tbody > tr {\n",
       "  text-align: right;\n",
       "  white-space: pre-wrap;\n",
       "}\n",
       "</style>\n",
       "<small>shape: (3, 2)</small><table border=\"1\" class=\"dataframe\"><thead><tr><th>brand</th><th>collection</th></tr><tr><td>str</td><td>list[struct[6]]</td></tr></thead><tbody><tr><td>&quot;Makita&quot;</td><td>[{&quot;Rotary Hammer&quot;,&quot;HR2230&quot;,&quot;Makita&quot;,false,199,1050}, {&quot;Plunge Cut Saw&quot;,&quot;DSP600ZJ&quot;,&quot;Makita&quot;,true,459,6300}, … {&quot;Random Orbital Sander&quot;,&quot;DBO180ZJ&quot;,&quot;Makita&quot;,true,199,11000}]</td></tr><tr><td>&quot;Bosch&quot;</td><td>[{&quot;Miter Saw&quot;,&quot;GCM 8 SJL&quot;,&quot;Bosch&quot;,false,391,5500}, {&quot;Jigsaw&quot;,&quot;PST 900 PEL&quot;,&quot;Bosch&quot;,false,79,3100}, {&quot;Router&quot;,&quot;POF 1400 ACE&quot;,&quot;Bosch&quot;,false,185,28000}]</td></tr><tr><td>&quot;DeWalt&quot;</td><td>[{&quot;Nail Gun&quot;,&quot;DPSB2IN1-XJ&quot;,&quot;DeWalt&quot;,true,129,null}, {&quot;Table Saw&quot;,&quot;DWE7485&quot;,&quot;DeWalt&quot;,false,516,5800}]</td></tr></tbody></table></div>"
      ],
      "text/plain": [
       "shape: (3, 2)\n",
       "┌────────┬─────────────────────────────────┐\n",
       "│ brand  ┆ collection                      │\n",
       "│ ---    ┆ ---                             │\n",
       "│ str    ┆ list[struct[6]]                 │\n",
       "╞════════╪═════════════════════════════════╡\n",
       "│ Makita ┆ [{\"Rotary Hammer\",\"HR2230\",\"Ma… │\n",
       "│ Bosch  ┆ [{\"Miter Saw\",\"GCM 8 SJL\",\"Bos… │\n",
       "│ DeWalt ┆ [{\"Nail Gun\",\"DPSB2IN1-XJ\",\"De… │\n",
       "└────────┴─────────────────────────────────┘"
      ]
     },
     "execution_count": 14,
     "metadata": {},
     "output_type": "execute_result"
    }
   ],
   "source": [
    "tools_collection.sort(pl.col('collection').list.len(), descending=True)"
   ]
  },
  {
   "cell_type": "code",
   "execution_count": 15,
   "id": "caea2dd8-f576-47b7-82d3-2c79b31cb1e5",
   "metadata": {},
   "outputs": [
    {
     "data": {
      "text/plain": [
       "['tool', 'product', 'brand', 'cordless', 'price', 'rpm']"
      ]
     },
     "execution_count": 15,
     "metadata": {},
     "output_type": "execute_result"
    }
   ],
   "source": [
    "tools.columns"
   ]
  },
  {
   "cell_type": "markdown",
   "id": "829c849f-811f-471d-a0c3-be197071440f",
   "metadata": {},
   "source": [
    "## 行の操作"
   ]
  },
  {
   "cell_type": "code",
   "execution_count": 16,
   "id": "9dbb3675-03cb-4217-873b-10abda5537b4",
   "metadata": {},
   "outputs": [
    {
     "data": {
      "text/plain": [
       "9"
      ]
     },
     "execution_count": 16,
     "metadata": {},
     "output_type": "execute_result"
    }
   ],
   "source": [
    "tools.drop_nulls('rpm').height"
   ]
  },
  {
   "cell_type": "code",
   "execution_count": 17,
   "id": "0b1b0d64-467f-4091-bf08-4da16caa65af",
   "metadata": {},
   "outputs": [
    {
     "data": {
      "text/html": [
       "<div><style>\n",
       ".dataframe > thead > tr,\n",
       ".dataframe > tbody > tr {\n",
       "  text-align: right;\n",
       "  white-space: pre-wrap;\n",
       "}\n",
       "</style>\n",
       "<small>shape: (3, 7)</small><table border=\"1\" class=\"dataframe\"><thead><tr><th>index</th><th>tool</th><th>product</th><th>brand</th><th>cordless</th><th>price</th><th>rpm</th></tr><tr><td>u32</td><td>str</td><td>str</td><td>str</td><td>bool</td><td>i64</td><td>i64</td></tr></thead><tbody><tr><td>0</td><td>&quot;Rotary Hammer&quot;</td><td>&quot;HR2230&quot;</td><td>&quot;Makita&quot;</td><td>false</td><td>199</td><td>1050</td></tr><tr><td>2</td><td>&quot;Plunge Cut Saw&quot;</td><td>&quot;DSP600ZJ&quot;</td><td>&quot;Makita&quot;</td><td>true</td><td>459</td><td>6300</td></tr><tr><td>4</td><td>&quot;Jigsaw&quot;</td><td>&quot;PST 900 PEL&quot;</td><td>&quot;Bosch&quot;</td><td>false</td><td>79</td><td>3100</td></tr></tbody></table></div>"
      ],
      "text/plain": [
       "shape: (3, 7)\n",
       "┌───────┬────────────────┬─────────────┬────────┬──────────┬───────┬──────┐\n",
       "│ index ┆ tool           ┆ product     ┆ brand  ┆ cordless ┆ price ┆ rpm  │\n",
       "│ ---   ┆ ---            ┆ ---         ┆ ---    ┆ ---      ┆ ---   ┆ ---  │\n",
       "│ u32   ┆ str            ┆ str         ┆ str    ┆ bool     ┆ i64   ┆ i64  │\n",
       "╞═══════╪════════════════╪═════════════╪════════╪══════════╪═══════╪══════╡\n",
       "│ 0     ┆ Rotary Hammer  ┆ HR2230      ┆ Makita ┆ false    ┆ 199   ┆ 1050 │\n",
       "│ 2     ┆ Plunge Cut Saw ┆ DSP600ZJ    ┆ Makita ┆ true     ┆ 459   ┆ 6300 │\n",
       "│ 4     ┆ Jigsaw         ┆ PST 900 PEL ┆ Bosch  ┆ false    ┆ 79    ┆ 3100 │\n",
       "└───────┴────────────────┴─────────────┴────────┴──────────┴───────┴──────┘"
      ]
     },
     "execution_count": 17,
     "metadata": {},
     "output_type": "execute_result"
    }
   ],
   "source": [
    "(\n",
    "    tools.with_row_index()\n",
    "    .gather_every(2).head(3)\n",
    ")"
   ]
  },
  {
   "cell_type": "code",
   "execution_count": 18,
   "id": "320c9266-edd4-4364-87dd-089c99172397",
   "metadata": {},
   "outputs": [
    {
     "data": {
      "text/html": [
       "<div><style>\n",
       ".dataframe > thead > tr,\n",
       ".dataframe > tbody > tr {\n",
       "  text-align: right;\n",
       "  white-space: pre-wrap;\n",
       "}\n",
       "</style>\n",
       "<small>shape: (3, 6)</small><table border=\"1\" class=\"dataframe\"><thead><tr><th>tool</th><th>product</th><th>brand</th><th>cordless</th><th>price</th><th>rpm</th></tr><tr><td>str</td><td>str</td><td>str</td><td>bool</td><td>i64</td><td>i64</td></tr></thead><tbody><tr><td>&quot;Table Saw&quot;</td><td>&quot;DWE7485&quot;</td><td>&quot;DeWalt&quot;</td><td>false</td><td>516</td><td>5800</td></tr><tr><td>&quot;Plunge Cut Saw&quot;</td><td>&quot;DSP600ZJ&quot;</td><td>&quot;Makita&quot;</td><td>true</td><td>459</td><td>6300</td></tr><tr><td>&quot;Miter Saw&quot;</td><td>&quot;GCM 8 SJL&quot;</td><td>&quot;Bosch&quot;</td><td>false</td><td>391</td><td>5500</td></tr></tbody></table></div>"
      ],
      "text/plain": [
       "shape: (3, 6)\n",
       "┌────────────────┬───────────┬────────┬──────────┬───────┬──────┐\n",
       "│ tool           ┆ product   ┆ brand  ┆ cordless ┆ price ┆ rpm  │\n",
       "│ ---            ┆ ---       ┆ ---    ┆ ---      ┆ ---   ┆ ---  │\n",
       "│ str            ┆ str       ┆ str    ┆ bool     ┆ i64   ┆ i64  │\n",
       "╞════════════════╪═══════════╪════════╪══════════╪═══════╪══════╡\n",
       "│ Table Saw      ┆ DWE7485   ┆ DeWalt ┆ false    ┆ 516   ┆ 5800 │\n",
       "│ Plunge Cut Saw ┆ DSP600ZJ  ┆ Makita ┆ true     ┆ 459   ┆ 6300 │\n",
       "│ Miter Saw      ┆ GCM 8 SJL ┆ Bosch  ┆ false    ┆ 391   ┆ 5500 │\n",
       "└────────────────┴───────────┴────────┴──────────┴───────┴──────┘"
      ]
     },
     "execution_count": 18,
     "metadata": {},
     "output_type": "execute_result"
    }
   ],
   "source": [
    "tools.top_k(3, by='price')"
   ]
  },
  {
   "cell_type": "code",
   "execution_count": 19,
   "id": "d2f85617-395b-4fb8-8c05-24d60aee29c6",
   "metadata": {},
   "outputs": [
    {
     "data": {
      "text/html": [
       "<div><style>\n",
       ".dataframe > thead > tr,\n",
       ".dataframe > tbody > tr {\n",
       "  text-align: right;\n",
       "  white-space: pre-wrap;\n",
       "}\n",
       "</style>\n",
       "<small>shape: (2, 6)</small><table border=\"1\" class=\"dataframe\"><thead><tr><th>tool</th><th>product</th><th>brand</th><th>cordless</th><th>price</th><th>rpm</th></tr><tr><td>str</td><td>str</td><td>str</td><td>bool</td><td>i64</td><td>i64</td></tr></thead><tbody><tr><td>&quot;Jigsaw&quot;</td><td>&quot;PST 900 PEL&quot;</td><td>&quot;Bosch&quot;</td><td>false</td><td>79</td><td>3100</td></tr><tr><td>&quot;Table Saw&quot;</td><td>&quot;DWE7485&quot;</td><td>&quot;DeWalt&quot;</td><td>false</td><td>516</td><td>5800</td></tr></tbody></table></div>"
      ],
      "text/plain": [
       "shape: (2, 6)\n",
       "┌───────────┬─────────────┬────────┬──────────┬───────┬──────┐\n",
       "│ tool      ┆ product     ┆ brand  ┆ cordless ┆ price ┆ rpm  │\n",
       "│ ---       ┆ ---         ┆ ---    ┆ ---      ┆ ---   ┆ ---  │\n",
       "│ str       ┆ str         ┆ str    ┆ bool     ┆ i64   ┆ i64  │\n",
       "╞═══════════╪═════════════╪════════╪══════════╪═══════╪══════╡\n",
       "│ Jigsaw    ┆ PST 900 PEL ┆ Bosch  ┆ false    ┆ 79    ┆ 3100 │\n",
       "│ Table Saw ┆ DWE7485     ┆ DeWalt ┆ false    ┆ 516   ┆ 5800 │\n",
       "└───────────┴─────────────┴────────┴──────────┴───────┴──────┘"
      ]
     },
     "execution_count": 19,
     "metadata": {},
     "output_type": "execute_result"
    }
   ],
   "source": [
    "tools.sample(fraction=0.2)"
   ]
  },
  {
   "cell_type": "markdown",
   "id": "7a32db9e-a76a-4589-b869-0e8ecf1883c7",
   "metadata": {},
   "source": [
    "`fraction`で指定した割合に応じて、ランダムサンプリングする操作。  \n",
    "パラメータに`seed`の設定も当然可能"
   ]
  },
  {
   "cell_type": "code",
   "execution_count": 20,
   "id": "3e95e663-17e0-4fbe-b838-fa29345441d1",
   "metadata": {},
   "outputs": [
    {
     "data": {
      "text/html": [
       "<div><style>\n",
       ".dataframe > thead > tr,\n",
       ".dataframe > tbody > tr {\n",
       "  text-align: right;\n",
       "  white-space: pre-wrap;\n",
       "}\n",
       "</style>\n",
       "<small>shape: (4, 6)</small><table border=\"1\" class=\"dataframe\"><thead><tr><th>tool</th><th>product</th><th>brand</th><th>cordless</th><th>price</th><th>rpm</th></tr><tr><td>str</td><td>str</td><td>str</td><td>bool</td><td>i64</td><td>i64</td></tr></thead><tbody><tr><td>&quot;Miter Saw&quot;</td><td>&quot;GCM 8 SJL&quot;</td><td>&quot;Bosch&quot;</td><td>false</td><td>391</td><td>5500</td></tr><tr><td>&quot;Plunge Cut Saw&quot;</td><td>&quot;DSP600ZJ&quot;</td><td>&quot;Makita&quot;</td><td>true</td><td>459</td><td>6300</td></tr><tr><td>&quot;Jigsaw&quot;</td><td>&quot;PST 900 PEL&quot;</td><td>&quot;Bosch&quot;</td><td>false</td><td>79</td><td>3100</td></tr><tr><td>&quot;Table Saw&quot;</td><td>&quot;DWE7485&quot;</td><td>&quot;DeWalt&quot;</td><td>false</td><td>516</td><td>5800</td></tr></tbody></table></div>"
      ],
      "text/plain": [
       "shape: (4, 6)\n",
       "┌────────────────┬─────────────┬────────┬──────────┬───────┬──────┐\n",
       "│ tool           ┆ product     ┆ brand  ┆ cordless ┆ price ┆ rpm  │\n",
       "│ ---            ┆ ---         ┆ ---    ┆ ---      ┆ ---   ┆ ---  │\n",
       "│ str            ┆ str         ┆ str    ┆ bool     ┆ i64   ┆ i64  │\n",
       "╞════════════════╪═════════════╪════════╪══════════╪═══════╪══════╡\n",
       "│ Miter Saw      ┆ GCM 8 SJL   ┆ Bosch  ┆ false    ┆ 391   ┆ 5500 │\n",
       "│ Plunge Cut Saw ┆ DSP600ZJ    ┆ Makita ┆ true     ┆ 459   ┆ 6300 │\n",
       "│ Jigsaw         ┆ PST 900 PEL ┆ Bosch  ┆ false    ┆ 79    ┆ 3100 │\n",
       "│ Table Saw      ┆ DWE7485     ┆ DeWalt ┆ false    ┆ 516   ┆ 5800 │\n",
       "└────────────────┴─────────────┴────────┴──────────┴───────┴──────┘"
      ]
     },
     "execution_count": 20,
     "metadata": {},
     "output_type": "execute_result"
    }
   ],
   "source": [
    "saws = pl.DataFrame({'tool': ['Table Saw', 'Plunge Cut Saw', 'Miter Saw',\n",
    "                              'Jigsaw', 'Bandsaw', 'Chainsow', 'Seesaw']})\n",
    "\n",
    "tools.join(saws, how='semi', on='tool')"
   ]
  },
  {
   "cell_type": "code",
   "execution_count": null,
   "id": "7944b961-e0a8-4953-a1f5-c2091e2ff67d",
   "metadata": {},
   "outputs": [],
   "source": []
  }
 ],
 "metadata": {
  "kernelspec": {
   "display_name": "Python 3 (ipykernel)",
   "language": "python",
   "name": "python3"
  },
  "language_info": {
   "codemirror_mode": {
    "name": "ipython",
    "version": 3
   },
   "file_extension": ".py",
   "mimetype": "text/x-python",
   "name": "python",
   "nbconvert_exporter": "python",
   "pygments_lexer": "ipython3",
   "version": "3.12.3"
  }
 },
 "nbformat": 4,
 "nbformat_minor": 5
}
